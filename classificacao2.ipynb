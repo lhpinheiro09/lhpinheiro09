{
  "cells": [
    {
      "cell_type": "markdown",
      "metadata": {
        "id": "view-in-github",
        "colab_type": "text"
      },
      "source": [
        "<a href=\"https://colab.research.google.com/github/lhpinheiro09/lhpinheiro09/blob/main/classificacao2.ipynb\" target=\"_parent\"><img src=\"https://colab.research.google.com/assets/colab-badge.svg\" alt=\"Open In Colab\"/></a>"
      ]
    },
    {
      "cell_type": "markdown",
      "metadata": {
        "id": "fQJ5CYV9Te0X"
      },
      "source": [
        "# **APRENDIZAGEM SUPERVISIONADA: CLASSIFICAÇÃO**"
      ]
    },
    {
      "cell_type": "code",
      "execution_count": null,
      "metadata": {
        "colab": {
          "base_uri": "https://localhost:8080/"
        },
        "id": "04fJaEdCUSIG",
        "outputId": "b487cde0-00f6-467d-d167-e12144cebfec"
      },
      "outputs": [
        {
          "output_type": "stream",
          "name": "stdout",
          "text": [
            "Mounted at /content/drive\n"
          ]
        }
      ],
      "source": [
        "from google.colab import drive\n",
        "drive.mount('/content/drive')"
      ]
    },
    {
      "cell_type": "markdown",
      "metadata": {
        "id": "kXFCCsVHTtTP"
      },
      "source": [
        "This project aims to develop a Machine Learning algorithm for predict whether the cancer is benign or malignant.\n"
      ]
    },
    {
      "cell_type": "code",
      "execution_count": null,
      "metadata": {
        "id": "Si-u_gVM-Ti2"
      },
      "outputs": [],
      "source": []
    },
    {
      "cell_type": "markdown",
      "metadata": {
        "id": "5ZQ2nYhQUc3G"
      },
      "source": [
        "Os dados foram extraídos do site do Kaggle:\n",
        "\n",
        "https://www.kaggle.com/fedesoriano/heart-failure-prediction/version/1"
      ]
    },
    {
      "cell_type": "markdown",
      "metadata": {
        "id": "gczjMn0YIb6s"
      },
      "source": [
        "# **PRÉ-PROCESSAMENTO**"
      ]
    },
    {
      "cell_type": "code",
      "execution_count": null,
      "metadata": {
        "id": "nWvIcticlCs2"
      },
      "outputs": [],
      "source": [
        "import numpy as np\n",
        "import pandas as pd"
      ]
    },
    {
      "cell_type": "code",
      "execution_count": null,
      "metadata": {
        "id": "LRIrwcC8kUhT"
      },
      "outputs": [],
      "source": [
        "df = pd.read_csv('/content/drive/MyDrive/Cursos Udemy/Machine Learning com Python/heart_tratado.csv',\n",
        "                    sep=';', encoding='utf-8')"
      ]
    },
    {
      "cell_type": "code",
      "execution_count": null,
      "metadata": {
        "colab": {
          "base_uri": "https://localhost:8080/"
        },
        "id": "QtugliripIyp",
        "outputId": "ac40cd8b-30c9-4981-a359-f319e54a130b"
      },
      "outputs": [
        {
          "output_type": "execute_result",
          "data": {
            "text/plain": [
              "   Age Sex ChestPainType  RestingBP  Cholesterol  FastingBS RestingECG  MaxHR  \\\n",
              "0   40   M           ATA        140        289.0          0     Normal    172   \n",
              "1   49   F           NAP        160        180.0          0     Normal    156   \n",
              "2   37   M           ATA        130        283.0          0         ST     98   \n",
              "3   48   F           ASY        138        214.0          0     Normal    108   \n",
              "4   54   M           NAP        150        195.0          0     Normal    122   \n",
              "\n",
              "  ExerciseAngina  Oldpeak ST_Slope  HeartDisease  \n",
              "0              N      0.0       Up             0  \n",
              "1              N      1.0     Flat             1  \n",
              "2              N      0.0       Up             0  \n",
              "3              Y      1.5     Flat             1  \n",
              "4              N      0.0       Up             0  "
            ],
            "text/html": [
              "\n",
              "  <div id=\"df-621022fc-cb8c-44ec-af8b-4c1bacf45ec8\">\n",
              "    <div class=\"colab-df-container\">\n",
              "      <div>\n",
              "<style scoped>\n",
              "    .dataframe tbody tr th:only-of-type {\n",
              "        vertical-align: middle;\n",
              "    }\n",
              "\n",
              "    .dataframe tbody tr th {\n",
              "        vertical-align: top;\n",
              "    }\n",
              "\n",
              "    .dataframe thead th {\n",
              "        text-align: right;\n",
              "    }\n",
              "</style>\n",
              "<table border=\"1\" class=\"dataframe\">\n",
              "  <thead>\n",
              "    <tr style=\"text-align: right;\">\n",
              "      <th></th>\n",
              "      <th>Age</th>\n",
              "      <th>Sex</th>\n",
              "      <th>ChestPainType</th>\n",
              "      <th>RestingBP</th>\n",
              "      <th>Cholesterol</th>\n",
              "      <th>FastingBS</th>\n",
              "      <th>RestingECG</th>\n",
              "      <th>MaxHR</th>\n",
              "      <th>ExerciseAngina</th>\n",
              "      <th>Oldpeak</th>\n",
              "      <th>ST_Slope</th>\n",
              "      <th>HeartDisease</th>\n",
              "    </tr>\n",
              "  </thead>\n",
              "  <tbody>\n",
              "    <tr>\n",
              "      <th>0</th>\n",
              "      <td>40</td>\n",
              "      <td>M</td>\n",
              "      <td>ATA</td>\n",
              "      <td>140</td>\n",
              "      <td>289.0</td>\n",
              "      <td>0</td>\n",
              "      <td>Normal</td>\n",
              "      <td>172</td>\n",
              "      <td>N</td>\n",
              "      <td>0.0</td>\n",
              "      <td>Up</td>\n",
              "      <td>0</td>\n",
              "    </tr>\n",
              "    <tr>\n",
              "      <th>1</th>\n",
              "      <td>49</td>\n",
              "      <td>F</td>\n",
              "      <td>NAP</td>\n",
              "      <td>160</td>\n",
              "      <td>180.0</td>\n",
              "      <td>0</td>\n",
              "      <td>Normal</td>\n",
              "      <td>156</td>\n",
              "      <td>N</td>\n",
              "      <td>1.0</td>\n",
              "      <td>Flat</td>\n",
              "      <td>1</td>\n",
              "    </tr>\n",
              "    <tr>\n",
              "      <th>2</th>\n",
              "      <td>37</td>\n",
              "      <td>M</td>\n",
              "      <td>ATA</td>\n",
              "      <td>130</td>\n",
              "      <td>283.0</td>\n",
              "      <td>0</td>\n",
              "      <td>ST</td>\n",
              "      <td>98</td>\n",
              "      <td>N</td>\n",
              "      <td>0.0</td>\n",
              "      <td>Up</td>\n",
              "      <td>0</td>\n",
              "    </tr>\n",
              "    <tr>\n",
              "      <th>3</th>\n",
              "      <td>48</td>\n",
              "      <td>F</td>\n",
              "      <td>ASY</td>\n",
              "      <td>138</td>\n",
              "      <td>214.0</td>\n",
              "      <td>0</td>\n",
              "      <td>Normal</td>\n",
              "      <td>108</td>\n",
              "      <td>Y</td>\n",
              "      <td>1.5</td>\n",
              "      <td>Flat</td>\n",
              "      <td>1</td>\n",
              "    </tr>\n",
              "    <tr>\n",
              "      <th>4</th>\n",
              "      <td>54</td>\n",
              "      <td>M</td>\n",
              "      <td>NAP</td>\n",
              "      <td>150</td>\n",
              "      <td>195.0</td>\n",
              "      <td>0</td>\n",
              "      <td>Normal</td>\n",
              "      <td>122</td>\n",
              "      <td>N</td>\n",
              "      <td>0.0</td>\n",
              "      <td>Up</td>\n",
              "      <td>0</td>\n",
              "    </tr>\n",
              "  </tbody>\n",
              "</table>\n",
              "</div>\n",
              "      <button class=\"colab-df-convert\" onclick=\"convertToInteractive('df-621022fc-cb8c-44ec-af8b-4c1bacf45ec8')\"\n",
              "              title=\"Convert this dataframe to an interactive table.\"\n",
              "              style=\"display:none;\">\n",
              "        \n",
              "  <svg xmlns=\"http://www.w3.org/2000/svg\" height=\"24px\"viewBox=\"0 0 24 24\"\n",
              "       width=\"24px\">\n",
              "    <path d=\"M0 0h24v24H0V0z\" fill=\"none\"/>\n",
              "    <path d=\"M18.56 5.44l.94 2.06.94-2.06 2.06-.94-2.06-.94-.94-2.06-.94 2.06-2.06.94zm-11 1L8.5 8.5l.94-2.06 2.06-.94-2.06-.94L8.5 2.5l-.94 2.06-2.06.94zm10 10l.94 2.06.94-2.06 2.06-.94-2.06-.94-.94-2.06-.94 2.06-2.06.94z\"/><path d=\"M17.41 7.96l-1.37-1.37c-.4-.4-.92-.59-1.43-.59-.52 0-1.04.2-1.43.59L10.3 9.45l-7.72 7.72c-.78.78-.78 2.05 0 2.83L4 21.41c.39.39.9.59 1.41.59.51 0 1.02-.2 1.41-.59l7.78-7.78 2.81-2.81c.8-.78.8-2.07 0-2.86zM5.41 20L4 18.59l7.72-7.72 1.47 1.35L5.41 20z\"/>\n",
              "  </svg>\n",
              "      </button>\n",
              "      \n",
              "  <style>\n",
              "    .colab-df-container {\n",
              "      display:flex;\n",
              "      flex-wrap:wrap;\n",
              "      gap: 12px;\n",
              "    }\n",
              "\n",
              "    .colab-df-convert {\n",
              "      background-color: #E8F0FE;\n",
              "      border: none;\n",
              "      border-radius: 50%;\n",
              "      cursor: pointer;\n",
              "      display: none;\n",
              "      fill: #1967D2;\n",
              "      height: 32px;\n",
              "      padding: 0 0 0 0;\n",
              "      width: 32px;\n",
              "    }\n",
              "\n",
              "    .colab-df-convert:hover {\n",
              "      background-color: #E2EBFA;\n",
              "      box-shadow: 0px 1px 2px rgba(60, 64, 67, 0.3), 0px 1px 3px 1px rgba(60, 64, 67, 0.15);\n",
              "      fill: #174EA6;\n",
              "    }\n",
              "\n",
              "    [theme=dark] .colab-df-convert {\n",
              "      background-color: #3B4455;\n",
              "      fill: #D2E3FC;\n",
              "    }\n",
              "\n",
              "    [theme=dark] .colab-df-convert:hover {\n",
              "      background-color: #434B5C;\n",
              "      box-shadow: 0px 1px 3px 1px rgba(0, 0, 0, 0.15);\n",
              "      filter: drop-shadow(0px 1px 2px rgba(0, 0, 0, 0.3));\n",
              "      fill: #FFFFFF;\n",
              "    }\n",
              "  </style>\n",
              "\n",
              "      <script>\n",
              "        const buttonEl =\n",
              "          document.querySelector('#df-621022fc-cb8c-44ec-af8b-4c1bacf45ec8 button.colab-df-convert');\n",
              "        buttonEl.style.display =\n",
              "          google.colab.kernel.accessAllowed ? 'block' : 'none';\n",
              "\n",
              "        async function convertToInteractive(key) {\n",
              "          const element = document.querySelector('#df-621022fc-cb8c-44ec-af8b-4c1bacf45ec8');\n",
              "          const dataTable =\n",
              "            await google.colab.kernel.invokeFunction('convertToInteractive',\n",
              "                                                     [key], {});\n",
              "          if (!dataTable) return;\n",
              "\n",
              "          const docLinkHtml = 'Like what you see? Visit the ' +\n",
              "            '<a target=\"_blank\" href=https://colab.research.google.com/notebooks/data_table.ipynb>data table notebook</a>'\n",
              "            + ' to learn more about interactive tables.';\n",
              "          element.innerHTML = '';\n",
              "          dataTable['output_type'] = 'display_data';\n",
              "          await google.colab.output.renderOutput(dataTable, element);\n",
              "          const docLink = document.createElement('div');\n",
              "          docLink.innerHTML = docLinkHtml;\n",
              "          element.appendChild(docLink);\n",
              "        }\n",
              "      </script>\n",
              "    </div>\n",
              "  </div>\n",
              "  "
            ]
          },
          "metadata": {},
          "execution_count": 43
        }
      ],
      "source": [
        "df.head()"
      ]
    },
    {
      "cell_type": "code",
      "execution_count": null,
      "metadata": {
        "colab": {
          "base_uri": "https://localhost:8080/"
        },
        "id": "NSH5-od1gRAU",
        "outputId": "d97d8175-0ce8-432c-cfcf-e28b0493cb01"
      },
      "outputs": [
        {
          "output_type": "execute_result",
          "data": {
            "text/plain": [
              "(917, 12)"
            ]
          },
          "metadata": {},
          "execution_count": 44
        }
      ],
      "source": [
        "df.shape"
      ]
    },
    {
      "cell_type": "markdown",
      "metadata": {
        "id": "a-DfpMtio-sq"
      },
      "source": [
        "## **Transformando as variáveis categóricas nominais em variáveis categóricas ordinais**"
      ]
    },
    {
      "cell_type": "code",
      "execution_count": null,
      "metadata": {
        "id": "JntPfMmptEhg"
      },
      "outputs": [],
      "source": [
        "df2 = pd.DataFrame.copy(df)"
      ]
    },
    {
      "cell_type": "code",
      "execution_count": null,
      "metadata": {
        "id": "KUxPnNEhrsjL"
      },
      "outputs": [],
      "source": [
        "df2['Sex'].replace({'M':0, 'F': 1}, inplace=True)\n",
        "df2['ChestPainType'].replace({'TA':0, 'ATA': 1, 'NAP':2, 'ASY': 3}, inplace=True)\n",
        "df2['RestingECG'].replace({'Normal':0, 'ST': 1, 'LVH':2}, inplace=True)\n",
        "df2['ExerciseAngina'].replace({'N':0, 'Y': 1}, inplace=True)\n",
        "df2['ST_Slope'].replace({'Up':0, 'Flat': 1, 'Down':2}, inplace=True)"
      ]
    },
    {
      "cell_type": "code",
      "execution_count": null,
      "metadata": {
        "colab": {
          "base_uri": "https://localhost:8080/"
        },
        "id": "1aTDlfUZpfJi",
        "outputId": "ad510337-b9bc-44a3-9052-83c72e2b04c7"
      },
      "outputs": [
        {
          "output_type": "execute_result",
          "data": {
            "text/plain": [
              "   Age  Sex  ChestPainType  RestingBP  Cholesterol  FastingBS  RestingECG  \\\n",
              "0   40    0              1        140        289.0          0           0   \n",
              "1   49    1              2        160        180.0          0           0   \n",
              "2   37    0              1        130        283.0          0           1   \n",
              "3   48    1              3        138        214.0          0           0   \n",
              "4   54    0              2        150        195.0          0           0   \n",
              "\n",
              "   MaxHR  ExerciseAngina  Oldpeak  ST_Slope  HeartDisease  \n",
              "0    172               0      0.0         0             0  \n",
              "1    156               0      1.0         1             1  \n",
              "2     98               0      0.0         0             0  \n",
              "3    108               1      1.5         1             1  \n",
              "4    122               0      0.0         0             0  "
            ],
            "text/html": [
              "\n",
              "  <div id=\"df-0b492417-a9e9-408a-a61a-e897a90790c2\">\n",
              "    <div class=\"colab-df-container\">\n",
              "      <div>\n",
              "<style scoped>\n",
              "    .dataframe tbody tr th:only-of-type {\n",
              "        vertical-align: middle;\n",
              "    }\n",
              "\n",
              "    .dataframe tbody tr th {\n",
              "        vertical-align: top;\n",
              "    }\n",
              "\n",
              "    .dataframe thead th {\n",
              "        text-align: right;\n",
              "    }\n",
              "</style>\n",
              "<table border=\"1\" class=\"dataframe\">\n",
              "  <thead>\n",
              "    <tr style=\"text-align: right;\">\n",
              "      <th></th>\n",
              "      <th>Age</th>\n",
              "      <th>Sex</th>\n",
              "      <th>ChestPainType</th>\n",
              "      <th>RestingBP</th>\n",
              "      <th>Cholesterol</th>\n",
              "      <th>FastingBS</th>\n",
              "      <th>RestingECG</th>\n",
              "      <th>MaxHR</th>\n",
              "      <th>ExerciseAngina</th>\n",
              "      <th>Oldpeak</th>\n",
              "      <th>ST_Slope</th>\n",
              "      <th>HeartDisease</th>\n",
              "    </tr>\n",
              "  </thead>\n",
              "  <tbody>\n",
              "    <tr>\n",
              "      <th>0</th>\n",
              "      <td>40</td>\n",
              "      <td>0</td>\n",
              "      <td>1</td>\n",
              "      <td>140</td>\n",
              "      <td>289.0</td>\n",
              "      <td>0</td>\n",
              "      <td>0</td>\n",
              "      <td>172</td>\n",
              "      <td>0</td>\n",
              "      <td>0.0</td>\n",
              "      <td>0</td>\n",
              "      <td>0</td>\n",
              "    </tr>\n",
              "    <tr>\n",
              "      <th>1</th>\n",
              "      <td>49</td>\n",
              "      <td>1</td>\n",
              "      <td>2</td>\n",
              "      <td>160</td>\n",
              "      <td>180.0</td>\n",
              "      <td>0</td>\n",
              "      <td>0</td>\n",
              "      <td>156</td>\n",
              "      <td>0</td>\n",
              "      <td>1.0</td>\n",
              "      <td>1</td>\n",
              "      <td>1</td>\n",
              "    </tr>\n",
              "    <tr>\n",
              "      <th>2</th>\n",
              "      <td>37</td>\n",
              "      <td>0</td>\n",
              "      <td>1</td>\n",
              "      <td>130</td>\n",
              "      <td>283.0</td>\n",
              "      <td>0</td>\n",
              "      <td>1</td>\n",
              "      <td>98</td>\n",
              "      <td>0</td>\n",
              "      <td>0.0</td>\n",
              "      <td>0</td>\n",
              "      <td>0</td>\n",
              "    </tr>\n",
              "    <tr>\n",
              "      <th>3</th>\n",
              "      <td>48</td>\n",
              "      <td>1</td>\n",
              "      <td>3</td>\n",
              "      <td>138</td>\n",
              "      <td>214.0</td>\n",
              "      <td>0</td>\n",
              "      <td>0</td>\n",
              "      <td>108</td>\n",
              "      <td>1</td>\n",
              "      <td>1.5</td>\n",
              "      <td>1</td>\n",
              "      <td>1</td>\n",
              "    </tr>\n",
              "    <tr>\n",
              "      <th>4</th>\n",
              "      <td>54</td>\n",
              "      <td>0</td>\n",
              "      <td>2</td>\n",
              "      <td>150</td>\n",
              "      <td>195.0</td>\n",
              "      <td>0</td>\n",
              "      <td>0</td>\n",
              "      <td>122</td>\n",
              "      <td>0</td>\n",
              "      <td>0.0</td>\n",
              "      <td>0</td>\n",
              "      <td>0</td>\n",
              "    </tr>\n",
              "  </tbody>\n",
              "</table>\n",
              "</div>\n",
              "      <button class=\"colab-df-convert\" onclick=\"convertToInteractive('df-0b492417-a9e9-408a-a61a-e897a90790c2')\"\n",
              "              title=\"Convert this dataframe to an interactive table.\"\n",
              "              style=\"display:none;\">\n",
              "        \n",
              "  <svg xmlns=\"http://www.w3.org/2000/svg\" height=\"24px\"viewBox=\"0 0 24 24\"\n",
              "       width=\"24px\">\n",
              "    <path d=\"M0 0h24v24H0V0z\" fill=\"none\"/>\n",
              "    <path d=\"M18.56 5.44l.94 2.06.94-2.06 2.06-.94-2.06-.94-.94-2.06-.94 2.06-2.06.94zm-11 1L8.5 8.5l.94-2.06 2.06-.94-2.06-.94L8.5 2.5l-.94 2.06-2.06.94zm10 10l.94 2.06.94-2.06 2.06-.94-2.06-.94-.94-2.06-.94 2.06-2.06.94z\"/><path d=\"M17.41 7.96l-1.37-1.37c-.4-.4-.92-.59-1.43-.59-.52 0-1.04.2-1.43.59L10.3 9.45l-7.72 7.72c-.78.78-.78 2.05 0 2.83L4 21.41c.39.39.9.59 1.41.59.51 0 1.02-.2 1.41-.59l7.78-7.78 2.81-2.81c.8-.78.8-2.07 0-2.86zM5.41 20L4 18.59l7.72-7.72 1.47 1.35L5.41 20z\"/>\n",
              "  </svg>\n",
              "      </button>\n",
              "      \n",
              "  <style>\n",
              "    .colab-df-container {\n",
              "      display:flex;\n",
              "      flex-wrap:wrap;\n",
              "      gap: 12px;\n",
              "    }\n",
              "\n",
              "    .colab-df-convert {\n",
              "      background-color: #E8F0FE;\n",
              "      border: none;\n",
              "      border-radius: 50%;\n",
              "      cursor: pointer;\n",
              "      display: none;\n",
              "      fill: #1967D2;\n",
              "      height: 32px;\n",
              "      padding: 0 0 0 0;\n",
              "      width: 32px;\n",
              "    }\n",
              "\n",
              "    .colab-df-convert:hover {\n",
              "      background-color: #E2EBFA;\n",
              "      box-shadow: 0px 1px 2px rgba(60, 64, 67, 0.3), 0px 1px 3px 1px rgba(60, 64, 67, 0.15);\n",
              "      fill: #174EA6;\n",
              "    }\n",
              "\n",
              "    [theme=dark] .colab-df-convert {\n",
              "      background-color: #3B4455;\n",
              "      fill: #D2E3FC;\n",
              "    }\n",
              "\n",
              "    [theme=dark] .colab-df-convert:hover {\n",
              "      background-color: #434B5C;\n",
              "      box-shadow: 0px 1px 3px 1px rgba(0, 0, 0, 0.15);\n",
              "      filter: drop-shadow(0px 1px 2px rgba(0, 0, 0, 0.3));\n",
              "      fill: #FFFFFF;\n",
              "    }\n",
              "  </style>\n",
              "\n",
              "      <script>\n",
              "        const buttonEl =\n",
              "          document.querySelector('#df-0b492417-a9e9-408a-a61a-e897a90790c2 button.colab-df-convert');\n",
              "        buttonEl.style.display =\n",
              "          google.colab.kernel.accessAllowed ? 'block' : 'none';\n",
              "\n",
              "        async function convertToInteractive(key) {\n",
              "          const element = document.querySelector('#df-0b492417-a9e9-408a-a61a-e897a90790c2');\n",
              "          const dataTable =\n",
              "            await google.colab.kernel.invokeFunction('convertToInteractive',\n",
              "                                                     [key], {});\n",
              "          if (!dataTable) return;\n",
              "\n",
              "          const docLinkHtml = 'Like what you see? Visit the ' +\n",
              "            '<a target=\"_blank\" href=https://colab.research.google.com/notebooks/data_table.ipynb>data table notebook</a>'\n",
              "            + ' to learn more about interactive tables.';\n",
              "          element.innerHTML = '';\n",
              "          dataTable['output_type'] = 'display_data';\n",
              "          await google.colab.output.renderOutput(dataTable, element);\n",
              "          const docLink = document.createElement('div');\n",
              "          docLink.innerHTML = docLinkHtml;\n",
              "          element.appendChild(docLink);\n",
              "        }\n",
              "      </script>\n",
              "    </div>\n",
              "  </div>\n",
              "  "
            ]
          },
          "metadata": {},
          "execution_count": 47
        }
      ],
      "source": [
        "df2.head()"
      ]
    },
    {
      "cell_type": "code",
      "execution_count": null,
      "metadata": {
        "colab": {
          "base_uri": "https://localhost:8080/"
        },
        "id": "6kC-deH0giws",
        "outputId": "8e02e213-ec51-4796-9c1d-d9853a605628"
      },
      "outputs": [
        {
          "output_type": "execute_result",
          "data": {
            "text/plain": [
              "Age                 int64\n",
              "Sex                 int64\n",
              "ChestPainType       int64\n",
              "RestingBP           int64\n",
              "Cholesterol       float64\n",
              "FastingBS           int64\n",
              "RestingECG          int64\n",
              "MaxHR               int64\n",
              "ExerciseAngina      int64\n",
              "Oldpeak           float64\n",
              "ST_Slope            int64\n",
              "HeartDisease        int64\n",
              "dtype: object"
            ]
          },
          "metadata": {},
          "execution_count": 48
        }
      ],
      "source": [
        "df2.dtypes"
      ]
    },
    {
      "cell_type": "code",
      "execution_count": null,
      "metadata": {
        "colab": {
          "base_uri": "https://localhost:8080/"
        },
        "id": "e3oELnDctqsq",
        "outputId": "6e241027-3423-4388-e109-b7dc6bbf717c"
      },
      "outputs": [
        {
          "output_type": "execute_result",
          "data": {
            "text/plain": [
              "(917, 12)"
            ]
          },
          "metadata": {},
          "execution_count": 49
        }
      ],
      "source": [
        "df2.shape"
      ]
    },
    {
      "cell_type": "markdown",
      "metadata": {
        "id": "khuvnjo8ta5k"
      },
      "source": [
        "## **LEGENDA**"
      ]
    },
    {
      "cell_type": "markdown",
      "metadata": {
        "id": "9Kz8O68wpsY3"
      },
      "source": [
        "Age = idade (anos)\n",
        "\n",
        "Sex = sexo (0=M; 1=F)\n",
        "\n",
        "Chest Pain Type = tipo de dor no peito (0=TA:angina típica; 1=ATA:angina atípica; 2=NAP:dor não anginosa; 3=ASY:assintomático)\n",
        "\n",
        "Resting BP = pressão sanguínea em repouso (mmHg)\n",
        "\n",
        "Cholesterol = colesterol sérico (mg/dl)\n",
        "\n",
        "Fasting BS = açúcar no sangue em jejum (mg/dl)\n",
        "          0: Fasting BS < 120 mg/dl (não diabético)\n",
        "          1: Fasting BS >= 120 mg/dl, (diabético)\n",
        "\n",
        "Resting ECG = eletrocardiograma em repouso (0=Normal; 1=ST:Anormalidade da onda ST-T; 2=LVH: Hipertrofia ventricular esquerda)\n",
        "\n",
        "Max HR = frequência cardíaca máxima\n",
        "\n",
        "Exercise Angina = Angina induzida por exercício (0=Não; 1=Sim)\n",
        "\n",
        "Old Peak = Depressão de ST induzida por exercício em relação ao repouso\n",
        "\n",
        "ST_Slope = Inclinação do segmento ST (0=UP; 1=Flat; 2=Down)\n",
        "\n",
        "Heart Disease = Doença cardíaca (0=Não possui doença cardíaca; 1=Possui doença cardíaca)\n",
        "\n"
      ]
    },
    {
      "cell_type": "markdown",
      "metadata": {
        "id": "_NBxZCLzC8Bl"
      },
      "source": [
        "## **ATRIBUTOS PREVISORES E ALVO**"
      ]
    },
    {
      "cell_type": "code",
      "execution_count": null,
      "metadata": {
        "colab": {
          "base_uri": "https://localhost:8080/"
        },
        "id": "eLzWunR78ozP",
        "outputId": "32a4ae18-561e-4795-b3df-f8ecbe3f758c"
      },
      "outputs": [
        {
          "output_type": "execute_result",
          "data": {
            "text/plain": [
              "   Age  Sex  ChestPainType  RestingBP  Cholesterol  FastingBS  RestingECG  \\\n",
              "0   40    0              1        140        289.0          0           0   \n",
              "1   49    1              2        160        180.0          0           0   \n",
              "2   37    0              1        130        283.0          0           1   \n",
              "3   48    1              3        138        214.0          0           0   \n",
              "4   54    0              2        150        195.0          0           0   \n",
              "\n",
              "   MaxHR  ExerciseAngina  Oldpeak  ST_Slope  HeartDisease  \n",
              "0    172               0      0.0         0             0  \n",
              "1    156               0      1.0         1             1  \n",
              "2     98               0      0.0         0             0  \n",
              "3    108               1      1.5         1             1  \n",
              "4    122               0      0.0         0             0  "
            ],
            "text/html": [
              "\n",
              "  <div id=\"df-9606de90-5b43-459b-8339-6527df15dda2\">\n",
              "    <div class=\"colab-df-container\">\n",
              "      <div>\n",
              "<style scoped>\n",
              "    .dataframe tbody tr th:only-of-type {\n",
              "        vertical-align: middle;\n",
              "    }\n",
              "\n",
              "    .dataframe tbody tr th {\n",
              "        vertical-align: top;\n",
              "    }\n",
              "\n",
              "    .dataframe thead th {\n",
              "        text-align: right;\n",
              "    }\n",
              "</style>\n",
              "<table border=\"1\" class=\"dataframe\">\n",
              "  <thead>\n",
              "    <tr style=\"text-align: right;\">\n",
              "      <th></th>\n",
              "      <th>Age</th>\n",
              "      <th>Sex</th>\n",
              "      <th>ChestPainType</th>\n",
              "      <th>RestingBP</th>\n",
              "      <th>Cholesterol</th>\n",
              "      <th>FastingBS</th>\n",
              "      <th>RestingECG</th>\n",
              "      <th>MaxHR</th>\n",
              "      <th>ExerciseAngina</th>\n",
              "      <th>Oldpeak</th>\n",
              "      <th>ST_Slope</th>\n",
              "      <th>HeartDisease</th>\n",
              "    </tr>\n",
              "  </thead>\n",
              "  <tbody>\n",
              "    <tr>\n",
              "      <th>0</th>\n",
              "      <td>40</td>\n",
              "      <td>0</td>\n",
              "      <td>1</td>\n",
              "      <td>140</td>\n",
              "      <td>289.0</td>\n",
              "      <td>0</td>\n",
              "      <td>0</td>\n",
              "      <td>172</td>\n",
              "      <td>0</td>\n",
              "      <td>0.0</td>\n",
              "      <td>0</td>\n",
              "      <td>0</td>\n",
              "    </tr>\n",
              "    <tr>\n",
              "      <th>1</th>\n",
              "      <td>49</td>\n",
              "      <td>1</td>\n",
              "      <td>2</td>\n",
              "      <td>160</td>\n",
              "      <td>180.0</td>\n",
              "      <td>0</td>\n",
              "      <td>0</td>\n",
              "      <td>156</td>\n",
              "      <td>0</td>\n",
              "      <td>1.0</td>\n",
              "      <td>1</td>\n",
              "      <td>1</td>\n",
              "    </tr>\n",
              "    <tr>\n",
              "      <th>2</th>\n",
              "      <td>37</td>\n",
              "      <td>0</td>\n",
              "      <td>1</td>\n",
              "      <td>130</td>\n",
              "      <td>283.0</td>\n",
              "      <td>0</td>\n",
              "      <td>1</td>\n",
              "      <td>98</td>\n",
              "      <td>0</td>\n",
              "      <td>0.0</td>\n",
              "      <td>0</td>\n",
              "      <td>0</td>\n",
              "    </tr>\n",
              "    <tr>\n",
              "      <th>3</th>\n",
              "      <td>48</td>\n",
              "      <td>1</td>\n",
              "      <td>3</td>\n",
              "      <td>138</td>\n",
              "      <td>214.0</td>\n",
              "      <td>0</td>\n",
              "      <td>0</td>\n",
              "      <td>108</td>\n",
              "      <td>1</td>\n",
              "      <td>1.5</td>\n",
              "      <td>1</td>\n",
              "      <td>1</td>\n",
              "    </tr>\n",
              "    <tr>\n",
              "      <th>4</th>\n",
              "      <td>54</td>\n",
              "      <td>0</td>\n",
              "      <td>2</td>\n",
              "      <td>150</td>\n",
              "      <td>195.0</td>\n",
              "      <td>0</td>\n",
              "      <td>0</td>\n",
              "      <td>122</td>\n",
              "      <td>0</td>\n",
              "      <td>0.0</td>\n",
              "      <td>0</td>\n",
              "      <td>0</td>\n",
              "    </tr>\n",
              "  </tbody>\n",
              "</table>\n",
              "</div>\n",
              "      <button class=\"colab-df-convert\" onclick=\"convertToInteractive('df-9606de90-5b43-459b-8339-6527df15dda2')\"\n",
              "              title=\"Convert this dataframe to an interactive table.\"\n",
              "              style=\"display:none;\">\n",
              "        \n",
              "  <svg xmlns=\"http://www.w3.org/2000/svg\" height=\"24px\"viewBox=\"0 0 24 24\"\n",
              "       width=\"24px\">\n",
              "    <path d=\"M0 0h24v24H0V0z\" fill=\"none\"/>\n",
              "    <path d=\"M18.56 5.44l.94 2.06.94-2.06 2.06-.94-2.06-.94-.94-2.06-.94 2.06-2.06.94zm-11 1L8.5 8.5l.94-2.06 2.06-.94-2.06-.94L8.5 2.5l-.94 2.06-2.06.94zm10 10l.94 2.06.94-2.06 2.06-.94-2.06-.94-.94-2.06-.94 2.06-2.06.94z\"/><path d=\"M17.41 7.96l-1.37-1.37c-.4-.4-.92-.59-1.43-.59-.52 0-1.04.2-1.43.59L10.3 9.45l-7.72 7.72c-.78.78-.78 2.05 0 2.83L4 21.41c.39.39.9.59 1.41.59.51 0 1.02-.2 1.41-.59l7.78-7.78 2.81-2.81c.8-.78.8-2.07 0-2.86zM5.41 20L4 18.59l7.72-7.72 1.47 1.35L5.41 20z\"/>\n",
              "  </svg>\n",
              "      </button>\n",
              "      \n",
              "  <style>\n",
              "    .colab-df-container {\n",
              "      display:flex;\n",
              "      flex-wrap:wrap;\n",
              "      gap: 12px;\n",
              "    }\n",
              "\n",
              "    .colab-df-convert {\n",
              "      background-color: #E8F0FE;\n",
              "      border: none;\n",
              "      border-radius: 50%;\n",
              "      cursor: pointer;\n",
              "      display: none;\n",
              "      fill: #1967D2;\n",
              "      height: 32px;\n",
              "      padding: 0 0 0 0;\n",
              "      width: 32px;\n",
              "    }\n",
              "\n",
              "    .colab-df-convert:hover {\n",
              "      background-color: #E2EBFA;\n",
              "      box-shadow: 0px 1px 2px rgba(60, 64, 67, 0.3), 0px 1px 3px 1px rgba(60, 64, 67, 0.15);\n",
              "      fill: #174EA6;\n",
              "    }\n",
              "\n",
              "    [theme=dark] .colab-df-convert {\n",
              "      background-color: #3B4455;\n",
              "      fill: #D2E3FC;\n",
              "    }\n",
              "\n",
              "    [theme=dark] .colab-df-convert:hover {\n",
              "      background-color: #434B5C;\n",
              "      box-shadow: 0px 1px 3px 1px rgba(0, 0, 0, 0.15);\n",
              "      filter: drop-shadow(0px 1px 2px rgba(0, 0, 0, 0.3));\n",
              "      fill: #FFFFFF;\n",
              "    }\n",
              "  </style>\n",
              "\n",
              "      <script>\n",
              "        const buttonEl =\n",
              "          document.querySelector('#df-9606de90-5b43-459b-8339-6527df15dda2 button.colab-df-convert');\n",
              "        buttonEl.style.display =\n",
              "          google.colab.kernel.accessAllowed ? 'block' : 'none';\n",
              "\n",
              "        async function convertToInteractive(key) {\n",
              "          const element = document.querySelector('#df-9606de90-5b43-459b-8339-6527df15dda2');\n",
              "          const dataTable =\n",
              "            await google.colab.kernel.invokeFunction('convertToInteractive',\n",
              "                                                     [key], {});\n",
              "          if (!dataTable) return;\n",
              "\n",
              "          const docLinkHtml = 'Like what you see? Visit the ' +\n",
              "            '<a target=\"_blank\" href=https://colab.research.google.com/notebooks/data_table.ipynb>data table notebook</a>'\n",
              "            + ' to learn more about interactive tables.';\n",
              "          element.innerHTML = '';\n",
              "          dataTable['output_type'] = 'display_data';\n",
              "          await google.colab.output.renderOutput(dataTable, element);\n",
              "          const docLink = document.createElement('div');\n",
              "          docLink.innerHTML = docLinkHtml;\n",
              "          element.appendChild(docLink);\n",
              "        }\n",
              "      </script>\n",
              "    </div>\n",
              "  </div>\n",
              "  "
            ]
          },
          "metadata": {},
          "execution_count": 50
        }
      ],
      "source": [
        "df2.head()"
      ]
    },
    {
      "cell_type": "code",
      "execution_count": null,
      "metadata": {
        "id": "alp9Gsx8z6f3"
      },
      "outputs": [],
      "source": [
        "previsores = df2.iloc[:, 0:11].values\n"
      ]
    },
    {
      "cell_type": "code",
      "execution_count": null,
      "metadata": {
        "colab": {
          "base_uri": "https://localhost:8080/"
        },
        "id": "ZJjs6cWq-9Bn",
        "outputId": "792a3d42-acaa-408d-fa27-e0b7c0402baa"
      },
      "outputs": [
        {
          "output_type": "execute_result",
          "data": {
            "text/plain": [
              "array([[40. ,  0. ,  1. , ...,  0. ,  0. ,  0. ],\n",
              "       [49. ,  1. ,  2. , ...,  0. ,  1. ,  1. ],\n",
              "       [37. ,  0. ,  1. , ...,  0. ,  0. ,  0. ],\n",
              "       ...,\n",
              "       [57. ,  0. ,  3. , ...,  1. ,  1.2,  1. ],\n",
              "       [57. ,  1. ,  1. , ...,  0. ,  0. ,  1. ],\n",
              "       [38. ,  0. ,  2. , ...,  0. ,  0. ,  0. ]])"
            ]
          },
          "metadata": {},
          "execution_count": 52
        }
      ],
      "source": [
        "previsores"
      ]
    },
    {
      "cell_type": "code",
      "execution_count": null,
      "metadata": {
        "colab": {
          "base_uri": "https://localhost:8080/"
        },
        "id": "KrtsyKXXAxTL",
        "outputId": "b44b1b38-8c56-4bbb-bd4d-b96db8b598ab"
      },
      "outputs": [
        {
          "output_type": "execute_result",
          "data": {
            "text/plain": [
              "(917, 11)"
            ]
          },
          "metadata": {},
          "execution_count": 53
        }
      ],
      "source": [
        "previsores.shape"
      ]
    },
    {
      "cell_type": "code",
      "execution_count": null,
      "metadata": {
        "id": "wdXWRjHMBAFo"
      },
      "outputs": [],
      "source": [
        "alvo = df2.iloc[:, 11].values"
      ]
    },
    {
      "cell_type": "code",
      "execution_count": null,
      "metadata": {
        "colab": {
          "base_uri": "https://localhost:8080/"
        },
        "id": "wK163BWgBJg2",
        "outputId": "45771c24-a577-469b-c948-fd7a63d72d1e"
      },
      "outputs": [
        {
          "output_type": "execute_result",
          "data": {
            "text/plain": [
              "array([0, 1, 0, 1, 0, 0, 0, 0, 1, 0, 0, 1, 0, 1, 0, 0, 1, 0, 1, 1, 0, 0,\n",
              "       0, 1, 0, 0, 0, 0, 0, 0, 1, 0, 1, 1, 0, 0, 1, 0, 0, 0, 0, 1, 0, 0,\n",
              "       1, 0, 0, 0, 0, 1, 1, 1, 0, 0, 0, 0, 1, 1, 0, 1, 0, 0, 0, 1, 0, 0,\n",
              "       0, 0, 1, 0, 1, 0, 1, 0, 1, 0, 1, 0, 0, 1, 0, 0, 1, 0, 1, 1, 1, 0,\n",
              "       1, 0, 0, 0, 0, 1, 0, 1, 0, 0, 0, 0, 1, 0, 1, 1, 1, 0, 0, 0, 0, 0,\n",
              "       0, 1, 0, 0, 0, 1, 1, 1, 0, 1, 1, 0, 0, 1, 0, 0, 0, 0, 0, 0, 0, 1,\n",
              "       1, 1, 0, 1, 0, 0, 1, 1, 1, 1, 1, 0, 1, 0, 0, 0, 0, 1, 0, 0, 0, 0,\n",
              "       0, 1, 1, 0, 1, 0, 1, 1, 0, 0, 0, 1, 1, 0, 0, 0, 0, 0, 0, 0, 1, 1,\n",
              "       1, 0, 0, 0, 1, 0, 1, 0, 0, 1, 0, 1, 0, 1, 0, 0, 0, 0, 0, 0, 0, 0,\n",
              "       1, 0, 0, 0, 0, 0, 0, 0, 0, 1, 0, 1, 1, 1, 0, 0, 1, 0, 1, 0, 0, 0,\n",
              "       1, 1, 0, 0, 0, 1, 0, 1, 0, 0, 0, 0, 0, 0, 0, 0, 1, 1, 1, 1, 0, 1,\n",
              "       1, 0, 1, 0, 1, 1, 1, 1, 1, 1, 0, 0, 1, 0, 0, 0, 0, 0, 0, 0, 1, 1,\n",
              "       1, 0, 1, 0, 1, 0, 0, 0, 1, 0, 0, 0, 1, 1, 0, 0, 0, 1, 0, 0, 0, 0,\n",
              "       0, 0, 0, 0, 0, 0, 0, 1, 1, 1, 1, 1, 1, 1, 1, 0, 1, 1, 1, 1, 1, 0,\n",
              "       1, 1, 0, 1, 1, 1, 0, 1, 1, 1, 1, 1, 1, 1, 1, 1, 1, 1, 0, 1, 1, 1,\n",
              "       1, 1, 0, 1, 1, 1, 0, 1, 1, 1, 1, 1, 1, 1, 1, 1, 1, 1, 1, 1, 1, 1,\n",
              "       1, 1, 1, 1, 1, 1, 1, 1, 1, 1, 1, 1, 0, 1, 1, 1, 1, 1, 1, 1, 1, 1,\n",
              "       1, 1, 1, 1, 1, 1, 1, 1, 1, 1, 1, 1, 1, 1, 1, 1, 1, 1, 1, 1, 1, 1,\n",
              "       1, 1, 1, 1, 1, 1, 1, 1, 1, 1, 1, 1, 1, 1, 1, 1, 1, 1, 1, 1, 1, 0,\n",
              "       1, 1, 0, 0, 1, 0, 1, 1, 0, 1, 1, 1, 1, 0, 1, 1, 0, 0, 1, 1, 1, 0,\n",
              "       1, 1, 1, 1, 1, 1, 1, 1, 1, 1, 1, 1, 0, 1, 0, 1, 1, 1, 0, 1, 1, 1,\n",
              "       0, 1, 0, 1, 0, 1, 0, 1, 1, 1, 1, 0, 1, 0, 1, 1, 1, 1, 1, 1, 1, 1,\n",
              "       1, 0, 1, 0, 1, 1, 1, 1, 1, 1, 1, 0, 1, 1, 1, 1, 1, 1, 0, 1, 1, 1,\n",
              "       0, 1, 1, 0, 1, 0, 1, 1, 0, 1, 1, 1, 1, 0, 1, 1, 1, 0, 0, 1, 0, 1,\n",
              "       1, 1, 1, 1, 1, 1, 1, 1, 1, 1, 0, 1, 1, 1, 1, 0, 0, 1, 1, 1, 0, 1,\n",
              "       0, 1, 1, 0, 1, 0, 1, 1, 1, 0, 0, 0, 1, 1, 1, 0, 1, 1, 1, 1, 1, 1,\n",
              "       1, 1, 1, 1, 1, 1, 1, 1, 1, 1, 0, 1, 1, 1, 0, 1, 1, 0, 0, 1, 1, 1,\n",
              "       1, 1, 0, 1, 1, 0, 1, 1, 1, 0, 0, 1, 1, 1, 1, 1, 0, 1, 0, 1, 1, 0,\n",
              "       1, 0, 0, 0, 1, 1, 1, 1, 0, 0, 0, 1, 0, 0, 1, 1, 0, 0, 1, 0, 0, 0,\n",
              "       0, 0, 0, 0, 1, 0, 1, 0, 0, 1, 1, 1, 1, 1, 0, 0, 1, 0, 0, 0, 1, 0,\n",
              "       1, 1, 1, 1, 1, 0, 0, 0, 0, 0, 1, 0, 1, 1, 0, 1, 0, 0, 0, 1, 0, 1,\n",
              "       0, 1, 1, 0, 0, 0, 0, 1, 0, 0, 0, 0, 1, 1, 1, 0, 0, 0, 0, 0, 0, 1,\n",
              "       0, 1, 1, 1, 1, 1, 0, 1, 0, 0, 0, 1, 0, 1, 1, 1, 0, 1, 1, 0, 1, 0,\n",
              "       1, 0, 0, 0, 1, 1, 0, 1, 1, 1, 1, 0, 0, 0, 1, 0, 0, 1, 1, 1, 0, 1,\n",
              "       0, 0, 0, 1, 0, 0, 1, 0, 1, 0, 1, 1, 1, 1, 1, 0, 0, 0, 0, 0, 0, 0,\n",
              "       1, 0, 0, 1, 1, 1, 0, 1, 0, 0, 0, 0, 0, 1, 0, 1, 1, 0, 0, 1, 1, 1,\n",
              "       1, 0, 0, 1, 1, 0, 0, 0, 1, 0, 0, 1, 0, 1, 0, 1, 0, 0, 0, 0, 0, 1,\n",
              "       0, 1, 1, 1, 1, 0, 0, 0, 1, 0, 1, 0, 0, 1, 0, 0, 0, 0, 0, 0, 1, 1,\n",
              "       0, 1, 0, 0, 1, 1, 0, 0, 1, 1, 0, 1, 0, 1, 0, 1, 0, 0, 1, 0, 0, 1,\n",
              "       0, 1, 1, 0, 1, 1, 1, 0, 1, 0, 0, 0, 0, 1, 1, 0, 0, 1, 1, 0, 1, 0,\n",
              "       0, 0, 0, 1, 0, 0, 1, 1, 1, 0, 0, 0, 1, 0, 1, 0, 1, 0, 1, 1, 1, 0,\n",
              "       0, 0, 1, 0, 1, 1, 1, 0, 1, 1, 1, 1, 1, 1, 0])"
            ]
          },
          "metadata": {},
          "execution_count": 55
        }
      ],
      "source": [
        "alvo"
      ]
    },
    {
      "cell_type": "code",
      "execution_count": null,
      "metadata": {
        "colab": {
          "base_uri": "https://localhost:8080/"
        },
        "id": "RoSOdYF3BaOf",
        "outputId": "0bbaa6cd-c91a-4c62-ac4d-5f2cdb09e071"
      },
      "outputs": [
        {
          "output_type": "execute_result",
          "data": {
            "text/plain": [
              "(917,)"
            ]
          },
          "metadata": {},
          "execution_count": 56
        }
      ],
      "source": [
        "alvo.shape"
      ]
    },
    {
      "cell_type": "markdown",
      "metadata": {
        "id": "Xw6d4rM0C9ZD"
      },
      "source": [
        "## **Análise das escalas dos atributos (Escalonamento)**"
      ]
    },
    {
      "cell_type": "code",
      "execution_count": null,
      "metadata": {
        "colab": {
          "base_uri": "https://localhost:8080/"
        },
        "id": "JzYfrEIxDHIL",
        "outputId": "763bf81c-24ac-4b57-9d75-f8acda190629"
      },
      "outputs": [
        {
          "output_type": "execute_result",
          "data": {
            "text/plain": [
              "              Age         Sex  ChestPainType   RestingBP  Cholesterol  \\\n",
              "count  917.000000  917.000000     917.000000  917.000000   917.000000   \n",
              "mean    53.509269    0.210469       2.251908  132.540894   244.635389   \n",
              "std      9.437636    0.407864       0.931502   17.999749    53.347125   \n",
              "min     28.000000    0.000000       0.000000   80.000000    85.000000   \n",
              "25%     47.000000    0.000000       2.000000  120.000000   214.000000   \n",
              "50%     54.000000    0.000000       3.000000  130.000000   244.635389   \n",
              "75%     60.000000    0.000000       3.000000  140.000000   267.000000   \n",
              "max     77.000000    1.000000       3.000000  200.000000   603.000000   \n",
              "\n",
              "        FastingBS  RestingECG       MaxHR  ExerciseAngina     Oldpeak  \\\n",
              "count  917.000000  917.000000  917.000000      917.000000  917.000000   \n",
              "mean     0.233370    0.604144  136.789531        0.404580    0.886696   \n",
              "std      0.423206    0.806161   25.467129        0.491078    1.066960   \n",
              "min      0.000000    0.000000   60.000000        0.000000   -2.600000   \n",
              "25%      0.000000    0.000000  120.000000        0.000000    0.000000   \n",
              "50%      0.000000    0.000000  138.000000        0.000000    0.600000   \n",
              "75%      0.000000    1.000000  156.000000        1.000000    1.500000   \n",
              "max      1.000000    2.000000  202.000000        1.000000    6.200000   \n",
              "\n",
              "        ST_Slope  HeartDisease  \n",
              "count  917.00000    917.000000  \n",
              "mean     0.63795      0.552890  \n",
              "std      0.60727      0.497466  \n",
              "min      0.00000      0.000000  \n",
              "25%      0.00000      0.000000  \n",
              "50%      1.00000      1.000000  \n",
              "75%      1.00000      1.000000  \n",
              "max      2.00000      1.000000  "
            ],
            "text/html": [
              "\n",
              "  <div id=\"df-4e13a50c-38c8-4fce-b78e-b6289f9279ed\">\n",
              "    <div class=\"colab-df-container\">\n",
              "      <div>\n",
              "<style scoped>\n",
              "    .dataframe tbody tr th:only-of-type {\n",
              "        vertical-align: middle;\n",
              "    }\n",
              "\n",
              "    .dataframe tbody tr th {\n",
              "        vertical-align: top;\n",
              "    }\n",
              "\n",
              "    .dataframe thead th {\n",
              "        text-align: right;\n",
              "    }\n",
              "</style>\n",
              "<table border=\"1\" class=\"dataframe\">\n",
              "  <thead>\n",
              "    <tr style=\"text-align: right;\">\n",
              "      <th></th>\n",
              "      <th>Age</th>\n",
              "      <th>Sex</th>\n",
              "      <th>ChestPainType</th>\n",
              "      <th>RestingBP</th>\n",
              "      <th>Cholesterol</th>\n",
              "      <th>FastingBS</th>\n",
              "      <th>RestingECG</th>\n",
              "      <th>MaxHR</th>\n",
              "      <th>ExerciseAngina</th>\n",
              "      <th>Oldpeak</th>\n",
              "      <th>ST_Slope</th>\n",
              "      <th>HeartDisease</th>\n",
              "    </tr>\n",
              "  </thead>\n",
              "  <tbody>\n",
              "    <tr>\n",
              "      <th>count</th>\n",
              "      <td>917.000000</td>\n",
              "      <td>917.000000</td>\n",
              "      <td>917.000000</td>\n",
              "      <td>917.000000</td>\n",
              "      <td>917.000000</td>\n",
              "      <td>917.000000</td>\n",
              "      <td>917.000000</td>\n",
              "      <td>917.000000</td>\n",
              "      <td>917.000000</td>\n",
              "      <td>917.000000</td>\n",
              "      <td>917.00000</td>\n",
              "      <td>917.000000</td>\n",
              "    </tr>\n",
              "    <tr>\n",
              "      <th>mean</th>\n",
              "      <td>53.509269</td>\n",
              "      <td>0.210469</td>\n",
              "      <td>2.251908</td>\n",
              "      <td>132.540894</td>\n",
              "      <td>244.635389</td>\n",
              "      <td>0.233370</td>\n",
              "      <td>0.604144</td>\n",
              "      <td>136.789531</td>\n",
              "      <td>0.404580</td>\n",
              "      <td>0.886696</td>\n",
              "      <td>0.63795</td>\n",
              "      <td>0.552890</td>\n",
              "    </tr>\n",
              "    <tr>\n",
              "      <th>std</th>\n",
              "      <td>9.437636</td>\n",
              "      <td>0.407864</td>\n",
              "      <td>0.931502</td>\n",
              "      <td>17.999749</td>\n",
              "      <td>53.347125</td>\n",
              "      <td>0.423206</td>\n",
              "      <td>0.806161</td>\n",
              "      <td>25.467129</td>\n",
              "      <td>0.491078</td>\n",
              "      <td>1.066960</td>\n",
              "      <td>0.60727</td>\n",
              "      <td>0.497466</td>\n",
              "    </tr>\n",
              "    <tr>\n",
              "      <th>min</th>\n",
              "      <td>28.000000</td>\n",
              "      <td>0.000000</td>\n",
              "      <td>0.000000</td>\n",
              "      <td>80.000000</td>\n",
              "      <td>85.000000</td>\n",
              "      <td>0.000000</td>\n",
              "      <td>0.000000</td>\n",
              "      <td>60.000000</td>\n",
              "      <td>0.000000</td>\n",
              "      <td>-2.600000</td>\n",
              "      <td>0.00000</td>\n",
              "      <td>0.000000</td>\n",
              "    </tr>\n",
              "    <tr>\n",
              "      <th>25%</th>\n",
              "      <td>47.000000</td>\n",
              "      <td>0.000000</td>\n",
              "      <td>2.000000</td>\n",
              "      <td>120.000000</td>\n",
              "      <td>214.000000</td>\n",
              "      <td>0.000000</td>\n",
              "      <td>0.000000</td>\n",
              "      <td>120.000000</td>\n",
              "      <td>0.000000</td>\n",
              "      <td>0.000000</td>\n",
              "      <td>0.00000</td>\n",
              "      <td>0.000000</td>\n",
              "    </tr>\n",
              "    <tr>\n",
              "      <th>50%</th>\n",
              "      <td>54.000000</td>\n",
              "      <td>0.000000</td>\n",
              "      <td>3.000000</td>\n",
              "      <td>130.000000</td>\n",
              "      <td>244.635389</td>\n",
              "      <td>0.000000</td>\n",
              "      <td>0.000000</td>\n",
              "      <td>138.000000</td>\n",
              "      <td>0.000000</td>\n",
              "      <td>0.600000</td>\n",
              "      <td>1.00000</td>\n",
              "      <td>1.000000</td>\n",
              "    </tr>\n",
              "    <tr>\n",
              "      <th>75%</th>\n",
              "      <td>60.000000</td>\n",
              "      <td>0.000000</td>\n",
              "      <td>3.000000</td>\n",
              "      <td>140.000000</td>\n",
              "      <td>267.000000</td>\n",
              "      <td>0.000000</td>\n",
              "      <td>1.000000</td>\n",
              "      <td>156.000000</td>\n",
              "      <td>1.000000</td>\n",
              "      <td>1.500000</td>\n",
              "      <td>1.00000</td>\n",
              "      <td>1.000000</td>\n",
              "    </tr>\n",
              "    <tr>\n",
              "      <th>max</th>\n",
              "      <td>77.000000</td>\n",
              "      <td>1.000000</td>\n",
              "      <td>3.000000</td>\n",
              "      <td>200.000000</td>\n",
              "      <td>603.000000</td>\n",
              "      <td>1.000000</td>\n",
              "      <td>2.000000</td>\n",
              "      <td>202.000000</td>\n",
              "      <td>1.000000</td>\n",
              "      <td>6.200000</td>\n",
              "      <td>2.00000</td>\n",
              "      <td>1.000000</td>\n",
              "    </tr>\n",
              "  </tbody>\n",
              "</table>\n",
              "</div>\n",
              "      <button class=\"colab-df-convert\" onclick=\"convertToInteractive('df-4e13a50c-38c8-4fce-b78e-b6289f9279ed')\"\n",
              "              title=\"Convert this dataframe to an interactive table.\"\n",
              "              style=\"display:none;\">\n",
              "        \n",
              "  <svg xmlns=\"http://www.w3.org/2000/svg\" height=\"24px\"viewBox=\"0 0 24 24\"\n",
              "       width=\"24px\">\n",
              "    <path d=\"M0 0h24v24H0V0z\" fill=\"none\"/>\n",
              "    <path d=\"M18.56 5.44l.94 2.06.94-2.06 2.06-.94-2.06-.94-.94-2.06-.94 2.06-2.06.94zm-11 1L8.5 8.5l.94-2.06 2.06-.94-2.06-.94L8.5 2.5l-.94 2.06-2.06.94zm10 10l.94 2.06.94-2.06 2.06-.94-2.06-.94-.94-2.06-.94 2.06-2.06.94z\"/><path d=\"M17.41 7.96l-1.37-1.37c-.4-.4-.92-.59-1.43-.59-.52 0-1.04.2-1.43.59L10.3 9.45l-7.72 7.72c-.78.78-.78 2.05 0 2.83L4 21.41c.39.39.9.59 1.41.59.51 0 1.02-.2 1.41-.59l7.78-7.78 2.81-2.81c.8-.78.8-2.07 0-2.86zM5.41 20L4 18.59l7.72-7.72 1.47 1.35L5.41 20z\"/>\n",
              "  </svg>\n",
              "      </button>\n",
              "      \n",
              "  <style>\n",
              "    .colab-df-container {\n",
              "      display:flex;\n",
              "      flex-wrap:wrap;\n",
              "      gap: 12px;\n",
              "    }\n",
              "\n",
              "    .colab-df-convert {\n",
              "      background-color: #E8F0FE;\n",
              "      border: none;\n",
              "      border-radius: 50%;\n",
              "      cursor: pointer;\n",
              "      display: none;\n",
              "      fill: #1967D2;\n",
              "      height: 32px;\n",
              "      padding: 0 0 0 0;\n",
              "      width: 32px;\n",
              "    }\n",
              "\n",
              "    .colab-df-convert:hover {\n",
              "      background-color: #E2EBFA;\n",
              "      box-shadow: 0px 1px 2px rgba(60, 64, 67, 0.3), 0px 1px 3px 1px rgba(60, 64, 67, 0.15);\n",
              "      fill: #174EA6;\n",
              "    }\n",
              "\n",
              "    [theme=dark] .colab-df-convert {\n",
              "      background-color: #3B4455;\n",
              "      fill: #D2E3FC;\n",
              "    }\n",
              "\n",
              "    [theme=dark] .colab-df-convert:hover {\n",
              "      background-color: #434B5C;\n",
              "      box-shadow: 0px 1px 3px 1px rgba(0, 0, 0, 0.15);\n",
              "      filter: drop-shadow(0px 1px 2px rgba(0, 0, 0, 0.3));\n",
              "      fill: #FFFFFF;\n",
              "    }\n",
              "  </style>\n",
              "\n",
              "      <script>\n",
              "        const buttonEl =\n",
              "          document.querySelector('#df-4e13a50c-38c8-4fce-b78e-b6289f9279ed button.colab-df-convert');\n",
              "        buttonEl.style.display =\n",
              "          google.colab.kernel.accessAllowed ? 'block' : 'none';\n",
              "\n",
              "        async function convertToInteractive(key) {\n",
              "          const element = document.querySelector('#df-4e13a50c-38c8-4fce-b78e-b6289f9279ed');\n",
              "          const dataTable =\n",
              "            await google.colab.kernel.invokeFunction('convertToInteractive',\n",
              "                                                     [key], {});\n",
              "          if (!dataTable) return;\n",
              "\n",
              "          const docLinkHtml = 'Like what you see? Visit the ' +\n",
              "            '<a target=\"_blank\" href=https://colab.research.google.com/notebooks/data_table.ipynb>data table notebook</a>'\n",
              "            + ' to learn more about interactive tables.';\n",
              "          element.innerHTML = '';\n",
              "          dataTable['output_type'] = 'display_data';\n",
              "          await google.colab.output.renderOutput(dataTable, element);\n",
              "          const docLink = document.createElement('div');\n",
              "          docLink.innerHTML = docLinkHtml;\n",
              "          element.appendChild(docLink);\n",
              "        }\n",
              "      </script>\n",
              "    </div>\n",
              "  </div>\n",
              "  "
            ]
          },
          "metadata": {},
          "execution_count": 57
        }
      ],
      "source": [
        "df2.describe()"
      ]
    },
    {
      "cell_type": "markdown",
      "metadata": {
        "id": "XcSAxyqTD4dw"
      },
      "source": [
        "Padronização (utiliza a média e o desvio padrão como referência).\n",
        "\n",
        "Normalização (utiliza os valores máximo e mínimo como referência)."
      ]
    },
    {
      "cell_type": "code",
      "execution_count": null,
      "metadata": {
        "id": "eMoVJG5kEJSG"
      },
      "outputs": [],
      "source": [
        "from sklearn.preprocessing import StandardScaler"
      ]
    },
    {
      "cell_type": "code",
      "execution_count": null,
      "metadata": {
        "id": "0DpkgD9REQ7m"
      },
      "outputs": [],
      "source": [
        "previsores_esc = StandardScaler().fit_transform(previsores)"
      ]
    },
    {
      "cell_type": "code",
      "execution_count": null,
      "metadata": {
        "colab": {
          "base_uri": "https://localhost:8080/"
        },
        "id": "qmoQSiWMEr0k",
        "outputId": "96c4eec6-bdea-40d6-d0eb-9c9b81a64093"
      },
      "outputs": [
        {
          "output_type": "execute_result",
          "data": {
            "text/plain": [
              "array([[-1.43220634, -0.51630861, -1.34470119, ..., -0.82431012,\n",
              "        -0.83150225, -1.05109458],\n",
              "       [-0.47805725,  1.9368261 , -0.27058012, ..., -0.82431012,\n",
              "         0.10625149,  0.59651863],\n",
              "       [-1.75025603, -0.51630861, -1.34470119, ..., -0.82431012,\n",
              "        -0.83150225, -1.05109458],\n",
              "       ...,\n",
              "       [ 0.37007527, -0.51630861,  0.80354095, ...,  1.21313565,\n",
              "         0.29380223,  0.59651863],\n",
              "       [ 0.37007527,  1.9368261 , -1.34470119, ..., -0.82431012,\n",
              "        -0.83150225,  0.59651863],\n",
              "       [-1.64423947, -0.51630861, -0.27058012, ..., -0.82431012,\n",
              "        -0.83150225, -1.05109458]])"
            ]
          },
          "metadata": {},
          "execution_count": 60
        }
      ],
      "source": [
        "previsores_esc"
      ]
    },
    {
      "cell_type": "code",
      "execution_count": null,
      "metadata": {
        "colab": {
          "base_uri": "https://localhost:8080/"
        },
        "id": "aFabOc6kFLMu",
        "outputId": "49f0eac3-3a5f-43a1-fb40-e88c46058718"
      },
      "outputs": [
        {
          "output_type": "execute_result",
          "data": {
            "text/plain": [
              "           0         1         2         3         4         5         6   \\\n",
              "0   -1.432206 -0.516309 -1.344701  0.414627  0.832075 -0.551733 -0.749818   \n",
              "1   -0.478057  1.936826 -0.270580  1.526360 -1.212261 -0.551733 -0.749818   \n",
              "2   -1.750256 -0.516309 -1.344701 -0.141240  0.719543 -0.551733  0.491306   \n",
              "3   -0.584074  1.936826  0.803541  0.303453 -0.574578 -0.551733 -0.749818   \n",
              "4    0.052026 -0.516309 -0.270580  0.970493 -0.930931 -0.551733 -0.749818   \n",
              "..        ...       ...       ...       ...       ...       ...       ...   \n",
              "912 -0.902124 -0.516309 -2.418822 -1.252973  0.363191 -0.551733 -0.749818   \n",
              "913  1.536257 -0.516309  0.803541  0.636973 -0.968441  1.812470 -0.749818   \n",
              "914  0.370075 -0.516309  0.803541 -0.141240 -2.131275 -0.551733 -0.749818   \n",
              "915  0.370075  1.936826 -1.344701 -0.141240 -0.161960 -0.551733  1.732430   \n",
              "916 -1.644239 -0.516309 -0.270580  0.303453 -1.306038 -0.551733 -0.749818   \n",
              "\n",
              "           7         8         9         10  \n",
              "0    1.383339 -0.824310 -0.831502 -1.051095  \n",
              "1    0.754736 -0.824310  0.106251  0.596519  \n",
              "2   -1.523953 -0.824310 -0.831502 -1.051095  \n",
              "3   -1.131075  1.213136  0.575128  0.596519  \n",
              "4   -0.581047 -0.824310 -0.831502 -1.051095  \n",
              "..        ...       ...       ...       ...  \n",
              "912 -0.188170 -0.824310  0.293802  0.596519  \n",
              "913  0.165420 -0.824310  2.356860  0.596519  \n",
              "914 -0.856061  1.213136  0.293802  0.596519  \n",
              "915  1.461915 -0.824310 -0.831502  0.596519  \n",
              "916  1.422627 -0.824310 -0.831502 -1.051095  \n",
              "\n",
              "[917 rows x 11 columns]"
            ],
            "text/html": [
              "\n",
              "  <div id=\"df-199c76c8-f004-4c26-a0fd-0fbdb7ddb10f\">\n",
              "    <div class=\"colab-df-container\">\n",
              "      <div>\n",
              "<style scoped>\n",
              "    .dataframe tbody tr th:only-of-type {\n",
              "        vertical-align: middle;\n",
              "    }\n",
              "\n",
              "    .dataframe tbody tr th {\n",
              "        vertical-align: top;\n",
              "    }\n",
              "\n",
              "    .dataframe thead th {\n",
              "        text-align: right;\n",
              "    }\n",
              "</style>\n",
              "<table border=\"1\" class=\"dataframe\">\n",
              "  <thead>\n",
              "    <tr style=\"text-align: right;\">\n",
              "      <th></th>\n",
              "      <th>0</th>\n",
              "      <th>1</th>\n",
              "      <th>2</th>\n",
              "      <th>3</th>\n",
              "      <th>4</th>\n",
              "      <th>5</th>\n",
              "      <th>6</th>\n",
              "      <th>7</th>\n",
              "      <th>8</th>\n",
              "      <th>9</th>\n",
              "      <th>10</th>\n",
              "    </tr>\n",
              "  </thead>\n",
              "  <tbody>\n",
              "    <tr>\n",
              "      <th>0</th>\n",
              "      <td>-1.432206</td>\n",
              "      <td>-0.516309</td>\n",
              "      <td>-1.344701</td>\n",
              "      <td>0.414627</td>\n",
              "      <td>0.832075</td>\n",
              "      <td>-0.551733</td>\n",
              "      <td>-0.749818</td>\n",
              "      <td>1.383339</td>\n",
              "      <td>-0.824310</td>\n",
              "      <td>-0.831502</td>\n",
              "      <td>-1.051095</td>\n",
              "    </tr>\n",
              "    <tr>\n",
              "      <th>1</th>\n",
              "      <td>-0.478057</td>\n",
              "      <td>1.936826</td>\n",
              "      <td>-0.270580</td>\n",
              "      <td>1.526360</td>\n",
              "      <td>-1.212261</td>\n",
              "      <td>-0.551733</td>\n",
              "      <td>-0.749818</td>\n",
              "      <td>0.754736</td>\n",
              "      <td>-0.824310</td>\n",
              "      <td>0.106251</td>\n",
              "      <td>0.596519</td>\n",
              "    </tr>\n",
              "    <tr>\n",
              "      <th>2</th>\n",
              "      <td>-1.750256</td>\n",
              "      <td>-0.516309</td>\n",
              "      <td>-1.344701</td>\n",
              "      <td>-0.141240</td>\n",
              "      <td>0.719543</td>\n",
              "      <td>-0.551733</td>\n",
              "      <td>0.491306</td>\n",
              "      <td>-1.523953</td>\n",
              "      <td>-0.824310</td>\n",
              "      <td>-0.831502</td>\n",
              "      <td>-1.051095</td>\n",
              "    </tr>\n",
              "    <tr>\n",
              "      <th>3</th>\n",
              "      <td>-0.584074</td>\n",
              "      <td>1.936826</td>\n",
              "      <td>0.803541</td>\n",
              "      <td>0.303453</td>\n",
              "      <td>-0.574578</td>\n",
              "      <td>-0.551733</td>\n",
              "      <td>-0.749818</td>\n",
              "      <td>-1.131075</td>\n",
              "      <td>1.213136</td>\n",
              "      <td>0.575128</td>\n",
              "      <td>0.596519</td>\n",
              "    </tr>\n",
              "    <tr>\n",
              "      <th>4</th>\n",
              "      <td>0.052026</td>\n",
              "      <td>-0.516309</td>\n",
              "      <td>-0.270580</td>\n",
              "      <td>0.970493</td>\n",
              "      <td>-0.930931</td>\n",
              "      <td>-0.551733</td>\n",
              "      <td>-0.749818</td>\n",
              "      <td>-0.581047</td>\n",
              "      <td>-0.824310</td>\n",
              "      <td>-0.831502</td>\n",
              "      <td>-1.051095</td>\n",
              "    </tr>\n",
              "    <tr>\n",
              "      <th>...</th>\n",
              "      <td>...</td>\n",
              "      <td>...</td>\n",
              "      <td>...</td>\n",
              "      <td>...</td>\n",
              "      <td>...</td>\n",
              "      <td>...</td>\n",
              "      <td>...</td>\n",
              "      <td>...</td>\n",
              "      <td>...</td>\n",
              "      <td>...</td>\n",
              "      <td>...</td>\n",
              "    </tr>\n",
              "    <tr>\n",
              "      <th>912</th>\n",
              "      <td>-0.902124</td>\n",
              "      <td>-0.516309</td>\n",
              "      <td>-2.418822</td>\n",
              "      <td>-1.252973</td>\n",
              "      <td>0.363191</td>\n",
              "      <td>-0.551733</td>\n",
              "      <td>-0.749818</td>\n",
              "      <td>-0.188170</td>\n",
              "      <td>-0.824310</td>\n",
              "      <td>0.293802</td>\n",
              "      <td>0.596519</td>\n",
              "    </tr>\n",
              "    <tr>\n",
              "      <th>913</th>\n",
              "      <td>1.536257</td>\n",
              "      <td>-0.516309</td>\n",
              "      <td>0.803541</td>\n",
              "      <td>0.636973</td>\n",
              "      <td>-0.968441</td>\n",
              "      <td>1.812470</td>\n",
              "      <td>-0.749818</td>\n",
              "      <td>0.165420</td>\n",
              "      <td>-0.824310</td>\n",
              "      <td>2.356860</td>\n",
              "      <td>0.596519</td>\n",
              "    </tr>\n",
              "    <tr>\n",
              "      <th>914</th>\n",
              "      <td>0.370075</td>\n",
              "      <td>-0.516309</td>\n",
              "      <td>0.803541</td>\n",
              "      <td>-0.141240</td>\n",
              "      <td>-2.131275</td>\n",
              "      <td>-0.551733</td>\n",
              "      <td>-0.749818</td>\n",
              "      <td>-0.856061</td>\n",
              "      <td>1.213136</td>\n",
              "      <td>0.293802</td>\n",
              "      <td>0.596519</td>\n",
              "    </tr>\n",
              "    <tr>\n",
              "      <th>915</th>\n",
              "      <td>0.370075</td>\n",
              "      <td>1.936826</td>\n",
              "      <td>-1.344701</td>\n",
              "      <td>-0.141240</td>\n",
              "      <td>-0.161960</td>\n",
              "      <td>-0.551733</td>\n",
              "      <td>1.732430</td>\n",
              "      <td>1.461915</td>\n",
              "      <td>-0.824310</td>\n",
              "      <td>-0.831502</td>\n",
              "      <td>0.596519</td>\n",
              "    </tr>\n",
              "    <tr>\n",
              "      <th>916</th>\n",
              "      <td>-1.644239</td>\n",
              "      <td>-0.516309</td>\n",
              "      <td>-0.270580</td>\n",
              "      <td>0.303453</td>\n",
              "      <td>-1.306038</td>\n",
              "      <td>-0.551733</td>\n",
              "      <td>-0.749818</td>\n",
              "      <td>1.422627</td>\n",
              "      <td>-0.824310</td>\n",
              "      <td>-0.831502</td>\n",
              "      <td>-1.051095</td>\n",
              "    </tr>\n",
              "  </tbody>\n",
              "</table>\n",
              "<p>917 rows × 11 columns</p>\n",
              "</div>\n",
              "      <button class=\"colab-df-convert\" onclick=\"convertToInteractive('df-199c76c8-f004-4c26-a0fd-0fbdb7ddb10f')\"\n",
              "              title=\"Convert this dataframe to an interactive table.\"\n",
              "              style=\"display:none;\">\n",
              "        \n",
              "  <svg xmlns=\"http://www.w3.org/2000/svg\" height=\"24px\"viewBox=\"0 0 24 24\"\n",
              "       width=\"24px\">\n",
              "    <path d=\"M0 0h24v24H0V0z\" fill=\"none\"/>\n",
              "    <path d=\"M18.56 5.44l.94 2.06.94-2.06 2.06-.94-2.06-.94-.94-2.06-.94 2.06-2.06.94zm-11 1L8.5 8.5l.94-2.06 2.06-.94-2.06-.94L8.5 2.5l-.94 2.06-2.06.94zm10 10l.94 2.06.94-2.06 2.06-.94-2.06-.94-.94-2.06-.94 2.06-2.06.94z\"/><path d=\"M17.41 7.96l-1.37-1.37c-.4-.4-.92-.59-1.43-.59-.52 0-1.04.2-1.43.59L10.3 9.45l-7.72 7.72c-.78.78-.78 2.05 0 2.83L4 21.41c.39.39.9.59 1.41.59.51 0 1.02-.2 1.41-.59l7.78-7.78 2.81-2.81c.8-.78.8-2.07 0-2.86zM5.41 20L4 18.59l7.72-7.72 1.47 1.35L5.41 20z\"/>\n",
              "  </svg>\n",
              "      </button>\n",
              "      \n",
              "  <style>\n",
              "    .colab-df-container {\n",
              "      display:flex;\n",
              "      flex-wrap:wrap;\n",
              "      gap: 12px;\n",
              "    }\n",
              "\n",
              "    .colab-df-convert {\n",
              "      background-color: #E8F0FE;\n",
              "      border: none;\n",
              "      border-radius: 50%;\n",
              "      cursor: pointer;\n",
              "      display: none;\n",
              "      fill: #1967D2;\n",
              "      height: 32px;\n",
              "      padding: 0 0 0 0;\n",
              "      width: 32px;\n",
              "    }\n",
              "\n",
              "    .colab-df-convert:hover {\n",
              "      background-color: #E2EBFA;\n",
              "      box-shadow: 0px 1px 2px rgba(60, 64, 67, 0.3), 0px 1px 3px 1px rgba(60, 64, 67, 0.15);\n",
              "      fill: #174EA6;\n",
              "    }\n",
              "\n",
              "    [theme=dark] .colab-df-convert {\n",
              "      background-color: #3B4455;\n",
              "      fill: #D2E3FC;\n",
              "    }\n",
              "\n",
              "    [theme=dark] .colab-df-convert:hover {\n",
              "      background-color: #434B5C;\n",
              "      box-shadow: 0px 1px 3px 1px rgba(0, 0, 0, 0.15);\n",
              "      filter: drop-shadow(0px 1px 2px rgba(0, 0, 0, 0.3));\n",
              "      fill: #FFFFFF;\n",
              "    }\n",
              "  </style>\n",
              "\n",
              "      <script>\n",
              "        const buttonEl =\n",
              "          document.querySelector('#df-199c76c8-f004-4c26-a0fd-0fbdb7ddb10f button.colab-df-convert');\n",
              "        buttonEl.style.display =\n",
              "          google.colab.kernel.accessAllowed ? 'block' : 'none';\n",
              "\n",
              "        async function convertToInteractive(key) {\n",
              "          const element = document.querySelector('#df-199c76c8-f004-4c26-a0fd-0fbdb7ddb10f');\n",
              "          const dataTable =\n",
              "            await google.colab.kernel.invokeFunction('convertToInteractive',\n",
              "                                                     [key], {});\n",
              "          if (!dataTable) return;\n",
              "\n",
              "          const docLinkHtml = 'Like what you see? Visit the ' +\n",
              "            '<a target=\"_blank\" href=https://colab.research.google.com/notebooks/data_table.ipynb>data table notebook</a>'\n",
              "            + ' to learn more about interactive tables.';\n",
              "          element.innerHTML = '';\n",
              "          dataTable['output_type'] = 'display_data';\n",
              "          await google.colab.output.renderOutput(dataTable, element);\n",
              "          const docLink = document.createElement('div');\n",
              "          docLink.innerHTML = docLinkHtml;\n",
              "          element.appendChild(docLink);\n",
              "        }\n",
              "      </script>\n",
              "    </div>\n",
              "  </div>\n",
              "  "
            ]
          },
          "metadata": {},
          "execution_count": 61
        }
      ],
      "source": [
        "previsoresdf = pd.DataFrame(previsores_esc)\n",
        "previsoresdf"
      ]
    },
    {
      "cell_type": "code",
      "execution_count": null,
      "metadata": {
        "colab": {
          "base_uri": "https://localhost:8080/"
        },
        "id": "cXVXsyAtFWSo",
        "outputId": "55529385-ddde-4b86-a2d2-3b5e7f4c53f2"
      },
      "outputs": [
        {
          "output_type": "execute_result",
          "data": {
            "text/plain": [
              "                 0             1             2             3             4   \\\n",
              "count  9.170000e+02  9.170000e+02  9.170000e+02  9.170000e+02  9.170000e+02   \n",
              "mean   1.859654e-16  7.748558e-18  1.046055e-16  7.767929e-16 -1.869340e-16   \n",
              "std    1.000546e+00  1.000546e+00  1.000546e+00  1.000546e+00  1.000546e+00   \n",
              "min   -2.704405e+00 -5.163086e-01 -2.418822e+00 -2.920572e+00 -2.994023e+00   \n",
              "25%   -6.900904e-01 -5.163086e-01 -2.705801e-01 -6.971063e-01 -5.745784e-01   \n",
              "50%    5.202558e-02 -5.163086e-01  8.035410e-01 -1.412398e-01  0.000000e+00   \n",
              "75%    6.881250e-01 -5.163086e-01  8.035410e-01  4.146267e-01  4.194568e-01   \n",
              "max    2.490407e+00  1.936826e+00  8.035410e-01  3.749826e+00  6.721265e+00   \n",
              "\n",
              "                 5           6             7             8             9   \\\n",
              "count  9.170000e+02  917.000000  9.170000e+02  9.170000e+02  9.170000e+02   \n",
              "mean   4.649135e-17    0.000000 -5.114048e-16 -1.046055e-16  7.748558e-17   \n",
              "std    1.000546e+00    1.000546  1.000546e+00  1.000546e+00  1.000546e+00   \n",
              "min   -5.517333e-01   -0.749818 -3.016886e+00 -8.243101e-01 -3.269662e+00   \n",
              "25%   -5.517333e-01   -0.749818 -6.596226e-01 -8.243101e-01 -8.315022e-01   \n",
              "50%   -5.517333e-01   -0.749818  4.755658e-02 -8.243101e-01 -2.688500e-01   \n",
              "75%   -5.517333e-01    0.491306  7.547357e-01  1.213136e+00  5.751284e-01   \n",
              "max    1.812470e+00    1.732430  2.561971e+00  1.213136e+00  4.982571e+00   \n",
              "\n",
              "                 10  \n",
              "count  9.170000e+02  \n",
              "mean  -3.874279e-17  \n",
              "std    1.000546e+00  \n",
              "min   -1.051095e+00  \n",
              "25%   -1.051095e+00  \n",
              "50%    5.965186e-01  \n",
              "75%    5.965186e-01  \n",
              "max    2.244132e+00  "
            ],
            "text/html": [
              "\n",
              "  <div id=\"df-080afdf4-1c61-4fc9-8d5c-319db97ec3ee\">\n",
              "    <div class=\"colab-df-container\">\n",
              "      <div>\n",
              "<style scoped>\n",
              "    .dataframe tbody tr th:only-of-type {\n",
              "        vertical-align: middle;\n",
              "    }\n",
              "\n",
              "    .dataframe tbody tr th {\n",
              "        vertical-align: top;\n",
              "    }\n",
              "\n",
              "    .dataframe thead th {\n",
              "        text-align: right;\n",
              "    }\n",
              "</style>\n",
              "<table border=\"1\" class=\"dataframe\">\n",
              "  <thead>\n",
              "    <tr style=\"text-align: right;\">\n",
              "      <th></th>\n",
              "      <th>0</th>\n",
              "      <th>1</th>\n",
              "      <th>2</th>\n",
              "      <th>3</th>\n",
              "      <th>4</th>\n",
              "      <th>5</th>\n",
              "      <th>6</th>\n",
              "      <th>7</th>\n",
              "      <th>8</th>\n",
              "      <th>9</th>\n",
              "      <th>10</th>\n",
              "    </tr>\n",
              "  </thead>\n",
              "  <tbody>\n",
              "    <tr>\n",
              "      <th>count</th>\n",
              "      <td>9.170000e+02</td>\n",
              "      <td>9.170000e+02</td>\n",
              "      <td>9.170000e+02</td>\n",
              "      <td>9.170000e+02</td>\n",
              "      <td>9.170000e+02</td>\n",
              "      <td>9.170000e+02</td>\n",
              "      <td>917.000000</td>\n",
              "      <td>9.170000e+02</td>\n",
              "      <td>9.170000e+02</td>\n",
              "      <td>9.170000e+02</td>\n",
              "      <td>9.170000e+02</td>\n",
              "    </tr>\n",
              "    <tr>\n",
              "      <th>mean</th>\n",
              "      <td>1.859654e-16</td>\n",
              "      <td>7.748558e-18</td>\n",
              "      <td>1.046055e-16</td>\n",
              "      <td>7.767929e-16</td>\n",
              "      <td>-1.869340e-16</td>\n",
              "      <td>4.649135e-17</td>\n",
              "      <td>0.000000</td>\n",
              "      <td>-5.114048e-16</td>\n",
              "      <td>-1.046055e-16</td>\n",
              "      <td>7.748558e-17</td>\n",
              "      <td>-3.874279e-17</td>\n",
              "    </tr>\n",
              "    <tr>\n",
              "      <th>std</th>\n",
              "      <td>1.000546e+00</td>\n",
              "      <td>1.000546e+00</td>\n",
              "      <td>1.000546e+00</td>\n",
              "      <td>1.000546e+00</td>\n",
              "      <td>1.000546e+00</td>\n",
              "      <td>1.000546e+00</td>\n",
              "      <td>1.000546</td>\n",
              "      <td>1.000546e+00</td>\n",
              "      <td>1.000546e+00</td>\n",
              "      <td>1.000546e+00</td>\n",
              "      <td>1.000546e+00</td>\n",
              "    </tr>\n",
              "    <tr>\n",
              "      <th>min</th>\n",
              "      <td>-2.704405e+00</td>\n",
              "      <td>-5.163086e-01</td>\n",
              "      <td>-2.418822e+00</td>\n",
              "      <td>-2.920572e+00</td>\n",
              "      <td>-2.994023e+00</td>\n",
              "      <td>-5.517333e-01</td>\n",
              "      <td>-0.749818</td>\n",
              "      <td>-3.016886e+00</td>\n",
              "      <td>-8.243101e-01</td>\n",
              "      <td>-3.269662e+00</td>\n",
              "      <td>-1.051095e+00</td>\n",
              "    </tr>\n",
              "    <tr>\n",
              "      <th>25%</th>\n",
              "      <td>-6.900904e-01</td>\n",
              "      <td>-5.163086e-01</td>\n",
              "      <td>-2.705801e-01</td>\n",
              "      <td>-6.971063e-01</td>\n",
              "      <td>-5.745784e-01</td>\n",
              "      <td>-5.517333e-01</td>\n",
              "      <td>-0.749818</td>\n",
              "      <td>-6.596226e-01</td>\n",
              "      <td>-8.243101e-01</td>\n",
              "      <td>-8.315022e-01</td>\n",
              "      <td>-1.051095e+00</td>\n",
              "    </tr>\n",
              "    <tr>\n",
              "      <th>50%</th>\n",
              "      <td>5.202558e-02</td>\n",
              "      <td>-5.163086e-01</td>\n",
              "      <td>8.035410e-01</td>\n",
              "      <td>-1.412398e-01</td>\n",
              "      <td>0.000000e+00</td>\n",
              "      <td>-5.517333e-01</td>\n",
              "      <td>-0.749818</td>\n",
              "      <td>4.755658e-02</td>\n",
              "      <td>-8.243101e-01</td>\n",
              "      <td>-2.688500e-01</td>\n",
              "      <td>5.965186e-01</td>\n",
              "    </tr>\n",
              "    <tr>\n",
              "      <th>75%</th>\n",
              "      <td>6.881250e-01</td>\n",
              "      <td>-5.163086e-01</td>\n",
              "      <td>8.035410e-01</td>\n",
              "      <td>4.146267e-01</td>\n",
              "      <td>4.194568e-01</td>\n",
              "      <td>-5.517333e-01</td>\n",
              "      <td>0.491306</td>\n",
              "      <td>7.547357e-01</td>\n",
              "      <td>1.213136e+00</td>\n",
              "      <td>5.751284e-01</td>\n",
              "      <td>5.965186e-01</td>\n",
              "    </tr>\n",
              "    <tr>\n",
              "      <th>max</th>\n",
              "      <td>2.490407e+00</td>\n",
              "      <td>1.936826e+00</td>\n",
              "      <td>8.035410e-01</td>\n",
              "      <td>3.749826e+00</td>\n",
              "      <td>6.721265e+00</td>\n",
              "      <td>1.812470e+00</td>\n",
              "      <td>1.732430</td>\n",
              "      <td>2.561971e+00</td>\n",
              "      <td>1.213136e+00</td>\n",
              "      <td>4.982571e+00</td>\n",
              "      <td>2.244132e+00</td>\n",
              "    </tr>\n",
              "  </tbody>\n",
              "</table>\n",
              "</div>\n",
              "      <button class=\"colab-df-convert\" onclick=\"convertToInteractive('df-080afdf4-1c61-4fc9-8d5c-319db97ec3ee')\"\n",
              "              title=\"Convert this dataframe to an interactive table.\"\n",
              "              style=\"display:none;\">\n",
              "        \n",
              "  <svg xmlns=\"http://www.w3.org/2000/svg\" height=\"24px\"viewBox=\"0 0 24 24\"\n",
              "       width=\"24px\">\n",
              "    <path d=\"M0 0h24v24H0V0z\" fill=\"none\"/>\n",
              "    <path d=\"M18.56 5.44l.94 2.06.94-2.06 2.06-.94-2.06-.94-.94-2.06-.94 2.06-2.06.94zm-11 1L8.5 8.5l.94-2.06 2.06-.94-2.06-.94L8.5 2.5l-.94 2.06-2.06.94zm10 10l.94 2.06.94-2.06 2.06-.94-2.06-.94-.94-2.06-.94 2.06-2.06.94z\"/><path d=\"M17.41 7.96l-1.37-1.37c-.4-.4-.92-.59-1.43-.59-.52 0-1.04.2-1.43.59L10.3 9.45l-7.72 7.72c-.78.78-.78 2.05 0 2.83L4 21.41c.39.39.9.59 1.41.59.51 0 1.02-.2 1.41-.59l7.78-7.78 2.81-2.81c.8-.78.8-2.07 0-2.86zM5.41 20L4 18.59l7.72-7.72 1.47 1.35L5.41 20z\"/>\n",
              "  </svg>\n",
              "      </button>\n",
              "      \n",
              "  <style>\n",
              "    .colab-df-container {\n",
              "      display:flex;\n",
              "      flex-wrap:wrap;\n",
              "      gap: 12px;\n",
              "    }\n",
              "\n",
              "    .colab-df-convert {\n",
              "      background-color: #E8F0FE;\n",
              "      border: none;\n",
              "      border-radius: 50%;\n",
              "      cursor: pointer;\n",
              "      display: none;\n",
              "      fill: #1967D2;\n",
              "      height: 32px;\n",
              "      padding: 0 0 0 0;\n",
              "      width: 32px;\n",
              "    }\n",
              "\n",
              "    .colab-df-convert:hover {\n",
              "      background-color: #E2EBFA;\n",
              "      box-shadow: 0px 1px 2px rgba(60, 64, 67, 0.3), 0px 1px 3px 1px rgba(60, 64, 67, 0.15);\n",
              "      fill: #174EA6;\n",
              "    }\n",
              "\n",
              "    [theme=dark] .colab-df-convert {\n",
              "      background-color: #3B4455;\n",
              "      fill: #D2E3FC;\n",
              "    }\n",
              "\n",
              "    [theme=dark] .colab-df-convert:hover {\n",
              "      background-color: #434B5C;\n",
              "      box-shadow: 0px 1px 3px 1px rgba(0, 0, 0, 0.15);\n",
              "      filter: drop-shadow(0px 1px 2px rgba(0, 0, 0, 0.3));\n",
              "      fill: #FFFFFF;\n",
              "    }\n",
              "  </style>\n",
              "\n",
              "      <script>\n",
              "        const buttonEl =\n",
              "          document.querySelector('#df-080afdf4-1c61-4fc9-8d5c-319db97ec3ee button.colab-df-convert');\n",
              "        buttonEl.style.display =\n",
              "          google.colab.kernel.accessAllowed ? 'block' : 'none';\n",
              "\n",
              "        async function convertToInteractive(key) {\n",
              "          const element = document.querySelector('#df-080afdf4-1c61-4fc9-8d5c-319db97ec3ee');\n",
              "          const dataTable =\n",
              "            await google.colab.kernel.invokeFunction('convertToInteractive',\n",
              "                                                     [key], {});\n",
              "          if (!dataTable) return;\n",
              "\n",
              "          const docLinkHtml = 'Like what you see? Visit the ' +\n",
              "            '<a target=\"_blank\" href=https://colab.research.google.com/notebooks/data_table.ipynb>data table notebook</a>'\n",
              "            + ' to learn more about interactive tables.';\n",
              "          element.innerHTML = '';\n",
              "          dataTable['output_type'] = 'display_data';\n",
              "          await google.colab.output.renderOutput(dataTable, element);\n",
              "          const docLink = document.createElement('div');\n",
              "          docLink.innerHTML = docLinkHtml;\n",
              "          element.appendChild(docLink);\n",
              "        }\n",
              "      </script>\n",
              "    </div>\n",
              "  </div>\n",
              "  "
            ]
          },
          "metadata": {},
          "execution_count": 62
        }
      ],
      "source": [
        "previsoresdf.describe()"
      ]
    },
    {
      "cell_type": "markdown",
      "metadata": {
        "id": "HU3ZNfuI0BaL"
      },
      "source": [
        "## **Codificação de variáveis categóricas**"
      ]
    },
    {
      "cell_type": "markdown",
      "metadata": {
        "id": "lPObOxwx0Qy5"
      },
      "source": [
        "### **LabelEncoder: transformação de variáveis categóricas em numéricas**\n"
      ]
    },
    {
      "cell_type": "code",
      "execution_count": null,
      "metadata": {
        "id": "oLt4fZ620l-5"
      },
      "outputs": [],
      "source": [
        "from sklearn.preprocessing import LabelEncoder"
      ]
    },
    {
      "cell_type": "code",
      "execution_count": null,
      "metadata": {
        "colab": {
          "base_uri": "https://localhost:8080/"
        },
        "id": "oJc1Q36h1Ls_",
        "outputId": "e6e5a515-4c49-4852-d632-253b1a9d9ad9"
      },
      "outputs": [
        {
          "output_type": "execute_result",
          "data": {
            "text/plain": [
              "   Age Sex ChestPainType  RestingBP  Cholesterol  FastingBS RestingECG  MaxHR  \\\n",
              "0   40   M           ATA        140        289.0          0     Normal    172   \n",
              "1   49   F           NAP        160        180.0          0     Normal    156   \n",
              "2   37   M           ATA        130        283.0          0         ST     98   \n",
              "3   48   F           ASY        138        214.0          0     Normal    108   \n",
              "4   54   M           NAP        150        195.0          0     Normal    122   \n",
              "\n",
              "  ExerciseAngina  Oldpeak ST_Slope  HeartDisease  \n",
              "0              N      0.0       Up             0  \n",
              "1              N      1.0     Flat             1  \n",
              "2              N      0.0       Up             0  \n",
              "3              Y      1.5     Flat             1  \n",
              "4              N      0.0       Up             0  "
            ],
            "text/html": [
              "\n",
              "  <div id=\"df-f662a494-62d0-4fc6-9382-777b0747bad0\">\n",
              "    <div class=\"colab-df-container\">\n",
              "      <div>\n",
              "<style scoped>\n",
              "    .dataframe tbody tr th:only-of-type {\n",
              "        vertical-align: middle;\n",
              "    }\n",
              "\n",
              "    .dataframe tbody tr th {\n",
              "        vertical-align: top;\n",
              "    }\n",
              "\n",
              "    .dataframe thead th {\n",
              "        text-align: right;\n",
              "    }\n",
              "</style>\n",
              "<table border=\"1\" class=\"dataframe\">\n",
              "  <thead>\n",
              "    <tr style=\"text-align: right;\">\n",
              "      <th></th>\n",
              "      <th>Age</th>\n",
              "      <th>Sex</th>\n",
              "      <th>ChestPainType</th>\n",
              "      <th>RestingBP</th>\n",
              "      <th>Cholesterol</th>\n",
              "      <th>FastingBS</th>\n",
              "      <th>RestingECG</th>\n",
              "      <th>MaxHR</th>\n",
              "      <th>ExerciseAngina</th>\n",
              "      <th>Oldpeak</th>\n",
              "      <th>ST_Slope</th>\n",
              "      <th>HeartDisease</th>\n",
              "    </tr>\n",
              "  </thead>\n",
              "  <tbody>\n",
              "    <tr>\n",
              "      <th>0</th>\n",
              "      <td>40</td>\n",
              "      <td>M</td>\n",
              "      <td>ATA</td>\n",
              "      <td>140</td>\n",
              "      <td>289.0</td>\n",
              "      <td>0</td>\n",
              "      <td>Normal</td>\n",
              "      <td>172</td>\n",
              "      <td>N</td>\n",
              "      <td>0.0</td>\n",
              "      <td>Up</td>\n",
              "      <td>0</td>\n",
              "    </tr>\n",
              "    <tr>\n",
              "      <th>1</th>\n",
              "      <td>49</td>\n",
              "      <td>F</td>\n",
              "      <td>NAP</td>\n",
              "      <td>160</td>\n",
              "      <td>180.0</td>\n",
              "      <td>0</td>\n",
              "      <td>Normal</td>\n",
              "      <td>156</td>\n",
              "      <td>N</td>\n",
              "      <td>1.0</td>\n",
              "      <td>Flat</td>\n",
              "      <td>1</td>\n",
              "    </tr>\n",
              "    <tr>\n",
              "      <th>2</th>\n",
              "      <td>37</td>\n",
              "      <td>M</td>\n",
              "      <td>ATA</td>\n",
              "      <td>130</td>\n",
              "      <td>283.0</td>\n",
              "      <td>0</td>\n",
              "      <td>ST</td>\n",
              "      <td>98</td>\n",
              "      <td>N</td>\n",
              "      <td>0.0</td>\n",
              "      <td>Up</td>\n",
              "      <td>0</td>\n",
              "    </tr>\n",
              "    <tr>\n",
              "      <th>3</th>\n",
              "      <td>48</td>\n",
              "      <td>F</td>\n",
              "      <td>ASY</td>\n",
              "      <td>138</td>\n",
              "      <td>214.0</td>\n",
              "      <td>0</td>\n",
              "      <td>Normal</td>\n",
              "      <td>108</td>\n",
              "      <td>Y</td>\n",
              "      <td>1.5</td>\n",
              "      <td>Flat</td>\n",
              "      <td>1</td>\n",
              "    </tr>\n",
              "    <tr>\n",
              "      <th>4</th>\n",
              "      <td>54</td>\n",
              "      <td>M</td>\n",
              "      <td>NAP</td>\n",
              "      <td>150</td>\n",
              "      <td>195.0</td>\n",
              "      <td>0</td>\n",
              "      <td>Normal</td>\n",
              "      <td>122</td>\n",
              "      <td>N</td>\n",
              "      <td>0.0</td>\n",
              "      <td>Up</td>\n",
              "      <td>0</td>\n",
              "    </tr>\n",
              "  </tbody>\n",
              "</table>\n",
              "</div>\n",
              "      <button class=\"colab-df-convert\" onclick=\"convertToInteractive('df-f662a494-62d0-4fc6-9382-777b0747bad0')\"\n",
              "              title=\"Convert this dataframe to an interactive table.\"\n",
              "              style=\"display:none;\">\n",
              "        \n",
              "  <svg xmlns=\"http://www.w3.org/2000/svg\" height=\"24px\"viewBox=\"0 0 24 24\"\n",
              "       width=\"24px\">\n",
              "    <path d=\"M0 0h24v24H0V0z\" fill=\"none\"/>\n",
              "    <path d=\"M18.56 5.44l.94 2.06.94-2.06 2.06-.94-2.06-.94-.94-2.06-.94 2.06-2.06.94zm-11 1L8.5 8.5l.94-2.06 2.06-.94-2.06-.94L8.5 2.5l-.94 2.06-2.06.94zm10 10l.94 2.06.94-2.06 2.06-.94-2.06-.94-.94-2.06-.94 2.06-2.06.94z\"/><path d=\"M17.41 7.96l-1.37-1.37c-.4-.4-.92-.59-1.43-.59-.52 0-1.04.2-1.43.59L10.3 9.45l-7.72 7.72c-.78.78-.78 2.05 0 2.83L4 21.41c.39.39.9.59 1.41.59.51 0 1.02-.2 1.41-.59l7.78-7.78 2.81-2.81c.8-.78.8-2.07 0-2.86zM5.41 20L4 18.59l7.72-7.72 1.47 1.35L5.41 20z\"/>\n",
              "  </svg>\n",
              "      </button>\n",
              "      \n",
              "  <style>\n",
              "    .colab-df-container {\n",
              "      display:flex;\n",
              "      flex-wrap:wrap;\n",
              "      gap: 12px;\n",
              "    }\n",
              "\n",
              "    .colab-df-convert {\n",
              "      background-color: #E8F0FE;\n",
              "      border: none;\n",
              "      border-radius: 50%;\n",
              "      cursor: pointer;\n",
              "      display: none;\n",
              "      fill: #1967D2;\n",
              "      height: 32px;\n",
              "      padding: 0 0 0 0;\n",
              "      width: 32px;\n",
              "    }\n",
              "\n",
              "    .colab-df-convert:hover {\n",
              "      background-color: #E2EBFA;\n",
              "      box-shadow: 0px 1px 2px rgba(60, 64, 67, 0.3), 0px 1px 3px 1px rgba(60, 64, 67, 0.15);\n",
              "      fill: #174EA6;\n",
              "    }\n",
              "\n",
              "    [theme=dark] .colab-df-convert {\n",
              "      background-color: #3B4455;\n",
              "      fill: #D2E3FC;\n",
              "    }\n",
              "\n",
              "    [theme=dark] .colab-df-convert:hover {\n",
              "      background-color: #434B5C;\n",
              "      box-shadow: 0px 1px 3px 1px rgba(0, 0, 0, 0.15);\n",
              "      filter: drop-shadow(0px 1px 2px rgba(0, 0, 0, 0.3));\n",
              "      fill: #FFFFFF;\n",
              "    }\n",
              "  </style>\n",
              "\n",
              "      <script>\n",
              "        const buttonEl =\n",
              "          document.querySelector('#df-f662a494-62d0-4fc6-9382-777b0747bad0 button.colab-df-convert');\n",
              "        buttonEl.style.display =\n",
              "          google.colab.kernel.accessAllowed ? 'block' : 'none';\n",
              "\n",
              "        async function convertToInteractive(key) {\n",
              "          const element = document.querySelector('#df-f662a494-62d0-4fc6-9382-777b0747bad0');\n",
              "          const dataTable =\n",
              "            await google.colab.kernel.invokeFunction('convertToInteractive',\n",
              "                                                     [key], {});\n",
              "          if (!dataTable) return;\n",
              "\n",
              "          const docLinkHtml = 'Like what you see? Visit the ' +\n",
              "            '<a target=\"_blank\" href=https://colab.research.google.com/notebooks/data_table.ipynb>data table notebook</a>'\n",
              "            + ' to learn more about interactive tables.';\n",
              "          element.innerHTML = '';\n",
              "          dataTable['output_type'] = 'display_data';\n",
              "          await google.colab.output.renderOutput(dataTable, element);\n",
              "          const docLink = document.createElement('div');\n",
              "          docLink.innerHTML = docLinkHtml;\n",
              "          element.appendChild(docLink);\n",
              "        }\n",
              "      </script>\n",
              "    </div>\n",
              "  </div>\n",
              "  "
            ]
          },
          "metadata": {},
          "execution_count": 64
        }
      ],
      "source": [
        "df.head()"
      ]
    },
    {
      "cell_type": "code",
      "execution_count": null,
      "metadata": {
        "colab": {
          "base_uri": "https://localhost:8080/"
        },
        "id": "0VFq4NJ_181-",
        "outputId": "5383459a-2589-4dd9-c2f4-7c468a832fb1"
      },
      "outputs": [
        {
          "output_type": "execute_result",
          "data": {
            "text/plain": [
              "array([[40, 'M', 'ATA', ..., 'N', 0.0, 'Up'],\n",
              "       [49, 'F', 'NAP', ..., 'N', 1.0, 'Flat'],\n",
              "       [37, 'M', 'ATA', ..., 'N', 0.0, 'Up'],\n",
              "       ...,\n",
              "       [57, 'M', 'ASY', ..., 'Y', 1.2, 'Flat'],\n",
              "       [57, 'F', 'ATA', ..., 'N', 0.0, 'Flat'],\n",
              "       [38, 'M', 'NAP', ..., 'N', 0.0, 'Up']], dtype=object)"
            ]
          },
          "metadata": {},
          "execution_count": 65
        }
      ],
      "source": [
        "previsores2 = df.iloc[:, 0:11].values\n",
        "previsores2"
      ]
    },
    {
      "cell_type": "code",
      "execution_count": null,
      "metadata": {
        "id": "36oIQ8I10nin"
      },
      "outputs": [],
      "source": [
        "previsores2[:,1] = LabelEncoder().fit_transform(previsores2[:,1])"
      ]
    },
    {
      "cell_type": "code",
      "execution_count": null,
      "metadata": {
        "colab": {
          "base_uri": "https://localhost:8080/"
        },
        "id": "IZQuLVsb1kMW",
        "outputId": "e8f15d7e-bec5-4eb7-f439-38d786195dd2"
      },
      "outputs": [
        {
          "output_type": "execute_result",
          "data": {
            "text/plain": [
              "array([[40, 1, 'ATA', ..., 'N', 0.0, 'Up'],\n",
              "       [49, 0, 'NAP', ..., 'N', 1.0, 'Flat'],\n",
              "       [37, 1, 'ATA', ..., 'N', 0.0, 'Up'],\n",
              "       ...,\n",
              "       [57, 1, 'ASY', ..., 'Y', 1.2, 'Flat'],\n",
              "       [57, 0, 'ATA', ..., 'N', 0.0, 'Flat'],\n",
              "       [38, 1, 'NAP', ..., 'N', 0.0, 'Up']], dtype=object)"
            ]
          },
          "metadata": {},
          "execution_count": 67
        }
      ],
      "source": [
        "previsores2"
      ]
    },
    {
      "cell_type": "code",
      "execution_count": null,
      "metadata": {
        "id": "VAV6Jrmg00_B"
      },
      "outputs": [],
      "source": [
        "previsores2[:,2] = LabelEncoder().fit_transform(previsores2[:,2])\n",
        "previsores2[:,6] = LabelEncoder().fit_transform(previsores2[:,6])\n",
        "previsores2[:,8] = LabelEncoder().fit_transform(previsores2[:,8])\n",
        "previsores2[:,10] = LabelEncoder().fit_transform(previsores2[:,10])"
      ]
    },
    {
      "cell_type": "code",
      "execution_count": null,
      "metadata": {
        "colab": {
          "base_uri": "https://localhost:8080/"
        },
        "id": "6OYCPPGa3EE6",
        "outputId": "184d1fc9-a348-429a-a1c4-21289c566add"
      },
      "outputs": [
        {
          "output_type": "execute_result",
          "data": {
            "text/plain": [
              "array([[40, 1, 1, ..., 0, 0.0, 2],\n",
              "       [49, 0, 2, ..., 0, 1.0, 1],\n",
              "       [37, 1, 1, ..., 0, 0.0, 2],\n",
              "       ...,\n",
              "       [57, 1, 0, ..., 1, 1.2, 1],\n",
              "       [57, 0, 1, ..., 0, 0.0, 1],\n",
              "       [38, 1, 2, ..., 0, 0.0, 2]], dtype=object)"
            ]
          },
          "metadata": {},
          "execution_count": 69
        }
      ],
      "source": [
        "previsores2"
      ]
    },
    {
      "cell_type": "code",
      "execution_count": null,
      "metadata": {
        "colab": {
          "base_uri": "https://localhost:8080/"
        },
        "id": "SV6SHdiD3i_Z",
        "outputId": "8cf72ad7-0ba8-4a59-88e5-ed1f829b30b8"
      },
      "outputs": [
        {
          "output_type": "execute_result",
          "data": {
            "text/plain": [
              "(917, 11)"
            ]
          },
          "metadata": {},
          "execution_count": 70
        }
      ],
      "source": [
        "previsores2.shape"
      ]
    },
    {
      "cell_type": "markdown",
      "metadata": {
        "id": "PIqEAMoH52Og"
      },
      "source": [
        "### **OneHotEncoder: Criação de variáveis Dummy (fictícia).**"
      ]
    },
    {
      "cell_type": "markdown",
      "metadata": {
        "id": "Ic1BCbFvGTNL"
      },
      "source": [
        "Cuidado com a multicolinearidade (variáveis altamente correlacionadas entre si)."
      ]
    },
    {
      "cell_type": "markdown",
      "metadata": {
        "id": "ruBvkbyn74ly"
      },
      "source": [
        "![image.png](data:image/png;base64,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)"
      ]
    },
    {
      "cell_type": "markdown",
      "metadata": {
        "id": "ZszZwZIBPrQR"
      },
      "source": [
        "A   B   C   D   \n",
        "1   0   0   0   \n",
        "0   1   0   0   \n",
        "0   0   1   0   \n",
        "0   0   0   1\n"
      ]
    },
    {
      "cell_type": "code",
      "execution_count": null,
      "metadata": {
        "id": "YeSR7cQC8uCQ"
      },
      "outputs": [],
      "source": [
        "from sklearn.preprocessing import OneHotEncoder\n",
        "from sklearn.compose import ColumnTransformer"
      ]
    },
    {
      "cell_type": "code",
      "execution_count": null,
      "metadata": {
        "id": "qx2UeR9S2Whp"
      },
      "outputs": [],
      "source": [
        "ColumnTransformer?"
      ]
    },
    {
      "cell_type": "markdown",
      "metadata": {
        "id": "ZT_BjSzytpVX"
      },
      "source": [
        "Parâmetros ColumnTransformer\n",
        "- name: nome dado a transformação.\n",
        "- transformer: tipo de estimador (OneHotEncoder).\n",
        "- columns: colunas que serão transformadas.\n",
        "- remainder: o que acontecerá com o restante das colunas não relacionadas:\n",
        "1) drop = exclui as outras colunas.\n",
        "2) passthrough = mantém as outras colunas. drop é default.  \n",
        "- sparse_threshold: parâmetro de classificação de matrizes esparsas. default é 0.3\n",
        "- n_jobs: número de trabalhos a serem executados em paralelo. default é nenhum\n",
        "- transformer_weights: definição de pesos aos transformadores.\n",
        "-verbose: default é False. se for True a execução é apresentada na tela."
      ]
    },
    {
      "cell_type": "code",
      "execution_count": null,
      "metadata": {
        "id": "rXFOyMmd9JEB"
      },
      "outputs": [],
      "source": [
        "previsores3 = ColumnTransformer(transformers=[('OneHot', OneHotEncoder(), [1,2,6,8,10])],\n",
        "                                remainder='passthrough').fit_transform(previsores2)"
      ]
    },
    {
      "cell_type": "code",
      "execution_count": null,
      "metadata": {
        "colab": {
          "base_uri": "https://localhost:8080/"
        },
        "id": "F_H3hiDD_pfB",
        "outputId": "67349230-2ebe-4327-dcf5-5790b6becdc2"
      },
      "outputs": [
        {
          "output_type": "execute_result",
          "data": {
            "text/plain": [
              "array([[0.0, 1.0, 0.0, ..., 0, 172, 0.0],\n",
              "       [1.0, 0.0, 0.0, ..., 0, 156, 1.0],\n",
              "       [0.0, 1.0, 0.0, ..., 0, 98, 0.0],\n",
              "       ...,\n",
              "       [0.0, 1.0, 1.0, ..., 0, 115, 1.2],\n",
              "       [1.0, 0.0, 0.0, ..., 0, 174, 0.0],\n",
              "       [0.0, 1.0, 0.0, ..., 0, 173, 0.0]], dtype=object)"
            ]
          },
          "metadata": {},
          "execution_count": 74
        }
      ],
      "source": [
        "previsores3"
      ]
    },
    {
      "cell_type": "code",
      "execution_count": null,
      "metadata": {
        "colab": {
          "base_uri": "https://localhost:8080/"
        },
        "id": "eZ-nG4XEBMXU",
        "outputId": "64f88cfd-c07c-4876-de50-21400798b590"
      },
      "outputs": [
        {
          "output_type": "execute_result",
          "data": {
            "text/plain": [
              "(917, 20)"
            ]
          },
          "metadata": {},
          "execution_count": 75
        }
      ],
      "source": [
        "previsores3.shape"
      ]
    },
    {
      "cell_type": "code",
      "execution_count": null,
      "metadata": {
        "colab": {
          "base_uri": "https://localhost:8080/"
        },
        "id": "1iTTX6b0C_0-",
        "outputId": "972c2e41-62d9-4e2c-873b-24b6772b97a4"
      },
      "outputs": [
        {
          "output_type": "execute_result",
          "data": {
            "text/plain": [
              "    0    1    2    3    4    5    6    7    8    9    10   11   12   13  14  \\\n",
              "0  0.0  1.0  0.0  1.0  0.0  0.0  0.0  1.0  0.0  1.0  0.0  0.0  0.0  1.0  40   \n",
              "1  1.0  0.0  0.0  0.0  1.0  0.0  0.0  1.0  0.0  1.0  0.0  0.0  1.0  0.0  49   \n",
              "2  0.0  1.0  0.0  1.0  0.0  0.0  0.0  0.0  1.0  1.0  0.0  0.0  0.0  1.0  37   \n",
              "3  1.0  0.0  1.0  0.0  0.0  0.0  0.0  1.0  0.0  0.0  1.0  0.0  1.0  0.0  48   \n",
              "4  0.0  1.0  0.0  0.0  1.0  0.0  0.0  1.0  0.0  1.0  0.0  0.0  0.0  1.0  54   \n",
              "\n",
              "    15     16 17   18   19  \n",
              "0  140  289.0  0  172  0.0  \n",
              "1  160  180.0  0  156  1.0  \n",
              "2  130  283.0  0   98  0.0  \n",
              "3  138  214.0  0  108  1.5  \n",
              "4  150  195.0  0  122  0.0  "
            ],
            "text/html": [
              "\n",
              "  <div id=\"df-c4a7f18a-3585-46af-b7be-9749faeb43ef\">\n",
              "    <div class=\"colab-df-container\">\n",
              "      <div>\n",
              "<style scoped>\n",
              "    .dataframe tbody tr th:only-of-type {\n",
              "        vertical-align: middle;\n",
              "    }\n",
              "\n",
              "    .dataframe tbody tr th {\n",
              "        vertical-align: top;\n",
              "    }\n",
              "\n",
              "    .dataframe thead th {\n",
              "        text-align: right;\n",
              "    }\n",
              "</style>\n",
              "<table border=\"1\" class=\"dataframe\">\n",
              "  <thead>\n",
              "    <tr style=\"text-align: right;\">\n",
              "      <th></th>\n",
              "      <th>0</th>\n",
              "      <th>1</th>\n",
              "      <th>2</th>\n",
              "      <th>3</th>\n",
              "      <th>4</th>\n",
              "      <th>5</th>\n",
              "      <th>6</th>\n",
              "      <th>7</th>\n",
              "      <th>8</th>\n",
              "      <th>9</th>\n",
              "      <th>10</th>\n",
              "      <th>11</th>\n",
              "      <th>12</th>\n",
              "      <th>13</th>\n",
              "      <th>14</th>\n",
              "      <th>15</th>\n",
              "      <th>16</th>\n",
              "      <th>17</th>\n",
              "      <th>18</th>\n",
              "      <th>19</th>\n",
              "    </tr>\n",
              "  </thead>\n",
              "  <tbody>\n",
              "    <tr>\n",
              "      <th>0</th>\n",
              "      <td>0.0</td>\n",
              "      <td>1.0</td>\n",
              "      <td>0.0</td>\n",
              "      <td>1.0</td>\n",
              "      <td>0.0</td>\n",
              "      <td>0.0</td>\n",
              "      <td>0.0</td>\n",
              "      <td>1.0</td>\n",
              "      <td>0.0</td>\n",
              "      <td>1.0</td>\n",
              "      <td>0.0</td>\n",
              "      <td>0.0</td>\n",
              "      <td>0.0</td>\n",
              "      <td>1.0</td>\n",
              "      <td>40</td>\n",
              "      <td>140</td>\n",
              "      <td>289.0</td>\n",
              "      <td>0</td>\n",
              "      <td>172</td>\n",
              "      <td>0.0</td>\n",
              "    </tr>\n",
              "    <tr>\n",
              "      <th>1</th>\n",
              "      <td>1.0</td>\n",
              "      <td>0.0</td>\n",
              "      <td>0.0</td>\n",
              "      <td>0.0</td>\n",
              "      <td>1.0</td>\n",
              "      <td>0.0</td>\n",
              "      <td>0.0</td>\n",
              "      <td>1.0</td>\n",
              "      <td>0.0</td>\n",
              "      <td>1.0</td>\n",
              "      <td>0.0</td>\n",
              "      <td>0.0</td>\n",
              "      <td>1.0</td>\n",
              "      <td>0.0</td>\n",
              "      <td>49</td>\n",
              "      <td>160</td>\n",
              "      <td>180.0</td>\n",
              "      <td>0</td>\n",
              "      <td>156</td>\n",
              "      <td>1.0</td>\n",
              "    </tr>\n",
              "    <tr>\n",
              "      <th>2</th>\n",
              "      <td>0.0</td>\n",
              "      <td>1.0</td>\n",
              "      <td>0.0</td>\n",
              "      <td>1.0</td>\n",
              "      <td>0.0</td>\n",
              "      <td>0.0</td>\n",
              "      <td>0.0</td>\n",
              "      <td>0.0</td>\n",
              "      <td>1.0</td>\n",
              "      <td>1.0</td>\n",
              "      <td>0.0</td>\n",
              "      <td>0.0</td>\n",
              "      <td>0.0</td>\n",
              "      <td>1.0</td>\n",
              "      <td>37</td>\n",
              "      <td>130</td>\n",
              "      <td>283.0</td>\n",
              "      <td>0</td>\n",
              "      <td>98</td>\n",
              "      <td>0.0</td>\n",
              "    </tr>\n",
              "    <tr>\n",
              "      <th>3</th>\n",
              "      <td>1.0</td>\n",
              "      <td>0.0</td>\n",
              "      <td>1.0</td>\n",
              "      <td>0.0</td>\n",
              "      <td>0.0</td>\n",
              "      <td>0.0</td>\n",
              "      <td>0.0</td>\n",
              "      <td>1.0</td>\n",
              "      <td>0.0</td>\n",
              "      <td>0.0</td>\n",
              "      <td>1.0</td>\n",
              "      <td>0.0</td>\n",
              "      <td>1.0</td>\n",
              "      <td>0.0</td>\n",
              "      <td>48</td>\n",
              "      <td>138</td>\n",
              "      <td>214.0</td>\n",
              "      <td>0</td>\n",
              "      <td>108</td>\n",
              "      <td>1.5</td>\n",
              "    </tr>\n",
              "    <tr>\n",
              "      <th>4</th>\n",
              "      <td>0.0</td>\n",
              "      <td>1.0</td>\n",
              "      <td>0.0</td>\n",
              "      <td>0.0</td>\n",
              "      <td>1.0</td>\n",
              "      <td>0.0</td>\n",
              "      <td>0.0</td>\n",
              "      <td>1.0</td>\n",
              "      <td>0.0</td>\n",
              "      <td>1.0</td>\n",
              "      <td>0.0</td>\n",
              "      <td>0.0</td>\n",
              "      <td>0.0</td>\n",
              "      <td>1.0</td>\n",
              "      <td>54</td>\n",
              "      <td>150</td>\n",
              "      <td>195.0</td>\n",
              "      <td>0</td>\n",
              "      <td>122</td>\n",
              "      <td>0.0</td>\n",
              "    </tr>\n",
              "  </tbody>\n",
              "</table>\n",
              "</div>\n",
              "      <button class=\"colab-df-convert\" onclick=\"convertToInteractive('df-c4a7f18a-3585-46af-b7be-9749faeb43ef')\"\n",
              "              title=\"Convert this dataframe to an interactive table.\"\n",
              "              style=\"display:none;\">\n",
              "        \n",
              "  <svg xmlns=\"http://www.w3.org/2000/svg\" height=\"24px\"viewBox=\"0 0 24 24\"\n",
              "       width=\"24px\">\n",
              "    <path d=\"M0 0h24v24H0V0z\" fill=\"none\"/>\n",
              "    <path d=\"M18.56 5.44l.94 2.06.94-2.06 2.06-.94-2.06-.94-.94-2.06-.94 2.06-2.06.94zm-11 1L8.5 8.5l.94-2.06 2.06-.94-2.06-.94L8.5 2.5l-.94 2.06-2.06.94zm10 10l.94 2.06.94-2.06 2.06-.94-2.06-.94-.94-2.06-.94 2.06-2.06.94z\"/><path d=\"M17.41 7.96l-1.37-1.37c-.4-.4-.92-.59-1.43-.59-.52 0-1.04.2-1.43.59L10.3 9.45l-7.72 7.72c-.78.78-.78 2.05 0 2.83L4 21.41c.39.39.9.59 1.41.59.51 0 1.02-.2 1.41-.59l7.78-7.78 2.81-2.81c.8-.78.8-2.07 0-2.86zM5.41 20L4 18.59l7.72-7.72 1.47 1.35L5.41 20z\"/>\n",
              "  </svg>\n",
              "      </button>\n",
              "      \n",
              "  <style>\n",
              "    .colab-df-container {\n",
              "      display:flex;\n",
              "      flex-wrap:wrap;\n",
              "      gap: 12px;\n",
              "    }\n",
              "\n",
              "    .colab-df-convert {\n",
              "      background-color: #E8F0FE;\n",
              "      border: none;\n",
              "      border-radius: 50%;\n",
              "      cursor: pointer;\n",
              "      display: none;\n",
              "      fill: #1967D2;\n",
              "      height: 32px;\n",
              "      padding: 0 0 0 0;\n",
              "      width: 32px;\n",
              "    }\n",
              "\n",
              "    .colab-df-convert:hover {\n",
              "      background-color: #E2EBFA;\n",
              "      box-shadow: 0px 1px 2px rgba(60, 64, 67, 0.3), 0px 1px 3px 1px rgba(60, 64, 67, 0.15);\n",
              "      fill: #174EA6;\n",
              "    }\n",
              "\n",
              "    [theme=dark] .colab-df-convert {\n",
              "      background-color: #3B4455;\n",
              "      fill: #D2E3FC;\n",
              "    }\n",
              "\n",
              "    [theme=dark] .colab-df-convert:hover {\n",
              "      background-color: #434B5C;\n",
              "      box-shadow: 0px 1px 3px 1px rgba(0, 0, 0, 0.15);\n",
              "      filter: drop-shadow(0px 1px 2px rgba(0, 0, 0, 0.3));\n",
              "      fill: #FFFFFF;\n",
              "    }\n",
              "  </style>\n",
              "\n",
              "      <script>\n",
              "        const buttonEl =\n",
              "          document.querySelector('#df-c4a7f18a-3585-46af-b7be-9749faeb43ef button.colab-df-convert');\n",
              "        buttonEl.style.display =\n",
              "          google.colab.kernel.accessAllowed ? 'block' : 'none';\n",
              "\n",
              "        async function convertToInteractive(key) {\n",
              "          const element = document.querySelector('#df-c4a7f18a-3585-46af-b7be-9749faeb43ef');\n",
              "          const dataTable =\n",
              "            await google.colab.kernel.invokeFunction('convertToInteractive',\n",
              "                                                     [key], {});\n",
              "          if (!dataTable) return;\n",
              "\n",
              "          const docLinkHtml = 'Like what you see? Visit the ' +\n",
              "            '<a target=\"_blank\" href=https://colab.research.google.com/notebooks/data_table.ipynb>data table notebook</a>'\n",
              "            + ' to learn more about interactive tables.';\n",
              "          element.innerHTML = '';\n",
              "          dataTable['output_type'] = 'display_data';\n",
              "          await google.colab.output.renderOutput(dataTable, element);\n",
              "          const docLink = document.createElement('div');\n",
              "          docLink.innerHTML = docLinkHtml;\n",
              "          element.appendChild(docLink);\n",
              "        }\n",
              "      </script>\n",
              "    </div>\n",
              "  </div>\n",
              "  "
            ]
          },
          "metadata": {},
          "execution_count": 76
        }
      ],
      "source": [
        "previsores3df = pd.DataFrame(previsores3)\n",
        "previsores3df.head()"
      ]
    },
    {
      "cell_type": "code",
      "execution_count": null,
      "metadata": {
        "colab": {
          "base_uri": "https://localhost:8080/"
        },
        "id": "KTfczx7EDvwc",
        "outputId": "39015a9a-9817-4ea0-a6f9-0377e2d0a5bf"
      },
      "outputs": [
        {
          "output_type": "execute_result",
          "data": {
            "text/plain": [
              "   Age Sex ChestPainType  RestingBP  Cholesterol  FastingBS RestingECG  MaxHR  \\\n",
              "0   40   M           ATA        140        289.0          0     Normal    172   \n",
              "1   49   F           NAP        160        180.0          0     Normal    156   \n",
              "2   37   M           ATA        130        283.0          0         ST     98   \n",
              "3   48   F           ASY        138        214.0          0     Normal    108   \n",
              "4   54   M           NAP        150        195.0          0     Normal    122   \n",
              "\n",
              "  ExerciseAngina  Oldpeak ST_Slope  HeartDisease  \n",
              "0              N      0.0       Up             0  \n",
              "1              N      1.0     Flat             1  \n",
              "2              N      0.0       Up             0  \n",
              "3              Y      1.5     Flat             1  \n",
              "4              N      0.0       Up             0  "
            ],
            "text/html": [
              "\n",
              "  <div id=\"df-f3b5e3a5-85af-44f2-881e-072da2ac74e2\">\n",
              "    <div class=\"colab-df-container\">\n",
              "      <div>\n",
              "<style scoped>\n",
              "    .dataframe tbody tr th:only-of-type {\n",
              "        vertical-align: middle;\n",
              "    }\n",
              "\n",
              "    .dataframe tbody tr th {\n",
              "        vertical-align: top;\n",
              "    }\n",
              "\n",
              "    .dataframe thead th {\n",
              "        text-align: right;\n",
              "    }\n",
              "</style>\n",
              "<table border=\"1\" class=\"dataframe\">\n",
              "  <thead>\n",
              "    <tr style=\"text-align: right;\">\n",
              "      <th></th>\n",
              "      <th>Age</th>\n",
              "      <th>Sex</th>\n",
              "      <th>ChestPainType</th>\n",
              "      <th>RestingBP</th>\n",
              "      <th>Cholesterol</th>\n",
              "      <th>FastingBS</th>\n",
              "      <th>RestingECG</th>\n",
              "      <th>MaxHR</th>\n",
              "      <th>ExerciseAngina</th>\n",
              "      <th>Oldpeak</th>\n",
              "      <th>ST_Slope</th>\n",
              "      <th>HeartDisease</th>\n",
              "    </tr>\n",
              "  </thead>\n",
              "  <tbody>\n",
              "    <tr>\n",
              "      <th>0</th>\n",
              "      <td>40</td>\n",
              "      <td>M</td>\n",
              "      <td>ATA</td>\n",
              "      <td>140</td>\n",
              "      <td>289.0</td>\n",
              "      <td>0</td>\n",
              "      <td>Normal</td>\n",
              "      <td>172</td>\n",
              "      <td>N</td>\n",
              "      <td>0.0</td>\n",
              "      <td>Up</td>\n",
              "      <td>0</td>\n",
              "    </tr>\n",
              "    <tr>\n",
              "      <th>1</th>\n",
              "      <td>49</td>\n",
              "      <td>F</td>\n",
              "      <td>NAP</td>\n",
              "      <td>160</td>\n",
              "      <td>180.0</td>\n",
              "      <td>0</td>\n",
              "      <td>Normal</td>\n",
              "      <td>156</td>\n",
              "      <td>N</td>\n",
              "      <td>1.0</td>\n",
              "      <td>Flat</td>\n",
              "      <td>1</td>\n",
              "    </tr>\n",
              "    <tr>\n",
              "      <th>2</th>\n",
              "      <td>37</td>\n",
              "      <td>M</td>\n",
              "      <td>ATA</td>\n",
              "      <td>130</td>\n",
              "      <td>283.0</td>\n",
              "      <td>0</td>\n",
              "      <td>ST</td>\n",
              "      <td>98</td>\n",
              "      <td>N</td>\n",
              "      <td>0.0</td>\n",
              "      <td>Up</td>\n",
              "      <td>0</td>\n",
              "    </tr>\n",
              "    <tr>\n",
              "      <th>3</th>\n",
              "      <td>48</td>\n",
              "      <td>F</td>\n",
              "      <td>ASY</td>\n",
              "      <td>138</td>\n",
              "      <td>214.0</td>\n",
              "      <td>0</td>\n",
              "      <td>Normal</td>\n",
              "      <td>108</td>\n",
              "      <td>Y</td>\n",
              "      <td>1.5</td>\n",
              "      <td>Flat</td>\n",
              "      <td>1</td>\n",
              "    </tr>\n",
              "    <tr>\n",
              "      <th>4</th>\n",
              "      <td>54</td>\n",
              "      <td>M</td>\n",
              "      <td>NAP</td>\n",
              "      <td>150</td>\n",
              "      <td>195.0</td>\n",
              "      <td>0</td>\n",
              "      <td>Normal</td>\n",
              "      <td>122</td>\n",
              "      <td>N</td>\n",
              "      <td>0.0</td>\n",
              "      <td>Up</td>\n",
              "      <td>0</td>\n",
              "    </tr>\n",
              "  </tbody>\n",
              "</table>\n",
              "</div>\n",
              "      <button class=\"colab-df-convert\" onclick=\"convertToInteractive('df-f3b5e3a5-85af-44f2-881e-072da2ac74e2')\"\n",
              "              title=\"Convert this dataframe to an interactive table.\"\n",
              "              style=\"display:none;\">\n",
              "        \n",
              "  <svg xmlns=\"http://www.w3.org/2000/svg\" height=\"24px\"viewBox=\"0 0 24 24\"\n",
              "       width=\"24px\">\n",
              "    <path d=\"M0 0h24v24H0V0z\" fill=\"none\"/>\n",
              "    <path d=\"M18.56 5.44l.94 2.06.94-2.06 2.06-.94-2.06-.94-.94-2.06-.94 2.06-2.06.94zm-11 1L8.5 8.5l.94-2.06 2.06-.94-2.06-.94L8.5 2.5l-.94 2.06-2.06.94zm10 10l.94 2.06.94-2.06 2.06-.94-2.06-.94-.94-2.06-.94 2.06-2.06.94z\"/><path d=\"M17.41 7.96l-1.37-1.37c-.4-.4-.92-.59-1.43-.59-.52 0-1.04.2-1.43.59L10.3 9.45l-7.72 7.72c-.78.78-.78 2.05 0 2.83L4 21.41c.39.39.9.59 1.41.59.51 0 1.02-.2 1.41-.59l7.78-7.78 2.81-2.81c.8-.78.8-2.07 0-2.86zM5.41 20L4 18.59l7.72-7.72 1.47 1.35L5.41 20z\"/>\n",
              "  </svg>\n",
              "      </button>\n",
              "      \n",
              "  <style>\n",
              "    .colab-df-container {\n",
              "      display:flex;\n",
              "      flex-wrap:wrap;\n",
              "      gap: 12px;\n",
              "    }\n",
              "\n",
              "    .colab-df-convert {\n",
              "      background-color: #E8F0FE;\n",
              "      border: none;\n",
              "      border-radius: 50%;\n",
              "      cursor: pointer;\n",
              "      display: none;\n",
              "      fill: #1967D2;\n",
              "      height: 32px;\n",
              "      padding: 0 0 0 0;\n",
              "      width: 32px;\n",
              "    }\n",
              "\n",
              "    .colab-df-convert:hover {\n",
              "      background-color: #E2EBFA;\n",
              "      box-shadow: 0px 1px 2px rgba(60, 64, 67, 0.3), 0px 1px 3px 1px rgba(60, 64, 67, 0.15);\n",
              "      fill: #174EA6;\n",
              "    }\n",
              "\n",
              "    [theme=dark] .colab-df-convert {\n",
              "      background-color: #3B4455;\n",
              "      fill: #D2E3FC;\n",
              "    }\n",
              "\n",
              "    [theme=dark] .colab-df-convert:hover {\n",
              "      background-color: #434B5C;\n",
              "      box-shadow: 0px 1px 3px 1px rgba(0, 0, 0, 0.15);\n",
              "      filter: drop-shadow(0px 1px 2px rgba(0, 0, 0, 0.3));\n",
              "      fill: #FFFFFF;\n",
              "    }\n",
              "  </style>\n",
              "\n",
              "      <script>\n",
              "        const buttonEl =\n",
              "          document.querySelector('#df-f3b5e3a5-85af-44f2-881e-072da2ac74e2 button.colab-df-convert');\n",
              "        buttonEl.style.display =\n",
              "          google.colab.kernel.accessAllowed ? 'block' : 'none';\n",
              "\n",
              "        async function convertToInteractive(key) {\n",
              "          const element = document.querySelector('#df-f3b5e3a5-85af-44f2-881e-072da2ac74e2');\n",
              "          const dataTable =\n",
              "            await google.colab.kernel.invokeFunction('convertToInteractive',\n",
              "                                                     [key], {});\n",
              "          if (!dataTable) return;\n",
              "\n",
              "          const docLinkHtml = 'Like what you see? Visit the ' +\n",
              "            '<a target=\"_blank\" href=https://colab.research.google.com/notebooks/data_table.ipynb>data table notebook</a>'\n",
              "            + ' to learn more about interactive tables.';\n",
              "          element.innerHTML = '';\n",
              "          dataTable['output_type'] = 'display_data';\n",
              "          await google.colab.output.renderOutput(dataTable, element);\n",
              "          const docLink = document.createElement('div');\n",
              "          docLink.innerHTML = docLinkHtml;\n",
              "          element.appendChild(docLink);\n",
              "        }\n",
              "      </script>\n",
              "    </div>\n",
              "  </div>\n",
              "  "
            ]
          },
          "metadata": {},
          "execution_count": 77
        }
      ],
      "source": [
        "df.head()"
      ]
    },
    {
      "cell_type": "markdown",
      "metadata": {
        "id": "YWlyb9T-Fk1I"
      },
      "source": [
        "## **Escalonamento**"
      ]
    },
    {
      "cell_type": "code",
      "execution_count": null,
      "metadata": {
        "id": "x4jzommSFk1L"
      },
      "outputs": [],
      "source": [
        "from sklearn.preprocessing import StandardScaler"
      ]
    },
    {
      "cell_type": "code",
      "execution_count": null,
      "metadata": {
        "id": "nvLu4mtDFk1L"
      },
      "outputs": [],
      "source": [
        "previsores3_esc = StandardScaler().fit_transform(previsores3)"
      ]
    },
    {
      "cell_type": "code",
      "execution_count": null,
      "metadata": {
        "colab": {
          "base_uri": "https://localhost:8080/"
        },
        "id": "eFTA8spkFk1M",
        "outputId": "01921665-4d85-41cd-9db1-0e8203f57b02"
      },
      "outputs": [
        {
          "output_type": "execute_result",
          "data": {
            "text/plain": [
              "array([[-0.51630861,  0.51630861, -1.08542493, ..., -0.55173333,\n",
              "         1.38333943, -0.83150225],\n",
              "       [ 1.9368261 , -1.9368261 , -1.08542493, ..., -0.55173333,\n",
              "         0.75473573,  0.10625149],\n",
              "       [-0.51630861,  0.51630861, -1.08542493, ..., -0.55173333,\n",
              "        -1.52395266, -0.83150225],\n",
              "       ...,\n",
              "       [-0.51630861,  0.51630861,  0.92129817, ..., -0.55173333,\n",
              "        -0.85606123,  0.29380223],\n",
              "       [ 1.9368261 , -1.9368261 , -1.08542493, ..., -0.55173333,\n",
              "         1.46191489, -0.83150225],\n",
              "       [-0.51630861,  0.51630861, -1.08542493, ..., -0.55173333,\n",
              "         1.42262716, -0.83150225]])"
            ]
          },
          "metadata": {},
          "execution_count": 80
        }
      ],
      "source": [
        "previsores3_esc"
      ]
    },
    {
      "cell_type": "code",
      "execution_count": null,
      "metadata": {
        "colab": {
          "base_uri": "https://localhost:8080/"
        },
        "id": "w6JQStnqFk1M",
        "outputId": "388fc0e8-6d13-4151-a1f6-4b15365a142c"
      },
      "outputs": [
        {
          "output_type": "execute_result",
          "data": {
            "text/plain": [
              "           0         1         2         3         4         5         6   \\\n",
              "0   -0.516309  0.516309 -1.085425  2.073784 -0.531524 -0.229810 -0.507826   \n",
              "1    1.936826 -1.936826 -1.085425 -0.482210  1.881384 -0.229810 -0.507826   \n",
              "2   -0.516309  0.516309 -1.085425  2.073784 -0.531524 -0.229810 -0.507826   \n",
              "3    1.936826 -1.936826  0.921298 -0.482210 -0.531524 -0.229810 -0.507826   \n",
              "4   -0.516309  0.516309 -1.085425 -0.482210  1.881384 -0.229810 -0.507826   \n",
              "..        ...       ...       ...       ...       ...       ...       ...   \n",
              "912 -0.516309  0.516309 -1.085425 -0.482210 -0.531524  4.351412 -0.507826   \n",
              "913 -0.516309  0.516309  0.921298 -0.482210 -0.531524 -0.229810 -0.507826   \n",
              "914 -0.516309  0.516309  0.921298 -0.482210 -0.531524 -0.229810 -0.507826   \n",
              "915  1.936826 -1.936826 -1.085425  2.073784 -0.531524 -0.229810  1.969177   \n",
              "916 -0.516309  0.516309 -1.085425 -0.482210  1.881384 -0.229810 -0.507826   \n",
              "\n",
              "           7         8         9         10        11        12        13  \\\n",
              "0    0.815013 -0.490781  0.824310 -0.824310 -0.271607 -1.001091  1.149573   \n",
              "1    0.815013 -0.490781  0.824310 -0.824310 -0.271607  0.998910 -0.869888   \n",
              "2   -1.226974  2.037569  0.824310 -0.824310 -0.271607 -1.001091  1.149573   \n",
              "3    0.815013 -0.490781 -1.213136  1.213136 -0.271607  0.998910 -0.869888   \n",
              "4    0.815013 -0.490781  0.824310 -0.824310 -0.271607 -1.001091  1.149573   \n",
              "..        ...       ...       ...       ...       ...       ...       ...   \n",
              "912  0.815013 -0.490781  0.824310 -0.824310 -0.271607  0.998910 -0.869888   \n",
              "913  0.815013 -0.490781  0.824310 -0.824310 -0.271607  0.998910 -0.869888   \n",
              "914  0.815013 -0.490781 -1.213136  1.213136 -0.271607  0.998910 -0.869888   \n",
              "915 -1.226974 -0.490781  0.824310 -0.824310 -0.271607  0.998910 -0.869888   \n",
              "916  0.815013 -0.490781  0.824310 -0.824310 -0.271607 -1.001091  1.149573   \n",
              "\n",
              "           14        15        16        17        18        19  \n",
              "0   -1.432206  0.414627  0.832075 -0.551733  1.383339 -0.831502  \n",
              "1   -0.478057  1.526360 -1.212261 -0.551733  0.754736  0.106251  \n",
              "2   -1.750256 -0.141240  0.719543 -0.551733 -1.523953 -0.831502  \n",
              "3   -0.584074  0.303453 -0.574578 -0.551733 -1.131075  0.575128  \n",
              "4    0.052026  0.970493 -0.930931 -0.551733 -0.581047 -0.831502  \n",
              "..        ...       ...       ...       ...       ...       ...  \n",
              "912 -0.902124 -1.252973  0.363191 -0.551733 -0.188170  0.293802  \n",
              "913  1.536257  0.636973 -0.968441  1.812470  0.165420  2.356860  \n",
              "914  0.370075 -0.141240 -2.131275 -0.551733 -0.856061  0.293802  \n",
              "915  0.370075 -0.141240 -0.161960 -0.551733  1.461915 -0.831502  \n",
              "916 -1.644239  0.303453 -1.306038 -0.551733  1.422627 -0.831502  \n",
              "\n",
              "[917 rows x 20 columns]"
            ],
            "text/html": [
              "\n",
              "  <div id=\"df-a0817776-db54-4594-9258-50e93905ed8d\">\n",
              "    <div class=\"colab-df-container\">\n",
              "      <div>\n",
              "<style scoped>\n",
              "    .dataframe tbody tr th:only-of-type {\n",
              "        vertical-align: middle;\n",
              "    }\n",
              "\n",
              "    .dataframe tbody tr th {\n",
              "        vertical-align: top;\n",
              "    }\n",
              "\n",
              "    .dataframe thead th {\n",
              "        text-align: right;\n",
              "    }\n",
              "</style>\n",
              "<table border=\"1\" class=\"dataframe\">\n",
              "  <thead>\n",
              "    <tr style=\"text-align: right;\">\n",
              "      <th></th>\n",
              "      <th>0</th>\n",
              "      <th>1</th>\n",
              "      <th>2</th>\n",
              "      <th>3</th>\n",
              "      <th>4</th>\n",
              "      <th>5</th>\n",
              "      <th>6</th>\n",
              "      <th>7</th>\n",
              "      <th>8</th>\n",
              "      <th>9</th>\n",
              "      <th>10</th>\n",
              "      <th>11</th>\n",
              "      <th>12</th>\n",
              "      <th>13</th>\n",
              "      <th>14</th>\n",
              "      <th>15</th>\n",
              "      <th>16</th>\n",
              "      <th>17</th>\n",
              "      <th>18</th>\n",
              "      <th>19</th>\n",
              "    </tr>\n",
              "  </thead>\n",
              "  <tbody>\n",
              "    <tr>\n",
              "      <th>0</th>\n",
              "      <td>-0.516309</td>\n",
              "      <td>0.516309</td>\n",
              "      <td>-1.085425</td>\n",
              "      <td>2.073784</td>\n",
              "      <td>-0.531524</td>\n",
              "      <td>-0.229810</td>\n",
              "      <td>-0.507826</td>\n",
              "      <td>0.815013</td>\n",
              "      <td>-0.490781</td>\n",
              "      <td>0.824310</td>\n",
              "      <td>-0.824310</td>\n",
              "      <td>-0.271607</td>\n",
              "      <td>-1.001091</td>\n",
              "      <td>1.149573</td>\n",
              "      <td>-1.432206</td>\n",
              "      <td>0.414627</td>\n",
              "      <td>0.832075</td>\n",
              "      <td>-0.551733</td>\n",
              "      <td>1.383339</td>\n",
              "      <td>-0.831502</td>\n",
              "    </tr>\n",
              "    <tr>\n",
              "      <th>1</th>\n",
              "      <td>1.936826</td>\n",
              "      <td>-1.936826</td>\n",
              "      <td>-1.085425</td>\n",
              "      <td>-0.482210</td>\n",
              "      <td>1.881384</td>\n",
              "      <td>-0.229810</td>\n",
              "      <td>-0.507826</td>\n",
              "      <td>0.815013</td>\n",
              "      <td>-0.490781</td>\n",
              "      <td>0.824310</td>\n",
              "      <td>-0.824310</td>\n",
              "      <td>-0.271607</td>\n",
              "      <td>0.998910</td>\n",
              "      <td>-0.869888</td>\n",
              "      <td>-0.478057</td>\n",
              "      <td>1.526360</td>\n",
              "      <td>-1.212261</td>\n",
              "      <td>-0.551733</td>\n",
              "      <td>0.754736</td>\n",
              "      <td>0.106251</td>\n",
              "    </tr>\n",
              "    <tr>\n",
              "      <th>2</th>\n",
              "      <td>-0.516309</td>\n",
              "      <td>0.516309</td>\n",
              "      <td>-1.085425</td>\n",
              "      <td>2.073784</td>\n",
              "      <td>-0.531524</td>\n",
              "      <td>-0.229810</td>\n",
              "      <td>-0.507826</td>\n",
              "      <td>-1.226974</td>\n",
              "      <td>2.037569</td>\n",
              "      <td>0.824310</td>\n",
              "      <td>-0.824310</td>\n",
              "      <td>-0.271607</td>\n",
              "      <td>-1.001091</td>\n",
              "      <td>1.149573</td>\n",
              "      <td>-1.750256</td>\n",
              "      <td>-0.141240</td>\n",
              "      <td>0.719543</td>\n",
              "      <td>-0.551733</td>\n",
              "      <td>-1.523953</td>\n",
              "      <td>-0.831502</td>\n",
              "    </tr>\n",
              "    <tr>\n",
              "      <th>3</th>\n",
              "      <td>1.936826</td>\n",
              "      <td>-1.936826</td>\n",
              "      <td>0.921298</td>\n",
              "      <td>-0.482210</td>\n",
              "      <td>-0.531524</td>\n",
              "      <td>-0.229810</td>\n",
              "      <td>-0.507826</td>\n",
              "      <td>0.815013</td>\n",
              "      <td>-0.490781</td>\n",
              "      <td>-1.213136</td>\n",
              "      <td>1.213136</td>\n",
              "      <td>-0.271607</td>\n",
              "      <td>0.998910</td>\n",
              "      <td>-0.869888</td>\n",
              "      <td>-0.584074</td>\n",
              "      <td>0.303453</td>\n",
              "      <td>-0.574578</td>\n",
              "      <td>-0.551733</td>\n",
              "      <td>-1.131075</td>\n",
              "      <td>0.575128</td>\n",
              "    </tr>\n",
              "    <tr>\n",
              "      <th>4</th>\n",
              "      <td>-0.516309</td>\n",
              "      <td>0.516309</td>\n",
              "      <td>-1.085425</td>\n",
              "      <td>-0.482210</td>\n",
              "      <td>1.881384</td>\n",
              "      <td>-0.229810</td>\n",
              "      <td>-0.507826</td>\n",
              "      <td>0.815013</td>\n",
              "      <td>-0.490781</td>\n",
              "      <td>0.824310</td>\n",
              "      <td>-0.824310</td>\n",
              "      <td>-0.271607</td>\n",
              "      <td>-1.001091</td>\n",
              "      <td>1.149573</td>\n",
              "      <td>0.052026</td>\n",
              "      <td>0.970493</td>\n",
              "      <td>-0.930931</td>\n",
              "      <td>-0.551733</td>\n",
              "      <td>-0.581047</td>\n",
              "      <td>-0.831502</td>\n",
              "    </tr>\n",
              "    <tr>\n",
              "      <th>...</th>\n",
              "      <td>...</td>\n",
              "      <td>...</td>\n",
              "      <td>...</td>\n",
              "      <td>...</td>\n",
              "      <td>...</td>\n",
              "      <td>...</td>\n",
              "      <td>...</td>\n",
              "      <td>...</td>\n",
              "      <td>...</td>\n",
              "      <td>...</td>\n",
              "      <td>...</td>\n",
              "      <td>...</td>\n",
              "      <td>...</td>\n",
              "      <td>...</td>\n",
              "      <td>...</td>\n",
              "      <td>...</td>\n",
              "      <td>...</td>\n",
              "      <td>...</td>\n",
              "      <td>...</td>\n",
              "      <td>...</td>\n",
              "    </tr>\n",
              "    <tr>\n",
              "      <th>912</th>\n",
              "      <td>-0.516309</td>\n",
              "      <td>0.516309</td>\n",
              "      <td>-1.085425</td>\n",
              "      <td>-0.482210</td>\n",
              "      <td>-0.531524</td>\n",
              "      <td>4.351412</td>\n",
              "      <td>-0.507826</td>\n",
              "      <td>0.815013</td>\n",
              "      <td>-0.490781</td>\n",
              "      <td>0.824310</td>\n",
              "      <td>-0.824310</td>\n",
              "      <td>-0.271607</td>\n",
              "      <td>0.998910</td>\n",
              "      <td>-0.869888</td>\n",
              "      <td>-0.902124</td>\n",
              "      <td>-1.252973</td>\n",
              "      <td>0.363191</td>\n",
              "      <td>-0.551733</td>\n",
              "      <td>-0.188170</td>\n",
              "      <td>0.293802</td>\n",
              "    </tr>\n",
              "    <tr>\n",
              "      <th>913</th>\n",
              "      <td>-0.516309</td>\n",
              "      <td>0.516309</td>\n",
              "      <td>0.921298</td>\n",
              "      <td>-0.482210</td>\n",
              "      <td>-0.531524</td>\n",
              "      <td>-0.229810</td>\n",
              "      <td>-0.507826</td>\n",
              "      <td>0.815013</td>\n",
              "      <td>-0.490781</td>\n",
              "      <td>0.824310</td>\n",
              "      <td>-0.824310</td>\n",
              "      <td>-0.271607</td>\n",
              "      <td>0.998910</td>\n",
              "      <td>-0.869888</td>\n",
              "      <td>1.536257</td>\n",
              "      <td>0.636973</td>\n",
              "      <td>-0.968441</td>\n",
              "      <td>1.812470</td>\n",
              "      <td>0.165420</td>\n",
              "      <td>2.356860</td>\n",
              "    </tr>\n",
              "    <tr>\n",
              "      <th>914</th>\n",
              "      <td>-0.516309</td>\n",
              "      <td>0.516309</td>\n",
              "      <td>0.921298</td>\n",
              "      <td>-0.482210</td>\n",
              "      <td>-0.531524</td>\n",
              "      <td>-0.229810</td>\n",
              "      <td>-0.507826</td>\n",
              "      <td>0.815013</td>\n",
              "      <td>-0.490781</td>\n",
              "      <td>-1.213136</td>\n",
              "      <td>1.213136</td>\n",
              "      <td>-0.271607</td>\n",
              "      <td>0.998910</td>\n",
              "      <td>-0.869888</td>\n",
              "      <td>0.370075</td>\n",
              "      <td>-0.141240</td>\n",
              "      <td>-2.131275</td>\n",
              "      <td>-0.551733</td>\n",
              "      <td>-0.856061</td>\n",
              "      <td>0.293802</td>\n",
              "    </tr>\n",
              "    <tr>\n",
              "      <th>915</th>\n",
              "      <td>1.936826</td>\n",
              "      <td>-1.936826</td>\n",
              "      <td>-1.085425</td>\n",
              "      <td>2.073784</td>\n",
              "      <td>-0.531524</td>\n",
              "      <td>-0.229810</td>\n",
              "      <td>1.969177</td>\n",
              "      <td>-1.226974</td>\n",
              "      <td>-0.490781</td>\n",
              "      <td>0.824310</td>\n",
              "      <td>-0.824310</td>\n",
              "      <td>-0.271607</td>\n",
              "      <td>0.998910</td>\n",
              "      <td>-0.869888</td>\n",
              "      <td>0.370075</td>\n",
              "      <td>-0.141240</td>\n",
              "      <td>-0.161960</td>\n",
              "      <td>-0.551733</td>\n",
              "      <td>1.461915</td>\n",
              "      <td>-0.831502</td>\n",
              "    </tr>\n",
              "    <tr>\n",
              "      <th>916</th>\n",
              "      <td>-0.516309</td>\n",
              "      <td>0.516309</td>\n",
              "      <td>-1.085425</td>\n",
              "      <td>-0.482210</td>\n",
              "      <td>1.881384</td>\n",
              "      <td>-0.229810</td>\n",
              "      <td>-0.507826</td>\n",
              "      <td>0.815013</td>\n",
              "      <td>-0.490781</td>\n",
              "      <td>0.824310</td>\n",
              "      <td>-0.824310</td>\n",
              "      <td>-0.271607</td>\n",
              "      <td>-1.001091</td>\n",
              "      <td>1.149573</td>\n",
              "      <td>-1.644239</td>\n",
              "      <td>0.303453</td>\n",
              "      <td>-1.306038</td>\n",
              "      <td>-0.551733</td>\n",
              "      <td>1.422627</td>\n",
              "      <td>-0.831502</td>\n",
              "    </tr>\n",
              "  </tbody>\n",
              "</table>\n",
              "<p>917 rows × 20 columns</p>\n",
              "</div>\n",
              "      <button class=\"colab-df-convert\" onclick=\"convertToInteractive('df-a0817776-db54-4594-9258-50e93905ed8d')\"\n",
              "              title=\"Convert this dataframe to an interactive table.\"\n",
              "              style=\"display:none;\">\n",
              "        \n",
              "  <svg xmlns=\"http://www.w3.org/2000/svg\" height=\"24px\"viewBox=\"0 0 24 24\"\n",
              "       width=\"24px\">\n",
              "    <path d=\"M0 0h24v24H0V0z\" fill=\"none\"/>\n",
              "    <path d=\"M18.56 5.44l.94 2.06.94-2.06 2.06-.94-2.06-.94-.94-2.06-.94 2.06-2.06.94zm-11 1L8.5 8.5l.94-2.06 2.06-.94-2.06-.94L8.5 2.5l-.94 2.06-2.06.94zm10 10l.94 2.06.94-2.06 2.06-.94-2.06-.94-.94-2.06-.94 2.06-2.06.94z\"/><path d=\"M17.41 7.96l-1.37-1.37c-.4-.4-.92-.59-1.43-.59-.52 0-1.04.2-1.43.59L10.3 9.45l-7.72 7.72c-.78.78-.78 2.05 0 2.83L4 21.41c.39.39.9.59 1.41.59.51 0 1.02-.2 1.41-.59l7.78-7.78 2.81-2.81c.8-.78.8-2.07 0-2.86zM5.41 20L4 18.59l7.72-7.72 1.47 1.35L5.41 20z\"/>\n",
              "  </svg>\n",
              "      </button>\n",
              "      \n",
              "  <style>\n",
              "    .colab-df-container {\n",
              "      display:flex;\n",
              "      flex-wrap:wrap;\n",
              "      gap: 12px;\n",
              "    }\n",
              "\n",
              "    .colab-df-convert {\n",
              "      background-color: #E8F0FE;\n",
              "      border: none;\n",
              "      border-radius: 50%;\n",
              "      cursor: pointer;\n",
              "      display: none;\n",
              "      fill: #1967D2;\n",
              "      height: 32px;\n",
              "      padding: 0 0 0 0;\n",
              "      width: 32px;\n",
              "    }\n",
              "\n",
              "    .colab-df-convert:hover {\n",
              "      background-color: #E2EBFA;\n",
              "      box-shadow: 0px 1px 2px rgba(60, 64, 67, 0.3), 0px 1px 3px 1px rgba(60, 64, 67, 0.15);\n",
              "      fill: #174EA6;\n",
              "    }\n",
              "\n",
              "    [theme=dark] .colab-df-convert {\n",
              "      background-color: #3B4455;\n",
              "      fill: #D2E3FC;\n",
              "    }\n",
              "\n",
              "    [theme=dark] .colab-df-convert:hover {\n",
              "      background-color: #434B5C;\n",
              "      box-shadow: 0px 1px 3px 1px rgba(0, 0, 0, 0.15);\n",
              "      filter: drop-shadow(0px 1px 2px rgba(0, 0, 0, 0.3));\n",
              "      fill: #FFFFFF;\n",
              "    }\n",
              "  </style>\n",
              "\n",
              "      <script>\n",
              "        const buttonEl =\n",
              "          document.querySelector('#df-a0817776-db54-4594-9258-50e93905ed8d button.colab-df-convert');\n",
              "        buttonEl.style.display =\n",
              "          google.colab.kernel.accessAllowed ? 'block' : 'none';\n",
              "\n",
              "        async function convertToInteractive(key) {\n",
              "          const element = document.querySelector('#df-a0817776-db54-4594-9258-50e93905ed8d');\n",
              "          const dataTable =\n",
              "            await google.colab.kernel.invokeFunction('convertToInteractive',\n",
              "                                                     [key], {});\n",
              "          if (!dataTable) return;\n",
              "\n",
              "          const docLinkHtml = 'Like what you see? Visit the ' +\n",
              "            '<a target=\"_blank\" href=https://colab.research.google.com/notebooks/data_table.ipynb>data table notebook</a>'\n",
              "            + ' to learn more about interactive tables.';\n",
              "          element.innerHTML = '';\n",
              "          dataTable['output_type'] = 'display_data';\n",
              "          await google.colab.output.renderOutput(dataTable, element);\n",
              "          const docLink = document.createElement('div');\n",
              "          docLink.innerHTML = docLinkHtml;\n",
              "          element.appendChild(docLink);\n",
              "        }\n",
              "      </script>\n",
              "    </div>\n",
              "  </div>\n",
              "  "
            ]
          },
          "metadata": {},
          "execution_count": 81
        }
      ],
      "source": [
        "previsores3df = pd.DataFrame(previsores3_esc)\n",
        "previsores3df"
      ]
    },
    {
      "cell_type": "code",
      "execution_count": null,
      "metadata": {
        "colab": {
          "base_uri": "https://localhost:8080/"
        },
        "id": "e-dcMRS-Fk1N",
        "outputId": "8cf8f7fe-a492-4955-a944-4040bfa6c66a"
      },
      "outputs": [
        {
          "output_type": "execute_result",
          "data": {
            "text/plain": [
              "                 0             1             2             3             4   \\\n",
              "count  9.170000e+02  9.170000e+02  9.170000e+02  9.170000e+02  9.170000e+02   \n",
              "mean   1.084798e-16 -1.472226e-16  1.937139e-17 -3.874279e-17  3.874279e-17   \n",
              "std    1.000546e+00  1.000546e+00  1.000546e+00  1.000546e+00  1.000546e+00   \n",
              "min   -5.163086e-01 -1.936826e+00 -1.085425e+00 -4.822104e-01 -5.315237e-01   \n",
              "25%   -5.163086e-01  5.163086e-01 -1.085425e+00 -4.822104e-01 -5.315237e-01   \n",
              "50%   -5.163086e-01  5.163086e-01  9.212982e-01 -4.822104e-01 -5.315237e-01   \n",
              "75%   -5.163086e-01  5.163086e-01  9.212982e-01 -4.822104e-01 -5.315237e-01   \n",
              "max    1.936826e+00  5.163086e-01  9.212982e-01  2.073784e+00  1.881384e+00   \n",
              "\n",
              "                 5           6             7             8             9   \\\n",
              "count  9.170000e+02  917.000000  9.170000e+02  9.170000e+02  9.170000e+02   \n",
              "mean   6.973702e-17    0.000000 -9.298269e-17  1.549712e-17 -4.261707e-17   \n",
              "std    1.000546e+00    1.000546  1.000546e+00  1.000546e+00  1.000546e+00   \n",
              "min   -2.298105e-01   -0.507826 -1.226974e+00 -4.907810e-01 -1.213136e+00   \n",
              "25%   -2.298105e-01   -0.507826 -1.226974e+00 -4.907810e-01 -1.213136e+00   \n",
              "50%   -2.298105e-01   -0.507826  8.150134e-01 -4.907810e-01  8.243101e-01   \n",
              "75%   -2.298105e-01   -0.507826  8.150134e-01 -4.907810e-01  8.243101e-01   \n",
              "max    4.351412e+00    1.969177  8.150134e-01  2.037569e+00  8.243101e-01   \n",
              "\n",
              "                 10            11          12            13            14  \\\n",
              "count  9.170000e+02  9.170000e+02  917.000000  9.170000e+02  9.170000e+02   \n",
              "mean   4.261707e-17  8.523413e-17    0.000000 -3.874279e-17  1.859654e-16   \n",
              "std    1.000546e+00  1.000546e+00    1.000546  1.000546e+00  1.000546e+00   \n",
              "min   -8.243101e-01 -2.716072e-01   -1.001091 -8.698879e-01 -2.704405e+00   \n",
              "25%   -8.243101e-01 -2.716072e-01   -1.001091 -8.698879e-01 -6.900904e-01   \n",
              "50%   -8.243101e-01 -2.716072e-01    0.998910 -8.698879e-01  5.202558e-02   \n",
              "75%    1.213136e+00 -2.716072e-01    0.998910  1.149573e+00  6.881250e-01   \n",
              "max    1.213136e+00  3.681787e+00    0.998910  1.149573e+00  2.490407e+00   \n",
              "\n",
              "                 15            16            17            18            19  \n",
              "count  9.170000e+02  9.170000e+02  9.170000e+02  9.170000e+02  9.170000e+02  \n",
              "mean   7.884157e-16  3.014189e-15 -1.549712e-17 -5.114048e-16 -1.859654e-16  \n",
              "std    1.000546e+00  1.000546e+00  1.000546e+00  1.000546e+00  1.000546e+00  \n",
              "min   -2.920572e+00 -2.994023e+00 -5.517333e-01 -3.016886e+00 -3.269662e+00  \n",
              "25%   -6.971063e-01 -5.745784e-01 -5.517333e-01 -6.596226e-01 -8.315022e-01  \n",
              "50%   -1.412398e-01  3.198360e-15 -5.517333e-01  4.755658e-02 -2.688500e-01  \n",
              "75%    4.146267e-01  4.194568e-01 -5.517333e-01  7.547357e-01  5.751284e-01  \n",
              "max    3.749826e+00  6.721265e+00  1.812470e+00  2.561971e+00  4.982571e+00  "
            ],
            "text/html": [
              "\n",
              "  <div id=\"df-fb486a91-7af3-49a5-8758-8434e13916d5\">\n",
              "    <div class=\"colab-df-container\">\n",
              "      <div>\n",
              "<style scoped>\n",
              "    .dataframe tbody tr th:only-of-type {\n",
              "        vertical-align: middle;\n",
              "    }\n",
              "\n",
              "    .dataframe tbody tr th {\n",
              "        vertical-align: top;\n",
              "    }\n",
              "\n",
              "    .dataframe thead th {\n",
              "        text-align: right;\n",
              "    }\n",
              "</style>\n",
              "<table border=\"1\" class=\"dataframe\">\n",
              "  <thead>\n",
              "    <tr style=\"text-align: right;\">\n",
              "      <th></th>\n",
              "      <th>0</th>\n",
              "      <th>1</th>\n",
              "      <th>2</th>\n",
              "      <th>3</th>\n",
              "      <th>4</th>\n",
              "      <th>5</th>\n",
              "      <th>6</th>\n",
              "      <th>7</th>\n",
              "      <th>8</th>\n",
              "      <th>9</th>\n",
              "      <th>10</th>\n",
              "      <th>11</th>\n",
              "      <th>12</th>\n",
              "      <th>13</th>\n",
              "      <th>14</th>\n",
              "      <th>15</th>\n",
              "      <th>16</th>\n",
              "      <th>17</th>\n",
              "      <th>18</th>\n",
              "      <th>19</th>\n",
              "    </tr>\n",
              "  </thead>\n",
              "  <tbody>\n",
              "    <tr>\n",
              "      <th>count</th>\n",
              "      <td>9.170000e+02</td>\n",
              "      <td>9.170000e+02</td>\n",
              "      <td>9.170000e+02</td>\n",
              "      <td>9.170000e+02</td>\n",
              "      <td>9.170000e+02</td>\n",
              "      <td>9.170000e+02</td>\n",
              "      <td>917.000000</td>\n",
              "      <td>9.170000e+02</td>\n",
              "      <td>9.170000e+02</td>\n",
              "      <td>9.170000e+02</td>\n",
              "      <td>9.170000e+02</td>\n",
              "      <td>9.170000e+02</td>\n",
              "      <td>917.000000</td>\n",
              "      <td>9.170000e+02</td>\n",
              "      <td>9.170000e+02</td>\n",
              "      <td>9.170000e+02</td>\n",
              "      <td>9.170000e+02</td>\n",
              "      <td>9.170000e+02</td>\n",
              "      <td>9.170000e+02</td>\n",
              "      <td>9.170000e+02</td>\n",
              "    </tr>\n",
              "    <tr>\n",
              "      <th>mean</th>\n",
              "      <td>1.084798e-16</td>\n",
              "      <td>-1.472226e-16</td>\n",
              "      <td>1.937139e-17</td>\n",
              "      <td>-3.874279e-17</td>\n",
              "      <td>3.874279e-17</td>\n",
              "      <td>6.973702e-17</td>\n",
              "      <td>0.000000</td>\n",
              "      <td>-9.298269e-17</td>\n",
              "      <td>1.549712e-17</td>\n",
              "      <td>-4.261707e-17</td>\n",
              "      <td>4.261707e-17</td>\n",
              "      <td>8.523413e-17</td>\n",
              "      <td>0.000000</td>\n",
              "      <td>-3.874279e-17</td>\n",
              "      <td>1.859654e-16</td>\n",
              "      <td>7.884157e-16</td>\n",
              "      <td>3.014189e-15</td>\n",
              "      <td>-1.549712e-17</td>\n",
              "      <td>-5.114048e-16</td>\n",
              "      <td>-1.859654e-16</td>\n",
              "    </tr>\n",
              "    <tr>\n",
              "      <th>std</th>\n",
              "      <td>1.000546e+00</td>\n",
              "      <td>1.000546e+00</td>\n",
              "      <td>1.000546e+00</td>\n",
              "      <td>1.000546e+00</td>\n",
              "      <td>1.000546e+00</td>\n",
              "      <td>1.000546e+00</td>\n",
              "      <td>1.000546</td>\n",
              "      <td>1.000546e+00</td>\n",
              "      <td>1.000546e+00</td>\n",
              "      <td>1.000546e+00</td>\n",
              "      <td>1.000546e+00</td>\n",
              "      <td>1.000546e+00</td>\n",
              "      <td>1.000546</td>\n",
              "      <td>1.000546e+00</td>\n",
              "      <td>1.000546e+00</td>\n",
              "      <td>1.000546e+00</td>\n",
              "      <td>1.000546e+00</td>\n",
              "      <td>1.000546e+00</td>\n",
              "      <td>1.000546e+00</td>\n",
              "      <td>1.000546e+00</td>\n",
              "    </tr>\n",
              "    <tr>\n",
              "      <th>min</th>\n",
              "      <td>-5.163086e-01</td>\n",
              "      <td>-1.936826e+00</td>\n",
              "      <td>-1.085425e+00</td>\n",
              "      <td>-4.822104e-01</td>\n",
              "      <td>-5.315237e-01</td>\n",
              "      <td>-2.298105e-01</td>\n",
              "      <td>-0.507826</td>\n",
              "      <td>-1.226974e+00</td>\n",
              "      <td>-4.907810e-01</td>\n",
              "      <td>-1.213136e+00</td>\n",
              "      <td>-8.243101e-01</td>\n",
              "      <td>-2.716072e-01</td>\n",
              "      <td>-1.001091</td>\n",
              "      <td>-8.698879e-01</td>\n",
              "      <td>-2.704405e+00</td>\n",
              "      <td>-2.920572e+00</td>\n",
              "      <td>-2.994023e+00</td>\n",
              "      <td>-5.517333e-01</td>\n",
              "      <td>-3.016886e+00</td>\n",
              "      <td>-3.269662e+00</td>\n",
              "    </tr>\n",
              "    <tr>\n",
              "      <th>25%</th>\n",
              "      <td>-5.163086e-01</td>\n",
              "      <td>5.163086e-01</td>\n",
              "      <td>-1.085425e+00</td>\n",
              "      <td>-4.822104e-01</td>\n",
              "      <td>-5.315237e-01</td>\n",
              "      <td>-2.298105e-01</td>\n",
              "      <td>-0.507826</td>\n",
              "      <td>-1.226974e+00</td>\n",
              "      <td>-4.907810e-01</td>\n",
              "      <td>-1.213136e+00</td>\n",
              "      <td>-8.243101e-01</td>\n",
              "      <td>-2.716072e-01</td>\n",
              "      <td>-1.001091</td>\n",
              "      <td>-8.698879e-01</td>\n",
              "      <td>-6.900904e-01</td>\n",
              "      <td>-6.971063e-01</td>\n",
              "      <td>-5.745784e-01</td>\n",
              "      <td>-5.517333e-01</td>\n",
              "      <td>-6.596226e-01</td>\n",
              "      <td>-8.315022e-01</td>\n",
              "    </tr>\n",
              "    <tr>\n",
              "      <th>50%</th>\n",
              "      <td>-5.163086e-01</td>\n",
              "      <td>5.163086e-01</td>\n",
              "      <td>9.212982e-01</td>\n",
              "      <td>-4.822104e-01</td>\n",
              "      <td>-5.315237e-01</td>\n",
              "      <td>-2.298105e-01</td>\n",
              "      <td>-0.507826</td>\n",
              "      <td>8.150134e-01</td>\n",
              "      <td>-4.907810e-01</td>\n",
              "      <td>8.243101e-01</td>\n",
              "      <td>-8.243101e-01</td>\n",
              "      <td>-2.716072e-01</td>\n",
              "      <td>0.998910</td>\n",
              "      <td>-8.698879e-01</td>\n",
              "      <td>5.202558e-02</td>\n",
              "      <td>-1.412398e-01</td>\n",
              "      <td>3.198360e-15</td>\n",
              "      <td>-5.517333e-01</td>\n",
              "      <td>4.755658e-02</td>\n",
              "      <td>-2.688500e-01</td>\n",
              "    </tr>\n",
              "    <tr>\n",
              "      <th>75%</th>\n",
              "      <td>-5.163086e-01</td>\n",
              "      <td>5.163086e-01</td>\n",
              "      <td>9.212982e-01</td>\n",
              "      <td>-4.822104e-01</td>\n",
              "      <td>-5.315237e-01</td>\n",
              "      <td>-2.298105e-01</td>\n",
              "      <td>-0.507826</td>\n",
              "      <td>8.150134e-01</td>\n",
              "      <td>-4.907810e-01</td>\n",
              "      <td>8.243101e-01</td>\n",
              "      <td>1.213136e+00</td>\n",
              "      <td>-2.716072e-01</td>\n",
              "      <td>0.998910</td>\n",
              "      <td>1.149573e+00</td>\n",
              "      <td>6.881250e-01</td>\n",
              "      <td>4.146267e-01</td>\n",
              "      <td>4.194568e-01</td>\n",
              "      <td>-5.517333e-01</td>\n",
              "      <td>7.547357e-01</td>\n",
              "      <td>5.751284e-01</td>\n",
              "    </tr>\n",
              "    <tr>\n",
              "      <th>max</th>\n",
              "      <td>1.936826e+00</td>\n",
              "      <td>5.163086e-01</td>\n",
              "      <td>9.212982e-01</td>\n",
              "      <td>2.073784e+00</td>\n",
              "      <td>1.881384e+00</td>\n",
              "      <td>4.351412e+00</td>\n",
              "      <td>1.969177</td>\n",
              "      <td>8.150134e-01</td>\n",
              "      <td>2.037569e+00</td>\n",
              "      <td>8.243101e-01</td>\n",
              "      <td>1.213136e+00</td>\n",
              "      <td>3.681787e+00</td>\n",
              "      <td>0.998910</td>\n",
              "      <td>1.149573e+00</td>\n",
              "      <td>2.490407e+00</td>\n",
              "      <td>3.749826e+00</td>\n",
              "      <td>6.721265e+00</td>\n",
              "      <td>1.812470e+00</td>\n",
              "      <td>2.561971e+00</td>\n",
              "      <td>4.982571e+00</td>\n",
              "    </tr>\n",
              "  </tbody>\n",
              "</table>\n",
              "</div>\n",
              "      <button class=\"colab-df-convert\" onclick=\"convertToInteractive('df-fb486a91-7af3-49a5-8758-8434e13916d5')\"\n",
              "              title=\"Convert this dataframe to an interactive table.\"\n",
              "              style=\"display:none;\">\n",
              "        \n",
              "  <svg xmlns=\"http://www.w3.org/2000/svg\" height=\"24px\"viewBox=\"0 0 24 24\"\n",
              "       width=\"24px\">\n",
              "    <path d=\"M0 0h24v24H0V0z\" fill=\"none\"/>\n",
              "    <path d=\"M18.56 5.44l.94 2.06.94-2.06 2.06-.94-2.06-.94-.94-2.06-.94 2.06-2.06.94zm-11 1L8.5 8.5l.94-2.06 2.06-.94-2.06-.94L8.5 2.5l-.94 2.06-2.06.94zm10 10l.94 2.06.94-2.06 2.06-.94-2.06-.94-.94-2.06-.94 2.06-2.06.94z\"/><path d=\"M17.41 7.96l-1.37-1.37c-.4-.4-.92-.59-1.43-.59-.52 0-1.04.2-1.43.59L10.3 9.45l-7.72 7.72c-.78.78-.78 2.05 0 2.83L4 21.41c.39.39.9.59 1.41.59.51 0 1.02-.2 1.41-.59l7.78-7.78 2.81-2.81c.8-.78.8-2.07 0-2.86zM5.41 20L4 18.59l7.72-7.72 1.47 1.35L5.41 20z\"/>\n",
              "  </svg>\n",
              "      </button>\n",
              "      \n",
              "  <style>\n",
              "    .colab-df-container {\n",
              "      display:flex;\n",
              "      flex-wrap:wrap;\n",
              "      gap: 12px;\n",
              "    }\n",
              "\n",
              "    .colab-df-convert {\n",
              "      background-color: #E8F0FE;\n",
              "      border: none;\n",
              "      border-radius: 50%;\n",
              "      cursor: pointer;\n",
              "      display: none;\n",
              "      fill: #1967D2;\n",
              "      height: 32px;\n",
              "      padding: 0 0 0 0;\n",
              "      width: 32px;\n",
              "    }\n",
              "\n",
              "    .colab-df-convert:hover {\n",
              "      background-color: #E2EBFA;\n",
              "      box-shadow: 0px 1px 2px rgba(60, 64, 67, 0.3), 0px 1px 3px 1px rgba(60, 64, 67, 0.15);\n",
              "      fill: #174EA6;\n",
              "    }\n",
              "\n",
              "    [theme=dark] .colab-df-convert {\n",
              "      background-color: #3B4455;\n",
              "      fill: #D2E3FC;\n",
              "    }\n",
              "\n",
              "    [theme=dark] .colab-df-convert:hover {\n",
              "      background-color: #434B5C;\n",
              "      box-shadow: 0px 1px 3px 1px rgba(0, 0, 0, 0.15);\n",
              "      filter: drop-shadow(0px 1px 2px rgba(0, 0, 0, 0.3));\n",
              "      fill: #FFFFFF;\n",
              "    }\n",
              "  </style>\n",
              "\n",
              "      <script>\n",
              "        const buttonEl =\n",
              "          document.querySelector('#df-fb486a91-7af3-49a5-8758-8434e13916d5 button.colab-df-convert');\n",
              "        buttonEl.style.display =\n",
              "          google.colab.kernel.accessAllowed ? 'block' : 'none';\n",
              "\n",
              "        async function convertToInteractive(key) {\n",
              "          const element = document.querySelector('#df-fb486a91-7af3-49a5-8758-8434e13916d5');\n",
              "          const dataTable =\n",
              "            await google.colab.kernel.invokeFunction('convertToInteractive',\n",
              "                                                     [key], {});\n",
              "          if (!dataTable) return;\n",
              "\n",
              "          const docLinkHtml = 'Like what you see? Visit the ' +\n",
              "            '<a target=\"_blank\" href=https://colab.research.google.com/notebooks/data_table.ipynb>data table notebook</a>'\n",
              "            + ' to learn more about interactive tables.';\n",
              "          element.innerHTML = '';\n",
              "          dataTable['output_type'] = 'display_data';\n",
              "          await google.colab.output.renderOutput(dataTable, element);\n",
              "          const docLink = document.createElement('div');\n",
              "          docLink.innerHTML = docLinkHtml;\n",
              "          element.appendChild(docLink);\n",
              "        }\n",
              "      </script>\n",
              "    </div>\n",
              "  </div>\n",
              "  "
            ]
          },
          "metadata": {},
          "execution_count": 82
        }
      ],
      "source": [
        "previsores3df.describe()"
      ]
    },
    {
      "cell_type": "markdown",
      "metadata": {
        "id": "kW700Sj9Fk1O"
      },
      "source": [
        "## **RESUMO PRÉ-PROCESSAMENTO**"
      ]
    },
    {
      "cell_type": "markdown",
      "metadata": {
        "id": "k-L1kFumG1pO"
      },
      "source": [
        "alvo = variável que se pretende atingir (tem ou não doença cardíaca).\n",
        "\n",
        "previsores = conjunto de variáveis previsoras com as variáveis categóricas transformadas em numéricas manualmente, sem escalonar.\n",
        "\n",
        "previsores_esc = conjunto de variáveis previsoras com as variáveis categóricas transformadas em numéricas, escalonada.\n",
        "\n",
        "previsores2 = conjunto de variáveis previsoras com as variáveis categóricas transformadas em numéricas pelo labelencoder.\n",
        "\n",
        "previsores3 = conjunto de variáveis previsoras transformadas pelo labelencoder e onehotencoder, sem escalonar.\n",
        "\n",
        "previsores3_esc = conjunto de variáveis previsoras transformadas pelo labelencoder e onehotencoder escalonada."
      ]
    },
    {
      "cell_type": "markdown",
      "metadata": {
        "id": "S3Kl3wySKBEw"
      },
      "source": [
        "## **Redução de dimensionalidade**"
      ]
    },
    {
      "cell_type": "markdown",
      "metadata": {
        "id": "w5fLfwjg8xrw"
      },
      "source": [
        "Objetivo é selecionar os melhores componentes (atributos) para treinamento do algoritmo, através da análise das correlações entre as variáveis."
      ]
    },
    {
      "cell_type": "markdown",
      "metadata": {
        "id": "6OurC4GyUoak"
      },
      "source": [
        "### Análise dos Componentes Principais (PCA)"
      ]
    },
    {
      "cell_type": "markdown",
      "metadata": {
        "id": "iB5XY2Tf9AH5"
      },
      "source": [
        "**Seleção de características:** seleciona os melhores atributos e utiliza sem transformações.\n",
        "\n",
        "**Extração de Características:** Encontra os relacionamentos dos melhores atributos e cria novos atributos.\n",
        "\n",
        "É um algoritmo de aprendizagem não supervisionada.\n",
        "\n",
        "Aplica-se em dados linearmente separáveis."
      ]
    },
    {
      "cell_type": "code",
      "execution_count": null,
      "metadata": {
        "id": "j2adDUMyX3d2"
      },
      "outputs": [],
      "source": [
        "from sklearn.decomposition import PCA"
      ]
    },
    {
      "cell_type": "code",
      "execution_count": null,
      "metadata": {
        "id": "ZmpO8urpX8kz"
      },
      "outputs": [],
      "source": [
        "pca = PCA(n_components=3)"
      ]
    },
    {
      "cell_type": "code",
      "execution_count": null,
      "metadata": {
        "id": "zVHnZ8rYYOeL"
      },
      "outputs": [],
      "source": [
        "previsores_pca = pca.fit_transform(previsores2)"
      ]
    },
    {
      "cell_type": "code",
      "execution_count": null,
      "metadata": {
        "colab": {
          "base_uri": "https://localhost:8080/"
        },
        "id": "5Ouz2wdFYkJh",
        "outputId": "96c707cd-a8bd-461f-f2e9-cdd59c9b983e"
      },
      "outputs": [
        {
          "output_type": "execute_result",
          "data": {
            "text/plain": [
              "(917, 3)"
            ]
          },
          "metadata": {},
          "execution_count": 86
        }
      ],
      "source": [
        "previsores_pca.shape"
      ]
    },
    {
      "cell_type": "code",
      "execution_count": null,
      "metadata": {
        "colab": {
          "base_uri": "https://localhost:8080/"
        },
        "id": "i06cyMBkYubR",
        "outputId": "8d2a00e5-601b-46d4-db27-e123ec74fdcd"
      },
      "outputs": [
        {
          "output_type": "execute_result",
          "data": {
            "text/plain": [
              "array([[  44.01218603,  -36.15137592,   10.64727631],\n",
              "       [ -63.9918455 ,  -13.93849233,   31.69212503],\n",
              "       [  38.53844277,   33.91712222,  -12.48837374],\n",
              "       ...,\n",
              "       [-113.3467467 ,   23.48595247,   -2.51064362],\n",
              "       [  -9.1141306 ,  -35.90083188,    4.81814643],\n",
              "       [ -70.01342608,  -35.68741686,   12.10984845]])"
            ]
          },
          "metadata": {},
          "execution_count": 87
        }
      ],
      "source": [
        "# Componentes principais\n",
        "previsores_pca"
      ]
    },
    {
      "cell_type": "code",
      "execution_count": null,
      "metadata": {
        "colab": {
          "base_uri": "https://localhost:8080/"
        },
        "id": "hdBAi-piY28x",
        "outputId": "a708634d-9a4e-4344-aa4f-536e740134f5"
      },
      "outputs": [
        {
          "output_type": "execute_result",
          "data": {
            "text/plain": [
              "array([0.72847929, 0.17183534, 0.08122019])"
            ]
          },
          "metadata": {},
          "execution_count": 88
        }
      ],
      "source": [
        "# razão das variáveis explicativas\n",
        "pca.explained_variance_ratio_"
      ]
    },
    {
      "cell_type": "code",
      "execution_count": null,
      "metadata": {
        "colab": {
          "base_uri": "https://localhost:8080/"
        },
        "id": "lBxPFP0VZR1I",
        "outputId": "e22fa80a-cc86-4b5b-dda2-a0640ecec261"
      },
      "outputs": [
        {
          "output_type": "execute_result",
          "data": {
            "text/plain": [
              "0.9815348236774055"
            ]
          },
          "metadata": {},
          "execution_count": 89
        }
      ],
      "source": [
        "# Soma das variáveis explicativas\n",
        "pca.explained_variance_ratio_.sum()"
      ]
    },
    {
      "cell_type": "markdown",
      "metadata": {
        "id": "2UhdSgBmUtJ6"
      },
      "source": [
        "### Kernel PCA"
      ]
    },
    {
      "cell_type": "markdown",
      "metadata": {
        "id": "1DM-bEoM_JzC"
      },
      "source": [
        "É um algoritmo de aprendizagem não supervisionada.\n",
        "\n",
        "Aplica-se também em dados linearmente não separáveis."
      ]
    },
    {
      "cell_type": "code",
      "execution_count": null,
      "metadata": {
        "id": "z4ATtNXscFq2"
      },
      "outputs": [],
      "source": [
        "from sklearn.decomposition import KernelPCA"
      ]
    },
    {
      "cell_type": "code",
      "execution_count": null,
      "metadata": {
        "id": "8kB6ZCIvcNb1"
      },
      "outputs": [],
      "source": [
        "kpca = KernelPCA(n_components=4, kernel='rbf')"
      ]
    },
    {
      "cell_type": "code",
      "execution_count": null,
      "metadata": {
        "id": "bRAZ06bXPspG"
      },
      "outputs": [],
      "source": [
        "previsores_kernel = kpca.fit_transform(previsores2)"
      ]
    },
    {
      "cell_type": "code",
      "execution_count": null,
      "metadata": {
        "colab": {
          "base_uri": "https://localhost:8080/"
        },
        "id": "tswhvRYtdMvr",
        "outputId": "b364f841-e385-4d22-a8b8-c720b119fe8f"
      },
      "outputs": [
        {
          "output_type": "execute_result",
          "data": {
            "text/plain": [
              "(917, 4)"
            ]
          },
          "metadata": {},
          "execution_count": 93
        }
      ],
      "source": [
        "previsores_kernel.shape"
      ]
    },
    {
      "cell_type": "code",
      "execution_count": null,
      "metadata": {
        "colab": {
          "base_uri": "https://localhost:8080/"
        },
        "id": "age1iPvsdZg-",
        "outputId": "5cbc3610-50c9-4625-b425-77d638182f6c"
      },
      "outputs": [
        {
          "output_type": "execute_result",
          "data": {
            "text/plain": [
              "array([[-0.00249772, -0.00290225, -0.0027372 , -0.00191636],\n",
              "       [-0.00249877, -0.00290359, -0.00273854, -0.00191743],\n",
              "       [-0.00249785, -0.00290241, -0.00273736, -0.00191649],\n",
              "       ...,\n",
              "       [-0.00249774, -0.00290227, -0.00273723, -0.00191638],\n",
              "       [-0.00249793, -0.00290252, -0.00273748, -0.00191659],\n",
              "       [-0.00249772, -0.00290225, -0.0027372 , -0.00191637]])"
            ]
          },
          "metadata": {},
          "execution_count": 94
        }
      ],
      "source": [
        "previsores_kernel"
      ]
    },
    {
      "cell_type": "markdown",
      "metadata": {
        "id": "u3jQ6H1S-HtG"
      },
      "source": [
        "### **Análise do Discriminante Linear (LDA: Linear Discriminant Analysis)**"
      ]
    },
    {
      "cell_type": "markdown",
      "metadata": {
        "id": "NqO1DSAP-7tT"
      },
      "source": [
        "Algoritmo de aprendizagem supervisionada, pois utiliza a classe como referência para seleção.\n",
        "\n",
        "Aplicado em situações com muitos atributos previsores e também com o atributo alvo com muitas classes."
      ]
    },
    {
      "cell_type": "code",
      "execution_count": null,
      "metadata": {
        "id": "3RRYZemLenmT"
      },
      "outputs": [],
      "source": [
        "from sklearn.discriminant_analysis import LinearDiscriminantAnalysis\n",
        "lda = LinearDiscriminantAnalysis(n_components = 1)"
      ]
    },
    {
      "cell_type": "code",
      "execution_count": null,
      "metadata": {
        "id": "onA-GJZafCLU"
      },
      "outputs": [],
      "source": [
        "previsores_lda = lda.fit_transform(previsores2, alvo)"
      ]
    },
    {
      "cell_type": "code",
      "execution_count": null,
      "metadata": {
        "colab": {
          "base_uri": "https://localhost:8080/"
        },
        "id": "Y2qtrFLrBVzr",
        "outputId": "a72583f1-1639-4c3e-94ac-4d951ddabd04"
      },
      "outputs": [
        {
          "output_type": "execute_result",
          "data": {
            "text/plain": [
              "array([[-1.47297727],\n",
              "       [-1.41360735],\n",
              "       [-0.96705302],\n",
              "       [ 0.53331037],\n",
              "       [-1.45783427],\n",
              "       [-1.78559221],\n",
              "       [-2.28906835],\n",
              "       [-1.26844095],\n",
              "       [ 1.03044735],\n",
              "       [-1.8033219 ],\n",
              "       [-2.56103248],\n",
              "       [ 1.08833702],\n",
              "       [-1.4298088 ],\n",
              "       [ 1.02172609],\n",
              "       [-2.51881925],\n",
              "       [-0.75582909],\n",
              "       [-0.27447783],\n",
              "       [-2.33841952],\n",
              "       [ 0.50562225],\n",
              "       [ 0.03155735],\n",
              "       [-2.89530718],\n",
              "       [-0.23402029],\n",
              "       [-2.26833719],\n",
              "       [ 0.97019565],\n",
              "       [-1.70998121],\n",
              "       [-2.0730337 ],\n",
              "       [ 1.62722174],\n",
              "       [-0.96486408],\n",
              "       [-1.52502126],\n",
              "       [-1.33460621],\n",
              "       [-0.03948873],\n",
              "       [-1.44459749],\n",
              "       [ 0.63936919],\n",
              "       [ 0.34808635],\n",
              "       [-2.23945383],\n",
              "       [-1.48957548],\n",
              "       [ 2.4746182 ],\n",
              "       [-2.13691975],\n",
              "       [-1.54252555],\n",
              "       [ 0.30741381],\n",
              "       [-1.8748176 ],\n",
              "       [-0.26749988],\n",
              "       [-1.51713745],\n",
              "       [-1.79186716],\n",
              "       [ 1.00348547],\n",
              "       [ 0.64800053],\n",
              "       [-1.22524435],\n",
              "       [-1.47829185],\n",
              "       [-0.77636186],\n",
              "       [-0.12865852],\n",
              "       [ 1.34295208],\n",
              "       [ 0.65422291],\n",
              "       [-0.4557005 ],\n",
              "       [-2.15691729],\n",
              "       [ 0.25536539],\n",
              "       [-2.26417676],\n",
              "       [ 0.86836148],\n",
              "       [-0.60301353],\n",
              "       [-0.38277361],\n",
              "       [ 1.50907547],\n",
              "       [-1.50857567],\n",
              "       [-2.67081271],\n",
              "       [-0.93385381],\n",
              "       [ 1.15581054],\n",
              "       [-2.12436997],\n",
              "       [-2.02566299],\n",
              "       [-1.61128669],\n",
              "       [-1.7825921 ],\n",
              "       [ 2.05082548],\n",
              "       [-0.83570852],\n",
              "       [ 0.70693463],\n",
              "       [-1.27352923],\n",
              "       [-0.02482612],\n",
              "       [-1.55996385],\n",
              "       [ 1.31581706],\n",
              "       [-1.53819264],\n",
              "       [ 0.49380729],\n",
              "       [-1.95231331],\n",
              "       [-0.67889962],\n",
              "       [-0.16066905],\n",
              "       [-1.66499886],\n",
              "       [-1.30296599],\n",
              "       [ 0.45795738],\n",
              "       [-1.42756451],\n",
              "       [ 1.86472923],\n",
              "       [ 1.39491241],\n",
              "       [ 2.33294249],\n",
              "       [ 0.03204149],\n",
              "       [-1.12661004],\n",
              "       [ 1.21970316],\n",
              "       [-2.2425467 ],\n",
              "       [-0.8391131 ],\n",
              "       [-2.10401498],\n",
              "       [ 1.65426173],\n",
              "       [-2.93875944],\n",
              "       [ 1.3176681 ],\n",
              "       [-1.30501623],\n",
              "       [-1.28599933],\n",
              "       [-1.04351704],\n",
              "       [-1.29286266],\n",
              "       [ 1.3983015 ],\n",
              "       [-0.61376488],\n",
              "       [-0.04322651],\n",
              "       [ 1.86713147],\n",
              "       [ 0.12667388],\n",
              "       [-0.42526827],\n",
              "       [-1.42477203],\n",
              "       [-1.63348802],\n",
              "       [-0.96697796],\n",
              "       [-0.97872716],\n",
              "       [-0.71472611],\n",
              "       [ 1.87337251],\n",
              "       [ 0.71098493],\n",
              "       [-1.30594287],\n",
              "       [-2.42439448],\n",
              "       [-0.02367259],\n",
              "       [-0.15644551],\n",
              "       [ 1.30613953],\n",
              "       [-3.41405246],\n",
              "       [-1.57442636],\n",
              "       [-0.96084658],\n",
              "       [-2.30250912],\n",
              "       [-0.9303196 ],\n",
              "       [ 0.48767217],\n",
              "       [-1.23390101],\n",
              "       [-0.9434399 ],\n",
              "       [-2.67333379],\n",
              "       [-1.71885403],\n",
              "       [-1.31052999],\n",
              "       [ 0.1651487 ],\n",
              "       [-1.52484955],\n",
              "       [ 0.65120793],\n",
              "       [ 1.66167923],\n",
              "       [ 1.28137826],\n",
              "       [ 0.56657326],\n",
              "       [-0.87302219],\n",
              "       [-2.42171127],\n",
              "       [-1.05416952],\n",
              "       [ 0.95858464],\n",
              "       [ 1.25165012],\n",
              "       [ 1.85556412],\n",
              "       [ 1.5570952 ],\n",
              "       [ 1.30041712],\n",
              "       [-0.91367757],\n",
              "       [-0.81492644],\n",
              "       [-0.85458961],\n",
              "       [-1.48952001],\n",
              "       [-2.37524388],\n",
              "       [-1.50038603],\n",
              "       [ 2.44483595],\n",
              "       [-1.20312923],\n",
              "       [-1.08524172],\n",
              "       [-1.33407261],\n",
              "       [-0.7573623 ],\n",
              "       [-1.4166922 ],\n",
              "       [ 2.23120635],\n",
              "       [ 0.73115764],\n",
              "       [-0.84762309],\n",
              "       [ 1.54218584],\n",
              "       [-0.98547065],\n",
              "       [ 1.86137596],\n",
              "       [ 1.14317372],\n",
              "       [-1.43919738],\n",
              "       [-1.45331485],\n",
              "       [-1.99282263],\n",
              "       [-0.20427491],\n",
              "       [ 1.70211104],\n",
              "       [-1.05246642],\n",
              "       [-0.47205912],\n",
              "       [-1.75670659],\n",
              "       [-1.58128745],\n",
              "       [-2.05994677],\n",
              "       [-1.22032442],\n",
              "       [-1.92453514],\n",
              "       [ 1.32446452],\n",
              "       [ 1.26569907],\n",
              "       [ 0.69086695],\n",
              "       [-1.12114124],\n",
              "       [-1.86679774],\n",
              "       [-1.27290952],\n",
              "       [ 1.35716728],\n",
              "       [-1.31042056],\n",
              "       [ 1.62385683],\n",
              "       [ 0.93631205],\n",
              "       [-1.73165747],\n",
              "       [ 0.48765751],\n",
              "       [-0.88511655],\n",
              "       [ 1.62097012],\n",
              "       [ 0.60933153],\n",
              "       [ 1.40838981],\n",
              "       [-0.6241705 ],\n",
              "       [-1.05454657],\n",
              "       [-1.38434072],\n",
              "       [-1.47224495],\n",
              "       [-2.49687918],\n",
              "       [-2.48419036],\n",
              "       [ 0.44778238],\n",
              "       [-1.19164147],\n",
              "       [ 1.06848936],\n",
              "       [-1.08627342],\n",
              "       [-2.08200743],\n",
              "       [-1.73528777],\n",
              "       [-1.82633959],\n",
              "       [-2.35721403],\n",
              "       [-0.93253202],\n",
              "       [-0.14330776],\n",
              "       [-1.550762  ],\n",
              "       [-0.3753301 ],\n",
              "       [-1.92633663],\n",
              "       [ 0.13349137],\n",
              "       [ 1.04405064],\n",
              "       [-0.59160027],\n",
              "       [-0.49155109],\n",
              "       [-2.56681625],\n",
              "       [ 1.42069008],\n",
              "       [-3.16014054],\n",
              "       [-0.00455886],\n",
              "       [-1.57713237],\n",
              "       [-1.30484654],\n",
              "       [-1.60395028],\n",
              "       [ 0.29328685],\n",
              "       [ 0.31205856],\n",
              "       [-2.35955308],\n",
              "       [-2.02670304],\n",
              "       [-0.45131542],\n",
              "       [ 0.11734055],\n",
              "       [-1.6455011 ],\n",
              "       [ 0.98223348],\n",
              "       [-1.46223644],\n",
              "       [-2.23048631],\n",
              "       [-0.98729539],\n",
              "       [-1.83301464],\n",
              "       [-1.98424435],\n",
              "       [-0.94861876],\n",
              "       [-1.86629516],\n",
              "       [ 0.31541967],\n",
              "       [ 1.60871922],\n",
              "       [-0.80471512],\n",
              "       [ 1.72846954],\n",
              "       [ 1.62149828],\n",
              "       [-1.1304052 ],\n",
              "       [ 1.24436421],\n",
              "       [ 1.65274078],\n",
              "       [-1.86413969],\n",
              "       [ 1.38226014],\n",
              "       [-1.67398489],\n",
              "       [ 0.31003073],\n",
              "       [ 2.78593696],\n",
              "       [ 0.99935619],\n",
              "       [ 1.33828415],\n",
              "       [ 0.52894479],\n",
              "       [ 0.68866632],\n",
              "       [ 0.22487709],\n",
              "       [-0.95817247],\n",
              "       [ 1.62987478],\n",
              "       [-2.22487019],\n",
              "       [-1.75802244],\n",
              "       [-2.07990393],\n",
              "       [-2.1594062 ],\n",
              "       [-1.95224582],\n",
              "       [-0.66930706],\n",
              "       [-1.8128839 ],\n",
              "       [ 0.98546405],\n",
              "       [ 0.16168507],\n",
              "       [ 0.14853301],\n",
              "       [-1.31301352],\n",
              "       [ 1.3770381 ],\n",
              "       [-1.51803096],\n",
              "       [ 1.4563745 ],\n",
              "       [-1.11876647],\n",
              "       [-0.92490573],\n",
              "       [-2.46651771],\n",
              "       [ 1.45639102],\n",
              "       [-1.5122684 ],\n",
              "       [-2.21473145],\n",
              "       [-1.17162839],\n",
              "       [-0.44931342],\n",
              "       [ 1.26722129],\n",
              "       [ 0.59107024],\n",
              "       [-2.08610147],\n",
              "       [-1.43078248],\n",
              "       [ 0.61858106],\n",
              "       [-1.48987542],\n",
              "       [-1.99465406],\n",
              "       [-0.95323414],\n",
              "       [-2.31154558],\n",
              "       [-0.85639019],\n",
              "       [-1.23027055],\n",
              "       [-1.70856544],\n",
              "       [-1.79504883],\n",
              "       [-1.66405711],\n",
              "       [-1.77445463],\n",
              "       [-0.96810702],\n",
              "       [ 1.35624968],\n",
              "       [-1.26699755],\n",
              "       [ 1.13404434],\n",
              "       [ 1.68887454],\n",
              "       [ 0.89192537],\n",
              "       [ 1.19006114],\n",
              "       [ 0.06388196],\n",
              "       [ 0.95760723],\n",
              "       [-1.21884641],\n",
              "       [ 0.28940391],\n",
              "       [ 2.24447341],\n",
              "       [ 1.29036475],\n",
              "       [ 0.13814178],\n",
              "       [ 0.75544498],\n",
              "       [ 1.03554626],\n",
              "       [ 0.00765534],\n",
              "       [ 1.62368595],\n",
              "       [-0.5946977 ],\n",
              "       [ 0.18926704],\n",
              "       [-0.24907235],\n",
              "       [-0.40058775],\n",
              "       [ 2.15288514],\n",
              "       [ 0.05416492],\n",
              "       [ 0.1036372 ],\n",
              "       [ 1.09454096],\n",
              "       [ 1.86710518],\n",
              "       [ 0.38359443],\n",
              "       [ 0.33808944],\n",
              "       [ 1.00068387],\n",
              "       [-0.79683041],\n",
              "       [ 3.1508434 ],\n",
              "       [ 0.32359031],\n",
              "       [ 2.2450472 ],\n",
              "       [-1.65653801],\n",
              "       [ 0.96279735],\n",
              "       [ 2.11431285],\n",
              "       [ 2.86135322],\n",
              "       [-0.42807523],\n",
              "       [ 0.1395382 ],\n",
              "       [-2.23427119],\n",
              "       [-0.35057846],\n",
              "       [-0.50406329],\n",
              "       [-0.26098473],\n",
              "       [ 0.15728719],\n",
              "       [ 0.50679805],\n",
              "       [ 0.28929007],\n",
              "       [ 1.26798669],\n",
              "       [ 2.10919353],\n",
              "       [ 3.06350319],\n",
              "       [ 1.36605469],\n",
              "       [ 1.00314274],\n",
              "       [ 1.10758215],\n",
              "       [ 0.41357299],\n",
              "       [ 0.41803771],\n",
              "       [ 0.88372537],\n",
              "       [ 1.58852733],\n",
              "       [ 1.67572817],\n",
              "       [ 1.00061797],\n",
              "       [-0.11400685],\n",
              "       [ 1.99928015],\n",
              "       [ 1.40104225],\n",
              "       [-0.39382639],\n",
              "       [-0.65089248],\n",
              "       [ 1.2804095 ],\n",
              "       [ 0.14371283],\n",
              "       [ 0.07314985],\n",
              "       [-0.40659027],\n",
              "       [ 0.79831036],\n",
              "       [ 0.99424132],\n",
              "       [-0.2182558 ],\n",
              "       [ 0.1024341 ],\n",
              "       [-0.21792997],\n",
              "       [ 0.47020931],\n",
              "       [ 1.52241832],\n",
              "       [ 0.18877912],\n",
              "       [ 1.44844604],\n",
              "       [ 1.78583376],\n",
              "       [ 0.67614963],\n",
              "       [ 1.64114833],\n",
              "       [ 0.40163824],\n",
              "       [ 1.32530632],\n",
              "       [ 2.2162147 ],\n",
              "       [-1.9881817 ],\n",
              "       [ 0.46197067],\n",
              "       [ 1.33181571],\n",
              "       [ 1.96051671],\n",
              "       [-0.28514746],\n",
              "       [ 1.37649259],\n",
              "       [ 1.08787029],\n",
              "       [ 1.08736303],\n",
              "       [-0.90238368],\n",
              "       [ 0.05501476],\n",
              "       [ 1.26574074],\n",
              "       [ 1.12531647],\n",
              "       [ 1.13115354],\n",
              "       [ 0.65613811],\n",
              "       [ 1.07719685],\n",
              "       [ 0.79914271],\n",
              "       [ 1.38507027],\n",
              "       [ 0.47611231],\n",
              "       [ 1.72991047],\n",
              "       [ 2.32533712],\n",
              "       [ 0.63891572],\n",
              "       [-0.97855747],\n",
              "       [ 1.91371281],\n",
              "       [ 0.93813356],\n",
              "       [ 0.79181952],\n",
              "       [ 0.3146305 ],\n",
              "       [ 0.62785746],\n",
              "       [ 1.65929899],\n",
              "       [ 2.01090329],\n",
              "       [ 0.89555129],\n",
              "       [ 1.67397512],\n",
              "       [ 1.93416166],\n",
              "       [ 2.0845939 ],\n",
              "       [ 1.25079031],\n",
              "       [ 1.02445415],\n",
              "       [ 1.77828134],\n",
              "       [ 1.10971477],\n",
              "       [ 2.05845141],\n",
              "       [ 0.1083399 ],\n",
              "       [ 2.34145158],\n",
              "       [ 0.61917586],\n",
              "       [ 1.74217189],\n",
              "       [-0.87237704],\n",
              "       [ 2.13328918],\n",
              "       [ 0.25687311],\n",
              "       [ 1.44730953],\n",
              "       [-1.39893279],\n",
              "       [ 1.94266616],\n",
              "       [ 0.50405737],\n",
              "       [ 0.23699838],\n",
              "       [ 0.54644327],\n",
              "       [-1.30822157],\n",
              "       [ 1.28872242],\n",
              "       [ 1.19656229],\n",
              "       [ 0.59946667],\n",
              "       [ 1.69015361],\n",
              "       [-0.37168032],\n",
              "       [ 2.78615351],\n",
              "       [ 1.25380876],\n",
              "       [ 1.64138711],\n",
              "       [ 0.14859618],\n",
              "       [-0.47234942],\n",
              "       [ 1.54049408],\n",
              "       [ 0.43741118],\n",
              "       [-1.11936529],\n",
              "       [-1.38127202],\n",
              "       [ 1.24351547],\n",
              "       [ 1.84915996],\n",
              "       [ 1.60276065],\n",
              "       [ 1.09570752],\n",
              "       [ 0.52013034],\n",
              "       [ 1.29907866],\n",
              "       [ 0.57387893],\n",
              "       [ 2.12852626],\n",
              "       [ 1.68924668],\n",
              "       [ 1.301961  ],\n",
              "       [ 1.43634145],\n",
              "       [ 0.36982331],\n",
              "       [ 1.90183175],\n",
              "       [ 0.30243865],\n",
              "       [ 0.67736167],\n",
              "       [ 0.52774593],\n",
              "       [ 1.59852847],\n",
              "       [-0.74943586],\n",
              "       [ 2.14965361],\n",
              "       [ 1.43343158],\n",
              "       [ 2.3086103 ],\n",
              "       [-0.56642915],\n",
              "       [ 1.62520535],\n",
              "       [-1.81943187],\n",
              "       [ 0.67756253],\n",
              "       [-1.7695649 ],\n",
              "       [ 0.46772558],\n",
              "       [ 0.65473094],\n",
              "       [ 0.43884558],\n",
              "       [ 1.64801971],\n",
              "       [ 1.83418625],\n",
              "       [ 1.42731733],\n",
              "       [-0.99588277],\n",
              "       [ 1.86846878],\n",
              "       [-0.13256577],\n",
              "       [ 3.20503685],\n",
              "       [ 1.9742736 ],\n",
              "       [ 0.81704689],\n",
              "       [ 1.82467517],\n",
              "       [ 1.83727559],\n",
              "       [-0.50312585],\n",
              "       [ 2.46390553],\n",
              "       [ 1.42266861],\n",
              "       [ 1.53480843],\n",
              "       [-0.82601248],\n",
              "       [ 1.18348035],\n",
              "       [-1.6979588 ],\n",
              "       [ 1.39356202],\n",
              "       [ 0.73581795],\n",
              "       [ 1.27254184],\n",
              "       [-0.52560067],\n",
              "       [ 0.68131048],\n",
              "       [ 1.60038916],\n",
              "       [ 0.4502456 ],\n",
              "       [ 2.96219487],\n",
              "       [ 2.42379023],\n",
              "       [ 2.01343704],\n",
              "       [ 1.3194868 ],\n",
              "       [ 2.69980309],\n",
              "       [ 1.45316611],\n",
              "       [ 1.32014624],\n",
              "       [-0.14646919],\n",
              "       [ 3.36134718],\n",
              "       [ 1.10124266],\n",
              "       [ 1.8229923 ],\n",
              "       [-0.52844355],\n",
              "       [ 2.14218391],\n",
              "       [ 0.3612475 ],\n",
              "       [-0.64709104],\n",
              "       [ 2.47039177],\n",
              "       [-2.01519925],\n",
              "       [-0.02613638],\n",
              "       [-0.66480555],\n",
              "       [ 0.54396616],\n",
              "       [ 0.25725793],\n",
              "       [ 1.43380959],\n",
              "       [ 2.10369212],\n",
              "       [ 0.35806895],\n",
              "       [ 0.40184572],\n",
              "       [ 2.70910426],\n",
              "       [ 0.42373062],\n",
              "       [ 1.16096418],\n",
              "       [-1.00260561],\n",
              "       [-1.65832757],\n",
              "       [ 1.66679303],\n",
              "       [-0.93872855],\n",
              "       [ 0.30491454],\n",
              "       [ 1.52303744],\n",
              "       [ 1.10937883],\n",
              "       [ 2.27385138],\n",
              "       [ 1.0361609 ],\n",
              "       [ 1.29685312],\n",
              "       [ 2.36355103],\n",
              "       [ 1.26228272],\n",
              "       [ 1.2585278 ],\n",
              "       [ 3.55004738],\n",
              "       [ 2.08191829],\n",
              "       [-0.52493097],\n",
              "       [ 0.49662546],\n",
              "       [ 1.18452289],\n",
              "       [ 0.71022701],\n",
              "       [ 2.58338502],\n",
              "       [-0.23960695],\n",
              "       [-0.7904523 ],\n",
              "       [-0.17903891],\n",
              "       [ 1.28351519],\n",
              "       [-0.4128116 ],\n",
              "       [-1.149053  ],\n",
              "       [ 1.14941993],\n",
              "       [-1.0670796 ],\n",
              "       [ 0.85966694],\n",
              "       [ 1.12330776],\n",
              "       [-1.0876075 ],\n",
              "       [ 0.31763678],\n",
              "       [ 3.47228584],\n",
              "       [ 1.22916584],\n",
              "       [ 0.52129229],\n",
              "       [ 3.02724212],\n",
              "       [-1.57554087],\n",
              "       [-1.28483531],\n",
              "       [ 1.24657264],\n",
              "       [ 1.8054684 ],\n",
              "       [ 1.83109196],\n",
              "       [ 1.52345993],\n",
              "       [ 1.03899448],\n",
              "       [ 1.19373062],\n",
              "       [ 2.31252409],\n",
              "       [ 1.573519  ],\n",
              "       [ 2.3515015 ],\n",
              "       [ 2.02619492],\n",
              "       [ 1.03641919],\n",
              "       [ 1.24768979],\n",
              "       [ 2.13795128],\n",
              "       [ 1.98655531],\n",
              "       [ 1.52449686],\n",
              "       [ 1.81134466],\n",
              "       [ 2.54433382],\n",
              "       [ 2.33630302],\n",
              "       [ 1.68391717],\n",
              "       [-0.07200154],\n",
              "       [ 2.13432193],\n",
              "       [-1.1545702 ],\n",
              "       [ 2.11176255],\n",
              "       [ 0.91496576],\n",
              "       [ 1.37248845],\n",
              "       [-0.74280147],\n",
              "       [ 1.46045437],\n",
              "       [ 0.6691308 ],\n",
              "       [-1.14051808],\n",
              "       [-0.63441664],\n",
              "       [ 3.06533191],\n",
              "       [ 1.08730252],\n",
              "       [ 1.10541382],\n",
              "       [ 1.65649281],\n",
              "       [ 0.5773584 ],\n",
              "       [-1.58687157],\n",
              "       [ 2.27506925],\n",
              "       [ 1.41163617],\n",
              "       [ 1.36284382],\n",
              "       [ 0.65390639],\n",
              "       [ 0.68315574],\n",
              "       [ 2.68952107],\n",
              "       [-0.08466893],\n",
              "       [-0.37791689],\n",
              "       [ 2.45806342],\n",
              "       [ 2.00516362],\n",
              "       [ 0.87874892],\n",
              "       [ 0.32846032],\n",
              "       [ 0.0806349 ],\n",
              "       [-1.97350112],\n",
              "       [ 1.11831654],\n",
              "       [ 0.27762136],\n",
              "       [ 1.0008783 ],\n",
              "       [ 1.15460179],\n",
              "       [-0.58136427],\n",
              "       [-1.07755132],\n",
              "       [ 1.33231469],\n",
              "       [-0.81107814],\n",
              "       [-0.7401585 ],\n",
              "       [ 0.98281019],\n",
              "       [ 1.13530236],\n",
              "       [ 0.3332688 ],\n",
              "       [ 0.38963788],\n",
              "       [ 0.14447789],\n",
              "       [ 0.14868847],\n",
              "       [-1.93179234],\n",
              "       [-0.46641398],\n",
              "       [-1.58313548],\n",
              "       [-0.21202799],\n",
              "       [ 1.41422951],\n",
              "       [ 2.94792208],\n",
              "       [ 0.10426638],\n",
              "       [-1.45386495],\n",
              "       [ 1.55620898],\n",
              "       [-0.49926973],\n",
              "       [ 0.04294646],\n",
              "       [-0.95509893],\n",
              "       [-0.61265937],\n",
              "       [-2.29479146],\n",
              "       [-0.02276089],\n",
              "       [-2.29095735],\n",
              "       [-0.30181952],\n",
              "       [-1.37302395],\n",
              "       [-0.54424005],\n",
              "       [-0.22442409],\n",
              "       [-2.78737633],\n",
              "       [ 2.72970162],\n",
              "       [ 1.10140375],\n",
              "       [ 0.5063465 ],\n",
              "       [ 0.31329962],\n",
              "       [-1.64460263],\n",
              "       [-1.84136999],\n",
              "       [-1.23423329],\n",
              "       [-1.26033075],\n",
              "       [-1.74880707],\n",
              "       [-1.18229415],\n",
              "       [-0.80436748],\n",
              "       [ 0.54957092],\n",
              "       [-1.03874187],\n",
              "       [-1.48200374],\n",
              "       [-1.25601938],\n",
              "       [ 0.83504232],\n",
              "       [-0.09380739],\n",
              "       [ 1.33814187],\n",
              "       [-0.92223168],\n",
              "       [-1.22344097],\n",
              "       [-2.24293909],\n",
              "       [-1.22033797],\n",
              "       [-2.40410771],\n",
              "       [ 1.62703599],\n",
              "       [-1.36411001],\n",
              "       [ 0.19869353],\n",
              "       [ 0.49758419],\n",
              "       [-1.22687176],\n",
              "       [ 0.37716501],\n",
              "       [-1.91053206],\n",
              "       [-2.71563484],\n",
              "       [ 1.15922115],\n",
              "       [ 1.3547069 ],\n",
              "       [-0.40793628],\n",
              "       [-1.17838292],\n",
              "       [-1.48084206],\n",
              "       [-1.73521054],\n",
              "       [ 1.6104645 ],\n",
              "       [-0.75077928],\n",
              "       [-0.98173637],\n",
              "       [-0.84653896],\n",
              "       [-1.48220199],\n",
              "       [ 0.90186502],\n",
              "       [ 1.21347664],\n",
              "       [-2.89617668],\n",
              "       [-1.79211311],\n",
              "       [-1.3356734 ],\n",
              "       [ 0.82737115],\n",
              "       [ 0.99032875],\n",
              "       [ 0.41699303],\n",
              "       [-0.57963328],\n",
              "       [ 1.20734519],\n",
              "       [-2.1451677 ],\n",
              "       [-0.44821933],\n",
              "       [ 0.91373591],\n",
              "       [-2.16669077],\n",
              "       [ 0.74666642],\n",
              "       [-0.62344748],\n",
              "       [-1.57811889],\n",
              "       [ 1.58325016],\n",
              "       [ 1.09193541],\n",
              "       [-0.9177444 ],\n",
              "       [ 1.23211784],\n",
              "       [ 0.39008135],\n",
              "       [-0.91891988],\n",
              "       [-2.02170125],\n",
              "       [-1.98593211],\n",
              "       [-1.8065775 ],\n",
              "       [ 1.00468248],\n",
              "       [-1.76994383],\n",
              "       [ 1.33513105],\n",
              "       [ 0.50390027],\n",
              "       [ 0.07741209],\n",
              "       [ 0.23567449],\n",
              "       [-0.14672819],\n",
              "       [-0.30345337],\n",
              "       [-1.20104262],\n",
              "       [ 1.06751756],\n",
              "       [-1.43626325],\n",
              "       [-1.53075756],\n",
              "       [-1.78509281],\n",
              "       [-1.38963185],\n",
              "       [-1.14790879],\n",
              "       [-0.74113988],\n",
              "       [ 2.73196784],\n",
              "       [ 0.02847217],\n",
              "       [ 3.23874677],\n",
              "       [-0.35512335],\n",
              "       [ 1.73326062],\n",
              "       [ 1.62156389],\n",
              "       [-1.92244877],\n",
              "       [ 0.47627315],\n",
              "       [-2.54370655],\n",
              "       [ 1.6381938 ],\n",
              "       [-1.62199313],\n",
              "       [-1.25533589],\n",
              "       [ 0.70400916],\n",
              "       [ 0.30036755],\n",
              "       [ 0.06642152],\n",
              "       [-1.22727483],\n",
              "       [ 2.7251934 ],\n",
              "       [-1.42968888],\n",
              "       [ 0.29095888],\n",
              "       [-2.37851954],\n",
              "       [ 1.80432131],\n",
              "       [-2.50233817],\n",
              "       [-0.33157325],\n",
              "       [ 0.68803407],\n",
              "       [-0.99987545],\n",
              "       [-0.68445897],\n",
              "       [-0.89991351],\n",
              "       [-1.44024675],\n",
              "       [ 1.64639125],\n",
              "       [-1.01726181],\n",
              "       [ 1.19969785],\n",
              "       [-1.20803571],\n",
              "       [-1.94945798],\n",
              "       [-1.98932565],\n",
              "       [-1.30043812],\n",
              "       [-2.50571079],\n",
              "       [ 0.08285144],\n",
              "       [-2.29573024],\n",
              "       [-2.37823233],\n",
              "       [ 3.06899875],\n",
              "       [-1.3666765 ],\n",
              "       [-0.82671364],\n",
              "       [ 0.9184909 ],\n",
              "       [-0.07535019],\n",
              "       [ 0.34956372],\n",
              "       [-1.25083598],\n",
              "       [ 1.59014858],\n",
              "       [-1.14398153],\n",
              "       [-0.69213888],\n",
              "       [-1.75014385],\n",
              "       [ 1.15355634],\n",
              "       [-0.00838713],\n",
              "       [-0.07966998],\n",
              "       [ 0.01898824],\n",
              "       [-0.06252445],\n",
              "       [ 1.37689494],\n",
              "       [-0.79296142],\n",
              "       [-2.46599596],\n",
              "       [ 0.84688598],\n",
              "       [ 1.84698599],\n",
              "       [-0.06086432],\n",
              "       [ 0.85175381],\n",
              "       [-1.84295857],\n",
              "       [ 0.67693841],\n",
              "       [ 0.68280366],\n",
              "       [-1.17493682],\n",
              "       [-0.44108234],\n",
              "       [-1.10573122],\n",
              "       [-1.37690055],\n",
              "       [ 1.4949269 ],\n",
              "       [-0.21794342],\n",
              "       [-0.16817031],\n",
              "       [ 1.10783138],\n",
              "       [-0.73916671],\n",
              "       [ 2.51253683],\n",
              "       [-1.21973905],\n",
              "       [-0.30785644],\n",
              "       [-1.18902982],\n",
              "       [-0.84228414],\n",
              "       [-0.24744491],\n",
              "       [-1.28227147],\n",
              "       [-2.32760056],\n",
              "       [ 0.08039122],\n",
              "       [-1.28448873],\n",
              "       [-0.89210846],\n",
              "       [ 1.48223796],\n",
              "       [ 0.0093788 ],\n",
              "       [ 1.14352094],\n",
              "       [-0.25498238],\n",
              "       [-2.34577635],\n",
              "       [ 0.17222734],\n",
              "       [ 0.72919003],\n",
              "       [ 0.50719338],\n",
              "       [-0.86066056],\n",
              "       [ 0.32484783],\n",
              "       [-1.67557319],\n",
              "       [ 1.37303714],\n",
              "       [-1.93565301],\n",
              "       [-2.12308764],\n",
              "       [-2.45040633],\n",
              "       [-1.04170395],\n",
              "       [-0.51259589],\n",
              "       [-1.55343755],\n",
              "       [ 1.46771077],\n",
              "       [ 0.93254394],\n",
              "       [-1.60109671],\n",
              "       [ 1.2260175 ],\n",
              "       [-1.93545863],\n",
              "       [-0.31102129],\n",
              "       [-0.69282769],\n",
              "       [ 1.4302537 ],\n",
              "       [-1.87132154],\n",
              "       [-1.43289725],\n",
              "       [ 0.45432364],\n",
              "       [ 0.19715333],\n",
              "       [-1.20275518],\n",
              "       [-0.25232469],\n",
              "       [-0.24029426],\n",
              "       [ 1.44171531],\n",
              "       [-1.72746895],\n",
              "       [ 1.29698041],\n",
              "       [-1.68122955],\n",
              "       [-1.28974531],\n",
              "       [ 1.29932564],\n",
              "       [-1.85789146],\n",
              "       [-0.5042792 ],\n",
              "       [ 1.00896199],\n",
              "       [-1.96973984],\n",
              "       [ 0.2032225 ],\n",
              "       [-0.7186107 ],\n",
              "       [-2.0771769 ],\n",
              "       [-0.15417225],\n",
              "       [ 1.53689274],\n",
              "       [ 0.54133242],\n",
              "       [-1.65793142],\n",
              "       [-0.91581493],\n",
              "       [-1.46933905],\n",
              "       [-0.6983248 ],\n",
              "       [-1.76702569],\n",
              "       [ 1.11679298],\n",
              "       [ 1.35780969],\n",
              "       [-1.43421774],\n",
              "       [-0.85346494],\n",
              "       [-2.40254279],\n",
              "       [ 1.40583604],\n",
              "       [ 0.0851993 ],\n",
              "       [-1.32252353],\n",
              "       [ 0.63986776],\n",
              "       [-0.99202986],\n",
              "       [-1.50834481],\n",
              "       [-0.71086621],\n",
              "       [ 0.14914618],\n",
              "       [ 1.66797091],\n",
              "       [-2.16283999],\n",
              "       [-1.8170826 ],\n",
              "       [ 1.49998533],\n",
              "       [ 1.54121585],\n",
              "       [-1.96426485],\n",
              "       [-0.80859047],\n",
              "       [-1.22857051],\n",
              "       [-1.61597014],\n",
              "       [-1.29471864],\n",
              "       [-0.4607469 ],\n",
              "       [ 1.55100431],\n",
              "       [-1.90540791],\n",
              "       [ 0.4613423 ],\n",
              "       [-1.71335028],\n",
              "       [-0.93873984],\n",
              "       [ 2.04804177],\n",
              "       [ 1.32024901],\n",
              "       [-0.15770864],\n",
              "       [-1.34298905],\n",
              "       [ 0.5625252 ],\n",
              "       [-0.37654647],\n",
              "       [-1.78093261],\n",
              "       [ 2.11113324],\n",
              "       [ 0.62197504],\n",
              "       [ 0.14855117],\n",
              "       [-1.77738959],\n",
              "       [ 1.44035262],\n",
              "       [ 0.31842344],\n",
              "       [-0.74387089],\n",
              "       [ 1.52212946],\n",
              "       [ 1.1536229 ],\n",
              "       [-1.19989839],\n",
              "       [-2.0591881 ]])"
            ]
          },
          "metadata": {},
          "execution_count": 97
        }
      ],
      "source": [
        "previsores_lda"
      ]
    },
    {
      "cell_type": "code",
      "execution_count": null,
      "metadata": {
        "colab": {
          "base_uri": "https://localhost:8080/"
        },
        "id": "g5l0JnpGBfn7",
        "outputId": "10f98256-f52f-4fad-8e73-7c0924d37849"
      },
      "outputs": [
        {
          "output_type": "execute_result",
          "data": {
            "text/plain": [
              "array([1.])"
            ]
          },
          "metadata": {},
          "execution_count": 98
        }
      ],
      "source": [
        "lda.explained_variance_ratio_"
      ]
    },
    {
      "cell_type": "markdown",
      "metadata": {
        "id": "Caf7XRsO4BYE"
      },
      "source": [
        "## **Salvando as variáveis (atributos)**"
      ]
    },
    {
      "cell_type": "code",
      "execution_count": null,
      "metadata": {
        "id": "Vn6R_DKHhG0u"
      },
      "outputs": [],
      "source": [
        "import pickle"
      ]
    },
    {
      "cell_type": "code",
      "execution_count": null,
      "metadata": {
        "id": "DuPE27wl-vBw"
      },
      "outputs": [],
      "source": [
        "# Criando arquivo\n",
        "arq1 = open('heart.pkl', 'wb')"
      ]
    },
    {
      "cell_type": "code",
      "execution_count": null,
      "metadata": {
        "id": "jTvKGTxnHien"
      },
      "outputs": [],
      "source": [
        "# Salvando a variável no arquivo\n",
        "pickle.dump(alvo, arq1)"
      ]
    },
    {
      "cell_type": "code",
      "execution_count": null,
      "metadata": {
        "id": "sle5bDZZIJjt"
      },
      "outputs": [],
      "source": [
        "# Fechando arquivo\n",
        "arq1.close()"
      ]
    },
    {
      "cell_type": "code",
      "execution_count": null,
      "metadata": {
        "id": "5-HNb-3IISWs"
      },
      "outputs": [],
      "source": [
        "# Lendo arquivo\n",
        "arq1 = open('heart.pkl', 'rb')"
      ]
    },
    {
      "cell_type": "code",
      "execution_count": null,
      "metadata": {
        "id": "poLMbNNvIjlz"
      },
      "outputs": [],
      "source": [
        "# Chamando a variável\n",
        "alvo = pickle.load(arq1)"
      ]
    },
    {
      "cell_type": "code",
      "execution_count": null,
      "metadata": {
        "colab": {
          "base_uri": "https://localhost:8080/"
        },
        "id": "MZHEQpHeKzK_",
        "outputId": "80c23b0c-04ad-4e1f-b969-9d7860e5e8e2"
      },
      "outputs": [
        {
          "output_type": "execute_result",
          "data": {
            "text/plain": [
              "array([0, 1, 0, 1, 0, 0, 0, 0, 1, 0, 0, 1, 0, 1, 0, 0, 1, 0, 1, 1, 0, 0,\n",
              "       0, 1, 0, 0, 0, 0, 0, 0, 1, 0, 1, 1, 0, 0, 1, 0, 0, 0, 0, 1, 0, 0,\n",
              "       1, 0, 0, 0, 0, 1, 1, 1, 0, 0, 0, 0, 1, 1, 0, 1, 0, 0, 0, 1, 0, 0,\n",
              "       0, 0, 1, 0, 1, 0, 1, 0, 1, 0, 1, 0, 0, 1, 0, 0, 1, 0, 1, 1, 1, 0,\n",
              "       1, 0, 0, 0, 0, 1, 0, 1, 0, 0, 0, 0, 1, 0, 1, 1, 1, 0, 0, 0, 0, 0,\n",
              "       0, 1, 0, 0, 0, 1, 1, 1, 0, 1, 1, 0, 0, 1, 0, 0, 0, 0, 0, 0, 0, 1,\n",
              "       1, 1, 0, 1, 0, 0, 1, 1, 1, 1, 1, 0, 1, 0, 0, 0, 0, 1, 0, 0, 0, 0,\n",
              "       0, 1, 1, 0, 1, 0, 1, 1, 0, 0, 0, 1, 1, 0, 0, 0, 0, 0, 0, 0, 1, 1,\n",
              "       1, 0, 0, 0, 1, 0, 1, 0, 0, 1, 0, 1, 0, 1, 0, 0, 0, 0, 0, 0, 0, 0,\n",
              "       1, 0, 0, 0, 0, 0, 0, 0, 0, 1, 0, 1, 1, 1, 0, 0, 1, 0, 1, 0, 0, 0,\n",
              "       1, 1, 0, 0, 0, 1, 0, 1, 0, 0, 0, 0, 0, 0, 0, 0, 1, 1, 1, 1, 0, 1,\n",
              "       1, 0, 1, 0, 1, 1, 1, 1, 1, 1, 0, 0, 1, 0, 0, 0, 0, 0, 0, 0, 1, 1,\n",
              "       1, 0, 1, 0, 1, 0, 0, 0, 1, 0, 0, 0, 1, 1, 0, 0, 0, 1, 0, 0, 0, 0,\n",
              "       0, 0, 0, 0, 0, 0, 0, 1, 1, 1, 1, 1, 1, 1, 1, 0, 1, 1, 1, 1, 1, 0,\n",
              "       1, 1, 0, 1, 1, 1, 0, 1, 1, 1, 1, 1, 1, 1, 1, 1, 1, 1, 0, 1, 1, 1,\n",
              "       1, 1, 0, 1, 1, 1, 0, 1, 1, 1, 1, 1, 1, 1, 1, 1, 1, 1, 1, 1, 1, 1,\n",
              "       1, 1, 1, 1, 1, 1, 1, 1, 1, 1, 1, 1, 0, 1, 1, 1, 1, 1, 1, 1, 1, 1,\n",
              "       1, 1, 1, 1, 1, 1, 1, 1, 1, 1, 1, 1, 1, 1, 1, 1, 1, 1, 1, 1, 1, 1,\n",
              "       1, 1, 1, 1, 1, 1, 1, 1, 1, 1, 1, 1, 1, 1, 1, 1, 1, 1, 1, 1, 1, 0,\n",
              "       1, 1, 0, 0, 1, 0, 1, 1, 0, 1, 1, 1, 1, 0, 1, 1, 0, 0, 1, 1, 1, 0,\n",
              "       1, 1, 1, 1, 1, 1, 1, 1, 1, 1, 1, 1, 0, 1, 0, 1, 1, 1, 0, 1, 1, 1,\n",
              "       0, 1, 0, 1, 0, 1, 0, 1, 1, 1, 1, 0, 1, 0, 1, 1, 1, 1, 1, 1, 1, 1,\n",
              "       1, 0, 1, 0, 1, 1, 1, 1, 1, 1, 1, 0, 1, 1, 1, 1, 1, 1, 0, 1, 1, 1,\n",
              "       0, 1, 1, 0, 1, 0, 1, 1, 0, 1, 1, 1, 1, 0, 1, 1, 1, 0, 0, 1, 0, 1,\n",
              "       1, 1, 1, 1, 1, 1, 1, 1, 1, 1, 0, 1, 1, 1, 1, 0, 0, 1, 1, 1, 0, 1,\n",
              "       0, 1, 1, 0, 1, 0, 1, 1, 1, 0, 0, 0, 1, 1, 1, 0, 1, 1, 1, 1, 1, 1,\n",
              "       1, 1, 1, 1, 1, 1, 1, 1, 1, 1, 0, 1, 1, 1, 0, 1, 1, 0, 0, 1, 1, 1,\n",
              "       1, 1, 0, 1, 1, 0, 1, 1, 1, 0, 0, 1, 1, 1, 1, 1, 0, 1, 0, 1, 1, 0,\n",
              "       1, 0, 0, 0, 1, 1, 1, 1, 0, 0, 0, 1, 0, 0, 1, 1, 0, 0, 1, 0, 0, 0,\n",
              "       0, 0, 0, 0, 1, 0, 1, 0, 0, 1, 1, 1, 1, 1, 0, 0, 1, 0, 0, 0, 1, 0,\n",
              "       1, 1, 1, 1, 1, 0, 0, 0, 0, 0, 1, 0, 1, 1, 0, 1, 0, 0, 0, 1, 0, 1,\n",
              "       0, 1, 1, 0, 0, 0, 0, 1, 0, 0, 0, 0, 1, 1, 1, 0, 0, 0, 0, 0, 0, 1,\n",
              "       0, 1, 1, 1, 1, 1, 0, 1, 0, 0, 0, 1, 0, 1, 1, 1, 0, 1, 1, 0, 1, 0,\n",
              "       1, 0, 0, 0, 1, 1, 0, 1, 1, 1, 1, 0, 0, 0, 1, 0, 0, 1, 1, 1, 0, 1,\n",
              "       0, 0, 0, 1, 0, 0, 1, 0, 1, 0, 1, 1, 1, 1, 1, 0, 0, 0, 0, 0, 0, 0,\n",
              "       1, 0, 0, 1, 1, 1, 0, 1, 0, 0, 0, 0, 0, 1, 0, 1, 1, 0, 0, 1, 1, 1,\n",
              "       1, 0, 0, 1, 1, 0, 0, 0, 1, 0, 0, 1, 0, 1, 0, 1, 0, 0, 0, 0, 0, 1,\n",
              "       0, 1, 1, 1, 1, 0, 0, 0, 1, 0, 1, 0, 0, 1, 0, 0, 0, 0, 0, 0, 1, 1,\n",
              "       0, 1, 0, 0, 1, 1, 0, 0, 1, 1, 0, 1, 0, 1, 0, 1, 0, 0, 1, 0, 0, 1,\n",
              "       0, 1, 1, 0, 1, 1, 1, 0, 1, 0, 0, 0, 0, 1, 1, 0, 0, 1, 1, 0, 1, 0,\n",
              "       0, 0, 0, 1, 0, 0, 1, 1, 1, 0, 0, 0, 1, 0, 1, 0, 1, 0, 1, 1, 1, 0,\n",
              "       0, 0, 1, 0, 1, 1, 1, 0, 1, 1, 1, 1, 1, 1, 0])"
            ]
          },
          "metadata": {},
          "execution_count": 105
        }
      ],
      "source": [
        "alvo"
      ]
    },
    {
      "cell_type": "code",
      "execution_count": null,
      "metadata": {
        "id": "hb4PNxyzQgC1"
      },
      "outputs": [],
      "source": [
        "# Criando arquivos e Salvando as variáveis\n",
        "arq2 = open('heart2.pkl', 'wb')\n",
        "pickle.dump(previsores, arq2)\n",
        "arq3 = open('heart3.pkl', 'wb')\n",
        "pickle.dump(previsores_esc, arq3)\n",
        "arq4 = open('heart4.pkl', 'wb')\n",
        "pickle.dump(previsores2, arq4)\n",
        "arq5 = open('heart5.pkl', 'wb')\n",
        "pickle.dump(previsores3, arq5)\n",
        "arq6 = open('heart6.pkl', 'wb')\n",
        "pickle.dump(previsores3_esc, arq6)"
      ]
    },
    {
      "cell_type": "code",
      "execution_count": null,
      "metadata": {
        "id": "i7noq9dAEwog"
      },
      "outputs": [],
      "source": [
        "arq2 = open('heart2.pkl', 'rb')"
      ]
    },
    {
      "cell_type": "code",
      "execution_count": null,
      "metadata": {
        "id": "sNSCfClWE0_G"
      },
      "outputs": [],
      "source": [
        "previsores = pickle.load(arq2)"
      ]
    },
    {
      "cell_type": "code",
      "execution_count": null,
      "metadata": {
        "colab": {
          "base_uri": "https://localhost:8080/"
        },
        "id": "3rE0rqRXRxR3",
        "outputId": "a771c6cb-3b55-48ba-966b-c78c6a44e0a8"
      },
      "outputs": [
        {
          "output_type": "execute_result",
          "data": {
            "text/plain": [
              "array([[40. ,  0. ,  1. , ...,  0. ,  0. ,  0. ],\n",
              "       [49. ,  1. ,  2. , ...,  0. ,  1. ,  1. ],\n",
              "       [37. ,  0. ,  1. , ...,  0. ,  0. ,  0. ],\n",
              "       ...,\n",
              "       [57. ,  0. ,  3. , ...,  1. ,  1.2,  1. ],\n",
              "       [57. ,  1. ,  1. , ...,  0. ,  0. ,  1. ],\n",
              "       [38. ,  0. ,  2. , ...,  0. ,  0. ,  0. ]])"
            ]
          },
          "metadata": {},
          "execution_count": 109
        }
      ],
      "source": [
        "previsores"
      ]
    },
    {
      "cell_type": "markdown",
      "metadata": {
        "id": "w-W634n0I_Db"
      },
      "source": [
        "## **BASE DE TREINO E TESTE**"
      ]
    },
    {
      "cell_type": "code",
      "execution_count": null,
      "metadata": {
        "id": "UmjBvEubFG72"
      },
      "outputs": [],
      "source": [
        "from sklearn.model_selection import train_test_split"
      ]
    },
    {
      "cell_type": "markdown",
      "metadata": {
        "id": "cB1szLDSyfzA"
      },
      "source": [
        "Parâmetros train_test_split:   \n",
        "- arrays: nomes dos atributos previsores e alvo.   \n",
        "- test_size: tamanho em porcentagem dos dados de teste. default é none.   \n",
        "- train_size: tamanho em porcentagem dos dados de treinamento.default é none.  \n",
        "- random_state: nomeação de um estado aleatório.   \n",
        "- shuffle: embaralhamento dos dados aleatórios. Associado com o random_state ocorre o mesmo embaralhamento sempre. Default é True.  \n",
        "- stratify: Possibilidade de dividir os dados de forma estratificada. Default é None (nesse caso é mantido a proporção, isto é, se tem 30% de zeros e 70% de 1 no dataframe, na separação em treinamento e teste se manterá essa proporção)."
      ]
    },
    {
      "cell_type": "code",
      "execution_count": null,
      "metadata": {
        "id": "JFn1OrYtF0m9"
      },
      "outputs": [],
      "source": [
        "x_treino, x_teste, y_treino, y_teste = train_test_split(previsores3_esc, alvo, test_size = 0.3, random_state = 0)"
      ]
    },
    {
      "cell_type": "code",
      "execution_count": null,
      "metadata": {
        "colab": {
          "base_uri": "https://localhost:8080/"
        },
        "id": "Xza9uNMgJFD8",
        "outputId": "282d4602-ef97-4136-ea8f-995f2094c7b5"
      },
      "outputs": [
        {
          "output_type": "execute_result",
          "data": {
            "text/plain": [
              "(641, 20)"
            ]
          },
          "metadata": {},
          "execution_count": 112
        }
      ],
      "source": [
        "x_treino.shape"
      ]
    },
    {
      "cell_type": "code",
      "execution_count": null,
      "metadata": {
        "colab": {
          "base_uri": "https://localhost:8080/"
        },
        "id": "gM74hUlEJNOZ",
        "outputId": "40895220-876d-4265-cf2c-8ce2b7e785c3"
      },
      "outputs": [
        {
          "output_type": "execute_result",
          "data": {
            "text/plain": [
              "(276, 20)"
            ]
          },
          "metadata": {},
          "execution_count": 113
        }
      ],
      "source": [
        "x_teste.shape"
      ]
    },
    {
      "cell_type": "code",
      "execution_count": null,
      "metadata": {
        "colab": {
          "base_uri": "https://localhost:8080/"
        },
        "id": "lGzLxpISJeWG",
        "outputId": "120d2206-ac37-4a69-db2a-5db40f2ab5f0"
      },
      "outputs": [
        {
          "output_type": "execute_result",
          "data": {
            "text/plain": [
              "(641,)"
            ]
          },
          "metadata": {},
          "execution_count": 114
        }
      ],
      "source": [
        "y_treino.shape"
      ]
    },
    {
      "cell_type": "code",
      "execution_count": null,
      "metadata": {
        "colab": {
          "base_uri": "https://localhost:8080/"
        },
        "id": "ZUojufPlJnhy",
        "outputId": "cff3dfd1-027b-4cd9-e626-4758ee9df900"
      },
      "outputs": [
        {
          "output_type": "execute_result",
          "data": {
            "text/plain": [
              "(276,)"
            ]
          },
          "metadata": {},
          "execution_count": 115
        }
      ],
      "source": [
        "y_teste.shape"
      ]
    },
    {
      "cell_type": "markdown",
      "metadata": {
        "id": "f6u542_aEj6B"
      },
      "source": [
        "# **NAIVE BAYES**"
      ]
    },
    {
      "cell_type": "markdown",
      "metadata": {
        "id": "2tnCKM7kcfQl"
      },
      "source": [
        "https://scikit-learn.org/stable/modules/naive_bayes.html"
      ]
    },
    {
      "cell_type": "markdown",
      "metadata": {
        "id": "-GK8qvcgzWGQ"
      },
      "source": [
        "Treinamento do algoritmo"
      ]
    },
    {
      "cell_type": "code",
      "execution_count": null,
      "metadata": {
        "id": "YhAnMs4TJRoa"
      },
      "outputs": [],
      "source": [
        "from sklearn.naive_bayes import GaussianNB"
      ]
    },
    {
      "cell_type": "code",
      "execution_count": null,
      "metadata": {
        "colab": {
          "base_uri": "https://localhost:8080/"
        },
        "id": "ak0_M56CJheq",
        "outputId": "a1978455-98cc-45f3-bdc3-1e6446f2d101"
      },
      "outputs": [
        {
          "data": {
            "text/plain": [
              "GaussianNB()"
            ]
          },
          "execution_count": 156,
          "metadata": {},
          "output_type": "execute_result"
        }
      ],
      "source": [
        "naive = GaussianNB()\n",
        "naive.fit(x_treino, y_treino)"
      ]
    },
    {
      "cell_type": "markdown",
      "metadata": {
        "id": "neBugc1HzbL_"
      },
      "source": [
        "Avaliação do algoritmo"
      ]
    },
    {
      "cell_type": "code",
      "execution_count": null,
      "metadata": {
        "colab": {
          "base_uri": "https://localhost:8080/"
        },
        "id": "ac4kuVBsJ85p",
        "outputId": "82cfcfbe-aa80-4ac2-e8ed-315213e3335b"
      },
      "outputs": [
        {
          "data": {
            "text/plain": [
              "array([1, 1, 1, 0, 0, 0, 0, 0, 0, 0, 1, 1, 1, 1, 0, 1, 1, 1, 1, 0, 1, 1,\n",
              "       1, 0, 0, 0, 1, 1, 0, 1, 1, 0, 0, 0, 1, 0, 0, 0, 1, 0, 0, 1, 1, 1,\n",
              "       1, 0, 0, 1, 0, 1, 0, 0, 0, 1, 1, 0, 0, 0, 0, 0, 1, 0, 1, 0, 1, 1,\n",
              "       1, 0, 1, 0, 1, 1, 0, 1, 1, 1, 1, 1, 1, 1, 0, 1, 0, 0, 1, 1, 1, 1,\n",
              "       1, 0, 1, 0, 0, 0, 1, 0, 1, 0, 0, 0, 0, 0, 1, 1, 0, 1, 1, 0, 0, 1,\n",
              "       1, 1, 1, 1, 1, 1, 0, 1, 1, 1, 1, 1, 1, 0, 1, 1, 0, 1, 0, 1, 0, 1,\n",
              "       1, 1, 1, 1, 1, 1, 1, 0, 0, 1, 0, 1, 0, 0, 1, 1, 0, 0, 0, 1, 0, 0,\n",
              "       1, 0, 1, 1, 1, 0, 1, 1, 1, 0, 1, 0, 1, 0, 1, 0, 1, 1, 0, 0, 0, 1,\n",
              "       1, 0, 0, 1, 1, 1, 0, 1, 1, 1, 0, 1, 1, 0, 0, 0, 1, 1, 1, 1, 0, 0,\n",
              "       1, 0, 1, 1, 0, 1, 1, 0, 0, 0, 1, 0, 1, 1, 0, 0, 0, 0, 1, 0, 1, 1,\n",
              "       1, 0, 0, 1, 1, 1, 0, 1, 1, 1, 0, 1, 1, 1, 0, 1, 1, 1, 0, 1, 1, 0,\n",
              "       1, 0, 0, 0, 0, 0, 1, 0, 1, 0, 1, 0, 0, 0, 1, 0, 0, 1, 0, 1, 1, 0,\n",
              "       0, 0, 0, 0, 1, 0, 0, 0, 1, 1, 1, 0])"
            ]
          },
          "execution_count": 157,
          "metadata": {},
          "output_type": "execute_result"
        }
      ],
      "source": [
        "previsoes_naive = naive.predict(x_teste)\n",
        "previsoes_naive"
      ]
    },
    {
      "cell_type": "code",
      "execution_count": null,
      "metadata": {
        "colab": {
          "base_uri": "https://localhost:8080/"
        },
        "id": "aBPvzhRUKLoZ",
        "outputId": "e00eb1fe-e854-4653-8ccb-db6068e82301"
      },
      "outputs": [
        {
          "data": {
            "text/plain": [
              "array([1, 0, 1, 0, 0, 0, 0, 0, 0, 0, 1, 0, 1, 1, 0, 1, 1, 1, 1, 0, 1, 1,\n",
              "       1, 0, 0, 0, 1, 1, 0, 0, 1, 0, 0, 0, 1, 0, 1, 0, 1, 0, 0, 1, 1, 1,\n",
              "       1, 0, 0, 1, 1, 1, 1, 0, 0, 1, 1, 0, 0, 0, 1, 0, 1, 1, 1, 0, 1, 1,\n",
              "       1, 0, 1, 0, 1, 1, 1, 1, 1, 1, 1, 1, 1, 0, 0, 1, 0, 0, 1, 1, 0, 1,\n",
              "       1, 0, 1, 0, 0, 1, 1, 0, 1, 0, 0, 0, 0, 1, 1, 1, 0, 1, 0, 0, 0, 1,\n",
              "       0, 1, 1, 1, 0, 1, 1, 1, 1, 1, 1, 1, 1, 0, 0, 1, 0, 1, 0, 1, 0, 1,\n",
              "       0, 1, 0, 0, 0, 1, 1, 0, 1, 1, 0, 1, 0, 0, 1, 1, 1, 0, 1, 1, 0, 0,\n",
              "       0, 0, 1, 1, 1, 0, 1, 1, 1, 0, 1, 0, 1, 0, 1, 0, 1, 1, 0, 0, 1, 0,\n",
              "       0, 1, 0, 1, 1, 1, 0, 1, 1, 1, 0, 1, 1, 0, 0, 0, 1, 1, 1, 1, 1, 0,\n",
              "       1, 0, 1, 1, 0, 1, 1, 0, 0, 0, 1, 0, 1, 1, 0, 1, 0, 1, 1, 1, 1, 1,\n",
              "       1, 1, 0, 0, 0, 1, 0, 1, 1, 1, 0, 1, 0, 1, 1, 1, 1, 1, 0, 1, 1, 0,\n",
              "       1, 0, 1, 0, 0, 0, 1, 0, 1, 0, 1, 1, 0, 0, 1, 0, 0, 1, 0, 1, 1, 0,\n",
              "       0, 0, 0, 0, 1, 0, 0, 1, 1, 1, 1, 1])"
            ]
          },
          "execution_count": 158,
          "metadata": {},
          "output_type": "execute_result"
        }
      ],
      "source": [
        "y_teste"
      ]
    },
    {
      "cell_type": "code",
      "execution_count": null,
      "metadata": {
        "id": "OEXPFIiVKUl_"
      },
      "outputs": [],
      "source": [
        "from sklearn.metrics import accuracy_score, confusion_matrix, classification_report"
      ]
    },
    {
      "cell_type": "code",
      "execution_count": null,
      "metadata": {
        "colab": {
          "base_uri": "https://localhost:8080/"
        },
        "id": "hojdvgEgKYjg",
        "outputId": "62326807-0b5f-4edf-d50c-bb35cfef1d3d"
      },
      "outputs": [
        {
          "data": {
            "text/plain": [
              "0.8442028985507246"
            ]
          },
          "execution_count": 160,
          "metadata": {},
          "output_type": "execute_result"
        }
      ],
      "source": [
        "accuracy_score(y_teste, previsoes_naive)"
      ]
    },
    {
      "cell_type": "code",
      "execution_count": null,
      "metadata": {
        "colab": {
          "base_uri": "https://localhost:8080/"
        },
        "id": "R8rjCRA7CwLV",
        "outputId": "5802cd94-3aaf-4655-9358-7d77ee4f9cc0"
      },
      "outputs": [
        {
          "name": "stdout",
          "output_type": "stream",
          "text": [
            "Acurácia: 84.42%\n"
          ]
        }
      ],
      "source": [
        "print(\"Acurácia: %.2f%%\" % (accuracy_score(y_teste, previsoes_naive) * 100.0))"
      ]
    },
    {
      "cell_type": "code",
      "execution_count": null,
      "metadata": {
        "colab": {
          "base_uri": "https://localhost:8080/"
        },
        "id": "N_xxZiTXKeG3",
        "outputId": "5b7ecd40-35c4-4c22-d02a-f4657feb1a65"
      },
      "outputs": [
        {
          "data": {
            "text/plain": [
              "array([[102,  19],\n",
              "       [ 24, 131]])"
            ]
          },
          "execution_count": 162,
          "metadata": {},
          "output_type": "execute_result"
        }
      ],
      "source": [
        "confusion_matrix(y_teste, previsoes_naive)"
      ]
    },
    {
      "cell_type": "code",
      "execution_count": null,
      "metadata": {
        "colab": {
          "base_uri": "https://localhost:8080/"
        },
        "id": "CZMZ_zPNKzqW",
        "outputId": "2977471b-ccd0-4bec-8451-aa0189e2bc08"
      },
      "outputs": [
        {
          "name": "stdout",
          "output_type": "stream",
          "text": [
            "              precision    recall  f1-score   support\n",
            "\n",
            "           0       0.81      0.84      0.83       121\n",
            "           1       0.87      0.85      0.86       155\n",
            "\n",
            "    accuracy                           0.84       276\n",
            "   macro avg       0.84      0.84      0.84       276\n",
            "weighted avg       0.85      0.84      0.84       276\n",
            "\n"
          ]
        }
      ],
      "source": [
        "print(classification_report(y_teste, previsoes_naive))"
      ]
    },
    {
      "cell_type": "markdown",
      "metadata": {
        "id": "Gnte-P_e0536"
      },
      "source": [
        "**Análise dados de treino**"
      ]
    },
    {
      "cell_type": "code",
      "execution_count": null,
      "metadata": {
        "colab": {
          "base_uri": "https://localhost:8080/"
        },
        "id": "_t9CZH8qz9w-",
        "outputId": "2d5afde5-c394-4a52-9787-610a7a4dbd96"
      },
      "outputs": [
        {
          "data": {
            "text/plain": [
              "array([0, 0, 1, 1, 1, 1, 0, 0, 0, 0, 1, 0, 1, 1, 1, 0, 0, 0, 0, 1, 0, 0,\n",
              "       1, 1, 1, 0, 0, 1, 0, 1, 1, 0, 1, 1, 0, 0, 1, 1, 0, 1, 0, 1, 0, 0,\n",
              "       1, 1, 0, 1, 1, 1, 0, 0, 1, 0, 1, 0, 0, 0, 1, 0, 0, 0, 0, 0, 1, 1,\n",
              "       0, 1, 1, 0, 1, 1, 1, 1, 0, 0, 0, 1, 0, 1, 1, 1, 1, 1, 0, 1, 1, 1,\n",
              "       1, 1, 0, 1, 0, 0, 1, 1, 1, 1, 1, 1, 1, 1, 0, 1, 1, 1, 1, 0, 0, 1,\n",
              "       0, 0, 1, 0, 1, 0, 1, 0, 1, 0, 0, 0, 0, 1, 0, 1, 0, 0, 0, 1, 1, 0,\n",
              "       1, 1, 0, 0, 1, 0, 1, 1, 0, 1, 1, 1, 1, 1, 1, 0, 0, 1, 1, 0, 1, 0,\n",
              "       1, 0, 1, 1, 1, 1, 1, 0, 0, 0, 0, 1, 1, 0, 0, 0, 0, 1, 1, 0, 1, 0,\n",
              "       0, 1, 1, 0, 0, 0, 0, 0, 0, 1, 1, 1, 1, 0, 0, 0, 1, 0, 0, 0, 1, 1,\n",
              "       0, 1, 0, 1, 0, 1, 1, 1, 1, 1, 1, 0, 0, 0, 1, 1, 1, 1, 1, 0, 0, 1,\n",
              "       1, 0, 0, 1, 1, 0, 1, 1, 1, 1, 0, 1, 0, 1, 1, 0, 1, 0, 0, 0, 1, 0,\n",
              "       1, 1, 1, 1, 1, 1, 1, 0, 1, 1, 0, 0, 0, 0, 0, 0, 1, 0, 0, 1, 1, 0,\n",
              "       1, 0, 1, 0, 1, 0, 1, 1, 0, 1, 0, 1, 1, 0, 0, 0, 1, 0, 0, 0, 1, 1,\n",
              "       0, 1, 1, 1, 1, 0, 1, 1, 0, 1, 0, 1, 0, 1, 1, 0, 0, 1, 0, 1, 0, 1,\n",
              "       1, 0, 1, 0, 1, 0, 1, 0, 1, 0, 1, 0, 1, 1, 1, 1, 0, 1, 1, 1, 1, 0,\n",
              "       0, 0, 1, 0, 0, 0, 0, 1, 0, 1, 1, 1, 1, 1, 1, 0, 1, 1, 0, 1, 0, 1,\n",
              "       0, 0, 0, 0, 0, 0, 1, 0, 0, 1, 0, 1, 1, 0, 0, 0, 0, 0, 1, 1, 0, 1,\n",
              "       0, 1, 1, 1, 0, 0, 1, 1, 0, 1, 0, 1, 0, 0, 0, 1, 0, 1, 1, 0, 1, 1,\n",
              "       0, 0, 0, 1, 1, 1, 1, 0, 1, 0, 1, 1, 1, 0, 0, 1, 0, 1, 1, 1, 0, 0,\n",
              "       0, 1, 1, 1, 0, 1, 1, 0, 1, 0, 0, 0, 0, 1, 0, 1, 1, 1, 1, 0, 1, 1,\n",
              "       0, 0, 1, 1, 1, 1, 0, 1, 0, 0, 1, 0, 1, 1, 1, 1, 0, 0, 0, 1, 0, 1,\n",
              "       1, 1, 1, 1, 1, 0, 1, 1, 1, 1, 1, 1, 1, 1, 1, 0, 0, 0, 1, 0, 0, 0,\n",
              "       0, 0, 1, 0, 1, 1, 0, 0, 0, 1, 1, 0, 1, 1, 1, 0, 1, 1, 0, 0, 1, 1,\n",
              "       1, 0, 0, 0, 1, 1, 1, 1, 0, 1, 0, 0, 1, 0, 1, 1, 1, 0, 0, 1, 1, 0,\n",
              "       1, 0, 1, 0, 1, 0, 1, 0, 1, 0, 1, 1, 0, 1, 0, 1, 1, 0, 0, 1, 1, 1,\n",
              "       0, 1, 1, 0, 1, 0, 1, 1, 1, 0, 1, 1, 0, 0, 0, 0, 1, 0, 0, 1, 0, 1,\n",
              "       1, 0, 0, 0, 1, 0, 0, 0, 0, 0, 0, 1, 1, 1, 1, 0, 1, 0, 0, 0, 0, 0,\n",
              "       0, 0, 1, 0, 0, 0, 0, 0, 0, 0, 1, 0, 0, 1, 0, 0, 1, 0, 0, 1, 0, 1,\n",
              "       1, 1, 1, 1, 1, 0, 1, 0, 1, 1, 1, 1, 0, 1, 1, 0, 0, 0, 1, 0, 1, 0,\n",
              "       0, 0, 1])"
            ]
          },
          "execution_count": 164,
          "metadata": {},
          "output_type": "execute_result"
        }
      ],
      "source": [
        "previsoes_treino = naive.predict(x_treino)\n",
        "previsoes_treino"
      ]
    },
    {
      "cell_type": "code",
      "execution_count": null,
      "metadata": {
        "colab": {
          "base_uri": "https://localhost:8080/"
        },
        "id": "ixfPbrJB0iEE",
        "outputId": "54267d12-95e2-41f5-8473-abdc2f64f315"
      },
      "outputs": [
        {
          "data": {
            "text/plain": [
              "0.8361934477379095"
            ]
          },
          "execution_count": 165,
          "metadata": {},
          "output_type": "execute_result"
        }
      ],
      "source": [
        "accuracy_score(y_treino, previsoes_treino)"
      ]
    },
    {
      "cell_type": "code",
      "execution_count": null,
      "metadata": {
        "colab": {
          "base_uri": "https://localhost:8080/"
        },
        "id": "nyTX_2Te0suq",
        "outputId": "e5df1d59-6f36-454c-fcfc-634aaf186461"
      },
      "outputs": [
        {
          "data": {
            "text/plain": [
              "array([[243,  46],\n",
              "       [ 59, 293]])"
            ]
          },
          "execution_count": 166,
          "metadata": {},
          "output_type": "execute_result"
        }
      ],
      "source": [
        "confusion_matrix(y_treino, previsoes_treino)"
      ]
    },
    {
      "cell_type": "markdown",
      "metadata": {
        "id": "rNsT6wAn_e1l"
      },
      "source": [
        "### **Validação Cruzada**"
      ]
    },
    {
      "cell_type": "code",
      "execution_count": null,
      "metadata": {
        "id": "lvBuy5bm_qok"
      },
      "outputs": [],
      "source": [
        "from sklearn.model_selection import KFold\n",
        "from sklearn.model_selection import cross_val_score"
      ]
    },
    {
      "cell_type": "code",
      "execution_count": null,
      "metadata": {
        "id": "SS_dyx4x_260"
      },
      "outputs": [],
      "source": [
        "# Separando os dados em folds\n",
        "kfold = KFold(n_splits = 30, shuffle=True, random_state = 5)"
      ]
    },
    {
      "cell_type": "code",
      "execution_count": null,
      "metadata": {
        "colab": {
          "base_uri": "https://localhost:8080/"
        },
        "id": "K0aqT7kPAf1L",
        "outputId": "8ec54af7-fe0e-44bf-d0e0-c8b6e5ea93ae"
      },
      "outputs": [
        {
          "data": {
            "text/plain": [
              "array([0.87096774, 0.87096774, 0.90322581, 0.80645161, 0.77419355,\n",
              "       0.90322581, 0.70967742, 0.87096774, 0.77419355, 0.87096774,\n",
              "       0.90322581, 0.77419355, 0.93548387, 0.90322581, 0.87096774,\n",
              "       0.87096774, 0.87096774, 0.93333333, 0.93333333, 0.9       ,\n",
              "       0.76666667, 0.83333333, 0.8       , 0.7       , 0.83333333,\n",
              "       0.93333333, 0.86666667, 0.9       , 0.86666667, 0.8       ])"
            ]
          },
          "execution_count": 169,
          "metadata": {},
          "output_type": "execute_result"
        }
      ],
      "source": [
        "# Criando o modelo\n",
        "modelo = GaussianNB()\n",
        "resultado = cross_val_score(modelo, previsores3_esc, alvo, cv = kfold)\n",
        "resultado"
      ]
    },
    {
      "cell_type": "code",
      "execution_count": null,
      "metadata": {
        "colab": {
          "base_uri": "https://localhost:8080/"
        },
        "id": "VmmFUeXird9B",
        "outputId": "ffa90ef2-f88e-41c5-92da-3ce908c5ec1f"
      },
      "outputs": [
        {
          "name": "stdout",
          "output_type": "stream",
          "text": [
            "Acurácia Média: 85.17%\n"
          ]
        }
      ],
      "source": [
        "# Usamos a média e o desvio padrão\n",
        "print(\"Acurácia Média: %.2f%%\" % (resultado.mean() * 100.0))"
      ]
    },
    {
      "cell_type": "markdown",
      "metadata": {
        "id": "tZ03xoOQNkQP"
      },
      "source": [
        "Naive Bayes = 84,78% (treino e teste) - 234 acertos e 85,17% (validação cruzada) - previsores3_esc\n",
        "\n",
        "\n",
        "\n"
      ]
    },
    {
      "cell_type": "markdown",
      "metadata": {
        "id": "n1ky9LQipNn0"
      },
      "source": [
        "# **MÁQUINAS DE VETORES DE SUPORTE (SVM)**"
      ]
    },
    {
      "cell_type": "markdown",
      "metadata": {
        "id": "5p55FhL3b52u"
      },
      "source": [
        "https://scikit-learn.org/stable/modules/generated/sklearn.svm.SVC.html"
      ]
    },
    {
      "cell_type": "code",
      "execution_count": null,
      "metadata": {
        "id": "oVy0EpUfpquK"
      },
      "outputs": [],
      "source": [
        "from sklearn.svm import SVC"
      ]
    },
    {
      "cell_type": "code",
      "execution_count": null,
      "metadata": {
        "colab": {
          "base_uri": "https://localhost:8080/"
        },
        "id": "P7xKKTCabAab",
        "outputId": "10df4d29-ac17-4c3a-db14-29458811bdf1"
      },
      "outputs": [
        {
          "data": {
            "text/plain": [
              "SVC(C=2, random_state=1)"
            ]
          },
          "execution_count": 119,
          "metadata": {},
          "output_type": "execute_result"
        }
      ],
      "source": [
        "svm = SVC(kernel='rbf', random_state=1, C = 2)\n",
        "svm.fit(x_treino, y_treino)"
      ]
    },
    {
      "cell_type": "code",
      "execution_count": null,
      "metadata": {
        "colab": {
          "base_uri": "https://localhost:8080/"
        },
        "id": "VjKeaHKrbicN",
        "outputId": "7c687fed-eaa4-404c-b6f0-a67ca386cf47"
      },
      "outputs": [
        {
          "data": {
            "text/plain": [
              "array([1, 1, 1, 0, 0, 0, 1, 0, 0, 0, 1, 1, 1, 1, 0, 1, 1, 1, 1, 0, 1, 1,\n",
              "       1, 0, 0, 0, 1, 1, 1, 1, 1, 0, 0, 0, 1, 0, 0, 0, 1, 0, 0, 1, 1, 1,\n",
              "       1, 0, 0, 1, 0, 1, 1, 0, 0, 0, 1, 0, 0, 0, 0, 0, 1, 1, 1, 0, 1, 1,\n",
              "       1, 0, 1, 0, 1, 1, 0, 1, 1, 1, 1, 1, 1, 1, 1, 1, 0, 0, 1, 1, 1, 1,\n",
              "       1, 0, 1, 0, 0, 0, 1, 0, 1, 0, 0, 0, 0, 1, 1, 1, 0, 1, 0, 0, 0, 1,\n",
              "       1, 1, 1, 1, 0, 1, 1, 1, 1, 1, 1, 1, 1, 0, 1, 1, 0, 1, 0, 1, 0, 1,\n",
              "       1, 1, 0, 1, 0, 1, 1, 0, 1, 1, 0, 1, 0, 0, 1, 1, 1, 0, 1, 1, 0, 0,\n",
              "       1, 0, 1, 1, 1, 0, 1, 1, 1, 0, 1, 0, 1, 0, 1, 0, 1, 1, 0, 0, 1, 1,\n",
              "       1, 0, 0, 1, 1, 1, 0, 1, 1, 1, 0, 1, 1, 0, 1, 0, 1, 1, 1, 0, 0, 0,\n",
              "       1, 0, 1, 1, 0, 1, 1, 0, 0, 0, 1, 1, 1, 1, 0, 1, 0, 0, 1, 0, 1, 1,\n",
              "       1, 0, 0, 1, 1, 1, 0, 1, 0, 1, 0, 1, 1, 1, 0, 1, 1, 1, 0, 1, 1, 0,\n",
              "       1, 0, 0, 0, 0, 0, 1, 0, 1, 0, 1, 0, 0, 0, 1, 0, 0, 1, 0, 1, 1, 0,\n",
              "       1, 1, 0, 0, 1, 0, 0, 1, 1, 1, 1, 1])"
            ]
          },
          "execution_count": 120,
          "metadata": {},
          "output_type": "execute_result"
        }
      ],
      "source": [
        "previsoes_svm = svm.predict(x_teste)\n",
        "previsoes_svm"
      ]
    },
    {
      "cell_type": "code",
      "execution_count": null,
      "metadata": {
        "colab": {
          "base_uri": "https://localhost:8080/"
        },
        "id": "ulL7w207qcwQ",
        "outputId": "54547bc3-d9ec-43e5-e858-c3f99a97ac1a"
      },
      "outputs": [
        {
          "data": {
            "text/plain": [
              "array([1, 0, 1, 0, 0, 0, 0, 0, 0, 0, 1, 0, 1, 1, 0, 1, 1, 1, 1, 0, 1, 1,\n",
              "       1, 0, 0, 0, 1, 1, 0, 0, 1, 0, 0, 0, 1, 0, 1, 0, 1, 0, 0, 1, 1, 1,\n",
              "       1, 0, 0, 1, 1, 1, 1, 0, 0, 1, 1, 0, 0, 0, 1, 0, 1, 1, 1, 0, 1, 1,\n",
              "       1, 0, 1, 0, 1, 1, 1, 1, 1, 1, 1, 1, 1, 0, 0, 1, 0, 0, 1, 1, 0, 1,\n",
              "       1, 0, 1, 0, 0, 1, 1, 0, 1, 0, 0, 0, 0, 1, 1, 1, 0, 1, 0, 0, 0, 1,\n",
              "       0, 1, 1, 1, 0, 1, 1, 1, 1, 1, 1, 1, 1, 0, 0, 1, 0, 1, 0, 1, 0, 1,\n",
              "       0, 1, 0, 0, 0, 1, 1, 0, 1, 1, 0, 1, 0, 0, 1, 1, 1, 0, 1, 1, 0, 0,\n",
              "       0, 0, 1, 1, 1, 0, 1, 1, 1, 0, 1, 0, 1, 0, 1, 0, 1, 1, 0, 0, 1, 0,\n",
              "       0, 1, 0, 1, 1, 1, 0, 1, 1, 1, 0, 1, 1, 0, 0, 0, 1, 1, 1, 1, 1, 0,\n",
              "       1, 0, 1, 1, 0, 1, 1, 0, 0, 0, 1, 0, 1, 1, 0, 1, 0, 1, 1, 1, 1, 1,\n",
              "       1, 1, 0, 0, 0, 1, 0, 1, 1, 1, 0, 1, 0, 1, 1, 1, 1, 1, 0, 1, 1, 0,\n",
              "       1, 0, 1, 0, 0, 0, 1, 0, 1, 0, 1, 1, 0, 0, 1, 0, 0, 1, 0, 1, 1, 0,\n",
              "       0, 0, 0, 0, 1, 0, 0, 1, 1, 1, 1, 1])"
            ]
          },
          "execution_count": 121,
          "metadata": {},
          "output_type": "execute_result"
        }
      ],
      "source": [
        "y_teste"
      ]
    },
    {
      "cell_type": "code",
      "execution_count": null,
      "metadata": {
        "id": "iWdYWQQBvnVQ"
      },
      "outputs": [],
      "source": [
        "from sklearn.metrics import accuracy_score, confusion_matrix, classification_report"
      ]
    },
    {
      "cell_type": "code",
      "execution_count": null,
      "metadata": {
        "colab": {
          "base_uri": "https://localhost:8080/"
        },
        "id": "kRZ4VwD-qjW4",
        "outputId": "749e4179-cb60-4392-ba2c-cc85e3ec7e39"
      },
      "outputs": [
        {
          "name": "stdout",
          "output_type": "stream",
          "text": [
            "Acurácia: 86.23%\n"
          ]
        }
      ],
      "source": [
        "print(\"Acurácia: %.2f%%\" % (accuracy_score(y_teste, previsoes_svm) * 100.0))"
      ]
    },
    {
      "cell_type": "code",
      "execution_count": null,
      "metadata": {
        "colab": {
          "base_uri": "https://localhost:8080/"
        },
        "id": "VYeZMXUtqjW5",
        "outputId": "22890ec2-18a0-4293-e610-cce0aaa2b629"
      },
      "outputs": [
        {
          "data": {
            "text/plain": [
              "array([[ 99,  22],\n",
              "       [ 16, 139]])"
            ]
          },
          "execution_count": 124,
          "metadata": {},
          "output_type": "execute_result"
        }
      ],
      "source": [
        "confusion_matrix(y_teste, previsoes_svm)"
      ]
    },
    {
      "cell_type": "code",
      "execution_count": null,
      "metadata": {
        "colab": {
          "base_uri": "https://localhost:8080/"
        },
        "id": "YPKWlAGAqjW6",
        "outputId": "b0058dba-e2dc-4590-fc7b-71b017abbc29"
      },
      "outputs": [
        {
          "name": "stdout",
          "output_type": "stream",
          "text": [
            "              precision    recall  f1-score   support\n",
            "\n",
            "           0       0.86      0.82      0.84       121\n",
            "           1       0.86      0.90      0.88       155\n",
            "\n",
            "    accuracy                           0.86       276\n",
            "   macro avg       0.86      0.86      0.86       276\n",
            "weighted avg       0.86      0.86      0.86       276\n",
            "\n"
          ]
        }
      ],
      "source": [
        "print(classification_report(y_teste, previsoes_svm))"
      ]
    },
    {
      "cell_type": "markdown",
      "metadata": {
        "id": "GeeUpamU1u6d"
      },
      "source": [
        "**Análise dados de treino**"
      ]
    },
    {
      "cell_type": "code",
      "execution_count": null,
      "metadata": {
        "colab": {
          "base_uri": "https://localhost:8080/"
        },
        "id": "VVGJEYpC1u6d",
        "outputId": "951a0cd0-06cb-4089-ef53-bff4e5985686"
      },
      "outputs": [
        {
          "data": {
            "text/plain": [
              "array([1, 0, 1, 1, 1, 1, 0, 0, 0, 0, 1, 0, 1, 0, 1, 0, 0, 0, 0, 1, 0, 1,\n",
              "       1, 1, 1, 0, 0, 1, 1, 1, 1, 0, 1, 1, 0, 0, 1, 1, 0, 1, 0, 1, 0, 0,\n",
              "       1, 1, 0, 1, 1, 1, 0, 0, 1, 0, 1, 1, 1, 0, 1, 0, 0, 0, 1, 0, 1, 1,\n",
              "       0, 0, 1, 0, 1, 1, 1, 1, 0, 0, 1, 1, 1, 1, 1, 1, 1, 1, 0, 1, 1, 1,\n",
              "       1, 1, 0, 1, 0, 0, 1, 1, 1, 1, 1, 1, 1, 1, 0, 0, 1, 1, 1, 0, 1, 1,\n",
              "       0, 0, 1, 0, 1, 0, 1, 0, 1, 0, 0, 0, 0, 1, 0, 1, 0, 0, 1, 1, 1, 0,\n",
              "       1, 1, 0, 0, 1, 0, 1, 0, 0, 1, 1, 1, 1, 1, 0, 0, 0, 1, 1, 0, 1, 0,\n",
              "       1, 0, 1, 1, 1, 0, 1, 0, 0, 0, 1, 1, 1, 0, 0, 0, 0, 1, 1, 0, 1, 0,\n",
              "       0, 1, 1, 0, 0, 0, 0, 0, 0, 1, 1, 1, 1, 1, 0, 0, 1, 0, 0, 1, 1, 1,\n",
              "       1, 1, 0, 0, 0, 1, 1, 0, 1, 1, 0, 0, 1, 0, 1, 1, 1, 1, 1, 0, 0, 1,\n",
              "       1, 0, 0, 1, 1, 1, 1, 1, 1, 1, 1, 1, 0, 1, 1, 0, 1, 0, 1, 0, 1, 0,\n",
              "       1, 1, 1, 1, 1, 1, 1, 1, 1, 1, 0, 0, 0, 0, 0, 0, 0, 0, 1, 0, 1, 0,\n",
              "       1, 0, 1, 1, 1, 1, 1, 1, 0, 0, 0, 1, 1, 0, 0, 0, 1, 0, 0, 0, 1, 1,\n",
              "       1, 1, 1, 1, 1, 0, 1, 1, 0, 1, 0, 0, 0, 1, 1, 0, 0, 1, 0, 0, 1, 1,\n",
              "       1, 0, 1, 0, 1, 0, 1, 0, 1, 1, 1, 0, 1, 1, 1, 1, 0, 1, 1, 1, 1, 0,\n",
              "       0, 0, 1, 0, 0, 0, 1, 1, 0, 1, 1, 1, 1, 1, 1, 0, 1, 1, 0, 1, 0, 1,\n",
              "       0, 0, 0, 1, 0, 1, 1, 1, 0, 1, 0, 1, 1, 0, 0, 0, 0, 0, 1, 1, 1, 1,\n",
              "       0, 1, 1, 1, 1, 1, 1, 1, 0, 1, 0, 1, 0, 0, 1, 1, 0, 1, 1, 1, 1, 1,\n",
              "       0, 0, 0, 1, 1, 1, 1, 0, 1, 0, 1, 1, 1, 0, 0, 0, 0, 1, 1, 1, 0, 0,\n",
              "       0, 1, 1, 0, 0, 1, 1, 1, 0, 1, 0, 0, 0, 1, 1, 1, 1, 1, 1, 0, 1, 1,\n",
              "       0, 0, 1, 1, 0, 1, 0, 1, 0, 0, 1, 0, 1, 1, 1, 1, 0, 0, 0, 1, 0, 1,\n",
              "       1, 1, 1, 1, 1, 0, 1, 0, 1, 1, 1, 1, 1, 1, 1, 0, 0, 0, 1, 0, 0, 0,\n",
              "       0, 0, 1, 0, 1, 1, 0, 0, 0, 1, 1, 0, 0, 1, 1, 0, 1, 1, 0, 0, 1, 1,\n",
              "       1, 1, 0, 0, 1, 1, 1, 1, 0, 1, 0, 0, 1, 0, 1, 1, 1, 1, 0, 1, 1, 0,\n",
              "       1, 0, 1, 0, 1, 0, 1, 0, 1, 0, 1, 1, 0, 1, 1, 1, 1, 0, 0, 1, 1, 0,\n",
              "       0, 1, 1, 0, 1, 0, 1, 1, 1, 0, 1, 1, 0, 1, 0, 1, 1, 0, 1, 1, 0, 1,\n",
              "       1, 1, 0, 1, 1, 0, 0, 0, 0, 1, 0, 1, 1, 1, 1, 0, 1, 0, 0, 0, 0, 0,\n",
              "       0, 0, 1, 0, 0, 0, 0, 0, 0, 0, 1, 0, 1, 1, 1, 1, 1, 1, 1, 1, 0, 1,\n",
              "       1, 1, 0, 1, 1, 0, 1, 1, 1, 1, 1, 1, 0, 1, 1, 0, 0, 1, 1, 0, 1, 0,\n",
              "       0, 0, 1])"
            ]
          },
          "execution_count": 126,
          "metadata": {},
          "output_type": "execute_result"
        }
      ],
      "source": [
        "previsoes_treino = svm.predict(x_treino)\n",
        "previsoes_treino"
      ]
    },
    {
      "cell_type": "code",
      "execution_count": null,
      "metadata": {
        "colab": {
          "base_uri": "https://localhost:8080/"
        },
        "id": "Xo-iYrMn1u6d",
        "outputId": "d2f42584-dff6-4ff9-8244-8bdc93392e58"
      },
      "outputs": [
        {
          "data": {
            "text/plain": [
              "0.9282371294851794"
            ]
          },
          "execution_count": 127,
          "metadata": {},
          "output_type": "execute_result"
        }
      ],
      "source": [
        "accuracy_score(y_treino, previsoes_treino)"
      ]
    },
    {
      "cell_type": "code",
      "execution_count": null,
      "metadata": {
        "colab": {
          "base_uri": "https://localhost:8080/"
        },
        "id": "Z42CYXuC1u6e",
        "outputId": "f46dafbb-4824-4a07-eac6-76fc626b0368"
      },
      "outputs": [
        {
          "data": {
            "text/plain": [
              "array([[257,  32],\n",
              "       [ 14, 338]])"
            ]
          },
          "execution_count": 128,
          "metadata": {},
          "output_type": "execute_result"
        }
      ],
      "source": [
        "confusion_matrix(y_treino, previsoes_treino)"
      ]
    },
    {
      "cell_type": "markdown",
      "metadata": {
        "id": "xXM2zqKVH1Vi"
      },
      "source": [
        "### **Validação Cruzada**"
      ]
    },
    {
      "cell_type": "code",
      "execution_count": null,
      "metadata": {
        "id": "tukeEaG8H1Vj"
      },
      "outputs": [],
      "source": [
        "from sklearn.model_selection import KFold\n",
        "from sklearn.model_selection import cross_val_score"
      ]
    },
    {
      "cell_type": "code",
      "execution_count": null,
      "metadata": {
        "id": "4tYyKK_RH1Vj"
      },
      "outputs": [],
      "source": [
        "# Separando os dados em folds\n",
        "kfold = KFold(n_splits = 30, shuffle=True, random_state = 5)"
      ]
    },
    {
      "cell_type": "code",
      "execution_count": null,
      "metadata": {
        "colab": {
          "base_uri": "https://localhost:8080/"
        },
        "id": "mhD3BcOWH1Vk",
        "outputId": "447690a4-50d0-4c18-8ee9-587602029c87"
      },
      "outputs": [
        {
          "name": "stdout",
          "output_type": "stream",
          "text": [
            "Acurácia Média: 85.72%\n"
          ]
        }
      ],
      "source": [
        "# Criando o modelo\n",
        "modelo = SVC(kernel='rbf', random_state=1, C = 2)\n",
        "resultado = cross_val_score(modelo, previsores3_esc, alvo, cv = kfold)\n",
        "\n",
        "# Usamos a média e o desvio padrão\n",
        "print(\"Acurácia Média: %.2f%%\" % (resultado.mean() * 100.0))"
      ]
    },
    {
      "cell_type": "markdown",
      "metadata": {
        "id": "fT_1y1Hoqycp"
      },
      "source": [
        "Naive Bayes = 84,78% (treino e teste) - 234 acertos e 85,17% (validação cruzada) : previsores3_esc\n",
        "\n",
        "SVM = 86,23% - 238 acertos e 85,72% (validação cruzada) : previsores3-esc - SVC(kernel='rbf', random_state=1, C = 2)\n",
        "\n"
      ]
    },
    {
      "cell_type": "markdown",
      "metadata": {
        "id": "jebC8M2jqyc9"
      },
      "source": [
        "# **REGRESSÃO LOGÍSTICA**"
      ]
    },
    {
      "cell_type": "markdown",
      "metadata": {
        "id": "mprvbtyNbzP3"
      },
      "source": [
        "https://scikit-learn.org/stable/modules/generated/sklearn.linear_model.LogisticRegression.html"
      ]
    },
    {
      "cell_type": "code",
      "execution_count": null,
      "metadata": {
        "id": "NVGe2Q7ur-Nv"
      },
      "outputs": [],
      "source": [
        "from sklearn.linear_model import LogisticRegression"
      ]
    },
    {
      "cell_type": "code",
      "execution_count": null,
      "metadata": {
        "colab": {
          "base_uri": "https://localhost:8080/"
        },
        "id": "f_RnL43VV9Yc",
        "outputId": "93018a08-e655-447a-9075-c70ad8c9eefa"
      },
      "outputs": [
        {
          "data": {
            "text/plain": [
              "LogisticRegression(C=1, max_iter=500, random_state=1)"
            ]
          },
          "execution_count": 78,
          "metadata": {},
          "output_type": "execute_result"
        }
      ],
      "source": [
        "logistica = LogisticRegression(random_state=1, max_iter=500, penalty=\"l2\",\n",
        "                               tol=0.0001, C=1,solver=\"lbfgs\")\n",
        "logistica.fit(x_treino, y_treino)"
      ]
    },
    {
      "cell_type": "code",
      "execution_count": null,
      "metadata": {
        "colab": {
          "base_uri": "https://localhost:8080/"
        },
        "id": "I7EqQihmWIQG",
        "outputId": "dfca2291-4b0c-418d-ee22-770a82e0285b"
      },
      "outputs": [
        {
          "data": {
            "text/plain": [
              "array([0.27651292])"
            ]
          },
          "execution_count": 79,
          "metadata": {},
          "output_type": "execute_result"
        }
      ],
      "source": [
        "logistica.intercept_"
      ]
    },
    {
      "cell_type": "code",
      "execution_count": null,
      "metadata": {
        "colab": {
          "base_uri": "https://localhost:8080/"
        },
        "id": "6BS-aVjsWK_0",
        "outputId": "230cfe67-3935-48ed-c47a-91f93de69456"
      },
      "outputs": [
        {
          "data": {
            "text/plain": [
              "array([[-0.31429216,  0.31429216,  0.51145815, -0.41291678, -0.17911607,\n",
              "        -0.08746201,  0.05928251, -0.00197428, -0.05806686, -0.21969455,\n",
              "         0.21969455, -0.01971658,  0.60969113, -0.6055519 ,  0.1808035 ,\n",
              "        -0.00090394,  0.18908439,  0.43510469, -0.22824874,  0.29941155]])"
            ]
          },
          "execution_count": 80,
          "metadata": {},
          "output_type": "execute_result"
        }
      ],
      "source": [
        "logistica.coef_"
      ]
    },
    {
      "cell_type": "code",
      "execution_count": null,
      "metadata": {
        "colab": {
          "base_uri": "https://localhost:8080/"
        },
        "id": "zKlba1wBWX1O",
        "outputId": "60ef675c-9cc5-4469-ecca-0e0c41e214b4"
      },
      "outputs": [
        {
          "data": {
            "text/plain": [
              "array([1, 1, 1, 0, 0, 0, 0, 0, 0, 0, 1, 1, 1, 1, 0, 1, 1, 1, 1, 0, 1, 1,\n",
              "       1, 0, 0, 0, 1, 1, 1, 1, 1, 0, 0, 0, 1, 0, 0, 0, 1, 0, 0, 1, 1, 1,\n",
              "       1, 0, 0, 1, 0, 1, 1, 0, 0, 1, 1, 0, 0, 0, 0, 0, 1, 1, 1, 0, 1, 1,\n",
              "       1, 0, 1, 0, 1, 1, 0, 1, 1, 1, 1, 1, 1, 1, 1, 1, 0, 0, 1, 1, 1, 1,\n",
              "       1, 0, 1, 0, 0, 0, 1, 0, 1, 0, 0, 0, 0, 1, 1, 1, 0, 1, 0, 0, 0, 1,\n",
              "       1, 1, 1, 1, 0, 1, 0, 1, 1, 1, 1, 1, 1, 0, 1, 1, 0, 1, 0, 1, 0, 1,\n",
              "       1, 1, 0, 1, 1, 1, 1, 0, 0, 1, 0, 1, 0, 0, 1, 1, 0, 0, 0, 1, 1, 0,\n",
              "       1, 0, 1, 1, 1, 0, 1, 1, 1, 0, 1, 0, 1, 0, 1, 0, 1, 1, 0, 0, 1, 1,\n",
              "       1, 0, 0, 1, 1, 1, 0, 1, 1, 1, 0, 1, 1, 0, 0, 0, 1, 1, 1, 1, 0, 0,\n",
              "       1, 0, 1, 1, 0, 1, 1, 0, 0, 0, 1, 0, 1, 1, 0, 1, 0, 0, 1, 0, 1, 1,\n",
              "       1, 0, 0, 1, 1, 1, 0, 1, 0, 1, 0, 1, 1, 1, 0, 1, 1, 1, 0, 1, 1, 0,\n",
              "       1, 0, 0, 0, 0, 0, 1, 0, 1, 0, 1, 0, 0, 0, 1, 0, 0, 1, 0, 0, 1, 0,\n",
              "       0, 0, 0, 0, 1, 0, 0, 1, 1, 1, 1, 1])"
            ]
          },
          "execution_count": 81,
          "metadata": {},
          "output_type": "execute_result"
        }
      ],
      "source": [
        "previsoes_logistica = logistica.predict(x_teste)\n",
        "previsoes_logistica"
      ]
    },
    {
      "cell_type": "code",
      "execution_count": null,
      "metadata": {
        "id": "PbF05awQvhzK"
      },
      "outputs": [],
      "source": [
        "from sklearn.metrics import accuracy_score, confusion_matrix, classification_report"
      ]
    },
    {
      "cell_type": "code",
      "execution_count": null,
      "metadata": {
        "colab": {
          "base_uri": "https://localhost:8080/"
        },
        "id": "72UCRQBdt2Iy",
        "outputId": "f85eae1f-274d-402d-f8d2-51bbf5e8c4f0"
      },
      "outputs": [
        {
          "name": "stdout",
          "output_type": "stream",
          "text": [
            "Acurácia: 86.23%\n"
          ]
        }
      ],
      "source": [
        "print(\"Acurácia: %.2f%%\" % (accuracy_score(y_teste, previsoes_logistica) * 100.0))"
      ]
    },
    {
      "cell_type": "code",
      "execution_count": null,
      "metadata": {
        "colab": {
          "base_uri": "https://localhost:8080/"
        },
        "id": "g2FaBeYDt2Iz",
        "outputId": "02a365f4-ece1-4d8b-cd9f-0d61ccab1491"
      },
      "outputs": [
        {
          "data": {
            "text/plain": [
              "array([[102,  19],\n",
              "       [ 19, 136]])"
            ]
          },
          "execution_count": 84,
          "metadata": {},
          "output_type": "execute_result"
        }
      ],
      "source": [
        "confusion_matrix(y_teste, previsoes_logistica)"
      ]
    },
    {
      "cell_type": "code",
      "execution_count": null,
      "metadata": {
        "colab": {
          "base_uri": "https://localhost:8080/"
        },
        "id": "MAgJo5b5t2I0",
        "outputId": "dda83f34-464f-48ce-a1d1-8d0c51052c18"
      },
      "outputs": [
        {
          "name": "stdout",
          "output_type": "stream",
          "text": [
            "              precision    recall  f1-score   support\n",
            "\n",
            "           0       0.84      0.84      0.84       121\n",
            "           1       0.88      0.88      0.88       155\n",
            "\n",
            "    accuracy                           0.86       276\n",
            "   macro avg       0.86      0.86      0.86       276\n",
            "weighted avg       0.86      0.86      0.86       276\n",
            "\n"
          ]
        }
      ],
      "source": [
        "print(classification_report(y_teste, previsoes_logistica))"
      ]
    },
    {
      "cell_type": "markdown",
      "metadata": {
        "id": "6LpYZvhb17ms"
      },
      "source": [
        "**Análise dados de treino**"
      ]
    },
    {
      "cell_type": "code",
      "execution_count": null,
      "metadata": {
        "colab": {
          "base_uri": "https://localhost:8080/"
        },
        "id": "9Mup9Cn817mt",
        "outputId": "26ec92e8-fed5-48aa-f945-3304591d16be"
      },
      "outputs": [
        {
          "data": {
            "text/plain": [
              "array([1, 1, 1, 1, 1, 1, 0, 0, 0, 0, 1, 0, 1, 1, 1, 0, 0, 0, 0, 1, 1, 1,\n",
              "       1, 1, 1, 0, 0, 1, 1, 1, 1, 0, 1, 1, 0, 0, 1, 1, 0, 1, 0, 1, 0, 0,\n",
              "       1, 1, 0, 1, 1, 1, 0, 0, 1, 0, 1, 0, 1, 0, 1, 0, 0, 0, 0, 0, 1, 1,\n",
              "       0, 0, 1, 0, 1, 1, 1, 1, 0, 0, 0, 1, 1, 1, 1, 1, 1, 1, 0, 1, 1, 1,\n",
              "       1, 1, 0, 1, 0, 0, 1, 1, 1, 1, 1, 1, 1, 1, 0, 1, 1, 1, 1, 0, 0, 1,\n",
              "       0, 0, 1, 0, 1, 0, 1, 0, 1, 0, 0, 0, 0, 1, 0, 1, 0, 0, 1, 1, 1, 0,\n",
              "       1, 1, 0, 0, 1, 0, 1, 1, 0, 1, 1, 1, 1, 1, 0, 0, 0, 1, 1, 0, 1, 0,\n",
              "       1, 0, 1, 1, 1, 0, 1, 0, 0, 0, 0, 0, 1, 1, 0, 0, 0, 1, 1, 0, 1, 0,\n",
              "       0, 1, 1, 0, 0, 0, 0, 0, 0, 1, 1, 1, 1, 1, 0, 0, 1, 0, 0, 1, 1, 0,\n",
              "       1, 1, 0, 1, 0, 1, 1, 1, 1, 1, 1, 0, 0, 0, 1, 1, 1, 1, 1, 0, 0, 1,\n",
              "       1, 0, 0, 1, 1, 1, 1, 1, 1, 1, 1, 1, 0, 1, 1, 0, 1, 0, 1, 0, 1, 0,\n",
              "       1, 1, 0, 1, 1, 1, 1, 1, 1, 1, 0, 0, 0, 0, 0, 0, 1, 0, 1, 1, 1, 0,\n",
              "       1, 0, 1, 0, 1, 0, 1, 1, 0, 1, 0, 1, 1, 1, 0, 0, 1, 0, 0, 0, 1, 1,\n",
              "       1, 1, 1, 1, 1, 0, 1, 1, 0, 1, 0, 1, 0, 1, 1, 0, 0, 1, 0, 0, 0, 1,\n",
              "       1, 0, 1, 0, 1, 0, 1, 0, 1, 0, 1, 0, 1, 1, 1, 1, 0, 1, 1, 1, 1, 0,\n",
              "       0, 0, 1, 0, 0, 0, 1, 1, 0, 1, 1, 1, 1, 1, 1, 0, 1, 1, 0, 1, 0, 1,\n",
              "       0, 0, 0, 1, 0, 0, 1, 0, 0, 1, 0, 1, 1, 0, 0, 0, 0, 0, 1, 1, 1, 1,\n",
              "       0, 1, 1, 1, 1, 1, 1, 1, 0, 1, 0, 1, 0, 0, 0, 1, 0, 1, 1, 0, 1, 1,\n",
              "       0, 0, 0, 1, 1, 1, 1, 0, 1, 0, 1, 1, 1, 0, 1, 1, 0, 1, 1, 1, 0, 0,\n",
              "       0, 1, 1, 0, 0, 1, 1, 0, 1, 0, 0, 0, 0, 1, 1, 1, 1, 1, 1, 0, 1, 1,\n",
              "       0, 0, 1, 1, 0, 1, 0, 1, 0, 0, 1, 0, 1, 1, 1, 1, 0, 0, 0, 1, 0, 1,\n",
              "       1, 1, 1, 1, 1, 0, 1, 0, 1, 1, 1, 1, 0, 1, 1, 0, 0, 0, 1, 0, 0, 0,\n",
              "       0, 0, 1, 0, 1, 1, 1, 0, 0, 1, 1, 0, 0, 1, 1, 0, 1, 1, 0, 0, 0, 1,\n",
              "       1, 1, 0, 0, 1, 1, 1, 1, 0, 1, 0, 0, 1, 0, 1, 1, 1, 0, 0, 1, 1, 0,\n",
              "       1, 0, 1, 0, 1, 0, 1, 0, 1, 0, 1, 1, 0, 1, 1, 1, 1, 0, 0, 1, 1, 0,\n",
              "       0, 1, 1, 0, 1, 0, 1, 1, 1, 0, 1, 1, 0, 0, 0, 1, 1, 0, 0, 1, 0, 1,\n",
              "       1, 1, 0, 1, 1, 0, 0, 1, 0, 1, 0, 1, 1, 1, 1, 0, 1, 0, 0, 0, 0, 1,\n",
              "       0, 0, 1, 0, 0, 1, 0, 0, 0, 0, 1, 0, 0, 1, 0, 1, 1, 1, 1, 1, 0, 1,\n",
              "       1, 1, 0, 1, 1, 0, 1, 0, 1, 1, 1, 1, 0, 1, 1, 0, 0, 1, 1, 0, 1, 0,\n",
              "       1, 0, 1])"
            ]
          },
          "execution_count": 86,
          "metadata": {},
          "output_type": "execute_result"
        }
      ],
      "source": [
        "previsoes_treino = logistica.predict(x_treino)\n",
        "previsoes_treino"
      ]
    },
    {
      "cell_type": "code",
      "execution_count": null,
      "metadata": {
        "colab": {
          "base_uri": "https://localhost:8080/"
        },
        "id": "T4imJ5_w17mt",
        "outputId": "e83fef7c-dd0c-4478-e7e9-a69cfa79a545"
      },
      "outputs": [
        {
          "data": {
            "text/plain": [
              "0.858034321372855"
            ]
          },
          "execution_count": 87,
          "metadata": {},
          "output_type": "execute_result"
        }
      ],
      "source": [
        "accuracy_score(y_treino, previsoes_treino)"
      ]
    },
    {
      "cell_type": "code",
      "execution_count": null,
      "metadata": {
        "colab": {
          "base_uri": "https://localhost:8080/"
        },
        "id": "2Ms9dnHk17mu",
        "outputId": "4b7d8be5-ef40-431d-a4fb-c2f7d5633c81"
      },
      "outputs": [
        {
          "data": {
            "text/plain": [
              "array([[237,  52],\n",
              "       [ 39, 313]])"
            ]
          },
          "execution_count": 88,
          "metadata": {},
          "output_type": "execute_result"
        }
      ],
      "source": [
        "confusion_matrix(y_treino, previsoes_treino)"
      ]
    },
    {
      "cell_type": "markdown",
      "metadata": {
        "id": "rGdamAVpJfJ5"
      },
      "source": [
        "### **Validação Cruzada**"
      ]
    },
    {
      "cell_type": "code",
      "execution_count": null,
      "metadata": {
        "id": "IcNfFmq9JfJ6"
      },
      "outputs": [],
      "source": [
        "from sklearn.model_selection import KFold\n",
        "from sklearn.model_selection import cross_val_score"
      ]
    },
    {
      "cell_type": "code",
      "execution_count": null,
      "metadata": {
        "id": "srKfNrUoJfJ6"
      },
      "outputs": [],
      "source": [
        "# Separando os dados em folds\n",
        "kfold = KFold(n_splits = 30, shuffle=True, random_state = 5)"
      ]
    },
    {
      "cell_type": "code",
      "execution_count": null,
      "metadata": {
        "id": "eHZjsD-RJfJ7"
      },
      "outputs": [],
      "source": [
        "# Criando o modelo\n",
        "modelo = LogisticRegression(random_state=1, max_iter=600, penalty=\"l2\",\n",
        "                               tol=0.0001, C=1,solver=\"lbfgs\")\n",
        "resultado = cross_val_score(modelo, previsores3_esc, alvo, cv = kfold)\n",
        "\n",
        "# Usamos a média e o desvio padrão\n",
        "print(\"Acurácia Média: %.2f%%\" % (resultado.mean() * 100.0))"
      ]
    },
    {
      "cell_type": "markdown",
      "metadata": {
        "id": "KmKIO-uUv31v"
      },
      "source": [
        "Naive Bayes = 84,78% (treino e teste) - 234 acertos e 85,17% (validação cruzada) : previsores3_esc\n",
        "\n",
        "SVM = 86,23% - 238 acertos e 85,72% (validação cruzada) : previsores3-esc - SVC(kernel='rbf', random_state=1, C = 2)\n",
        "\n",
        "Regressão logística = 86,23% - 238 acertos e 85,83% (validação cruzada) : previsores3_esc - LogisticRegression(random_state=1, max_iter=600, penalty=\"l2\", tol=0.0001, C=1,solver=\"lbfgs\")"
      ]
    },
    {
      "cell_type": "markdown",
      "metadata": {
        "id": "GETCbQj7v32B"
      },
      "source": [
        "# **APRENDIZAGEM BASEADA EM INSTÂNCIAS (KNN)**"
      ]
    },
    {
      "cell_type": "markdown",
      "metadata": {
        "id": "AXOVpUsGbnlK"
      },
      "source": [
        "https://scikit-learn.org/stable/modules/generated/sklearn.neighbors.KNeighborsClassifier.html"
      ]
    },
    {
      "cell_type": "code",
      "execution_count": null,
      "metadata": {
        "id": "u3_VSVAFwo8H"
      },
      "outputs": [],
      "source": [
        "from sklearn.neighbors import KNeighborsClassifier"
      ]
    },
    {
      "cell_type": "code",
      "execution_count": null,
      "metadata": {
        "colab": {
          "base_uri": "https://localhost:8080/"
        },
        "id": "xkC1VdFmXvcz",
        "outputId": "adab0ce9-c050-41cb-c5ef-bfd598a312e1"
      },
      "outputs": [
        {
          "data": {
            "text/plain": [
              "KNeighborsClassifier(n_neighbors=7, p=1)"
            ]
          },
          "execution_count": 90,
          "metadata": {},
          "output_type": "execute_result"
        }
      ],
      "source": [
        "knn = KNeighborsClassifier(n_neighbors=7, metric='minkowski', p=1)\n",
        "knn.fit(x_treino, y_treino)"
      ]
    },
    {
      "cell_type": "markdown",
      "metadata": {
        "id": "CJB-tW-g2P4_"
      },
      "source": [
        "https://scikit-learn.org/stable/modules/generated/sklearn.metrics.DistanceMetric.html"
      ]
    },
    {
      "cell_type": "code",
      "execution_count": null,
      "metadata": {
        "colab": {
          "base_uri": "https://localhost:8080/"
        },
        "id": "sSCtq6WKYlFx",
        "outputId": "56a93967-a901-4c05-88d9-659fa35c7edd"
      },
      "outputs": [
        {
          "data": {
            "text/plain": [
              "array([1, 1, 1, 0, 0, 0, 1, 0, 0, 0, 1, 1, 1, 1, 0, 1, 1, 1, 1, 0, 1, 1,\n",
              "       1, 0, 0, 0, 1, 1, 1, 1, 1, 0, 0, 0, 1, 0, 0, 0, 1, 0, 0, 1, 1, 1,\n",
              "       1, 0, 0, 1, 0, 1, 1, 0, 0, 0, 1, 0, 0, 0, 0, 0, 1, 1, 1, 0, 1, 1,\n",
              "       1, 0, 1, 0, 1, 1, 0, 1, 1, 1, 1, 1, 1, 1, 1, 1, 0, 0, 1, 1, 1, 1,\n",
              "       1, 0, 1, 0, 0, 0, 1, 0, 1, 0, 0, 0, 0, 1, 1, 1, 0, 1, 0, 0, 0, 0,\n",
              "       1, 1, 1, 1, 0, 1, 1, 1, 1, 1, 1, 1, 1, 0, 1, 1, 0, 1, 0, 1, 0, 1,\n",
              "       1, 1, 0, 1, 0, 1, 1, 0, 1, 1, 0, 1, 1, 0, 1, 0, 1, 0, 1, 1, 0, 0,\n",
              "       1, 0, 1, 1, 1, 0, 1, 1, 1, 0, 1, 0, 1, 0, 1, 0, 1, 1, 0, 0, 1, 1,\n",
              "       1, 0, 0, 1, 1, 1, 0, 1, 1, 1, 0, 1, 1, 0, 1, 0, 1, 0, 1, 0, 0, 0,\n",
              "       1, 0, 1, 1, 0, 1, 1, 0, 0, 0, 1, 1, 1, 1, 0, 0, 0, 0, 1, 0, 1, 1,\n",
              "       1, 0, 0, 1, 1, 1, 0, 1, 0, 1, 0, 1, 1, 1, 0, 1, 1, 1, 0, 1, 1, 0,\n",
              "       1, 0, 0, 0, 0, 0, 1, 0, 1, 0, 1, 0, 0, 0, 1, 0, 0, 1, 0, 0, 1, 0,\n",
              "       1, 1, 0, 0, 1, 0, 0, 1, 1, 1, 1, 1])"
            ]
          },
          "execution_count": 91,
          "metadata": {},
          "output_type": "execute_result"
        }
      ],
      "source": [
        "previsoes_knn = knn.predict(x_teste)\n",
        "previsoes_knn"
      ]
    },
    {
      "cell_type": "code",
      "execution_count": null,
      "metadata": {
        "colab": {
          "base_uri": "https://localhost:8080/"
        },
        "id": "oG0I-trLxQ50",
        "outputId": "d86bbeeb-610e-4a67-99ab-071b51d9a456"
      },
      "outputs": [
        {
          "data": {
            "text/plain": [
              "array([1, 0, 1, 0, 0, 0, 0, 0, 0, 0, 1, 0, 1, 1, 0, 1, 1, 1, 1, 0, 1, 1,\n",
              "       1, 0, 0, 0, 1, 1, 0, 0, 1, 0, 0, 0, 1, 0, 1, 0, 1, 0, 0, 1, 1, 1,\n",
              "       1, 0, 0, 1, 1, 1, 1, 0, 0, 1, 1, 0, 0, 0, 1, 0, 1, 1, 1, 0, 1, 1,\n",
              "       1, 0, 1, 0, 1, 1, 1, 1, 1, 1, 1, 1, 1, 0, 0, 1, 0, 0, 1, 1, 0, 1,\n",
              "       1, 0, 1, 0, 0, 1, 1, 0, 1, 0, 0, 0, 0, 1, 1, 1, 0, 1, 0, 0, 0, 1,\n",
              "       0, 1, 1, 1, 0, 1, 1, 1, 1, 1, 1, 1, 1, 0, 0, 1, 0, 1, 0, 1, 0, 1,\n",
              "       0, 1, 0, 0, 0, 1, 1, 0, 1, 1, 0, 1, 0, 0, 1, 1, 1, 0, 1, 1, 0, 0,\n",
              "       0, 0, 1, 1, 1, 0, 1, 1, 1, 0, 1, 0, 1, 0, 1, 0, 1, 1, 0, 0, 1, 0,\n",
              "       0, 1, 0, 1, 1, 1, 0, 1, 1, 1, 0, 1, 1, 0, 0, 0, 1, 1, 1, 1, 1, 0,\n",
              "       1, 0, 1, 1, 0, 1, 1, 0, 0, 0, 1, 0, 1, 1, 0, 1, 0, 1, 1, 1, 1, 1,\n",
              "       1, 1, 0, 0, 0, 1, 0, 1, 1, 1, 0, 1, 0, 1, 1, 1, 1, 1, 0, 1, 1, 0,\n",
              "       1, 0, 1, 0, 0, 0, 1, 0, 1, 0, 1, 1, 0, 0, 1, 0, 0, 1, 0, 1, 1, 0,\n",
              "       0, 0, 0, 0, 1, 0, 0, 1, 1, 1, 1, 1])"
            ]
          },
          "execution_count": 92,
          "metadata": {},
          "output_type": "execute_result"
        }
      ],
      "source": [
        "y_teste"
      ]
    },
    {
      "cell_type": "code",
      "execution_count": null,
      "metadata": {
        "id": "aQYth6LjxOSG"
      },
      "outputs": [],
      "source": [
        "from sklearn.metrics import accuracy_score, confusion_matrix, classification_report"
      ]
    },
    {
      "cell_type": "code",
      "execution_count": null,
      "metadata": {
        "colab": {
          "base_uri": "https://localhost:8080/"
        },
        "id": "OWDZlThoxOSI",
        "outputId": "5eed418a-343d-4d09-b982-7aa2424b30c4"
      },
      "outputs": [
        {
          "name": "stdout",
          "output_type": "stream",
          "text": [
            "Acurácia: 84.06%\n"
          ]
        }
      ],
      "source": [
        "print(\"Acurácia: %.2f%%\" % (accuracy_score(y_teste, previsoes_knn) * 100.0))"
      ]
    },
    {
      "cell_type": "code",
      "execution_count": null,
      "metadata": {
        "id": "-IGoTCdmxOSJ"
      },
      "outputs": [],
      "source": [
        "confusion_matrix(y_teste, previsoes_knn)"
      ]
    },
    {
      "cell_type": "code",
      "execution_count": null,
      "metadata": {
        "id": "5V-bhRMvxOSJ"
      },
      "outputs": [],
      "source": [
        "print(classification_report(y_teste, previsoes_knn))"
      ]
    },
    {
      "cell_type": "markdown",
      "metadata": {
        "id": "qEF7YW-Y2KT9"
      },
      "source": [
        "**Análise dados de treino**"
      ]
    },
    {
      "cell_type": "code",
      "execution_count": null,
      "metadata": {
        "id": "gmZgnjMe2KT-"
      },
      "outputs": [],
      "source": [
        "previsoes_treino = knn.predict(x_treino)\n",
        "previsoes_treino"
      ]
    },
    {
      "cell_type": "code",
      "execution_count": null,
      "metadata": {
        "id": "q5pLRV6J2KT_"
      },
      "outputs": [],
      "source": [
        "accuracy_score(y_treino, previsoes_treino)"
      ]
    },
    {
      "cell_type": "code",
      "execution_count": null,
      "metadata": {
        "id": "w4ce2FGJ2KT_"
      },
      "outputs": [],
      "source": [
        "confusion_matrix(y_treino, previsoes_treino)"
      ]
    },
    {
      "cell_type": "markdown",
      "metadata": {
        "id": "pUNWBzC8KJ5v"
      },
      "source": [
        "### **Validação Cruzada**"
      ]
    },
    {
      "cell_type": "code",
      "execution_count": null,
      "metadata": {
        "id": "b88vNYd8KJ5w"
      },
      "outputs": [],
      "source": [
        "from sklearn.model_selection import KFold\n",
        "from sklearn.model_selection import cross_val_score"
      ]
    },
    {
      "cell_type": "code",
      "execution_count": null,
      "metadata": {
        "id": "nG58w5CNKJ5w"
      },
      "outputs": [],
      "source": [
        "# Separando os dados em folds\n",
        "kfold = KFold(n_splits = 30, shuffle=True, random_state = 5)"
      ]
    },
    {
      "cell_type": "code",
      "execution_count": null,
      "metadata": {
        "id": "V9BM96VTKJ5w"
      },
      "outputs": [],
      "source": [
        "# Criando o modelo\n",
        "modelo = KNeighborsClassifier(n_neighbors=7, metric='minkowski', p = 1)\n",
        "resultado = cross_val_score(modelo, previsores3_esc, alvo, cv = kfold)\n",
        "\n",
        "# Usamos a média e o desvio padrão\n",
        "print(\"Acurácia Média: %.2f%%\" % (resultado.mean() * 100.0))"
      ]
    },
    {
      "cell_type": "markdown",
      "metadata": {
        "id": "ovmlWcN6xOSK"
      },
      "source": [
        "Naive Bayes = 84,78% (treino e teste) - 234 acertos e 85,17% (validação cruzada) : previsores3_esc\n",
        "\n",
        "SVM = 86,23% - 238 acertos e 85,72% (validação cruzada) : previsores3-esc - SVC(kernel='rbf', random_state=1, C = 2)\n",
        "\n",
        "Regressão logística = 86,23% - 238 acertos e 85,83% (validação cruzada) : previsores3_esc - LogisticRegression(random_state=1, max_iter=600, penalty=\"l2\", tol=0.0001, C=1,solver=\"lbfgs\")\n",
        "\n",
        "KNN = 84,06% - 232 acertos e 85,84% (validação cruzada) : previsores3_esc ou previsores_esc - KNeighborsClassifier(n_neighbors=7, metric='minkowski', p = 1)\n",
        "\n"
      ]
    },
    {
      "cell_type": "markdown",
      "metadata": {
        "id": "VdGvKcYjODGt"
      },
      "source": [
        "# **ÁRVORE DE DECISÃO**"
      ]
    },
    {
      "cell_type": "markdown",
      "metadata": {
        "id": "i65VtZ4pcQGP"
      },
      "source": [
        "https://scikit-learn.org/stable/modules/tree.html"
      ]
    },
    {
      "cell_type": "code",
      "execution_count": null,
      "metadata": {
        "id": "-2oaMph5OFa2"
      },
      "outputs": [],
      "source": [
        "from sklearn.tree import DecisionTreeClassifier"
      ]
    },
    {
      "cell_type": "code",
      "execution_count": null,
      "metadata": {
        "colab": {
          "base_uri": "https://localhost:8080/"
        },
        "id": "Zxu4_zhCOMVj",
        "outputId": "6c3510dd-61e8-4839-cdc4-d497ee7296b6"
      },
      "outputs": [
        {
          "data": {
            "text/plain": [
              "DecisionTreeClassifier(criterion='entropy', max_depth=3, random_state=0)"
            ]
          },
          "execution_count": 79,
          "metadata": {},
          "output_type": "execute_result"
        }
      ],
      "source": [
        "arvore = DecisionTreeClassifier(criterion='entropy', random_state = 0, max_depth=3)\n",
        "arvore.fit(x_treino, y_treino)"
      ]
    },
    {
      "cell_type": "code",
      "execution_count": null,
      "metadata": {
        "colab": {
          "base_uri": "https://localhost:8080/"
        },
        "id": "UnxRfJZXOVkk",
        "outputId": "1e1d48b9-0d51-4024-9d98-7ec05ffca2a3"
      },
      "outputs": [
        {
          "data": {
            "text/plain": [
              "array([1, 1, 1, 0, 0, 0, 1, 0, 0, 0, 1, 1, 1, 1, 0, 1, 1, 1, 1, 0, 1, 1,\n",
              "       0, 0, 0, 0, 1, 1, 0, 1, 1, 0, 0, 0, 1, 0, 0, 0, 1, 0, 0, 1, 1, 1,\n",
              "       1, 0, 0, 1, 0, 1, 1, 0, 0, 0, 1, 0, 0, 0, 0, 0, 1, 1, 0, 0, 1, 1,\n",
              "       1, 0, 1, 0, 1, 1, 0, 1, 1, 1, 0, 1, 1, 1, 1, 1, 0, 0, 1, 1, 1, 1,\n",
              "       1, 0, 1, 0, 0, 0, 0, 0, 1, 0, 0, 0, 0, 1, 1, 1, 0, 1, 0, 0, 0, 0,\n",
              "       0, 1, 1, 1, 0, 1, 1, 1, 1, 1, 1, 1, 1, 0, 0, 1, 0, 1, 0, 1, 0, 1,\n",
              "       1, 1, 0, 0, 0, 1, 0, 0, 0, 1, 0, 1, 0, 0, 1, 0, 1, 0, 0, 1, 1, 0,\n",
              "       1, 0, 1, 0, 1, 0, 1, 0, 1, 0, 1, 0, 1, 0, 1, 0, 1, 0, 0, 0, 1, 1,\n",
              "       1, 0, 0, 1, 1, 1, 0, 1, 1, 1, 0, 1, 1, 0, 1, 0, 1, 0, 1, 0, 0, 0,\n",
              "       1, 0, 1, 1, 0, 1, 1, 0, 0, 0, 1, 0, 1, 1, 0, 0, 0, 0, 1, 0, 1, 1,\n",
              "       1, 1, 0, 1, 1, 1, 0, 1, 1, 1, 0, 1, 1, 1, 0, 1, 0, 1, 0, 1, 1, 0,\n",
              "       1, 0, 0, 0, 0, 0, 1, 0, 1, 0, 1, 0, 0, 0, 1, 0, 0, 1, 0, 1, 1, 0,\n",
              "       0, 0, 0, 0, 1, 0, 0, 1, 1, 1, 1, 1])"
            ]
          },
          "execution_count": 80,
          "metadata": {},
          "output_type": "execute_result"
        }
      ],
      "source": [
        "previsoes_arvore = arvore.predict(x_teste)\n",
        "previsoes_arvore"
      ]
    },
    {
      "cell_type": "code",
      "execution_count": null,
      "metadata": {
        "colab": {
          "base_uri": "https://localhost:8080/"
        },
        "id": "ozqiMkVAOke6",
        "outputId": "989ba4bc-b728-4a2a-e9a7-0b6a504e4108"
      },
      "outputs": [
        {
          "data": {
            "text/plain": [
              "array([1, 0, 1, 0, 0, 0, 0, 0, 0, 0, 1, 0, 1, 1, 0, 1, 1, 1, 1, 0, 1, 1,\n",
              "       1, 0, 0, 0, 1, 1, 0, 0, 1, 0, 0, 0, 1, 0, 1, 0, 1, 0, 0, 1, 1, 1,\n",
              "       1, 0, 0, 1, 1, 1, 1, 0, 0, 1, 1, 0, 0, 0, 1, 0, 1, 1, 1, 0, 1, 1,\n",
              "       1, 0, 1, 0, 1, 1, 1, 1, 1, 1, 1, 1, 1, 0, 0, 1, 0, 0, 1, 1, 0, 1,\n",
              "       1, 0, 1, 0, 0, 1, 1, 0, 1, 0, 0, 0, 0, 1, 1, 1, 0, 1, 0, 0, 0, 1,\n",
              "       0, 1, 1, 1, 0, 1, 1, 1, 1, 1, 1, 1, 1, 0, 0, 1, 0, 1, 0, 1, 0, 1,\n",
              "       0, 1, 0, 0, 0, 1, 1, 0, 1, 1, 0, 1, 0, 0, 1, 1, 1, 0, 1, 1, 0, 0,\n",
              "       0, 0, 1, 1, 1, 0, 1, 1, 1, 0, 1, 0, 1, 0, 1, 0, 1, 1, 0, 0, 1, 0,\n",
              "       0, 1, 0, 1, 1, 1, 0, 1, 1, 1, 0, 1, 1, 0, 0, 0, 1, 1, 1, 1, 1, 0,\n",
              "       1, 0, 1, 1, 0, 1, 1, 0, 0, 0, 1, 0, 1, 1, 0, 1, 0, 1, 1, 1, 1, 1,\n",
              "       1, 1, 0, 0, 0, 1, 0, 1, 1, 1, 0, 1, 0, 1, 1, 1, 1, 1, 0, 1, 1, 0,\n",
              "       1, 0, 1, 0, 0, 0, 1, 0, 1, 0, 1, 1, 0, 0, 1, 0, 0, 1, 0, 1, 1, 0,\n",
              "       0, 0, 0, 0, 1, 0, 0, 1, 1, 1, 1, 1])"
            ]
          },
          "execution_count": 81,
          "metadata": {},
          "output_type": "execute_result"
        }
      ],
      "source": [
        "y_teste"
      ]
    },
    {
      "cell_type": "code",
      "execution_count": null,
      "metadata": {
        "id": "fS4QmmG9vrl4"
      },
      "outputs": [],
      "source": [
        "from sklearn.metrics import accuracy_score, confusion_matrix, classification_report"
      ]
    },
    {
      "cell_type": "code",
      "execution_count": null,
      "metadata": {
        "colab": {
          "base_uri": "https://localhost:8080/"
        },
        "id": "9vuYKW1_Onqq",
        "outputId": "ddf4cf0a-aabb-4a7d-e3ff-ba8a3606305a"
      },
      "outputs": [
        {
          "name": "stdout",
          "output_type": "stream",
          "text": [
            "Acurácia: 83.70%\n"
          ]
        }
      ],
      "source": [
        "print(\"Acurácia: %.2f%%\" % (accuracy_score(y_teste, previsoes_arvore) * 100.0))"
      ]
    },
    {
      "cell_type": "code",
      "execution_count": null,
      "metadata": {
        "colab": {
          "base_uri": "https://localhost:8080/"
        },
        "id": "IAJonpblPUGh",
        "outputId": "66f0b395-2ac4-4e56-f531-8ac98807e63d"
      },
      "outputs": [
        {
          "data": {
            "text/plain": [
              "array([[105,  16],\n",
              "       [ 29, 126]])"
            ]
          },
          "execution_count": 84,
          "metadata": {},
          "output_type": "execute_result"
        }
      ],
      "source": [
        "confusion_matrix(y_teste, previsoes_arvore)"
      ]
    },
    {
      "cell_type": "code",
      "execution_count": null,
      "metadata": {
        "colab": {
          "base_uri": "https://localhost:8080/"
        },
        "id": "wACzOEs-PcTo",
        "outputId": "266c697d-b64d-430f-cf22-abd9f60924dc"
      },
      "outputs": [
        {
          "name": "stdout",
          "output_type": "stream",
          "text": [
            "              precision    recall  f1-score   support\n",
            "\n",
            "           0       0.78      0.87      0.82       121\n",
            "           1       0.89      0.81      0.85       155\n",
            "\n",
            "    accuracy                           0.84       276\n",
            "   macro avg       0.84      0.84      0.84       276\n",
            "weighted avg       0.84      0.84      0.84       276\n",
            "\n"
          ]
        }
      ],
      "source": [
        "print(classification_report(y_teste, previsoes_arvore))"
      ]
    },
    {
      "cell_type": "markdown",
      "metadata": {
        "id": "PXa_22cA1DcE"
      },
      "source": [
        "**Análise dados de treino**"
      ]
    },
    {
      "cell_type": "code",
      "execution_count": null,
      "metadata": {
        "colab": {
          "base_uri": "https://localhost:8080/"
        },
        "id": "UZFn-68G1DcF",
        "outputId": "18b67019-dc20-4a9f-dcac-01f3b75f3985"
      },
      "outputs": [
        {
          "data": {
            "text/plain": [
              "array([1, 0, 1, 1, 1, 0, 0, 0, 0, 0, 1, 0, 1, 1, 1, 0, 0, 0, 0, 1, 0, 1,\n",
              "       1, 1, 1, 0, 0, 1, 0, 1, 1, 0, 1, 1, 0, 0, 0, 1, 0, 1, 0, 1, 0, 0,\n",
              "       1, 1, 0, 1, 1, 1, 1, 0, 1, 0, 1, 0, 1, 0, 1, 0, 0, 0, 0, 0, 1, 1,\n",
              "       0, 1, 1, 0, 0, 1, 1, 1, 0, 0, 0, 1, 0, 1, 1, 1, 1, 1, 0, 1, 1, 1,\n",
              "       1, 1, 0, 0, 0, 0, 1, 1, 1, 1, 1, 1, 0, 0, 0, 1, 1, 1, 1, 0, 0, 1,\n",
              "       0, 0, 1, 0, 1, 0, 1, 0, 1, 0, 0, 0, 0, 1, 0, 1, 0, 0, 1, 1, 1, 0,\n",
              "       0, 1, 0, 0, 1, 0, 1, 1, 0, 1, 1, 1, 1, 1, 1, 0, 0, 1, 1, 0, 1, 0,\n",
              "       1, 0, 1, 1, 1, 0, 1, 0, 0, 0, 0, 0, 1, 0, 0, 0, 0, 1, 1, 0, 1, 1,\n",
              "       0, 1, 1, 0, 0, 0, 0, 0, 0, 1, 1, 1, 1, 0, 0, 0, 1, 0, 0, 1, 1, 1,\n",
              "       1, 1, 0, 0, 0, 1, 1, 0, 0, 1, 1, 0, 0, 0, 1, 1, 1, 1, 1, 0, 0, 1,\n",
              "       1, 0, 0, 1, 1, 0, 1, 1, 1, 1, 1, 1, 0, 1, 1, 0, 1, 0, 1, 0, 1, 0,\n",
              "       1, 1, 1, 0, 1, 1, 1, 1, 1, 1, 0, 0, 0, 0, 0, 0, 0, 0, 0, 0, 1, 0,\n",
              "       1, 0, 1, 0, 1, 0, 1, 1, 0, 0, 0, 1, 1, 0, 0, 0, 1, 0, 0, 0, 1, 1,\n",
              "       0, 0, 1, 1, 1, 0, 1, 1, 1, 1, 0, 0, 0, 1, 1, 0, 0, 1, 0, 0, 1, 1,\n",
              "       1, 0, 1, 0, 0, 0, 1, 0, 1, 0, 1, 0, 1, 1, 1, 1, 0, 1, 1, 1, 1, 0,\n",
              "       0, 0, 1, 0, 0, 0, 1, 1, 0, 1, 1, 1, 1, 1, 1, 1, 1, 1, 0, 1, 0, 1,\n",
              "       0, 0, 0, 1, 0, 0, 1, 1, 0, 0, 0, 1, 1, 0, 0, 0, 0, 0, 1, 1, 0, 1,\n",
              "       0, 1, 1, 1, 0, 0, 1, 1, 0, 1, 0, 1, 0, 0, 0, 1, 0, 0, 1, 0, 1, 1,\n",
              "       0, 0, 1, 1, 1, 1, 1, 0, 1, 0, 1, 1, 1, 0, 0, 1, 0, 1, 1, 1, 0, 0,\n",
              "       0, 1, 1, 0, 0, 1, 1, 0, 0, 1, 0, 0, 0, 1, 1, 0, 1, 1, 1, 0, 1, 1,\n",
              "       0, 0, 1, 1, 0, 1, 0, 1, 0, 0, 1, 0, 1, 1, 1, 1, 0, 0, 1, 1, 0, 1,\n",
              "       1, 1, 1, 1, 1, 0, 1, 0, 1, 1, 1, 1, 0, 1, 1, 0, 0, 0, 1, 0, 0, 0,\n",
              "       0, 0, 1, 0, 1, 1, 1, 0, 0, 1, 1, 0, 1, 1, 1, 0, 1, 1, 0, 0, 1, 1,\n",
              "       1, 1, 0, 0, 1, 1, 0, 1, 0, 1, 0, 0, 0, 0, 1, 1, 0, 1, 0, 1, 1, 0,\n",
              "       1, 0, 1, 0, 1, 0, 1, 0, 0, 0, 1, 1, 0, 1, 1, 0, 1, 0, 0, 1, 1, 0,\n",
              "       0, 0, 1, 0, 1, 0, 1, 1, 1, 0, 1, 1, 1, 0, 0, 0, 1, 0, 0, 1, 0, 1,\n",
              "       1, 1, 0, 0, 1, 0, 0, 1, 0, 1, 0, 1, 1, 1, 1, 0, 1, 0, 0, 0, 0, 0,\n",
              "       0, 0, 0, 0, 0, 1, 0, 0, 0, 0, 1, 0, 1, 1, 0, 1, 1, 1, 1, 1, 0, 1,\n",
              "       1, 1, 0, 1, 1, 0, 1, 0, 1, 1, 0, 1, 0, 1, 1, 0, 0, 1, 1, 0, 1, 0,\n",
              "       1, 0, 1])"
            ]
          },
          "execution_count": 86,
          "metadata": {},
          "output_type": "execute_result"
        }
      ],
      "source": [
        "previsoes_treino = arvore.predict(x_treino)\n",
        "previsoes_treino"
      ]
    },
    {
      "cell_type": "code",
      "execution_count": null,
      "metadata": {
        "colab": {
          "base_uri": "https://localhost:8080/"
        },
        "id": "mDqKNd3v1DcG",
        "outputId": "f77c0111-4df1-4dc6-8e0e-5fb787455f91"
      },
      "outputs": [
        {
          "data": {
            "text/plain": [
              "0.8517940717628705"
            ]
          },
          "execution_count": 87,
          "metadata": {},
          "output_type": "execute_result"
        }
      ],
      "source": [
        "accuracy_score(y_treino, previsoes_treino)"
      ]
    },
    {
      "cell_type": "code",
      "execution_count": null,
      "metadata": {
        "colab": {
          "base_uri": "https://localhost:8080/"
        },
        "id": "dMQiq4o01DcG",
        "outputId": "f2cf901f-4c2e-484f-e5f5-206f84fe9b70"
      },
      "outputs": [
        {
          "data": {
            "text/plain": [
              "array([[249,  40],\n",
              "       [ 55, 297]])"
            ]
          },
          "execution_count": 88,
          "metadata": {},
          "output_type": "execute_result"
        }
      ],
      "source": [
        "confusion_matrix(y_treino, previsoes_treino)"
      ]
    },
    {
      "cell_type": "markdown",
      "metadata": {
        "id": "dxwugdgiEhdw"
      },
      "source": [
        "### **Validação Cruzada**"
      ]
    },
    {
      "cell_type": "code",
      "execution_count": null,
      "metadata": {
        "id": "ArJOjabUEZJf"
      },
      "outputs": [],
      "source": [
        "from sklearn.model_selection import KFold\n",
        "from sklearn.model_selection import cross_val_score"
      ]
    },
    {
      "cell_type": "code",
      "execution_count": null,
      "metadata": {
        "id": "zfWK55DrEZJg"
      },
      "outputs": [],
      "source": [
        "# Separando os dados em folds\n",
        "kfold = KFold(n_splits = 30, shuffle=True, random_state = 5)"
      ]
    },
    {
      "cell_type": "code",
      "execution_count": null,
      "metadata": {
        "colab": {
          "base_uri": "https://localhost:8080/"
        },
        "id": "MwGsKOFZEZJh",
        "outputId": "674ff8da-e722-487b-95c3-7a65afd6b7ca"
      },
      "outputs": [
        {
          "name": "stdout",
          "output_type": "stream",
          "text": [
            "Acurácia Média: 83.32%\n"
          ]
        }
      ],
      "source": [
        "# Criando o modelo\n",
        "modelo = DecisionTreeClassifier(criterion='entropy', random_state = 0, max_depth=3)\n",
        "resultado = cross_val_score(modelo, previsores3_esc, alvo, cv = kfold)\n",
        "\n",
        "# Usamos a média e o desvio padrão\n",
        "print(\"Acurácia Média: %.2f%%\" % (resultado.mean() * 100.0))"
      ]
    },
    {
      "cell_type": "markdown",
      "metadata": {
        "id": "-Ti98jalQK23"
      },
      "source": [
        "Naive Bayes = 84,78% (treino e teste) - 234 acertos e 85,17% (validação cruzada) : previsores3_esc\n",
        "\n",
        "SVM = 86,23% - 238 acertos e 85,72% (validação cruzada) : previsores3-esc - SVC(kernel='rbf', random_state=1, C = 2)\n",
        "\n",
        "Regressão logística = 86,23% - 238 acertos e 85,83% (validação cruzada) : previsores3_esc - LogisticRegression(random_state=1, max_iter=600, penalty=\"l2\", tol=0.0001, C=1,solver=\"lbfgs\")\n",
        "\n",
        "KNN = 84,06% - 232 acertos e 85,84% (validação cruzada) : previsores3_esc ou previsores_esc - KNeighborsClassifier(n_neighbors=7, metric='minkowski', p = 1)\n",
        "\n",
        "Árvore de decisão = 83,7% (treino e teste) - 231 acertos e 83,32% (validação cruzada): previsores3_esc - DecisionTreeClassifier(criterion='entropy', random_state = 0, max_depth=3)"
      ]
    },
    {
      "cell_type": "markdown",
      "metadata": {
        "id": "hw7px-UemoSc"
      },
      "source": [
        "# **RANDOM FOREST**"
      ]
    },
    {
      "cell_type": "markdown",
      "metadata": {
        "id": "HAUbw5xfcCYy"
      },
      "source": [
        "https://scikit-learn.org/stable/modules/generated/sklearn.ensemble.RandomForestClassifier.html"
      ]
    },
    {
      "cell_type": "code",
      "execution_count": null,
      "metadata": {
        "id": "BqqXdinImokj"
      },
      "outputs": [],
      "source": [
        "from sklearn.ensemble import RandomForestClassifier"
      ]
    },
    {
      "cell_type": "code",
      "execution_count": null,
      "metadata": {
        "colab": {
          "base_uri": "https://localhost:8080/",
          "height": 92
        },
        "id": "Klr3lymumztn",
        "outputId": "cb308bba-a7d7-4fd7-9d88-4e4f5cc6918f"
      },
      "outputs": [
        {
          "output_type": "execute_result",
          "data": {
            "text/plain": [
              "RandomForestClassifier(criterion='entropy', max_depth=4, n_estimators=150,\n",
              "                       random_state=0)"
            ],
            "text/html": [
              "<style>#sk-container-id-1 {color: black;background-color: white;}#sk-container-id-1 pre{padding: 0;}#sk-container-id-1 div.sk-toggleable {background-color: white;}#sk-container-id-1 label.sk-toggleable__label {cursor: pointer;display: block;width: 100%;margin-bottom: 0;padding: 0.3em;box-sizing: border-box;text-align: center;}#sk-container-id-1 label.sk-toggleable__label-arrow:before {content: \"▸\";float: left;margin-right: 0.25em;color: #696969;}#sk-container-id-1 label.sk-toggleable__label-arrow:hover:before {color: black;}#sk-container-id-1 div.sk-estimator:hover label.sk-toggleable__label-arrow:before {color: black;}#sk-container-id-1 div.sk-toggleable__content {max-height: 0;max-width: 0;overflow: hidden;text-align: left;background-color: #f0f8ff;}#sk-container-id-1 div.sk-toggleable__content pre {margin: 0.2em;color: black;border-radius: 0.25em;background-color: #f0f8ff;}#sk-container-id-1 input.sk-toggleable__control:checked~div.sk-toggleable__content {max-height: 200px;max-width: 100%;overflow: auto;}#sk-container-id-1 input.sk-toggleable__control:checked~label.sk-toggleable__label-arrow:before {content: \"▾\";}#sk-container-id-1 div.sk-estimator input.sk-toggleable__control:checked~label.sk-toggleable__label {background-color: #d4ebff;}#sk-container-id-1 div.sk-label input.sk-toggleable__control:checked~label.sk-toggleable__label {background-color: #d4ebff;}#sk-container-id-1 input.sk-hidden--visually {border: 0;clip: rect(1px 1px 1px 1px);clip: rect(1px, 1px, 1px, 1px);height: 1px;margin: -1px;overflow: hidden;padding: 0;position: absolute;width: 1px;}#sk-container-id-1 div.sk-estimator {font-family: monospace;background-color: #f0f8ff;border: 1px dotted black;border-radius: 0.25em;box-sizing: border-box;margin-bottom: 0.5em;}#sk-container-id-1 div.sk-estimator:hover {background-color: #d4ebff;}#sk-container-id-1 div.sk-parallel-item::after {content: \"\";width: 100%;border-bottom: 1px solid gray;flex-grow: 1;}#sk-container-id-1 div.sk-label:hover label.sk-toggleable__label {background-color: #d4ebff;}#sk-container-id-1 div.sk-serial::before {content: \"\";position: absolute;border-left: 1px solid gray;box-sizing: border-box;top: 0;bottom: 0;left: 50%;z-index: 0;}#sk-container-id-1 div.sk-serial {display: flex;flex-direction: column;align-items: center;background-color: white;padding-right: 0.2em;padding-left: 0.2em;position: relative;}#sk-container-id-1 div.sk-item {position: relative;z-index: 1;}#sk-container-id-1 div.sk-parallel {display: flex;align-items: stretch;justify-content: center;background-color: white;position: relative;}#sk-container-id-1 div.sk-item::before, #sk-container-id-1 div.sk-parallel-item::before {content: \"\";position: absolute;border-left: 1px solid gray;box-sizing: border-box;top: 0;bottom: 0;left: 50%;z-index: -1;}#sk-container-id-1 div.sk-parallel-item {display: flex;flex-direction: column;z-index: 1;position: relative;background-color: white;}#sk-container-id-1 div.sk-parallel-item:first-child::after {align-self: flex-end;width: 50%;}#sk-container-id-1 div.sk-parallel-item:last-child::after {align-self: flex-start;width: 50%;}#sk-container-id-1 div.sk-parallel-item:only-child::after {width: 0;}#sk-container-id-1 div.sk-dashed-wrapped {border: 1px dashed gray;margin: 0 0.4em 0.5em 0.4em;box-sizing: border-box;padding-bottom: 0.4em;background-color: white;}#sk-container-id-1 div.sk-label label {font-family: monospace;font-weight: bold;display: inline-block;line-height: 1.2em;}#sk-container-id-1 div.sk-label-container {text-align: center;}#sk-container-id-1 div.sk-container {/* jupyter's `normalize.less` sets `[hidden] { display: none; }` but bootstrap.min.css set `[hidden] { display: none !important; }` so we also need the `!important` here to be able to override the default hidden behavior on the sphinx rendered scikit-learn.org. See: https://github.com/scikit-learn/scikit-learn/issues/21755 */display: inline-block !important;position: relative;}#sk-container-id-1 div.sk-text-repr-fallback {display: none;}</style><div id=\"sk-container-id-1\" class=\"sk-top-container\"><div class=\"sk-text-repr-fallback\"><pre>RandomForestClassifier(criterion=&#x27;entropy&#x27;, max_depth=4, n_estimators=150,\n",
              "                       random_state=0)</pre><b>In a Jupyter environment, please rerun this cell to show the HTML representation or trust the notebook. <br />On GitHub, the HTML representation is unable to render, please try loading this page with nbviewer.org.</b></div><div class=\"sk-container\" hidden><div class=\"sk-item\"><div class=\"sk-estimator sk-toggleable\"><input class=\"sk-toggleable__control sk-hidden--visually\" id=\"sk-estimator-id-1\" type=\"checkbox\" checked><label for=\"sk-estimator-id-1\" class=\"sk-toggleable__label sk-toggleable__label-arrow\">RandomForestClassifier</label><div class=\"sk-toggleable__content\"><pre>RandomForestClassifier(criterion=&#x27;entropy&#x27;, max_depth=4, n_estimators=150,\n",
              "                       random_state=0)</pre></div></div></div></div></div>"
            ]
          },
          "metadata": {},
          "execution_count": 116
        }
      ],
      "source": [
        "random = RandomForestClassifier(n_estimators=150, criterion='entropy', random_state = 0, max_depth=4)\n",
        "random.fit(x_treino, y_treino)"
      ]
    },
    {
      "cell_type": "code",
      "execution_count": null,
      "metadata": {
        "colab": {
          "base_uri": "https://localhost:8080/"
        },
        "id": "0JOqI4bQnY17",
        "outputId": "c9e0f2c6-23db-46b2-f1d4-a1eff12a76f1"
      },
      "outputs": [
        {
          "output_type": "execute_result",
          "data": {
            "text/plain": [
              "array([1, 1, 1, 0, 0, 0, 1, 0, 0, 0, 1, 1, 1, 1, 0, 1, 1, 1, 1, 0, 1, 1,\n",
              "       0, 0, 0, 0, 1, 1, 1, 1, 1, 0, 0, 0, 1, 0, 0, 0, 1, 0, 0, 1, 1, 1,\n",
              "       1, 0, 0, 1, 0, 1, 1, 0, 0, 0, 1, 0, 0, 0, 0, 0, 1, 1, 1, 0, 1, 1,\n",
              "       1, 0, 1, 0, 1, 1, 0, 1, 1, 1, 0, 1, 1, 1, 1, 1, 0, 0, 1, 1, 1, 1,\n",
              "       1, 0, 1, 0, 0, 0, 0, 0, 1, 0, 0, 0, 0, 1, 1, 1, 0, 1, 0, 0, 0, 0,\n",
              "       0, 1, 1, 1, 0, 1, 0, 1, 1, 1, 1, 1, 1, 0, 1, 1, 0, 1, 0, 1, 0, 1,\n",
              "       1, 1, 0, 1, 1, 1, 1, 0, 0, 1, 0, 1, 1, 0, 1, 0, 1, 0, 0, 1, 1, 0,\n",
              "       1, 0, 1, 1, 1, 0, 1, 1, 1, 0, 1, 0, 1, 0, 1, 0, 1, 1, 0, 0, 1, 1,\n",
              "       1, 0, 0, 1, 1, 1, 0, 1, 1, 1, 0, 1, 1, 0, 1, 0, 1, 0, 1, 0, 0, 0,\n",
              "       1, 0, 1, 1, 0, 1, 1, 0, 0, 0, 1, 0, 1, 1, 0, 0, 0, 0, 1, 0, 1, 1,\n",
              "       1, 0, 0, 1, 1, 1, 0, 1, 0, 1, 0, 1, 1, 1, 0, 1, 1, 1, 0, 1, 1, 0,\n",
              "       1, 0, 0, 0, 0, 0, 1, 0, 1, 0, 1, 0, 0, 0, 1, 0, 0, 1, 0, 1, 1, 0,\n",
              "       0, 0, 0, 0, 1, 0, 0, 1, 1, 1, 1, 1])"
            ]
          },
          "metadata": {},
          "execution_count": 117
        }
      ],
      "source": [
        "previsoes_random = random.predict(x_teste)\n",
        "previsoes_random"
      ]
    },
    {
      "cell_type": "code",
      "execution_count": null,
      "metadata": {
        "colab": {
          "base_uri": "https://localhost:8080/"
        },
        "id": "fRN6hPPXn5qp",
        "outputId": "b6c67740-3fe6-43eb-f72d-5d0e717f6d85"
      },
      "outputs": [
        {
          "output_type": "execute_result",
          "data": {
            "text/plain": [
              "array([1, 0, 1, 0, 0, 0, 0, 0, 0, 0, 1, 0, 1, 1, 0, 1, 1, 1, 1, 0, 1, 1,\n",
              "       1, 0, 0, 0, 1, 1, 0, 0, 1, 0, 0, 0, 1, 0, 1, 0, 1, 0, 0, 1, 1, 1,\n",
              "       1, 0, 0, 1, 1, 1, 1, 0, 0, 1, 1, 0, 0, 0, 1, 0, 1, 1, 1, 0, 1, 1,\n",
              "       1, 0, 1, 0, 1, 1, 1, 1, 1, 1, 1, 1, 1, 0, 0, 1, 0, 0, 1, 1, 0, 1,\n",
              "       1, 0, 1, 0, 0, 1, 1, 0, 1, 0, 0, 0, 0, 1, 1, 1, 0, 1, 0, 0, 0, 1,\n",
              "       0, 1, 1, 1, 0, 1, 1, 1, 1, 1, 1, 1, 1, 0, 0, 1, 0, 1, 0, 1, 0, 1,\n",
              "       0, 1, 0, 0, 0, 1, 1, 0, 1, 1, 0, 1, 0, 0, 1, 1, 1, 0, 1, 1, 0, 0,\n",
              "       0, 0, 1, 1, 1, 0, 1, 1, 1, 0, 1, 0, 1, 0, 1, 0, 1, 1, 0, 0, 1, 0,\n",
              "       0, 1, 0, 1, 1, 1, 0, 1, 1, 1, 0, 1, 1, 0, 0, 0, 1, 1, 1, 1, 1, 0,\n",
              "       1, 0, 1, 1, 0, 1, 1, 0, 0, 0, 1, 0, 1, 1, 0, 1, 0, 1, 1, 1, 1, 1,\n",
              "       1, 1, 0, 0, 0, 1, 0, 1, 1, 1, 0, 1, 0, 1, 1, 1, 1, 1, 0, 1, 1, 0,\n",
              "       1, 0, 1, 0, 0, 0, 1, 0, 1, 0, 1, 1, 0, 0, 1, 0, 0, 1, 0, 1, 1, 0,\n",
              "       0, 0, 0, 0, 1, 0, 0, 1, 1, 1, 1, 1])"
            ]
          },
          "metadata": {},
          "execution_count": 118
        }
      ],
      "source": [
        "y_teste"
      ]
    },
    {
      "cell_type": "code",
      "execution_count": null,
      "metadata": {
        "id": "cgB44VIOvpZf"
      },
      "outputs": [],
      "source": [
        "from sklearn.metrics import accuracy_score, confusion_matrix, classification_report"
      ]
    },
    {
      "cell_type": "code",
      "execution_count": null,
      "metadata": {
        "colab": {
          "base_uri": "https://localhost:8080/"
        },
        "id": "gnAuxYDDoDxM",
        "outputId": "64b961c6-8d01-4029-c174-a63ec3aea895"
      },
      "outputs": [
        {
          "name": "stdout",
          "output_type": "stream",
          "text": [
            "Acurácia: 82.97%\n"
          ]
        }
      ],
      "source": [
        "print(\"Acurácia: %.2f%%\" % (accuracy_score(y_teste, previsoes_random) * 100.0))"
      ]
    },
    {
      "cell_type": "code",
      "execution_count": null,
      "metadata": {
        "colab": {
          "base_uri": "https://localhost:8080/"
        },
        "id": "zjAqh3e8oDxN",
        "outputId": "daf69261-7bc6-4862-db82-154745d102b7"
      },
      "outputs": [
        {
          "data": {
            "text/plain": [
              "array([[100,  21],\n",
              "       [ 26, 129]])"
            ]
          },
          "execution_count": 98,
          "metadata": {},
          "output_type": "execute_result"
        }
      ],
      "source": [
        "confusion_matrix(y_teste, previsoes_random)"
      ]
    },
    {
      "cell_type": "code",
      "execution_count": null,
      "metadata": {
        "colab": {
          "base_uri": "https://localhost:8080/"
        },
        "id": "IdpisYpjoDxO",
        "outputId": "5136adaa-a92e-4a58-aeef-31c8b0df6ad9"
      },
      "outputs": [
        {
          "name": "stdout",
          "output_type": "stream",
          "text": [
            "              precision    recall  f1-score   support\n",
            "\n",
            "           0       0.79      0.83      0.81       121\n",
            "           1       0.86      0.83      0.85       155\n",
            "\n",
            "    accuracy                           0.83       276\n",
            "   macro avg       0.83      0.83      0.83       276\n",
            "weighted avg       0.83      0.83      0.83       276\n",
            "\n"
          ]
        }
      ],
      "source": [
        "print(classification_report(y_teste, previsoes_random))"
      ]
    },
    {
      "cell_type": "markdown",
      "metadata": {
        "id": "e9NiPecr1bdw"
      },
      "source": [
        "**Análise dados de treino**"
      ]
    },
    {
      "cell_type": "code",
      "execution_count": null,
      "metadata": {
        "colab": {
          "base_uri": "https://localhost:8080/"
        },
        "id": "DDs9J1hX1bdx",
        "outputId": "9a2b429c-35cf-415e-ff26-a0d911bcb39b"
      },
      "outputs": [
        {
          "data": {
            "text/plain": [
              "array([1, 1, 1, 1, 1, 1, 0, 0, 0, 0, 1, 0, 1, 1, 1, 0, 0, 0, 0, 1, 1, 1,\n",
              "       1, 1, 1, 0, 0, 1, 1, 1, 1, 0, 1, 1, 0, 0, 1, 1, 0, 1, 0, 1, 0, 0,\n",
              "       1, 1, 0, 1, 1, 1, 1, 0, 1, 1, 1, 0, 1, 0, 1, 0, 0, 0, 0, 0, 1, 1,\n",
              "       0, 0, 1, 0, 1, 1, 1, 1, 0, 0, 1, 1, 1, 1, 1, 1, 1, 1, 0, 1, 1, 1,\n",
              "       1, 1, 0, 1, 0, 0, 1, 1, 1, 1, 1, 1, 1, 1, 0, 1, 1, 1, 1, 0, 0, 1,\n",
              "       0, 0, 1, 0, 1, 0, 1, 0, 1, 0, 0, 0, 0, 1, 1, 1, 0, 0, 1, 1, 1, 0,\n",
              "       0, 1, 0, 0, 1, 0, 1, 1, 0, 1, 1, 1, 1, 1, 0, 0, 0, 1, 1, 0, 1, 0,\n",
              "       1, 0, 1, 1, 1, 0, 1, 0, 0, 0, 0, 0, 1, 0, 0, 0, 0, 1, 1, 0, 1, 0,\n",
              "       0, 1, 1, 0, 0, 0, 0, 0, 0, 1, 1, 1, 1, 1, 0, 0, 1, 0, 0, 1, 1, 0,\n",
              "       1, 1, 0, 0, 0, 1, 1, 1, 1, 1, 1, 0, 1, 0, 1, 1, 1, 1, 1, 0, 0, 1,\n",
              "       1, 0, 0, 1, 1, 1, 1, 1, 1, 1, 1, 1, 0, 1, 1, 0, 1, 0, 1, 0, 1, 0,\n",
              "       1, 1, 0, 1, 1, 1, 1, 1, 1, 1, 0, 0, 0, 0, 0, 0, 0, 0, 1, 0, 1, 1,\n",
              "       1, 0, 1, 0, 1, 0, 1, 1, 0, 1, 0, 1, 1, 1, 0, 0, 1, 0, 0, 0, 1, 1,\n",
              "       1, 1, 1, 1, 1, 0, 1, 1, 0, 1, 0, 1, 0, 1, 1, 0, 0, 1, 0, 0, 1, 1,\n",
              "       1, 0, 1, 0, 1, 0, 1, 0, 1, 1, 1, 0, 1, 1, 1, 1, 0, 1, 1, 1, 1, 0,\n",
              "       0, 0, 1, 0, 0, 0, 1, 1, 0, 1, 1, 1, 1, 1, 1, 0, 1, 1, 0, 1, 0, 1,\n",
              "       0, 0, 0, 1, 0, 0, 1, 1, 0, 1, 0, 1, 1, 0, 0, 0, 0, 0, 1, 1, 1, 1,\n",
              "       0, 1, 1, 1, 0, 1, 1, 1, 0, 1, 0, 1, 0, 0, 0, 1, 0, 0, 1, 1, 1, 1,\n",
              "       0, 0, 1, 1, 1, 1, 1, 0, 1, 0, 1, 1, 1, 0, 1, 1, 0, 1, 1, 1, 0, 0,\n",
              "       0, 1, 1, 0, 0, 1, 1, 0, 1, 1, 0, 0, 0, 1, 1, 1, 1, 1, 1, 1, 1, 1,\n",
              "       0, 0, 1, 1, 0, 1, 0, 1, 0, 0, 1, 0, 1, 1, 1, 1, 0, 0, 0, 1, 0, 1,\n",
              "       1, 1, 1, 1, 1, 0, 1, 0, 1, 1, 1, 1, 1, 1, 1, 0, 0, 0, 1, 0, 0, 0,\n",
              "       0, 0, 1, 0, 1, 1, 1, 0, 0, 1, 1, 0, 0, 1, 1, 0, 1, 1, 0, 0, 1, 1,\n",
              "       1, 1, 0, 0, 1, 1, 1, 1, 0, 1, 0, 0, 1, 0, 1, 1, 1, 1, 0, 1, 1, 0,\n",
              "       1, 0, 1, 0, 1, 0, 1, 0, 1, 0, 1, 1, 0, 1, 1, 1, 1, 0, 0, 1, 1, 0,\n",
              "       0, 1, 1, 0, 1, 0, 1, 1, 1, 0, 1, 1, 0, 1, 0, 1, 1, 0, 0, 1, 0, 1,\n",
              "       1, 1, 0, 1, 1, 0, 0, 1, 0, 1, 0, 1, 1, 1, 1, 0, 1, 0, 0, 0, 0, 1,\n",
              "       0, 0, 1, 0, 0, 1, 0, 0, 0, 0, 1, 0, 1, 1, 0, 1, 1, 1, 1, 1, 0, 1,\n",
              "       1, 1, 1, 1, 1, 0, 1, 1, 1, 1, 1, 1, 0, 1, 1, 0, 0, 1, 1, 0, 1, 0,\n",
              "       1, 0, 1])"
            ]
          },
          "execution_count": 100,
          "metadata": {},
          "output_type": "execute_result"
        }
      ],
      "source": [
        "previsoes_treino = random.predict(x_treino)\n",
        "previsoes_treino"
      ]
    },
    {
      "cell_type": "code",
      "execution_count": null,
      "metadata": {
        "colab": {
          "base_uri": "https://localhost:8080/"
        },
        "id": "MkH9uYfz1bdy",
        "outputId": "294506d8-d7dc-4df2-ff52-321c81a66df3"
      },
      "outputs": [
        {
          "data": {
            "text/plain": [
              "0.8783151326053042"
            ]
          },
          "execution_count": 101,
          "metadata": {},
          "output_type": "execute_result"
        }
      ],
      "source": [
        "accuracy_score(y_treino, previsoes_treino)"
      ]
    },
    {
      "cell_type": "code",
      "execution_count": null,
      "metadata": {
        "colab": {
          "base_uri": "https://localhost:8080/"
        },
        "id": "pLge3xVL1bdy",
        "outputId": "85d127eb-3fd0-4483-b485-514522c894c8"
      },
      "outputs": [
        {
          "data": {
            "text/plain": [
              "array([[237,  52],\n",
              "       [ 26, 326]])"
            ]
          },
          "execution_count": 102,
          "metadata": {},
          "output_type": "execute_result"
        }
      ],
      "source": [
        "confusion_matrix(y_treino, previsoes_treino)"
      ]
    },
    {
      "cell_type": "markdown",
      "metadata": {
        "id": "GH4nEvlaGOb7"
      },
      "source": [
        "### **Validação Cruzada**"
      ]
    },
    {
      "cell_type": "code",
      "execution_count": null,
      "metadata": {
        "id": "hreEC55-GOb8"
      },
      "outputs": [],
      "source": [
        "from sklearn.model_selection import KFold\n",
        "from sklearn.model_selection import cross_val_score"
      ]
    },
    {
      "cell_type": "code",
      "execution_count": null,
      "metadata": {
        "id": "ETYEB99OGOb9"
      },
      "outputs": [],
      "source": [
        "# Separando os dados em folds\n",
        "kfold = KFold(n_splits = 30, shuffle=True, random_state = 5)"
      ]
    },
    {
      "cell_type": "code",
      "execution_count": null,
      "metadata": {
        "colab": {
          "base_uri": "https://localhost:8080/"
        },
        "id": "7GHcsag3GOb9",
        "outputId": "eaf5c917-bc92-44d5-f4db-21e7212c6602"
      },
      "outputs": [
        {
          "output_type": "stream",
          "name": "stdout",
          "text": [
            "Acurácia Média: 85.92%\n"
          ]
        }
      ],
      "source": [
        "# Criando o modelo\n",
        "modelo = RandomForestClassifier(n_estimators=150, criterion='entropy', random_state = 0, max_depth=4)\n",
        "resultado = cross_val_score(modelo, previsores, alvo, cv = kfold)\n",
        "\n",
        "# Usamos a média e o desvio padrão\n",
        "print(\"Acurácia Média: %.2f%%\" % (resultado.mean() * 100.0))"
      ]
    },
    {
      "cell_type": "markdown",
      "metadata": {
        "id": "N3dUl9DDpNnz"
      },
      "source": [
        "Naive Bayes = 84,78% (treino e teste) - 234 acertos e 85,17% (validação cruzada) : previsores3_esc\n",
        "\n",
        "SVM = 86,23% - 238 acertos e 85,72% (validação cruzada) : previsores3-esc - SVC(kernel='rbf', random_state=1, C = 2)\n",
        "\n",
        "Regressão logística = 86,23% - 238 acertos e 85,83% (validação cruzada) : previsores3_esc - LogisticRegression(random_state=1, max_iter=600, penalty=\"l2\", tol=0.0001, C=1,solver=\"lbfgs\")\n",
        "\n",
        "KNN = 84,06% - 232 acertos e 85,84% (validação cruzada) : previsores3_esc ou previsores_esc - KNeighborsClassifier(n_neighbors=7, metric='minkowski', p = 1)\n",
        "\n",
        "Árvore de decisão = 83,7% (treino e teste) - 231 acertos e 83,32% (validação cruzada): previsores3_esc - DecisionTreeClassifier(criterion='entropy', random_state = 0, max_depth=3)\n",
        "\n",
        "Random Forest = 86,59% - 239 acertos e 85,92% (validação cruzada) : previsores - RandomForestClassifier(n_estimators=150, criterion='entropy', random_state = 0, max_depth=4)"
      ]
    },
    {
      "cell_type": "markdown",
      "metadata": {
        "id": "jH3OocboSGXH"
      },
      "source": [
        "# **XGBOOST**"
      ]
    },
    {
      "cell_type": "markdown",
      "metadata": {
        "id": "OpLLJlcnbcsR"
      },
      "source": [
        "https://xgboost.readthedocs.io/en/stable/"
      ]
    },
    {
      "cell_type": "code",
      "execution_count": null,
      "metadata": {
        "id": "PKdcu1J2Qk0h"
      },
      "outputs": [],
      "source": [
        "from xgboost import XGBClassifier"
      ]
    },
    {
      "cell_type": "code",
      "execution_count": null,
      "metadata": {
        "colab": {
          "base_uri": "https://localhost:8080/"
        },
        "id": "jyOMVARbQmLa",
        "outputId": "3ae6ea97-bcb3-47b2-ded9-fad9f5ad7c04"
      },
      "outputs": [
        {
          "data": {
            "text/plain": [
              "XGBClassifier(learning_rate=0.05, max_depth=2, n_estimators=250, random_state=3)"
            ]
          },
          "execution_count": 107,
          "metadata": {},
          "output_type": "execute_result"
        }
      ],
      "source": [
        "xg = XGBClassifier(max_depth=2, learning_rate=0.05, n_estimators=250, objective='binary:logistic', random_state=3)\n",
        "xg.fit(x_treino,y_treino)"
      ]
    },
    {
      "cell_type": "code",
      "execution_count": null,
      "metadata": {
        "colab": {
          "base_uri": "https://localhost:8080/"
        },
        "id": "QrR1ZLZVQ5K4",
        "outputId": "ed1e43d4-20a6-4e95-824b-1360ebb3cb69"
      },
      "outputs": [
        {
          "data": {
            "text/plain": [
              "array([1, 1, 1, 0, 0, 0, 1, 0, 0, 0, 1, 1, 1, 1, 0, 1, 1, 1, 1, 0, 1, 1,\n",
              "       1, 0, 0, 0, 1, 1, 1, 1, 1, 0, 0, 0, 1, 0, 0, 0, 1, 0, 0, 1, 1, 1,\n",
              "       1, 0, 0, 1, 0, 1, 1, 0, 0, 0, 1, 0, 0, 0, 1, 0, 1, 1, 1, 0, 1, 1,\n",
              "       1, 0, 1, 0, 1, 1, 0, 1, 1, 1, 1, 1, 1, 1, 1, 1, 0, 0, 1, 1, 1, 1,\n",
              "       1, 0, 1, 0, 0, 0, 1, 0, 1, 0, 0, 0, 0, 1, 1, 1, 0, 1, 0, 0, 0, 1,\n",
              "       0, 1, 1, 1, 0, 1, 0, 1, 1, 1, 1, 1, 1, 0, 1, 1, 0, 1, 0, 1, 0, 1,\n",
              "       1, 1, 0, 0, 1, 1, 1, 0, 0, 1, 0, 1, 1, 0, 1, 1, 1, 0, 0, 1, 1, 0,\n",
              "       1, 0, 1, 1, 1, 0, 1, 1, 1, 0, 1, 0, 1, 0, 1, 0, 1, 1, 0, 0, 1, 0,\n",
              "       1, 0, 0, 1, 1, 1, 0, 1, 1, 1, 0, 1, 1, 0, 1, 0, 1, 0, 1, 1, 0, 0,\n",
              "       1, 0, 1, 1, 0, 1, 1, 0, 0, 0, 1, 0, 1, 1, 0, 1, 0, 0, 1, 0, 1, 1,\n",
              "       1, 0, 0, 0, 1, 1, 0, 1, 0, 1, 0, 1, 1, 1, 0, 1, 1, 1, 0, 1, 1, 0,\n",
              "       1, 0, 0, 0, 0, 0, 1, 0, 1, 0, 1, 1, 0, 0, 1, 0, 0, 1, 0, 0, 1, 0,\n",
              "       1, 0, 0, 0, 1, 0, 0, 1, 1, 1, 1, 1])"
            ]
          },
          "execution_count": 108,
          "metadata": {},
          "output_type": "execute_result"
        }
      ],
      "source": [
        "previsoes_xg = xg.predict(x_teste)\n",
        "previsoes_xg"
      ]
    },
    {
      "cell_type": "code",
      "execution_count": null,
      "metadata": {
        "id": "HSR36D1mRZpz"
      },
      "outputs": [],
      "source": [
        "from sklearn.metrics import accuracy_score, confusion_matrix, classification_report"
      ]
    },
    {
      "cell_type": "code",
      "execution_count": null,
      "metadata": {
        "colab": {
          "base_uri": "https://localhost:8080/"
        },
        "id": "UxMj0PznRZp0",
        "outputId": "fad33712-32ab-4f48-8964-9cd44d7aeb83"
      },
      "outputs": [
        {
          "name": "stdout",
          "output_type": "stream",
          "text": [
            "Acurácia: 86.59%\n"
          ]
        }
      ],
      "source": [
        "print(\"Acurácia: %.2f%%\" % (accuracy_score(y_teste, previsoes_xg) * 100.0))"
      ]
    },
    {
      "cell_type": "code",
      "execution_count": null,
      "metadata": {
        "colab": {
          "base_uri": "https://localhost:8080/"
        },
        "id": "5PcyMmFqRZp1",
        "outputId": "bb8f8bc5-0ad0-4446-e774-e08a568cfe63"
      },
      "outputs": [
        {
          "data": {
            "text/plain": [
              "array([[102,  19],\n",
              "       [ 18, 137]])"
            ]
          },
          "execution_count": 111,
          "metadata": {},
          "output_type": "execute_result"
        }
      ],
      "source": [
        "confusion_matrix(y_teste, previsoes_xg)"
      ]
    },
    {
      "cell_type": "code",
      "execution_count": null,
      "metadata": {
        "colab": {
          "base_uri": "https://localhost:8080/"
        },
        "id": "fBYjluOzRZp2",
        "outputId": "491bdd0d-75b3-4777-d254-dd1cd6e61a6c"
      },
      "outputs": [
        {
          "name": "stdout",
          "output_type": "stream",
          "text": [
            "              precision    recall  f1-score   support\n",
            "\n",
            "           0       0.85      0.84      0.85       121\n",
            "           1       0.88      0.88      0.88       155\n",
            "\n",
            "    accuracy                           0.87       276\n",
            "   macro avg       0.86      0.86      0.86       276\n",
            "weighted avg       0.87      0.87      0.87       276\n",
            "\n"
          ]
        }
      ],
      "source": [
        "print(classification_report(y_teste, previsoes_xg))"
      ]
    },
    {
      "cell_type": "markdown",
      "metadata": {
        "id": "VLAUCC_t2dkX"
      },
      "source": [
        "**Análise dados de treino**"
      ]
    },
    {
      "cell_type": "code",
      "execution_count": null,
      "metadata": {
        "colab": {
          "base_uri": "https://localhost:8080/"
        },
        "id": "K5oak1Jy2dkY",
        "outputId": "ffd853db-dfd2-4dd1-ce82-08c890998da8"
      },
      "outputs": [
        {
          "data": {
            "text/plain": [
              "array([1, 0, 1, 1, 1, 1, 0, 0, 0, 0, 1, 0, 1, 1, 1, 0, 0, 0, 0, 1, 0, 1,\n",
              "       1, 1, 1, 0, 0, 1, 1, 1, 1, 0, 1, 1, 0, 0, 1, 1, 0, 1, 0, 1, 0, 0,\n",
              "       1, 1, 0, 1, 1, 1, 0, 0, 1, 0, 1, 0, 1, 0, 1, 0, 0, 0, 1, 0, 1, 1,\n",
              "       0, 1, 1, 0, 0, 1, 1, 1, 0, 0, 1, 1, 1, 1, 1, 1, 1, 1, 0, 1, 1, 1,\n",
              "       1, 1, 0, 0, 0, 0, 1, 1, 1, 1, 1, 1, 1, 1, 0, 1, 1, 1, 1, 0, 1, 1,\n",
              "       0, 0, 1, 0, 1, 0, 1, 0, 1, 0, 0, 0, 0, 1, 0, 1, 1, 0, 1, 1, 1, 0,\n",
              "       1, 1, 0, 0, 1, 0, 1, 1, 0, 1, 1, 1, 1, 1, 0, 0, 0, 1, 1, 0, 1, 0,\n",
              "       1, 0, 1, 1, 1, 0, 1, 0, 0, 0, 1, 0, 1, 0, 0, 0, 0, 1, 1, 0, 1, 0,\n",
              "       0, 1, 1, 0, 0, 0, 0, 0, 0, 1, 1, 1, 1, 1, 0, 0, 1, 0, 0, 1, 1, 1,\n",
              "       1, 1, 0, 0, 0, 1, 1, 1, 1, 1, 0, 0, 1, 0, 1, 1, 1, 1, 1, 0, 0, 1,\n",
              "       1, 0, 0, 1, 1, 1, 1, 1, 1, 1, 1, 1, 0, 1, 1, 0, 1, 0, 1, 0, 1, 0,\n",
              "       1, 1, 0, 1, 1, 1, 1, 1, 1, 1, 0, 0, 0, 0, 0, 0, 0, 0, 0, 0, 1, 0,\n",
              "       1, 0, 1, 1, 1, 0, 1, 1, 0, 0, 0, 1, 1, 0, 0, 0, 1, 0, 0, 0, 1, 1,\n",
              "       1, 1, 1, 1, 1, 0, 1, 1, 0, 1, 0, 1, 0, 1, 1, 0, 0, 1, 0, 0, 1, 1,\n",
              "       1, 0, 1, 0, 1, 0, 1, 0, 1, 1, 1, 0, 1, 1, 1, 1, 0, 1, 1, 1, 1, 0,\n",
              "       0, 0, 1, 0, 0, 0, 1, 1, 0, 1, 1, 1, 1, 1, 1, 0, 1, 1, 0, 1, 0, 1,\n",
              "       0, 0, 0, 1, 0, 1, 1, 1, 0, 1, 0, 1, 1, 0, 0, 0, 0, 0, 1, 1, 0, 1,\n",
              "       0, 1, 1, 1, 0, 1, 1, 1, 0, 1, 0, 1, 0, 0, 1, 1, 0, 0, 1, 1, 1, 1,\n",
              "       0, 0, 0, 1, 1, 1, 1, 0, 1, 1, 1, 1, 1, 0, 0, 1, 0, 1, 1, 1, 0, 0,\n",
              "       0, 1, 1, 0, 0, 1, 1, 0, 1, 1, 0, 0, 0, 1, 1, 0, 1, 1, 1, 1, 1, 1,\n",
              "       0, 0, 1, 1, 0, 1, 0, 1, 0, 0, 1, 0, 1, 1, 1, 1, 0, 0, 0, 1, 0, 1,\n",
              "       1, 1, 1, 1, 1, 0, 1, 0, 1, 1, 1, 1, 1, 1, 1, 0, 0, 0, 1, 0, 0, 0,\n",
              "       0, 0, 1, 0, 1, 1, 0, 0, 0, 1, 1, 0, 0, 1, 1, 0, 1, 1, 0, 0, 1, 1,\n",
              "       1, 1, 0, 0, 1, 1, 1, 1, 0, 1, 0, 0, 1, 0, 1, 1, 1, 1, 0, 1, 1, 0,\n",
              "       1, 0, 1, 0, 1, 0, 1, 0, 1, 0, 1, 1, 0, 1, 1, 1, 1, 0, 0, 1, 1, 0,\n",
              "       0, 1, 1, 0, 1, 0, 1, 1, 1, 0, 1, 1, 1, 1, 0, 1, 1, 0, 1, 1, 0, 1,\n",
              "       1, 1, 0, 0, 1, 0, 0, 0, 0, 0, 0, 1, 1, 1, 1, 0, 1, 0, 0, 0, 0, 0,\n",
              "       0, 0, 1, 0, 0, 0, 0, 0, 0, 0, 1, 0, 1, 1, 1, 1, 1, 1, 1, 1, 0, 1,\n",
              "       1, 1, 0, 1, 1, 0, 1, 1, 1, 1, 1, 1, 0, 1, 1, 0, 0, 1, 1, 0, 1, 0,\n",
              "       0, 0, 1])"
            ]
          },
          "execution_count": 113,
          "metadata": {},
          "output_type": "execute_result"
        }
      ],
      "source": [
        "previsoes_treino = xg.predict(x_treino)\n",
        "previsoes_treino"
      ]
    },
    {
      "cell_type": "code",
      "execution_count": null,
      "metadata": {
        "colab": {
          "base_uri": "https://localhost:8080/"
        },
        "id": "70k-raF62dkZ",
        "outputId": "a3e240c4-28f5-4795-afa9-8111ace414d7"
      },
      "outputs": [
        {
          "data": {
            "text/plain": [
              "0.9157566302652106"
            ]
          },
          "execution_count": 114,
          "metadata": {},
          "output_type": "execute_result"
        }
      ],
      "source": [
        "accuracy_score(y_treino, previsoes_treino)"
      ]
    },
    {
      "cell_type": "code",
      "execution_count": null,
      "metadata": {
        "colab": {
          "base_uri": "https://localhost:8080/"
        },
        "id": "Hy7uFw9E2dkZ",
        "outputId": "7b2898c8-9907-45c1-c448-0fc3b868e113"
      },
      "outputs": [
        {
          "data": {
            "text/plain": [
              "array([[254,  35],\n",
              "       [ 19, 333]])"
            ]
          },
          "execution_count": 115,
          "metadata": {},
          "output_type": "execute_result"
        }
      ],
      "source": [
        "confusion_matrix(y_treino, previsoes_treino)"
      ]
    },
    {
      "cell_type": "markdown",
      "metadata": {
        "id": "gHvG_uWZLARo"
      },
      "source": [
        "### **Validação Cruzada**"
      ]
    },
    {
      "cell_type": "code",
      "execution_count": null,
      "metadata": {
        "id": "l3RZmFL_LARp"
      },
      "outputs": [],
      "source": [
        "from sklearn.model_selection import KFold\n",
        "from sklearn.model_selection import cross_val_score"
      ]
    },
    {
      "cell_type": "code",
      "execution_count": null,
      "metadata": {
        "id": "BKmF7defLARq"
      },
      "outputs": [],
      "source": [
        "# Separando os dados em folds\n",
        "kfold = KFold(n_splits = 30, shuffle=True, random_state = 5)"
      ]
    },
    {
      "cell_type": "code",
      "execution_count": null,
      "metadata": {
        "colab": {
          "base_uri": "https://localhost:8080/"
        },
        "id": "1h7FUmsWLARr",
        "outputId": "6880398e-8f56-49e1-e13e-319b95a0c3c6"
      },
      "outputs": [
        {
          "name": "stdout",
          "output_type": "stream",
          "text": [
            "Acurácia Média: 87.13%\n"
          ]
        }
      ],
      "source": [
        "# Criando o modelo\n",
        "modelo = XGBClassifier(max_depth=2, learning_rate=0.05, n_estimators=250, objective='binary:logistic', random_state=3)\n",
        "resultado = cross_val_score(modelo, previsores, alvo, cv = kfold)\n",
        "\n",
        "# Usamos a média e o desvio padrão\n",
        "print(\"Acurácia Média: %.2f%%\" % (resultado.mean() * 100.0))"
      ]
    },
    {
      "cell_type": "markdown",
      "metadata": {
        "id": "gkZCAe-OR3rW"
      },
      "source": [
        "Naive Bayes = 84,78% (treino e teste) - 234 acertos e 85,17% (validação cruzada) : previsores3_esc\n",
        "\n",
        "SVM = 86,23% - 238 acertos e 85,72% (validação cruzada) : previsores3-esc - SVC(kernel='rbf', random_state=1, C = 2)\n",
        "\n",
        "Regressão logística = 86,23% - 238 acertos e 85,83% (validação cruzada) : previsores3_esc - LogisticRegression(random_state=1, max_iter=600, penalty=\"l2\", tol=0.0001, C=1,solver=\"lbfgs\")\n",
        "\n",
        "KNN = 84,06% - 232 acertos e 85,84% (validação cruzada) : previsores3_esc ou previsores_esc - KNeighborsClassifier(n_neighbors=7, metric='minkowski', p = 1)\n",
        "\n",
        "Árvore de decisão = 83,7% (treino e teste) - 231 acertos e 83,32% (validação cruzada): previsores3_esc - DecisionTreeClassifier(criterion='entropy', random_state = 0, max_depth=3)\n",
        "\n",
        "Random Forest = 86,59% - 239 acertos e 85,92% (validação cruzada) : previsores - RandomForestClassifier(n_estimators=150, criterion='entropy', random_state = 0, max_depth=4)\n",
        "\n",
        "XGboost = 87,68% - 242 acertos e 87,13% (validação cruzada) : previsores - XGBClassifier(max_depth=2, learning_rate=0.05, n_estimators=250, objective='binary:logistic', random_state=3)"
      ]
    },
    {
      "cell_type": "markdown",
      "metadata": {
        "id": "sPZLUYzCqTWL"
      },
      "source": [
        "# **LIGHTGBM**"
      ]
    },
    {
      "cell_type": "markdown",
      "metadata": {
        "id": "LLop9X5OVOfc"
      },
      "source": [
        "https://lightgbm.readthedocs.io/en/latest/pythonapi/lightgbm.train.html"
      ]
    },
    {
      "cell_type": "code",
      "execution_count": null,
      "metadata": {
        "colab": {
          "base_uri": "https://localhost:8080/"
        },
        "id": "r2fYJevzt58X",
        "outputId": "5dd4cc38-1829-4bd6-d617-0c03cb830534"
      },
      "outputs": [
        {
          "name": "stdout",
          "output_type": "stream",
          "text": [
            "Looking in indexes: https://pypi.org/simple, https://us-python.pkg.dev/colab-wheels/public/simple/\n",
            "Requirement already satisfied: lightgbm in /usr/local/lib/python3.8/dist-packages (2.2.3)\n",
            "Requirement already satisfied: scipy in /usr/local/lib/python3.8/dist-packages (from lightgbm) (1.7.3)\n",
            "Requirement already satisfied: numpy in /usr/local/lib/python3.8/dist-packages (from lightgbm) (1.21.6)\n",
            "Requirement already satisfied: scikit-learn in /usr/local/lib/python3.8/dist-packages (from lightgbm) (1.0.2)\n",
            "Requirement already satisfied: joblib>=0.11 in /usr/local/lib/python3.8/dist-packages (from scikit-learn->lightgbm) (1.2.0)\n",
            "Requirement already satisfied: threadpoolctl>=2.0.0 in /usr/local/lib/python3.8/dist-packages (from scikit-learn->lightgbm) (3.1.0)\n"
          ]
        }
      ],
      "source": [
        "# Instalação do Algoritmo\n",
        "!pip install lightgbm"
      ]
    },
    {
      "cell_type": "code",
      "execution_count": null,
      "metadata": {
        "id": "HyJzU46uq9mQ"
      },
      "outputs": [],
      "source": [
        "import lightgbm as lgb"
      ]
    },
    {
      "cell_type": "code",
      "execution_count": null,
      "metadata": {
        "id": "D7GfTX-TxWh2"
      },
      "outputs": [],
      "source": [
        "# Dataset para treino\n",
        "dataset = lgb.Dataset(x_treino,label=y_treino)"
      ]
    },
    {
      "cell_type": "markdown",
      "metadata": {
        "id": "9sYH7x7pjczh"
      },
      "source": [
        "**Hiperparâmetros**\n",
        "\n",
        "**Controle de ajuste**\n",
        "\n",
        "num_leaves : define o número de folhas a serem formadas em uma árvore. Não tem uma relação direta entre num_leaves e max_depth e, portanto, os dois não devem estar vinculados um ao outro.\n",
        "\n",
        "max_depth : especifica a profundidade máxima ou nível até o qual a árvore pode crescer.\n",
        "\n",
        "**Controle de velocidade**\n",
        "\n",
        "learning_rate: taxa de aprendizagem, determina o impacto de cada árvore no resultado final.\n",
        "\n",
        "max_bin : O valor menor de max_bin reduz muito tempo de procesamento, pois agrupa os valores do recurso em caixas discretas, o que é computacionalmente mais barato.\n",
        "\n",
        "**Controle de precisão**\n",
        "\n",
        "num_leaves : valor alto produz árvores mais profundas com maior precisão, mas leva ao overfitting.\n",
        "\n",
        "max_bin : valores altos tem efeito semelhante ao causado pelo aumento do valor de num_leaves e também torna mais lento o procedimento de treinamento."
      ]
    },
    {
      "cell_type": "code",
      "execution_count": null,
      "metadata": {
        "id": "eRYtywqRxnRM"
      },
      "outputs": [],
      "source": [
        "# Parâmetros\n",
        "parametros = {'num_leaves':250, # número de folhas\n",
        "              'objective':'binary', # classificação Binária\n",
        "              'max_depth':2,\n",
        "              'learning_rate':.05,\n",
        "              'max_bin':100}"
      ]
    },
    {
      "cell_type": "code",
      "execution_count": null,
      "metadata": {
        "id": "s-75IteevPFt"
      },
      "outputs": [],
      "source": [
        "lgbm=lgb.train(parametros,dataset,num_boost_round=200)"
      ]
    },
    {
      "cell_type": "code",
      "execution_count": null,
      "metadata": {
        "colab": {
          "base_uri": "https://localhost:8080/"
        },
        "id": "w2eVSPh7XeQe",
        "outputId": "82d45ff2-1ea1-4f95-e98a-867525df433d"
      },
      "outputs": [
        {
          "data": {
            "text/plain": [
              "datetime.timedelta(microseconds=38007)"
            ]
          },
          "execution_count": 124,
          "metadata": {},
          "output_type": "execute_result"
        }
      ],
      "source": [
        "# Marcação do tempo de execução\n",
        "from datetime import datetime\n",
        "inicio=datetime.now()\n",
        "lgbm=lgb.train(parametros,dataset)\n",
        "fim=datetime.now()\n",
        "\n",
        "tempo = fim - inicio\n",
        "tempo"
      ]
    },
    {
      "cell_type": "code",
      "execution_count": null,
      "metadata": {
        "colab": {
          "base_uri": "https://localhost:8080/"
        },
        "id": "FbY1sQrzvPFv",
        "outputId": "03c14a56-33a6-4e3a-c0c1-9174c98445d6"
      },
      "outputs": [
        {
          "data": {
            "text/plain": [
              "array([0.89790448, 0.81256797, 0.95348294, 0.05441202, 0.13075866,\n",
              "       0.33201029, 0.45448712, 0.04129491, 0.06613076, 0.12445316,\n",
              "       0.89520099, 0.85051778, 0.95348294, 0.9307448 , 0.39226689,\n",
              "       0.92287365, 0.64204894, 0.90994232, 0.90450385, 0.19838904,\n",
              "       0.91913024, 0.9231329 , 0.59713326, 0.23796476, 0.07006073,\n",
              "       0.04745655, 0.90409832, 0.95288563, 0.69383475, 0.62055553,\n",
              "       0.92214954, 0.07175969, 0.07717404, 0.06144541, 0.69535041,\n",
              "       0.13380354, 0.19246172, 0.05278858, 0.62055553, 0.02674279,\n",
              "       0.03761127, 0.89666787, 0.90374933, 0.93273769, 0.89796601,\n",
              "       0.09813403, 0.02749682, 0.89268279, 0.38785771, 0.93029242,\n",
              "       0.89473461, 0.12704849, 0.08359986, 0.30552569, 0.94514816,\n",
              "       0.12908866, 0.08496175, 0.12339819, 0.50765846, 0.13968407,\n",
              "       0.94595395, 0.86214734, 0.61551129, 0.14022584, 0.94814521,\n",
              "       0.60630055, 0.96040723, 0.37791796, 0.92133535, 0.09406403,\n",
              "       0.88694542, 0.890554  , 0.29875062, 0.94514816, 0.89331115,\n",
              "       0.89346077, 0.67102765, 0.96298673, 0.8968597 , 0.8686321 ,\n",
              "       0.84923273, 0.86316394, 0.10932578, 0.13127862, 0.8808148 ,\n",
              "       0.75082257, 0.86297911, 0.92993106, 0.90649722, 0.22108891,\n",
              "       0.89862268, 0.33481878, 0.03494534, 0.36199995, 0.58310781,\n",
              "       0.13519671, 0.87779405, 0.06871422, 0.087738  , 0.15173289,\n",
              "       0.17509154, 0.76323354, 0.9482899 , 0.88148642, 0.25998398,\n",
              "       0.9280504 , 0.30963151, 0.0522802 , 0.22600855, 0.6246665 ,\n",
              "       0.43899481, 0.9432497 , 0.93998906, 0.90994232, 0.28112471,\n",
              "       0.93233107, 0.45448712, 0.94262413, 0.94448719, 0.87017236,\n",
              "       0.91397104, 0.97648817, 0.95752819, 0.1200442 , 0.58298327,\n",
              "       0.67227221, 0.25767279, 0.66437467, 0.05278858, 0.93998906,\n",
              "       0.30249625, 0.96892656, 0.85914527, 0.8185489 , 0.27509081,\n",
              "       0.53340068, 0.59106845, 0.94581988, 0.79125492, 0.09385904,\n",
              "       0.25335536, 0.94444834, 0.0450183 , 0.88879001, 0.55675568,\n",
              "       0.06948645, 0.9107981 , 0.56910639, 0.51037623, 0.21920941,\n",
              "       0.38564133, 0.90305111, 0.69186127, 0.08182109, 0.88952996,\n",
              "       0.05277249, 0.80407233, 0.63989032, 0.8070233 , 0.03761127,\n",
              "       0.96468872, 0.57817372, 0.94685153, 0.40045599, 0.89473461,\n",
              "       0.18084462, 0.87873133, 0.03140763, 0.8670876 , 0.35586974,\n",
              "       0.81360007, 0.76529276, 0.04151204, 0.22600855, 0.75701019,\n",
              "       0.49955097, 0.68560716, 0.2866874 , 0.11555875, 0.65358686,\n",
              "       0.94514816, 0.80661052, 0.14217286, 0.92127699, 0.93578075,\n",
              "       0.92333565, 0.12328372, 0.87873133, 0.93057666, 0.12833886,\n",
              "       0.52241531, 0.12380415, 0.94399737, 0.49549459, 0.91248173,\n",
              "       0.58132728, 0.25933429, 0.04745655, 0.80998933, 0.07701003,\n",
              "       0.93499888, 0.87632199, 0.22796612, 0.94269148, 0.95336315,\n",
              "       0.32170219, 0.05732835, 0.06819818, 0.95503476, 0.24681725,\n",
              "       0.89087172, 0.95256464, 0.0245799 , 0.54797561, 0.087738  ,\n",
              "       0.06033133, 0.91200027, 0.09046541, 0.81450505, 0.7965586 ,\n",
              "       0.90204383, 0.13383755, 0.43415833, 0.59450596, 0.89000756,\n",
              "       0.88763381, 0.087738  , 0.88387267, 0.20602863, 0.8486556 ,\n",
              "       0.04149924, 0.93787531, 0.72994402, 0.9204258 , 0.07564903,\n",
              "       0.89807794, 0.69114323, 0.80364766, 0.05145664, 0.92271759,\n",
              "       0.95348294, 0.02749682, 0.90204383, 0.17890587, 0.24069677,\n",
              "       0.07921581, 0.2083181 , 0.28852536, 0.92109189, 0.07954903,\n",
              "       0.95288563, 0.04731921, 0.73011615, 0.33644219, 0.03008226,\n",
              "       0.12493255, 0.95336315, 0.09985797, 0.08789083, 0.91089186,\n",
              "       0.0996299 , 0.51848485, 0.51989539, 0.0816566 , 0.4200751 ,\n",
              "       0.34564007, 0.04129491, 0.07245948, 0.93525851, 0.06399025,\n",
              "       0.0385807 , 0.87517192, 0.91881619, 0.9434974 , 0.85806006,\n",
              "       0.86214734])"
            ]
          },
          "execution_count": 125,
          "metadata": {},
          "output_type": "execute_result"
        }
      ],
      "source": [
        "previsoes_lgbm = lgbm.predict(x_teste)\n",
        "previsoes_lgbm"
      ]
    },
    {
      "cell_type": "code",
      "execution_count": null,
      "metadata": {
        "colab": {
          "base_uri": "https://localhost:8080/"
        },
        "id": "eQ-eOobHzgdY",
        "outputId": "d253851e-4614-41cc-e3e6-173a27a57048"
      },
      "outputs": [
        {
          "data": {
            "text/plain": [
              "(276,)"
            ]
          },
          "execution_count": 126,
          "metadata": {},
          "output_type": "execute_result"
        }
      ],
      "source": [
        "previsoes_lgbm.shape"
      ]
    },
    {
      "cell_type": "code",
      "execution_count": null,
      "metadata": {
        "id": "bCK5052RyreS"
      },
      "outputs": [],
      "source": [
        "# Quando for menor que 5 considera 0 e quando for maior ou igual a 5 considera 1\n",
        "for i in range(0, 276):\n",
        "    if previsoes_lgbm[i] >= .5:\n",
        "       previsoes_lgbm[i] = 1\n",
        "    else:\n",
        "       previsoes_lgbm[i] = 0"
      ]
    },
    {
      "cell_type": "code",
      "execution_count": null,
      "metadata": {
        "colab": {
          "base_uri": "https://localhost:8080/"
        },
        "id": "X3kyhhXJzmtG",
        "outputId": "f6f0b457-300f-4856-86ce-7b43f172d43c"
      },
      "outputs": [
        {
          "data": {
            "text/plain": [
              "array([1., 1., 1., 0., 0., 0., 0., 0., 0., 0., 1., 1., 1., 1., 0., 1., 1.,\n",
              "       1., 1., 0., 1., 1., 1., 0., 0., 0., 1., 1., 1., 1., 1., 0., 0., 0.,\n",
              "       1., 0., 0., 0., 1., 0., 0., 1., 1., 1., 1., 0., 0., 1., 0., 1., 1.,\n",
              "       0., 0., 0., 1., 0., 0., 0., 1., 0., 1., 1., 1., 0., 1., 1., 1., 0.,\n",
              "       1., 0., 1., 1., 0., 1., 1., 1., 1., 1., 1., 1., 1., 1., 0., 0., 1.,\n",
              "       1., 1., 1., 1., 0., 1., 0., 0., 0., 1., 0., 1., 0., 0., 0., 0., 1.,\n",
              "       1., 1., 0., 1., 0., 0., 0., 1., 0., 1., 1., 1., 0., 1., 0., 1., 1.,\n",
              "       1., 1., 1., 1., 0., 1., 1., 0., 1., 0., 1., 0., 1., 1., 1., 0., 1.,\n",
              "       1., 1., 1., 0., 0., 1., 0., 1., 1., 0., 1., 1., 1., 0., 0., 1., 1.,\n",
              "       0., 1., 0., 1., 1., 1., 0., 1., 1., 1., 0., 1., 0., 1., 0., 1., 0.,\n",
              "       1., 1., 0., 0., 1., 0., 1., 0., 0., 1., 1., 1., 0., 1., 1., 1., 0.,\n",
              "       1., 1., 0., 1., 0., 1., 0., 1., 1., 0., 0., 1., 0., 1., 1., 0., 1.,\n",
              "       1., 0., 0., 0., 1., 0., 1., 1., 0., 1., 0., 0., 1., 0., 1., 1., 1.,\n",
              "       0., 0., 1., 1., 1., 0., 1., 0., 1., 0., 1., 1., 1., 0., 1., 1., 1.,\n",
              "       0., 1., 1., 0., 1., 0., 0., 0., 0., 0., 1., 0., 1., 0., 1., 0., 0.,\n",
              "       0., 1., 0., 0., 1., 0., 1., 1., 0., 0., 0., 0., 0., 1., 0., 0., 1.,\n",
              "       1., 1., 1., 1.])"
            ]
          },
          "execution_count": 128,
          "metadata": {},
          "output_type": "execute_result"
        }
      ],
      "source": [
        "previsoes_lgbm"
      ]
    },
    {
      "cell_type": "code",
      "execution_count": null,
      "metadata": {
        "colab": {
          "base_uri": "https://localhost:8080/"
        },
        "id": "wvItoNPgvPFw",
        "outputId": "c7bb5ed1-c829-4893-f990-4264fd12f7b5"
      },
      "outputs": [
        {
          "data": {
            "text/plain": [
              "array([1, 0, 1, 0, 0, 0, 0, 0, 0, 0, 1, 0, 1, 1, 0, 1, 1, 1, 1, 0, 1, 1,\n",
              "       1, 0, 0, 0, 1, 1, 0, 0, 1, 0, 0, 0, 1, 0, 1, 0, 1, 0, 0, 1, 1, 1,\n",
              "       1, 0, 0, 1, 1, 1, 1, 0, 0, 1, 1, 0, 0, 0, 1, 0, 1, 1, 1, 0, 1, 1,\n",
              "       1, 0, 1, 0, 1, 1, 1, 1, 1, 1, 1, 1, 1, 0, 0, 1, 0, 0, 1, 1, 0, 1,\n",
              "       1, 0, 1, 0, 0, 1, 1, 0, 1, 0, 0, 0, 0, 1, 1, 1, 0, 1, 0, 0, 0, 1,\n",
              "       0, 1, 1, 1, 0, 1, 1, 1, 1, 1, 1, 1, 1, 0, 0, 1, 0, 1, 0, 1, 0, 1,\n",
              "       0, 1, 0, 0, 0, 1, 1, 0, 1, 1, 0, 1, 0, 0, 1, 1, 1, 0, 1, 1, 0, 0,\n",
              "       0, 0, 1, 1, 1, 0, 1, 1, 1, 0, 1, 0, 1, 0, 1, 0, 1, 1, 0, 0, 1, 0,\n",
              "       0, 1, 0, 1, 1, 1, 0, 1, 1, 1, 0, 1, 1, 0, 0, 0, 1, 1, 1, 1, 1, 0,\n",
              "       1, 0, 1, 1, 0, 1, 1, 0, 0, 0, 1, 0, 1, 1, 0, 1, 0, 1, 1, 1, 1, 1,\n",
              "       1, 1, 0, 0, 0, 1, 0, 1, 1, 1, 0, 1, 0, 1, 1, 1, 1, 1, 0, 1, 1, 0,\n",
              "       1, 0, 1, 0, 0, 0, 1, 0, 1, 0, 1, 1, 0, 0, 1, 0, 0, 1, 0, 1, 1, 0,\n",
              "       0, 0, 0, 0, 1, 0, 0, 1, 1, 1, 1, 1])"
            ]
          },
          "execution_count": 129,
          "metadata": {},
          "output_type": "execute_result"
        }
      ],
      "source": [
        "y_teste"
      ]
    },
    {
      "cell_type": "code",
      "execution_count": null,
      "metadata": {
        "id": "7zmmlXg00NgO"
      },
      "outputs": [],
      "source": [
        "from sklearn.metrics import accuracy_score, confusion_matrix, classification_report"
      ]
    },
    {
      "cell_type": "code",
      "execution_count": null,
      "metadata": {
        "colab": {
          "base_uri": "https://localhost:8080/"
        },
        "id": "7jtEMCEd0NgP",
        "outputId": "a873c4e7-a0a0-4577-eda0-05b7144f60dc"
      },
      "outputs": [
        {
          "name": "stdout",
          "output_type": "stream",
          "text": [
            "Acurácia: 86.59%\n"
          ]
        }
      ],
      "source": [
        "print(\"Acurácia: %.2f%%\" % (accuracy_score(y_teste, previsoes_lgbm) * 100.0))"
      ]
    },
    {
      "cell_type": "code",
      "execution_count": null,
      "metadata": {
        "colab": {
          "base_uri": "https://localhost:8080/"
        },
        "id": "Vi92nyDd0NgQ",
        "outputId": "780bf218-0ac4-446e-ac61-be5595d843fb"
      },
      "outputs": [
        {
          "data": {
            "text/plain": [
              "array([[102,  19],\n",
              "       [ 18, 137]])"
            ]
          },
          "execution_count": 132,
          "metadata": {},
          "output_type": "execute_result"
        }
      ],
      "source": [
        "confusion_matrix(y_teste, previsoes_lgbm)"
      ]
    },
    {
      "cell_type": "markdown",
      "metadata": {
        "id": "u3pNMaVs0NgR"
      },
      "source": [
        "**Análise dados de treino**"
      ]
    },
    {
      "cell_type": "code",
      "execution_count": null,
      "metadata": {
        "colab": {
          "base_uri": "https://localhost:8080/"
        },
        "id": "fS-C8nIw0NgR",
        "outputId": "c5f3f713-9d2d-4a91-c60a-4780a92c129d"
      },
      "outputs": [
        {
          "data": {
            "text/plain": [
              "array([0.90069901, 0.60656054, 0.93423637, 0.83424928, 0.72943044,\n",
              "       0.65786602, 0.13008654, 0.02961195, 0.09060638, 0.08017109,\n",
              "       0.89075053, 0.05577289, 0.84203182, 0.77497634, 0.91276489,\n",
              "       0.03008226, 0.0385807 , 0.22600855, 0.28461671, 0.9307448 ,\n",
              "       0.35286387, 0.74586926, 0.89075053, 0.8543405 , 0.78680256,\n",
              "       0.09623687, 0.19341003, 0.873807  , 0.63705982, 0.90352244,\n",
              "       0.93927686, 0.01995274, 0.88738287, 0.94297205, 0.06164421,\n",
              "       0.23796476, 0.72933249, 0.62055553, 0.04173094, 0.88714   ,\n",
              "       0.15426281, 0.91102088, 0.06791006, 0.08789083, 0.93263064,\n",
              "       0.94660905, 0.09264234, 0.93123634, 0.93883023, 0.84743516,\n",
              "       0.473127  , 0.10007369, 0.80151233, 0.37537036, 0.9389559 ,\n",
              "       0.31276407, 0.89000316, 0.07470825, 0.81404165, 0.07921581,\n",
              "       0.04151204, 0.04893121, 0.53875611, 0.02961195, 0.92274552,\n",
              "       0.86037242, 0.0741395 , 0.65336675, 0.96892656, 0.02150039,\n",
              "       0.55963022, 0.89321419, 0.95361892, 0.95891524, 0.04347325,\n",
              "       0.0385807 , 0.58440339, 0.94514816, 0.69028819, 0.93672774,\n",
              "       0.76872249, 0.96408508, 0.94632258, 0.94814521, 0.11422087,\n",
              "       0.92287365, 0.921939  , 0.64111846, 0.95617822, 0.953679  ,\n",
              "       0.12441612, 0.58443123, 0.06622524, 0.20127283, 0.90722884,\n",
              "       0.81392337, 0.78680256, 0.87873133, 0.89243619, 0.93664505,\n",
              "       0.71703884, 0.74881553, 0.20012153, 0.57469198, 0.93057666,\n",
              "       0.9029727 , 0.8778855 , 0.12917106, 0.47353043, 0.91565993,\n",
              "       0.03131346, 0.15490679, 0.93431455, 0.13645286, 0.83424928,\n",
              "       0.10711333, 0.82916485, 0.06545278, 0.56184278, 0.37272009,\n",
              "       0.10772398, 0.04040925, 0.01995274, 0.7473761 , 0.45862871,\n",
              "       0.96892656, 0.46591309, 0.06399025, 0.84944944, 0.84992937,\n",
              "       0.87246148, 0.04040925, 0.57401839, 0.72475127, 0.02961195,\n",
              "       0.37441604, 0.52454437, 0.02150039, 0.88763381, 0.82347239,\n",
              "       0.04293512, 0.92274552, 0.60354669, 0.90195845, 0.86800258,\n",
              "       0.88603279, 0.39924847, 0.18460142, 0.35586974, 0.93883023,\n",
              "       0.92791949, 0.16591718, 0.80661052, 0.05977128, 0.90871457,\n",
              "       0.01995274, 0.74586926, 0.91881619, 0.65864241, 0.27737001,\n",
              "       0.93714882, 0.39226689, 0.07100075, 0.06399025, 0.54027259,\n",
              "       0.22242445, 0.91322436, 0.35394748, 0.07100075, 0.06320282,\n",
              "       0.08280442, 0.8240662 , 0.6967451 , 0.03990748, 0.9258079 ,\n",
              "       0.36108224, 0.0890675 , 0.92700616, 0.86589468, 0.02563415,\n",
              "       0.1218073 , 0.06043158, 0.08182109, 0.23796476, 0.06613076,\n",
              "       0.90994232, 0.93332042, 0.87571078, 0.9469708 , 0.79159238,\n",
              "       0.03990748, 0.21817887, 0.89732633, 0.20645724, 0.09813403,\n",
              "       0.68349921, 0.79205861, 0.37803112, 0.80094132, 0.89772622,\n",
              "       0.22600855, 0.34284042, 0.03238965, 0.75640633, 0.72617068,\n",
              "       0.65591005, 0.66053988, 0.85723143, 0.46232119, 0.1258971 ,\n",
              "       0.71603721, 0.26654375, 0.90054737, 0.95752819, 0.84531173,\n",
              "       0.62055553, 0.8418124 , 0.23796476, 0.0917865 , 0.92574717,\n",
              "       0.79399944, 0.30249625, 0.23001594, 0.85044804, 0.57507697,\n",
              "       0.6186068 , 0.92185921, 0.68788644, 0.78865485, 0.91441939,\n",
              "       0.87639147, 0.93684332, 0.16418156, 0.93927686, 0.82916235,\n",
              "       0.06819818, 0.89732633, 0.06557084, 0.90089066, 0.06188493,\n",
              "       0.94583018, 0.06917112, 0.73716137, 0.74625036, 0.24246976,\n",
              "       0.69758664, 0.65304781, 0.92000587, 0.92361214, 0.77202111,\n",
              "       0.67520188, 0.92107339, 0.01995274, 0.05102649, 0.06613076,\n",
              "       0.06399025, 0.06161518, 0.05673573, 0.33206231, 0.13127862,\n",
              "       0.55093987, 0.34409245, 0.96892656, 0.49279786, 0.93057666,\n",
              "       0.31729638, 0.94814521, 0.35258451, 0.93963646, 0.09167424,\n",
              "       0.86094528, 0.89796601, 0.09038439, 0.4093307 , 0.17515786,\n",
              "       0.90069853, 0.82169137, 0.44652107, 0.06708014, 0.08033689,\n",
              "       0.91937106, 0.24828661, 0.0385807 , 0.0385807 , 0.84698253,\n",
              "       0.91913024, 0.62000072, 0.82776004, 0.90107056, 0.91190262,\n",
              "       0.81263683, 0.03008226, 0.94257521, 0.93578075, 0.35955381,\n",
              "       0.6017461 , 0.08182109, 0.65436563, 0.12528979, 0.94390989,\n",
              "       0.88212492, 0.12833886, 0.04893121, 0.82361933, 0.04122187,\n",
              "       0.48477798, 0.51306986, 0.82131822, 0.94053122, 0.08746005,\n",
              "       0.93057666, 0.04040925, 0.65316224, 0.32117529, 0.94541389,\n",
              "       0.04151204, 0.86312286, 0.47696706, 0.79988722, 0.24588669,\n",
              "       0.81849073, 0.89535576, 0.92109189, 0.80379638, 0.41875854,\n",
              "       0.96892656, 0.89601086, 0.83401497, 0.69061914, 0.09977507,\n",
              "       0.09868591, 0.07954903, 0.94798632, 0.12179704, 0.02315341,\n",
              "       0.20127283, 0.7774036 , 0.95288563, 0.1341086 , 0.78239041,\n",
              "       0.922745  , 0.80384876, 0.91854147, 0.93354374, 0.94759402,\n",
              "       0.44139784, 0.93745877, 0.88656456, 0.04293512, 0.81515579,\n",
              "       0.21227937, 0.96579491, 0.10509558, 0.07921581, 0.07404971,\n",
              "       0.70853995, 0.04129491, 0.53639883, 0.86362129, 0.79693666,\n",
              "       0.32117529, 0.69114323, 0.25256012, 0.89144039, 0.83523168,\n",
              "       0.09380108, 0.0385807 , 0.0385807 , 0.04151204, 0.03238965,\n",
              "       0.84944944, 0.68628488, 0.46648582, 0.84036062, 0.26602177,\n",
              "       0.94518486, 0.87292175, 0.91440889, 0.40843444, 0.6578071 ,\n",
              "       0.94390989, 0.93078102, 0.01995274, 0.93349823, 0.08280442,\n",
              "       0.94583018, 0.27635404, 0.09294637, 0.46449567, 0.92835112,\n",
              "       0.04745655, 0.41730153, 0.8245424 , 0.67576169, 0.86144169,\n",
              "       0.93714272, 0.09109203, 0.12129623, 0.53590994, 0.89340572,\n",
              "       0.91173137, 0.96932252, 0.77563816, 0.1218073 , 0.95415484,\n",
              "       0.47598774, 0.90762604, 0.82989665, 0.60012511, 0.08141453,\n",
              "       0.46950516, 0.60013969, 0.06871422, 0.82392041, 0.88656456,\n",
              "       0.80646774, 0.10489962, 0.34457425, 0.20428681, 0.87545439,\n",
              "       0.90305111, 0.38225461, 0.12063275, 0.89862268, 0.78684731,\n",
              "       0.31276407, 0.6540116 , 0.55772108, 0.05482237, 0.05278858,\n",
              "       0.06399025, 0.91408177, 0.91063413, 0.51558044, 0.94828776,\n",
              "       0.95824681, 0.92639593, 0.724358  , 0.92109189, 0.8731323 ,\n",
              "       0.08139916, 0.28199268, 0.91206265, 0.93605268, 0.40639015,\n",
              "       0.93998906, 0.04151204, 0.90994232, 0.13127862, 0.05732835,\n",
              "       0.84864152, 0.07921581, 0.83743725, 0.90994232, 0.83411132,\n",
              "       0.86496166, 0.06613076, 0.06399025, 0.28012761, 0.95003311,\n",
              "       0.07921581, 0.90690875, 0.68835934, 0.82164384, 0.85313479,\n",
              "       0.89855583, 0.91873621, 0.162685  , 0.93574551, 0.40950471,\n",
              "       0.83948858, 0.93057666, 0.94879198, 0.86680553, 0.55558807,\n",
              "       0.95009276, 0.93787076, 0.30038031, 0.06871422, 0.04129491,\n",
              "       0.68404932, 0.27616389, 0.12269058, 0.2336545 , 0.05442858,\n",
              "       0.11320198, 0.89042611, 0.08728846, 0.94583018, 0.59640116,\n",
              "       0.43784135, 0.14316045, 0.10576692, 0.92997777, 0.84816998,\n",
              "       0.14022584, 0.53765702, 0.94297205, 0.84886355, 0.10845176,\n",
              "       0.96592331, 0.96164997, 0.0385807 , 0.36281875, 0.74064898,\n",
              "       0.93511525, 0.92097846, 0.80894336, 0.04151204, 0.05619159,\n",
              "       0.89087172, 0.79919681, 0.6169499 , 0.94667352, 0.22600855,\n",
              "       0.93626551, 0.10129306, 0.1124237 , 0.75854961, 0.11440495,\n",
              "       0.92971676, 0.65224382, 0.78508581, 0.67986646, 0.06871422,\n",
              "       0.93998906, 0.86730733, 0.07543938, 0.89295301, 0.22600855,\n",
              "       0.87896833, 0.05341215, 0.94399525, 0.08182109, 0.90649722,\n",
              "       0.07921581, 0.72324816, 0.07980676, 0.94399737, 0.65098431,\n",
              "       0.04049672, 0.93057666, 0.81256797, 0.77752604, 0.87896833,\n",
              "       0.16975154, 0.25310931, 0.90204383, 0.84028831, 0.12409097,\n",
              "       0.04293512, 0.64296944, 0.94518486, 0.02749682, 0.92914308,\n",
              "       0.1767769 , 0.86316394, 0.90107056, 0.76467013, 0.31729638,\n",
              "       0.83424928, 0.94428191, 0.55413941, 0.51815971, 0.06237038,\n",
              "       0.63897689, 0.95348294, 0.06613076, 0.4200751 , 0.95710771,\n",
              "       0.08182109, 0.92274552, 0.90994232, 0.80754475, 0.07186422,\n",
              "       0.44583795, 0.93390773, 0.14476472, 0.03856876, 0.64089719,\n",
              "       0.02563415, 0.60140646, 0.10795497, 0.79284041, 0.95891524,\n",
              "       0.96932252, 0.74032276, 0.1038415 , 0.92271759, 0.16976287,\n",
              "       0.28132824, 0.30422934, 0.05411874, 0.50660399, 0.087738  ,\n",
              "       0.07278934, 0.80274024, 0.03856876, 0.09705007, 0.66674561,\n",
              "       0.05386127, 0.1159579 , 0.07921581, 0.13949044, 0.92914308,\n",
              "       0.26602177, 0.51037623, 0.91319332, 0.35258451, 0.71473721,\n",
              "       0.92172087, 0.81910221, 0.79224548, 0.94926138, 0.07191062,\n",
              "       0.76809665, 0.93641822, 0.90695639, 0.334397  , 0.86659881,\n",
              "       0.89075053, 0.22796612, 0.83520862, 0.59024205, 0.90420998,\n",
              "       0.904977  , 0.77067557, 0.87873133, 0.29332498, 0.84138707,\n",
              "       0.87011974, 0.21596913, 0.08015569, 0.87593641, 0.89138844,\n",
              "       0.13917575, 0.91753208, 0.06956284, 0.52355201, 0.06708014,\n",
              "       0.90722884])"
            ]
          },
          "execution_count": 133,
          "metadata": {},
          "output_type": "execute_result"
        }
      ],
      "source": [
        "previsoes_treino = lgbm.predict(x_treino)\n",
        "previsoes_treino"
      ]
    },
    {
      "cell_type": "code",
      "execution_count": null,
      "metadata": {
        "colab": {
          "base_uri": "https://localhost:8080/"
        },
        "id": "5ZTvZKs51umQ",
        "outputId": "5024087b-b39e-4311-8c02-a998d24760e2"
      },
      "outputs": [
        {
          "data": {
            "text/plain": [
              "(641,)"
            ]
          },
          "execution_count": 134,
          "metadata": {},
          "output_type": "execute_result"
        }
      ],
      "source": [
        "previsoes_treino.shape"
      ]
    },
    {
      "cell_type": "code",
      "execution_count": null,
      "metadata": {
        "id": "y_Xb-SEN1bNL"
      },
      "outputs": [],
      "source": [
        "# Quando for menor que 5 considera 0 e quando for maior ou igual a 5 considera 1\n",
        "for i in range(0, 641):\n",
        "    if previsoes_treino[i] >= .5:\n",
        "       previsoes_treino[i] = 1\n",
        "    else:\n",
        "       previsoes_treino[i] = 0"
      ]
    },
    {
      "cell_type": "code",
      "execution_count": null,
      "metadata": {
        "colab": {
          "base_uri": "https://localhost:8080/"
        },
        "id": "ENkdM8Jd1oCJ",
        "outputId": "c8fd4b5c-5600-4a7b-d87a-c22941b04b1f"
      },
      "outputs": [
        {
          "data": {
            "text/plain": [
              "array([1., 1., 1., 1., 1., 1., 0., 0., 0., 0., 1., 0., 1., 1., 1., 0., 0.,\n",
              "       0., 0., 1., 0., 1., 1., 1., 1., 0., 0., 1., 1., 1., 1., 0., 1., 1.,\n",
              "       0., 0., 1., 1., 0., 1., 0., 1., 0., 0., 1., 1., 0., 1., 1., 1., 0.,\n",
              "       0., 1., 0., 1., 0., 1., 0., 1., 0., 0., 0., 1., 0., 1., 1., 0., 1.,\n",
              "       1., 0., 1., 1., 1., 1., 0., 0., 1., 1., 1., 1., 1., 1., 1., 1., 0.,\n",
              "       1., 1., 1., 1., 1., 0., 1., 0., 0., 1., 1., 1., 1., 1., 1., 1., 1.,\n",
              "       0., 1., 1., 1., 1., 0., 0., 1., 0., 0., 1., 0., 1., 0., 1., 0., 1.,\n",
              "       0., 0., 0., 0., 1., 0., 1., 0., 0., 1., 1., 1., 0., 1., 1., 0., 0.,\n",
              "       1., 0., 1., 1., 0., 1., 1., 1., 1., 1., 0., 0., 0., 1., 1., 0., 1.,\n",
              "       0., 1., 0., 1., 1., 1., 0., 1., 0., 0., 0., 1., 0., 1., 0., 0., 0.,\n",
              "       0., 1., 1., 0., 1., 0., 0., 1., 1., 0., 0., 0., 0., 0., 0., 1., 1.,\n",
              "       1., 1., 1., 0., 0., 1., 0., 0., 1., 1., 0., 1., 1., 0., 0., 0., 1.,\n",
              "       1., 1., 1., 1., 0., 0., 1., 0., 1., 1., 1., 1., 1., 0., 0., 1., 1.,\n",
              "       0., 0., 1., 1., 1., 1., 1., 1., 1., 1., 1., 0., 1., 1., 0., 1., 0.,\n",
              "       1., 0., 1., 0., 1., 1., 0., 1., 1., 1., 1., 1., 1., 1., 0., 0., 0.,\n",
              "       0., 0., 0., 0., 0., 1., 0., 1., 0., 1., 0., 1., 0., 1., 0., 1., 1.,\n",
              "       0., 0., 0., 1., 1., 0., 0., 0., 1., 0., 0., 0., 1., 1., 1., 1., 1.,\n",
              "       1., 1., 0., 1., 1., 0., 1., 0., 1., 0., 1., 1., 0., 0., 1., 0., 0.,\n",
              "       1., 1., 1., 0., 1., 0., 1., 0., 1., 0., 1., 0., 1., 0., 1., 1., 1.,\n",
              "       1., 0., 1., 1., 1., 1., 0., 0., 0., 1., 0., 0., 0., 1., 1., 0., 1.,\n",
              "       1., 1., 1., 1., 1., 0., 1., 1., 0., 1., 0., 1., 0., 0., 0., 1., 0.,\n",
              "       1., 1., 1., 0., 1., 0., 1., 1., 0., 0., 0., 0., 0., 1., 1., 0., 1.,\n",
              "       0., 1., 1., 1., 0., 1., 1., 1., 0., 1., 0., 1., 0., 0., 0., 1., 0.,\n",
              "       0., 1., 1., 1., 1., 0., 0., 1., 1., 1., 1., 1., 0., 1., 0., 1., 1.,\n",
              "       1., 0., 0., 1., 0., 1., 1., 1., 0., 0., 0., 1., 1., 0., 0., 1., 1.,\n",
              "       0., 1., 1., 0., 0., 0., 1., 1., 1., 1., 1., 1., 1., 1., 1., 0., 0.,\n",
              "       1., 1., 0., 1., 0., 1., 0., 0., 1., 0., 1., 1., 1., 1., 0., 0., 0.,\n",
              "       1., 0., 1., 1., 1., 1., 1., 1., 0., 1., 0., 1., 1., 1., 1., 1., 1.,\n",
              "       1., 0., 0., 0., 1., 0., 0., 0., 0., 0., 1., 0., 1., 1., 0., 0., 0.,\n",
              "       1., 1., 0., 1., 1., 1., 0., 1., 1., 0., 0., 1., 1., 1., 1., 0., 0.,\n",
              "       1., 1., 1., 1., 0., 1., 0., 0., 1., 0., 1., 1., 1., 1., 0., 1., 1.,\n",
              "       0., 1., 0., 1., 0., 1., 0., 1., 0., 1., 0., 1., 1., 0., 1., 1., 1.,\n",
              "       1., 0., 0., 1., 1., 0., 0., 1., 1., 0., 1., 0., 1., 1., 1., 0., 1.,\n",
              "       1., 1., 1., 0., 1., 1., 0., 0., 1., 0., 1., 1., 1., 0., 0., 1., 0.,\n",
              "       0., 1., 0., 1., 0., 1., 1., 1., 1., 0., 1., 0., 0., 0., 0., 1., 0.,\n",
              "       0., 1., 0., 0., 1., 0., 0., 0., 0., 1., 0., 1., 1., 0., 1., 1., 1.,\n",
              "       1., 1., 0., 1., 1., 1., 0., 1., 1., 0., 1., 1., 1., 1., 1., 1., 0.,\n",
              "       1., 1., 0., 0., 1., 1., 0., 1., 0., 1., 0., 1.])"
            ]
          },
          "execution_count": 136,
          "metadata": {},
          "output_type": "execute_result"
        }
      ],
      "source": [
        "previsoes_treino"
      ]
    },
    {
      "cell_type": "code",
      "execution_count": null,
      "metadata": {
        "colab": {
          "base_uri": "https://localhost:8080/"
        },
        "id": "NKAIaTGF0NgS",
        "outputId": "95f695c6-faf5-4a11-a194-998b67377c1a"
      },
      "outputs": [
        {
          "data": {
            "text/plain": [
              "0.8954758190327613"
            ]
          },
          "execution_count": 137,
          "metadata": {},
          "output_type": "execute_result"
        }
      ],
      "source": [
        "accuracy_score(y_treino, previsoes_treino)"
      ]
    },
    {
      "cell_type": "code",
      "execution_count": null,
      "metadata": {
        "colab": {
          "base_uri": "https://localhost:8080/"
        },
        "id": "dDOEsI4W0NgT",
        "outputId": "62a2c7ab-d3b8-4471-cda1-c968eeac1a43"
      },
      "outputs": [
        {
          "data": {
            "text/plain": [
              "array([[246,  43],\n",
              "       [ 24, 328]])"
            ]
          },
          "execution_count": 138,
          "metadata": {},
          "output_type": "execute_result"
        }
      ],
      "source": [
        "confusion_matrix(y_treino, previsoes_treino)"
      ]
    },
    {
      "cell_type": "markdown",
      "metadata": {
        "id": "3hEGp61Q0NgT"
      },
      "source": [
        "### **Validação Cruzada**"
      ]
    },
    {
      "cell_type": "code",
      "execution_count": null,
      "metadata": {
        "id": "RwR3Salk0NgT"
      },
      "outputs": [],
      "source": [
        "from sklearn.model_selection import KFold\n",
        "from sklearn.model_selection import cross_val_score"
      ]
    },
    {
      "cell_type": "code",
      "execution_count": null,
      "metadata": {
        "id": "8Xnl-F4XSNTJ"
      },
      "outputs": [],
      "source": [
        "# Separando os dados em folds\n",
        "kfold = KFold(n_splits = 30, shuffle=True, random_state = 5)"
      ]
    },
    {
      "cell_type": "code",
      "execution_count": null,
      "metadata": {
        "colab": {
          "base_uri": "https://localhost:8080/"
        },
        "id": "Qq7iUdMxSNTL",
        "outputId": "618600ae-d8e1-4aee-9b48-d73c818c0dc6"
      },
      "outputs": [
        {
          "name": "stdout",
          "output_type": "stream",
          "text": [
            "Acurácia Média: 85.93%\n"
          ]
        }
      ],
      "source": [
        "# Criando o modelo\n",
        "modelo = lgb.LGBMClassifier(num_leaves = 250, objective = 'binary',\n",
        "                            max_depth = 2, learning_rate = .05, max_bin =100)\n",
        "resultado = cross_val_score(modelo, previsores, alvo, cv = kfold)\n",
        "\n",
        "# Usamos a média e o desvio padrão\n",
        "print(\"Acurácia Média: %.2f%%\" % (resultado.mean() * 100.0))"
      ]
    },
    {
      "cell_type": "markdown",
      "metadata": {
        "id": "W6ADUoMW0NgV"
      },
      "source": [
        "Naive Bayes = 84,78% (treino e teste) - 234 acertos e 85,17% (validação cruzada) : previsores3_esc\n",
        "\n",
        "SVM = 86,23% - 238 acertos e 85,72% (validação cruzada) : previsores3-esc - SVC(kernel='rbf', random_state=1, C = 2)\n",
        "\n",
        "Regressão logística = 86,23% - 238 acertos e 85,83% (validação cruzada) : previsores3_esc - LogisticRegression(random_state=1, max_iter=600, penalty=\"l2\", tol=0.0001, C=1,solver=\"lbfgs\")\n",
        "\n",
        "KNN = 84,06% - 232 acertos e 85,84% (validação cruzada) : previsores3_esc ou previsores_esc - KNeighborsClassifier(n_neighbors=7, metric='minkowski', p = 1)\n",
        "\n",
        "Árvore de decisão = 83,7% (treino e teste) - 231 acertos e 83,32% (validação cruzada): previsores3_esc - DecisionTreeClassifier(criterion='entropy', random_state = 0, max_depth=3)\n",
        "\n",
        "Random Forest = 86,59% - 239 acertos e 85,92% (validação cruzada) : previsores - RandomForestClassifier(n_estimators=150, criterion='entropy', random_state = 0, max_depth=4)\n",
        "\n",
        "XGboost = 87,68% - 242 acertos e 87,13% (validação cruzada) : previsores - XGBClassifier(max_depth=2, learning_rate=0.05, n_estimators=250, objective='binary:logistic', random_state=3)\n",
        "\n",
        "LightGBM = 86,23% (treino e teste)- 238 acertos e 85,93% (validação cruzada) : previsores - lgb.LGBMClassifier(num_leaves = 250, objective = 'binary',  max_depth = 2, learning_rate = .05, max_bin =100)"
      ]
    },
    {
      "cell_type": "markdown",
      "metadata": {
        "id": "yKpYGEuWUChU"
      },
      "source": [
        "# **CATBOOST**"
      ]
    },
    {
      "cell_type": "markdown",
      "metadata": {
        "id": "LMqQ_NMTUChV"
      },
      "source": [
        "https://catboost.ai/en/docs/"
      ]
    },
    {
      "cell_type": "code",
      "execution_count": null,
      "metadata": {
        "colab": {
          "base_uri": "https://localhost:8080/"
        },
        "id": "Vkt7hfJVUChV",
        "outputId": "647c7235-63e4-4d00-8c39-37cef1af6732"
      },
      "outputs": [
        {
          "name": "stdout",
          "output_type": "stream",
          "text": [
            "Looking in indexes: https://pypi.org/simple, https://us-python.pkg.dev/colab-wheels/public/simple/\n",
            "Collecting catboost\n",
            "  Downloading catboost-1.1.1-cp38-none-manylinux1_x86_64.whl (76.6 MB)\n",
            "\u001b[2K     \u001b[90m━━━━━━━━━━━━━━━━━━━━━━━━━━━━━━━━━━━━━━━━\u001b[0m \u001b[32m76.6/76.6 MB\u001b[0m \u001b[31m8.3 MB/s\u001b[0m eta \u001b[36m0:00:00\u001b[0m\n",
            "\u001b[?25hRequirement already satisfied: matplotlib in /usr/local/lib/python3.8/dist-packages (from catboost) (3.2.2)\n",
            "Requirement already satisfied: plotly in /usr/local/lib/python3.8/dist-packages (from catboost) (5.5.0)\n",
            "Requirement already satisfied: graphviz in /usr/local/lib/python3.8/dist-packages (from catboost) (0.10.1)\n",
            "Requirement already satisfied: scipy in /usr/local/lib/python3.8/dist-packages (from catboost) (1.7.3)\n",
            "Requirement already satisfied: six in /usr/local/lib/python3.8/dist-packages (from catboost) (1.15.0)\n",
            "Requirement already satisfied: pandas>=0.24.0 in /usr/local/lib/python3.8/dist-packages (from catboost) (1.3.5)\n",
            "Requirement already satisfied: numpy>=1.16.0 in /usr/local/lib/python3.8/dist-packages (from catboost) (1.21.6)\n",
            "Requirement already satisfied: python-dateutil>=2.7.3 in /usr/local/lib/python3.8/dist-packages (from pandas>=0.24.0->catboost) (2.8.2)\n",
            "Requirement already satisfied: pytz>=2017.3 in /usr/local/lib/python3.8/dist-packages (from pandas>=0.24.0->catboost) (2022.7.1)\n",
            "Requirement already satisfied: kiwisolver>=1.0.1 in /usr/local/lib/python3.8/dist-packages (from matplotlib->catboost) (1.4.4)\n",
            "Requirement already satisfied: pyparsing!=2.0.4,!=2.1.2,!=2.1.6,>=2.0.1 in /usr/local/lib/python3.8/dist-packages (from matplotlib->catboost) (3.0.9)\n",
            "Requirement already satisfied: cycler>=0.10 in /usr/local/lib/python3.8/dist-packages (from matplotlib->catboost) (0.11.0)\n",
            "Requirement already satisfied: tenacity>=6.2.0 in /usr/local/lib/python3.8/dist-packages (from plotly->catboost) (8.1.0)\n",
            "Installing collected packages: catboost\n",
            "Successfully installed catboost-1.1.1\n"
          ]
        }
      ],
      "source": [
        "#Instalação\n",
        "!pip install catboost"
      ]
    },
    {
      "cell_type": "code",
      "execution_count": null,
      "metadata": {
        "id": "kisDuh-RUChW"
      },
      "outputs": [],
      "source": [
        "from catboost import CatBoostClassifier"
      ]
    },
    {
      "cell_type": "code",
      "execution_count": null,
      "metadata": {
        "colab": {
          "base_uri": "https://localhost:8080/",
          "height": 424
        },
        "id": "fochAJydUChX",
        "outputId": "deb4e60e-ed1d-4645-c297-6650875053ee"
      },
      "outputs": [
        {
          "data": {
            "text/html": [
              "\n",
              "  <div id=\"df-dafa2fe6-3049-448a-b386-9ba6f06d0bf5\">\n",
              "    <div class=\"colab-df-container\">\n",
              "      <div>\n",
              "<style scoped>\n",
              "    .dataframe tbody tr th:only-of-type {\n",
              "        vertical-align: middle;\n",
              "    }\n",
              "\n",
              "    .dataframe tbody tr th {\n",
              "        vertical-align: top;\n",
              "    }\n",
              "\n",
              "    .dataframe thead th {\n",
              "        text-align: right;\n",
              "    }\n",
              "</style>\n",
              "<table border=\"1\" class=\"dataframe\">\n",
              "  <thead>\n",
              "    <tr style=\"text-align: right;\">\n",
              "      <th></th>\n",
              "      <th>Age</th>\n",
              "      <th>Sex</th>\n",
              "      <th>ChestPainType</th>\n",
              "      <th>RestingBP</th>\n",
              "      <th>Cholesterol</th>\n",
              "      <th>FastingBS</th>\n",
              "      <th>RestingECG</th>\n",
              "      <th>MaxHR</th>\n",
              "      <th>ExerciseAngina</th>\n",
              "      <th>Oldpeak</th>\n",
              "      <th>ST_Slope</th>\n",
              "      <th>HeartDisease</th>\n",
              "    </tr>\n",
              "  </thead>\n",
              "  <tbody>\n",
              "    <tr>\n",
              "      <th>0</th>\n",
              "      <td>40</td>\n",
              "      <td>M</td>\n",
              "      <td>ATA</td>\n",
              "      <td>140</td>\n",
              "      <td>289.0</td>\n",
              "      <td>0</td>\n",
              "      <td>Normal</td>\n",
              "      <td>172</td>\n",
              "      <td>N</td>\n",
              "      <td>0.0</td>\n",
              "      <td>Up</td>\n",
              "      <td>0</td>\n",
              "    </tr>\n",
              "    <tr>\n",
              "      <th>1</th>\n",
              "      <td>49</td>\n",
              "      <td>F</td>\n",
              "      <td>NAP</td>\n",
              "      <td>160</td>\n",
              "      <td>180.0</td>\n",
              "      <td>0</td>\n",
              "      <td>Normal</td>\n",
              "      <td>156</td>\n",
              "      <td>N</td>\n",
              "      <td>1.0</td>\n",
              "      <td>Flat</td>\n",
              "      <td>1</td>\n",
              "    </tr>\n",
              "    <tr>\n",
              "      <th>2</th>\n",
              "      <td>37</td>\n",
              "      <td>M</td>\n",
              "      <td>ATA</td>\n",
              "      <td>130</td>\n",
              "      <td>283.0</td>\n",
              "      <td>0</td>\n",
              "      <td>ST</td>\n",
              "      <td>98</td>\n",
              "      <td>N</td>\n",
              "      <td>0.0</td>\n",
              "      <td>Up</td>\n",
              "      <td>0</td>\n",
              "    </tr>\n",
              "    <tr>\n",
              "      <th>3</th>\n",
              "      <td>48</td>\n",
              "      <td>F</td>\n",
              "      <td>ASY</td>\n",
              "      <td>138</td>\n",
              "      <td>214.0</td>\n",
              "      <td>0</td>\n",
              "      <td>Normal</td>\n",
              "      <td>108</td>\n",
              "      <td>Y</td>\n",
              "      <td>1.5</td>\n",
              "      <td>Flat</td>\n",
              "      <td>1</td>\n",
              "    </tr>\n",
              "    <tr>\n",
              "      <th>4</th>\n",
              "      <td>54</td>\n",
              "      <td>M</td>\n",
              "      <td>NAP</td>\n",
              "      <td>150</td>\n",
              "      <td>195.0</td>\n",
              "      <td>0</td>\n",
              "      <td>Normal</td>\n",
              "      <td>122</td>\n",
              "      <td>N</td>\n",
              "      <td>0.0</td>\n",
              "      <td>Up</td>\n",
              "      <td>0</td>\n",
              "    </tr>\n",
              "    <tr>\n",
              "      <th>...</th>\n",
              "      <td>...</td>\n",
              "      <td>...</td>\n",
              "      <td>...</td>\n",
              "      <td>...</td>\n",
              "      <td>...</td>\n",
              "      <td>...</td>\n",
              "      <td>...</td>\n",
              "      <td>...</td>\n",
              "      <td>...</td>\n",
              "      <td>...</td>\n",
              "      <td>...</td>\n",
              "      <td>...</td>\n",
              "    </tr>\n",
              "    <tr>\n",
              "      <th>912</th>\n",
              "      <td>45</td>\n",
              "      <td>M</td>\n",
              "      <td>TA</td>\n",
              "      <td>110</td>\n",
              "      <td>264.0</td>\n",
              "      <td>0</td>\n",
              "      <td>Normal</td>\n",
              "      <td>132</td>\n",
              "      <td>N</td>\n",
              "      <td>1.2</td>\n",
              "      <td>Flat</td>\n",
              "      <td>1</td>\n",
              "    </tr>\n",
              "    <tr>\n",
              "      <th>913</th>\n",
              "      <td>68</td>\n",
              "      <td>M</td>\n",
              "      <td>ASY</td>\n",
              "      <td>144</td>\n",
              "      <td>193.0</td>\n",
              "      <td>1</td>\n",
              "      <td>Normal</td>\n",
              "      <td>141</td>\n",
              "      <td>N</td>\n",
              "      <td>3.4</td>\n",
              "      <td>Flat</td>\n",
              "      <td>1</td>\n",
              "    </tr>\n",
              "    <tr>\n",
              "      <th>914</th>\n",
              "      <td>57</td>\n",
              "      <td>M</td>\n",
              "      <td>ASY</td>\n",
              "      <td>130</td>\n",
              "      <td>131.0</td>\n",
              "      <td>0</td>\n",
              "      <td>Normal</td>\n",
              "      <td>115</td>\n",
              "      <td>Y</td>\n",
              "      <td>1.2</td>\n",
              "      <td>Flat</td>\n",
              "      <td>1</td>\n",
              "    </tr>\n",
              "    <tr>\n",
              "      <th>915</th>\n",
              "      <td>57</td>\n",
              "      <td>F</td>\n",
              "      <td>ATA</td>\n",
              "      <td>130</td>\n",
              "      <td>236.0</td>\n",
              "      <td>0</td>\n",
              "      <td>LVH</td>\n",
              "      <td>174</td>\n",
              "      <td>N</td>\n",
              "      <td>0.0</td>\n",
              "      <td>Flat</td>\n",
              "      <td>1</td>\n",
              "    </tr>\n",
              "    <tr>\n",
              "      <th>916</th>\n",
              "      <td>38</td>\n",
              "      <td>M</td>\n",
              "      <td>NAP</td>\n",
              "      <td>138</td>\n",
              "      <td>175.0</td>\n",
              "      <td>0</td>\n",
              "      <td>Normal</td>\n",
              "      <td>173</td>\n",
              "      <td>N</td>\n",
              "      <td>0.0</td>\n",
              "      <td>Up</td>\n",
              "      <td>0</td>\n",
              "    </tr>\n",
              "  </tbody>\n",
              "</table>\n",
              "<p>917 rows × 12 columns</p>\n",
              "</div>\n",
              "      <button class=\"colab-df-convert\" onclick=\"convertToInteractive('df-dafa2fe6-3049-448a-b386-9ba6f06d0bf5')\"\n",
              "              title=\"Convert this dataframe to an interactive table.\"\n",
              "              style=\"display:none;\">\n",
              "        \n",
              "  <svg xmlns=\"http://www.w3.org/2000/svg\" height=\"24px\"viewBox=\"0 0 24 24\"\n",
              "       width=\"24px\">\n",
              "    <path d=\"M0 0h24v24H0V0z\" fill=\"none\"/>\n",
              "    <path d=\"M18.56 5.44l.94 2.06.94-2.06 2.06-.94-2.06-.94-.94-2.06-.94 2.06-2.06.94zm-11 1L8.5 8.5l.94-2.06 2.06-.94-2.06-.94L8.5 2.5l-.94 2.06-2.06.94zm10 10l.94 2.06.94-2.06 2.06-.94-2.06-.94-.94-2.06-.94 2.06-2.06.94z\"/><path d=\"M17.41 7.96l-1.37-1.37c-.4-.4-.92-.59-1.43-.59-.52 0-1.04.2-1.43.59L10.3 9.45l-7.72 7.72c-.78.78-.78 2.05 0 2.83L4 21.41c.39.39.9.59 1.41.59.51 0 1.02-.2 1.41-.59l7.78-7.78 2.81-2.81c.8-.78.8-2.07 0-2.86zM5.41 20L4 18.59l7.72-7.72 1.47 1.35L5.41 20z\"/>\n",
              "  </svg>\n",
              "      </button>\n",
              "      \n",
              "  <style>\n",
              "    .colab-df-container {\n",
              "      display:flex;\n",
              "      flex-wrap:wrap;\n",
              "      gap: 12px;\n",
              "    }\n",
              "\n",
              "    .colab-df-convert {\n",
              "      background-color: #E8F0FE;\n",
              "      border: none;\n",
              "      border-radius: 50%;\n",
              "      cursor: pointer;\n",
              "      display: none;\n",
              "      fill: #1967D2;\n",
              "      height: 32px;\n",
              "      padding: 0 0 0 0;\n",
              "      width: 32px;\n",
              "    }\n",
              "\n",
              "    .colab-df-convert:hover {\n",
              "      background-color: #E2EBFA;\n",
              "      box-shadow: 0px 1px 2px rgba(60, 64, 67, 0.3), 0px 1px 3px 1px rgba(60, 64, 67, 0.15);\n",
              "      fill: #174EA6;\n",
              "    }\n",
              "\n",
              "    [theme=dark] .colab-df-convert {\n",
              "      background-color: #3B4455;\n",
              "      fill: #D2E3FC;\n",
              "    }\n",
              "\n",
              "    [theme=dark] .colab-df-convert:hover {\n",
              "      background-color: #434B5C;\n",
              "      box-shadow: 0px 1px 3px 1px rgba(0, 0, 0, 0.15);\n",
              "      filter: drop-shadow(0px 1px 2px rgba(0, 0, 0, 0.3));\n",
              "      fill: #FFFFFF;\n",
              "    }\n",
              "  </style>\n",
              "\n",
              "      <script>\n",
              "        const buttonEl =\n",
              "          document.querySelector('#df-dafa2fe6-3049-448a-b386-9ba6f06d0bf5 button.colab-df-convert');\n",
              "        buttonEl.style.display =\n",
              "          google.colab.kernel.accessAllowed ? 'block' : 'none';\n",
              "\n",
              "        async function convertToInteractive(key) {\n",
              "          const element = document.querySelector('#df-dafa2fe6-3049-448a-b386-9ba6f06d0bf5');\n",
              "          const dataTable =\n",
              "            await google.colab.kernel.invokeFunction('convertToInteractive',\n",
              "                                                     [key], {});\n",
              "          if (!dataTable) return;\n",
              "\n",
              "          const docLinkHtml = 'Like what you see? Visit the ' +\n",
              "            '<a target=\"_blank\" href=https://colab.research.google.com/notebooks/data_table.ipynb>data table notebook</a>'\n",
              "            + ' to learn more about interactive tables.';\n",
              "          element.innerHTML = '';\n",
              "          dataTable['output_type'] = 'display_data';\n",
              "          await google.colab.output.renderOutput(dataTable, element);\n",
              "          const docLink = document.createElement('div');\n",
              "          docLink.innerHTML = docLinkHtml;\n",
              "          element.appendChild(docLink);\n",
              "        }\n",
              "      </script>\n",
              "    </div>\n",
              "  </div>\n",
              "  "
            ],
            "text/plain": [
              "     Age Sex ChestPainType  RestingBP  Cholesterol  FastingBS RestingECG  \\\n",
              "0     40   M           ATA        140        289.0          0     Normal   \n",
              "1     49   F           NAP        160        180.0          0     Normal   \n",
              "2     37   M           ATA        130        283.0          0         ST   \n",
              "3     48   F           ASY        138        214.0          0     Normal   \n",
              "4     54   M           NAP        150        195.0          0     Normal   \n",
              "..   ...  ..           ...        ...          ...        ...        ...   \n",
              "912   45   M            TA        110        264.0          0     Normal   \n",
              "913   68   M           ASY        144        193.0          1     Normal   \n",
              "914   57   M           ASY        130        131.0          0     Normal   \n",
              "915   57   F           ATA        130        236.0          0        LVH   \n",
              "916   38   M           NAP        138        175.0          0     Normal   \n",
              "\n",
              "     MaxHR ExerciseAngina  Oldpeak ST_Slope  HeartDisease  \n",
              "0      172              N      0.0       Up             0  \n",
              "1      156              N      1.0     Flat             1  \n",
              "2       98              N      0.0       Up             0  \n",
              "3      108              Y      1.5     Flat             1  \n",
              "4      122              N      0.0       Up             0  \n",
              "..     ...            ...      ...      ...           ...  \n",
              "912    132              N      1.2     Flat             1  \n",
              "913    141              N      3.4     Flat             1  \n",
              "914    115              Y      1.2     Flat             1  \n",
              "915    174              N      0.0     Flat             1  \n",
              "916    173              N      0.0       Up             0  \n",
              "\n",
              "[917 rows x 12 columns]"
            ]
          },
          "execution_count": 144,
          "metadata": {},
          "output_type": "execute_result"
        }
      ],
      "source": [
        "df"
      ]
    },
    {
      "cell_type": "code",
      "execution_count": null,
      "metadata": {
        "id": "mFw4wb_2CZWv"
      },
      "outputs": [],
      "source": [
        "previsores4 = df.iloc[:, 0:11]"
      ]
    },
    {
      "cell_type": "code",
      "execution_count": null,
      "metadata": {
        "colab": {
          "base_uri": "https://localhost:8080/",
          "height": 206
        },
        "id": "6EGMtQa9Dwf7",
        "outputId": "e32a5ef8-52fa-4911-cd82-d52c1e8b32e6"
      },
      "outputs": [
        {
          "data": {
            "text/html": [
              "\n",
              "  <div id=\"df-c4286bae-fbf8-4d73-99c2-75794363208f\">\n",
              "    <div class=\"colab-df-container\">\n",
              "      <div>\n",
              "<style scoped>\n",
              "    .dataframe tbody tr th:only-of-type {\n",
              "        vertical-align: middle;\n",
              "    }\n",
              "\n",
              "    .dataframe tbody tr th {\n",
              "        vertical-align: top;\n",
              "    }\n",
              "\n",
              "    .dataframe thead th {\n",
              "        text-align: right;\n",
              "    }\n",
              "</style>\n",
              "<table border=\"1\" class=\"dataframe\">\n",
              "  <thead>\n",
              "    <tr style=\"text-align: right;\">\n",
              "      <th></th>\n",
              "      <th>Age</th>\n",
              "      <th>Sex</th>\n",
              "      <th>ChestPainType</th>\n",
              "      <th>RestingBP</th>\n",
              "      <th>Cholesterol</th>\n",
              "      <th>FastingBS</th>\n",
              "      <th>RestingECG</th>\n",
              "      <th>MaxHR</th>\n",
              "      <th>ExerciseAngina</th>\n",
              "      <th>Oldpeak</th>\n",
              "      <th>ST_Slope</th>\n",
              "    </tr>\n",
              "  </thead>\n",
              "  <tbody>\n",
              "    <tr>\n",
              "      <th>0</th>\n",
              "      <td>40</td>\n",
              "      <td>M</td>\n",
              "      <td>ATA</td>\n",
              "      <td>140</td>\n",
              "      <td>289.0</td>\n",
              "      <td>0</td>\n",
              "      <td>Normal</td>\n",
              "      <td>172</td>\n",
              "      <td>N</td>\n",
              "      <td>0.0</td>\n",
              "      <td>Up</td>\n",
              "    </tr>\n",
              "    <tr>\n",
              "      <th>1</th>\n",
              "      <td>49</td>\n",
              "      <td>F</td>\n",
              "      <td>NAP</td>\n",
              "      <td>160</td>\n",
              "      <td>180.0</td>\n",
              "      <td>0</td>\n",
              "      <td>Normal</td>\n",
              "      <td>156</td>\n",
              "      <td>N</td>\n",
              "      <td>1.0</td>\n",
              "      <td>Flat</td>\n",
              "    </tr>\n",
              "    <tr>\n",
              "      <th>2</th>\n",
              "      <td>37</td>\n",
              "      <td>M</td>\n",
              "      <td>ATA</td>\n",
              "      <td>130</td>\n",
              "      <td>283.0</td>\n",
              "      <td>0</td>\n",
              "      <td>ST</td>\n",
              "      <td>98</td>\n",
              "      <td>N</td>\n",
              "      <td>0.0</td>\n",
              "      <td>Up</td>\n",
              "    </tr>\n",
              "    <tr>\n",
              "      <th>3</th>\n",
              "      <td>48</td>\n",
              "      <td>F</td>\n",
              "      <td>ASY</td>\n",
              "      <td>138</td>\n",
              "      <td>214.0</td>\n",
              "      <td>0</td>\n",
              "      <td>Normal</td>\n",
              "      <td>108</td>\n",
              "      <td>Y</td>\n",
              "      <td>1.5</td>\n",
              "      <td>Flat</td>\n",
              "    </tr>\n",
              "    <tr>\n",
              "      <th>4</th>\n",
              "      <td>54</td>\n",
              "      <td>M</td>\n",
              "      <td>NAP</td>\n",
              "      <td>150</td>\n",
              "      <td>195.0</td>\n",
              "      <td>0</td>\n",
              "      <td>Normal</td>\n",
              "      <td>122</td>\n",
              "      <td>N</td>\n",
              "      <td>0.0</td>\n",
              "      <td>Up</td>\n",
              "    </tr>\n",
              "  </tbody>\n",
              "</table>\n",
              "</div>\n",
              "      <button class=\"colab-df-convert\" onclick=\"convertToInteractive('df-c4286bae-fbf8-4d73-99c2-75794363208f')\"\n",
              "              title=\"Convert this dataframe to an interactive table.\"\n",
              "              style=\"display:none;\">\n",
              "        \n",
              "  <svg xmlns=\"http://www.w3.org/2000/svg\" height=\"24px\"viewBox=\"0 0 24 24\"\n",
              "       width=\"24px\">\n",
              "    <path d=\"M0 0h24v24H0V0z\" fill=\"none\"/>\n",
              "    <path d=\"M18.56 5.44l.94 2.06.94-2.06 2.06-.94-2.06-.94-.94-2.06-.94 2.06-2.06.94zm-11 1L8.5 8.5l.94-2.06 2.06-.94-2.06-.94L8.5 2.5l-.94 2.06-2.06.94zm10 10l.94 2.06.94-2.06 2.06-.94-2.06-.94-.94-2.06-.94 2.06-2.06.94z\"/><path d=\"M17.41 7.96l-1.37-1.37c-.4-.4-.92-.59-1.43-.59-.52 0-1.04.2-1.43.59L10.3 9.45l-7.72 7.72c-.78.78-.78 2.05 0 2.83L4 21.41c.39.39.9.59 1.41.59.51 0 1.02-.2 1.41-.59l7.78-7.78 2.81-2.81c.8-.78.8-2.07 0-2.86zM5.41 20L4 18.59l7.72-7.72 1.47 1.35L5.41 20z\"/>\n",
              "  </svg>\n",
              "      </button>\n",
              "      \n",
              "  <style>\n",
              "    .colab-df-container {\n",
              "      display:flex;\n",
              "      flex-wrap:wrap;\n",
              "      gap: 12px;\n",
              "    }\n",
              "\n",
              "    .colab-df-convert {\n",
              "      background-color: #E8F0FE;\n",
              "      border: none;\n",
              "      border-radius: 50%;\n",
              "      cursor: pointer;\n",
              "      display: none;\n",
              "      fill: #1967D2;\n",
              "      height: 32px;\n",
              "      padding: 0 0 0 0;\n",
              "      width: 32px;\n",
              "    }\n",
              "\n",
              "    .colab-df-convert:hover {\n",
              "      background-color: #E2EBFA;\n",
              "      box-shadow: 0px 1px 2px rgba(60, 64, 67, 0.3), 0px 1px 3px 1px rgba(60, 64, 67, 0.15);\n",
              "      fill: #174EA6;\n",
              "    }\n",
              "\n",
              "    [theme=dark] .colab-df-convert {\n",
              "      background-color: #3B4455;\n",
              "      fill: #D2E3FC;\n",
              "    }\n",
              "\n",
              "    [theme=dark] .colab-df-convert:hover {\n",
              "      background-color: #434B5C;\n",
              "      box-shadow: 0px 1px 3px 1px rgba(0, 0, 0, 0.15);\n",
              "      filter: drop-shadow(0px 1px 2px rgba(0, 0, 0, 0.3));\n",
              "      fill: #FFFFFF;\n",
              "    }\n",
              "  </style>\n",
              "\n",
              "      <script>\n",
              "        const buttonEl =\n",
              "          document.querySelector('#df-c4286bae-fbf8-4d73-99c2-75794363208f button.colab-df-convert');\n",
              "        buttonEl.style.display =\n",
              "          google.colab.kernel.accessAllowed ? 'block' : 'none';\n",
              "\n",
              "        async function convertToInteractive(key) {\n",
              "          const element = document.querySelector('#df-c4286bae-fbf8-4d73-99c2-75794363208f');\n",
              "          const dataTable =\n",
              "            await google.colab.kernel.invokeFunction('convertToInteractive',\n",
              "                                                     [key], {});\n",
              "          if (!dataTable) return;\n",
              "\n",
              "          const docLinkHtml = 'Like what you see? Visit the ' +\n",
              "            '<a target=\"_blank\" href=https://colab.research.google.com/notebooks/data_table.ipynb>data table notebook</a>'\n",
              "            + ' to learn more about interactive tables.';\n",
              "          element.innerHTML = '';\n",
              "          dataTable['output_type'] = 'display_data';\n",
              "          await google.colab.output.renderOutput(dataTable, element);\n",
              "          const docLink = document.createElement('div');\n",
              "          docLink.innerHTML = docLinkHtml;\n",
              "          element.appendChild(docLink);\n",
              "        }\n",
              "      </script>\n",
              "    </div>\n",
              "  </div>\n",
              "  "
            ],
            "text/plain": [
              "   Age Sex ChestPainType  RestingBP  Cholesterol  FastingBS RestingECG  MaxHR  \\\n",
              "0   40   M           ATA        140        289.0          0     Normal    172   \n",
              "1   49   F           NAP        160        180.0          0     Normal    156   \n",
              "2   37   M           ATA        130        283.0          0         ST     98   \n",
              "3   48   F           ASY        138        214.0          0     Normal    108   \n",
              "4   54   M           NAP        150        195.0          0     Normal    122   \n",
              "\n",
              "  ExerciseAngina  Oldpeak ST_Slope  \n",
              "0              N      0.0       Up  \n",
              "1              N      1.0     Flat  \n",
              "2              N      0.0       Up  \n",
              "3              Y      1.5     Flat  \n",
              "4              N      0.0       Up  "
            ]
          },
          "execution_count": 146,
          "metadata": {},
          "output_type": "execute_result"
        }
      ],
      "source": [
        "previsores4.head()"
      ]
    },
    {
      "cell_type": "code",
      "execution_count": null,
      "metadata": {
        "id": "G0qli4gSEBbM"
      },
      "outputs": [],
      "source": [
        "alvo4 = df.iloc[:, 11]"
      ]
    },
    {
      "cell_type": "code",
      "execution_count": null,
      "metadata": {
        "id": "hAcS1ULCC78V"
      },
      "outputs": [],
      "source": [
        "from sklearn.model_selection import train_test_split"
      ]
    },
    {
      "cell_type": "code",
      "execution_count": null,
      "metadata": {
        "id": "OP69_qpGC78W"
      },
      "outputs": [],
      "source": [
        "x_treino, x_teste, y_treino, y_teste = train_test_split(previsores4, alvo4, test_size = 0.3, random_state = 0)"
      ]
    },
    {
      "cell_type": "code",
      "execution_count": null,
      "metadata": {
        "id": "B9Gb_1r2UChX"
      },
      "outputs": [],
      "source": [
        "categoricas = ['Sex','ChestPainType', 'RestingECG', 'ExerciseAngina', 'ST_Slope']"
      ]
    },
    {
      "cell_type": "code",
      "execution_count": null,
      "metadata": {
        "id": "kM7Xaph4UChY"
      },
      "outputs": [],
      "source": [
        "catboost = CatBoostClassifier(task_type='CPU', iterations=100, learning_rate=0.1, depth = 8, random_state = 5,\n",
        "                              eval_metric=\"Accuracy\")"
      ]
    },
    {
      "cell_type": "code",
      "execution_count": null,
      "metadata": {
        "colab": {
          "base_uri": "https://localhost:8080/",
          "height": 1000,
          "referenced_widgets": [
            "69e850e1c5334024bcca3859292cc488"
          ]
        },
        "id": "frZ9Fw1EUChY",
        "outputId": "2ee8b583-0dbf-454f-e513-2920486126e7"
      },
      "outputs": [
        {
          "data": {
            "application/vnd.jupyter.widget-view+json": {
              "model_id": "69e850e1c5334024bcca3859292cc488",
              "version_major": 2,
              "version_minor": 0
            },
            "text/plain": [
              "MetricVisualizer(layout=Layout(align_self='stretch', height='500px'))"
            ]
          },
          "metadata": {},
          "output_type": "display_data"
        },
        {
          "name": "stdout",
          "output_type": "stream",
          "text": [
            "0:\tlearn: 0.8861154\ttest: 0.7789855\tbest: 0.7789855 (0)\ttotal: 62.2ms\tremaining: 6.16s\n",
            "1:\tlearn: 0.8689548\ttest: 0.7934783\tbest: 0.7934783 (1)\ttotal: 75.4ms\tremaining: 3.69s\n",
            "2:\tlearn: 0.8471139\ttest: 0.7971014\tbest: 0.7971014 (2)\ttotal: 78.3ms\tremaining: 2.53s\n",
            "3:\tlearn: 0.8549142\ttest: 0.8043478\tbest: 0.8043478 (3)\ttotal: 98.3ms\tremaining: 2.36s\n",
            "4:\tlearn: 0.8517941\ttest: 0.8043478\tbest: 0.8043478 (3)\ttotal: 112ms\tremaining: 2.13s\n",
            "5:\tlearn: 0.8486739\ttest: 0.8043478\tbest: 0.8043478 (3)\ttotal: 118ms\tremaining: 1.85s\n",
            "6:\tlearn: 0.8580343\ttest: 0.8115942\tbest: 0.8115942 (6)\ttotal: 131ms\tremaining: 1.75s\n",
            "7:\tlearn: 0.8642746\ttest: 0.8043478\tbest: 0.8115942 (6)\ttotal: 141ms\tremaining: 1.63s\n",
            "8:\tlearn: 0.8533541\ttest: 0.8043478\tbest: 0.8115942 (6)\ttotal: 151ms\tremaining: 1.53s\n",
            "9:\tlearn: 0.8611544\ttest: 0.8115942\tbest: 0.8115942 (6)\ttotal: 158ms\tremaining: 1.42s\n",
            "10:\tlearn: 0.8642746\ttest: 0.8079710\tbest: 0.8115942 (6)\ttotal: 172ms\tremaining: 1.39s\n",
            "11:\tlearn: 0.8658346\ttest: 0.8043478\tbest: 0.8115942 (6)\ttotal: 178ms\tremaining: 1.31s\n",
            "12:\tlearn: 0.8689548\ttest: 0.8043478\tbest: 0.8115942 (6)\ttotal: 192ms\tremaining: 1.28s\n",
            "13:\tlearn: 0.8611544\ttest: 0.8007246\tbest: 0.8115942 (6)\ttotal: 193ms\tremaining: 1.19s\n",
            "14:\tlearn: 0.8611544\ttest: 0.8007246\tbest: 0.8115942 (6)\ttotal: 209ms\tremaining: 1.18s\n",
            "15:\tlearn: 0.8658346\ttest: 0.7971014\tbest: 0.8115942 (6)\ttotal: 212ms\tremaining: 1.11s\n",
            "16:\tlearn: 0.8673947\ttest: 0.7971014\tbest: 0.8115942 (6)\ttotal: 219ms\tremaining: 1.07s\n",
            "17:\tlearn: 0.8689548\ttest: 0.8007246\tbest: 0.8115942 (6)\ttotal: 228ms\tremaining: 1.04s\n",
            "18:\tlearn: 0.8720749\ttest: 0.8007246\tbest: 0.8115942 (6)\ttotal: 241ms\tremaining: 1.03s\n",
            "19:\tlearn: 0.8767551\ttest: 0.8007246\tbest: 0.8115942 (6)\ttotal: 251ms\tremaining: 1s\n",
            "20:\tlearn: 0.8767551\ttest: 0.8079710\tbest: 0.8115942 (6)\ttotal: 257ms\tremaining: 965ms\n",
            "21:\tlearn: 0.8798752\ttest: 0.8079710\tbest: 0.8115942 (6)\ttotal: 262ms\tremaining: 927ms\n",
            "22:\tlearn: 0.8814353\ttest: 0.8079710\tbest: 0.8115942 (6)\ttotal: 267ms\tremaining: 893ms\n",
            "23:\tlearn: 0.8814353\ttest: 0.8079710\tbest: 0.8115942 (6)\ttotal: 276ms\tremaining: 874ms\n",
            "24:\tlearn: 0.8814353\ttest: 0.8079710\tbest: 0.8115942 (6)\ttotal: 286ms\tremaining: 859ms\n",
            "25:\tlearn: 0.8829953\ttest: 0.8115942\tbest: 0.8115942 (6)\ttotal: 297ms\tremaining: 846ms\n",
            "26:\tlearn: 0.8845554\ttest: 0.8152174\tbest: 0.8152174 (26)\ttotal: 308ms\tremaining: 832ms\n",
            "27:\tlearn: 0.8829953\ttest: 0.8152174\tbest: 0.8152174 (26)\ttotal: 310ms\tremaining: 797ms\n",
            "28:\tlearn: 0.8861154\ttest: 0.8115942\tbest: 0.8152174 (26)\ttotal: 321ms\tremaining: 787ms\n",
            "29:\tlearn: 0.8939158\ttest: 0.8115942\tbest: 0.8152174 (26)\ttotal: 333ms\tremaining: 776ms\n",
            "30:\tlearn: 0.8954758\ttest: 0.8115942\tbest: 0.8152174 (26)\ttotal: 341ms\tremaining: 758ms\n",
            "31:\tlearn: 0.8954758\ttest: 0.8152174\tbest: 0.8152174 (26)\ttotal: 364ms\tremaining: 773ms\n",
            "32:\tlearn: 0.8970359\ttest: 0.8115942\tbest: 0.8152174 (26)\ttotal: 374ms\tremaining: 759ms\n",
            "33:\tlearn: 0.9001560\ttest: 0.8152174\tbest: 0.8152174 (26)\ttotal: 384ms\tremaining: 745ms\n",
            "34:\tlearn: 0.9048362\ttest: 0.8188406\tbest: 0.8188406 (34)\ttotal: 392ms\tremaining: 727ms\n",
            "35:\tlearn: 0.9095164\ttest: 0.8297101\tbest: 0.8297101 (35)\ttotal: 404ms\tremaining: 718ms\n",
            "36:\tlearn: 0.9110764\ttest: 0.8224638\tbest: 0.8297101 (35)\ttotal: 414ms\tremaining: 705ms\n",
            "37:\tlearn: 0.9157566\ttest: 0.8260870\tbest: 0.8297101 (35)\ttotal: 428ms\tremaining: 698ms\n",
            "38:\tlearn: 0.9157566\ttest: 0.8333333\tbest: 0.8333333 (38)\ttotal: 430ms\tremaining: 673ms\n",
            "39:\tlearn: 0.9173167\ttest: 0.8333333\tbest: 0.8333333 (38)\ttotal: 442ms\tremaining: 663ms\n",
            "40:\tlearn: 0.9141966\ttest: 0.8369565\tbest: 0.8369565 (40)\ttotal: 444ms\tremaining: 639ms\n",
            "41:\tlearn: 0.9141966\ttest: 0.8405797\tbest: 0.8405797 (41)\ttotal: 450ms\tremaining: 621ms\n",
            "42:\tlearn: 0.9173167\ttest: 0.8442029\tbest: 0.8442029 (42)\ttotal: 464ms\tremaining: 615ms\n",
            "43:\tlearn: 0.9173167\ttest: 0.8514493\tbest: 0.8514493 (43)\ttotal: 469ms\tremaining: 597ms\n",
            "44:\tlearn: 0.9173167\ttest: 0.8478261\tbest: 0.8514493 (43)\ttotal: 478ms\tremaining: 585ms\n",
            "45:\tlearn: 0.9188768\ttest: 0.8478261\tbest: 0.8514493 (43)\ttotal: 491ms\tremaining: 577ms\n",
            "46:\tlearn: 0.9204368\ttest: 0.8514493\tbest: 0.8514493 (43)\ttotal: 502ms\tremaining: 566ms\n",
            "47:\tlearn: 0.9204368\ttest: 0.8550725\tbest: 0.8550725 (47)\ttotal: 518ms\tremaining: 561ms\n",
            "48:\tlearn: 0.9219969\ttest: 0.8623188\tbest: 0.8623188 (48)\ttotal: 525ms\tremaining: 547ms\n",
            "49:\tlearn: 0.9188768\ttest: 0.8623188\tbest: 0.8623188 (48)\ttotal: 529ms\tremaining: 529ms\n",
            "50:\tlearn: 0.9204368\ttest: 0.8659420\tbest: 0.8659420 (50)\ttotal: 538ms\tremaining: 517ms\n",
            "51:\tlearn: 0.9235569\ttest: 0.8659420\tbest: 0.8659420 (50)\ttotal: 541ms\tremaining: 500ms\n",
            "52:\tlearn: 0.9235569\ttest: 0.8659420\tbest: 0.8659420 (50)\ttotal: 545ms\tremaining: 483ms\n",
            "53:\tlearn: 0.9251170\ttest: 0.8659420\tbest: 0.8659420 (50)\ttotal: 564ms\tremaining: 480ms\n",
            "54:\tlearn: 0.9235569\ttest: 0.8695652\tbest: 0.8695652 (54)\ttotal: 572ms\tremaining: 468ms\n",
            "55:\tlearn: 0.9204368\ttest: 0.8695652\tbest: 0.8695652 (54)\ttotal: 581ms\tremaining: 456ms\n",
            "56:\tlearn: 0.9219969\ttest: 0.8695652\tbest: 0.8695652 (54)\ttotal: 588ms\tremaining: 444ms\n",
            "57:\tlearn: 0.9251170\ttest: 0.8695652\tbest: 0.8695652 (54)\ttotal: 598ms\tremaining: 433ms\n",
            "58:\tlearn: 0.9266771\ttest: 0.8695652\tbest: 0.8695652 (54)\ttotal: 617ms\tremaining: 429ms\n",
            "59:\tlearn: 0.9282371\ttest: 0.8695652\tbest: 0.8695652 (54)\ttotal: 624ms\tremaining: 416ms\n",
            "60:\tlearn: 0.9282371\ttest: 0.8695652\tbest: 0.8695652 (54)\ttotal: 631ms\tremaining: 404ms\n",
            "61:\tlearn: 0.9282371\ttest: 0.8695652\tbest: 0.8695652 (54)\ttotal: 639ms\tremaining: 392ms\n",
            "62:\tlearn: 0.9251170\ttest: 0.8695652\tbest: 0.8695652 (54)\ttotal: 647ms\tremaining: 380ms\n",
            "63:\tlearn: 0.9251170\ttest: 0.8695652\tbest: 0.8695652 (54)\ttotal: 653ms\tremaining: 367ms\n",
            "64:\tlearn: 0.9251170\ttest: 0.8695652\tbest: 0.8695652 (54)\ttotal: 654ms\tremaining: 352ms\n",
            "65:\tlearn: 0.9251170\ttest: 0.8695652\tbest: 0.8695652 (54)\ttotal: 661ms\tremaining: 341ms\n",
            "66:\tlearn: 0.9251170\ttest: 0.8695652\tbest: 0.8695652 (54)\ttotal: 668ms\tremaining: 329ms\n",
            "67:\tlearn: 0.9266771\ttest: 0.8695652\tbest: 0.8695652 (54)\ttotal: 670ms\tremaining: 316ms\n",
            "68:\tlearn: 0.9266771\ttest: 0.8695652\tbest: 0.8695652 (54)\ttotal: 673ms\tremaining: 302ms\n",
            "69:\tlearn: 0.9266771\ttest: 0.8695652\tbest: 0.8695652 (54)\ttotal: 675ms\tremaining: 289ms\n",
            "70:\tlearn: 0.9266771\ttest: 0.8695652\tbest: 0.8695652 (54)\ttotal: 687ms\tremaining: 281ms\n",
            "71:\tlearn: 0.9266771\ttest: 0.8695652\tbest: 0.8695652 (54)\ttotal: 690ms\tremaining: 268ms\n",
            "72:\tlearn: 0.9266771\ttest: 0.8695652\tbest: 0.8695652 (54)\ttotal: 692ms\tremaining: 256ms\n",
            "73:\tlearn: 0.9251170\ttest: 0.8695652\tbest: 0.8695652 (54)\ttotal: 700ms\tremaining: 246ms\n",
            "74:\tlearn: 0.9251170\ttest: 0.8695652\tbest: 0.8695652 (54)\ttotal: 702ms\tremaining: 234ms\n",
            "75:\tlearn: 0.9266771\ttest: 0.8695652\tbest: 0.8695652 (54)\ttotal: 707ms\tremaining: 223ms\n",
            "76:\tlearn: 0.9266771\ttest: 0.8695652\tbest: 0.8695652 (54)\ttotal: 714ms\tremaining: 213ms\n",
            "77:\tlearn: 0.9266771\ttest: 0.8695652\tbest: 0.8695652 (54)\ttotal: 721ms\tremaining: 203ms\n",
            "78:\tlearn: 0.9266771\ttest: 0.8659420\tbest: 0.8695652 (54)\ttotal: 729ms\tremaining: 194ms\n",
            "79:\tlearn: 0.9266771\ttest: 0.8659420\tbest: 0.8695652 (54)\ttotal: 731ms\tremaining: 183ms\n",
            "80:\tlearn: 0.9266771\ttest: 0.8659420\tbest: 0.8695652 (54)\ttotal: 739ms\tremaining: 173ms\n",
            "81:\tlearn: 0.9266771\ttest: 0.8659420\tbest: 0.8695652 (54)\ttotal: 744ms\tremaining: 163ms\n",
            "82:\tlearn: 0.9266771\ttest: 0.8659420\tbest: 0.8695652 (54)\ttotal: 753ms\tremaining: 154ms\n",
            "83:\tlearn: 0.9266771\ttest: 0.8659420\tbest: 0.8695652 (54)\ttotal: 766ms\tremaining: 146ms\n",
            "84:\tlearn: 0.9297972\ttest: 0.8659420\tbest: 0.8695652 (54)\ttotal: 779ms\tremaining: 137ms\n",
            "85:\tlearn: 0.9297972\ttest: 0.8659420\tbest: 0.8695652 (54)\ttotal: 786ms\tremaining: 128ms\n",
            "86:\tlearn: 0.9282371\ttest: 0.8659420\tbest: 0.8695652 (54)\ttotal: 795ms\tremaining: 119ms\n",
            "87:\tlearn: 0.9282371\ttest: 0.8659420\tbest: 0.8695652 (54)\ttotal: 804ms\tremaining: 110ms\n",
            "88:\tlearn: 0.9282371\ttest: 0.8659420\tbest: 0.8695652 (54)\ttotal: 812ms\tremaining: 100ms\n",
            "89:\tlearn: 0.9282371\ttest: 0.8659420\tbest: 0.8695652 (54)\ttotal: 813ms\tremaining: 90.4ms\n",
            "90:\tlearn: 0.9282371\ttest: 0.8659420\tbest: 0.8695652 (54)\ttotal: 822ms\tremaining: 81.3ms\n",
            "91:\tlearn: 0.9282371\ttest: 0.8659420\tbest: 0.8695652 (54)\ttotal: 829ms\tremaining: 72.1ms\n",
            "92:\tlearn: 0.9282371\ttest: 0.8659420\tbest: 0.8695652 (54)\ttotal: 833ms\tremaining: 62.7ms\n",
            "93:\tlearn: 0.9282371\ttest: 0.8659420\tbest: 0.8695652 (54)\ttotal: 843ms\tremaining: 53.8ms\n",
            "94:\tlearn: 0.9282371\ttest: 0.8659420\tbest: 0.8695652 (54)\ttotal: 851ms\tremaining: 44.8ms\n",
            "95:\tlearn: 0.9282371\ttest: 0.8659420\tbest: 0.8695652 (54)\ttotal: 860ms\tremaining: 35.8ms\n",
            "96:\tlearn: 0.9282371\ttest: 0.8659420\tbest: 0.8695652 (54)\ttotal: 867ms\tremaining: 26.8ms\n",
            "97:\tlearn: 0.9282371\ttest: 0.8659420\tbest: 0.8695652 (54)\ttotal: 878ms\tremaining: 17.9ms\n",
            "98:\tlearn: 0.9282371\ttest: 0.8659420\tbest: 0.8695652 (54)\ttotal: 891ms\tremaining: 9ms\n",
            "99:\tlearn: 0.9297972\ttest: 0.8659420\tbest: 0.8695652 (54)\ttotal: 902ms\tremaining: 0us\n",
            "\n",
            "bestTest = 0.8695652174\n",
            "bestIteration = 54\n",
            "\n",
            "Shrink model to first 55 iterations.\n"
          ]
        },
        {
          "data": {
            "text/plain": [
              "<catboost.core.CatBoostClassifier at 0x7f27672f87f0>"
            ]
          },
          "execution_count": 153,
          "metadata": {},
          "output_type": "execute_result"
        }
      ],
      "source": [
        "catboost.fit( x_treino, y_treino, cat_features= categoricas, plot=True, eval_set=(x_teste, y_teste))"
      ]
    },
    {
      "cell_type": "code",
      "execution_count": null,
      "metadata": {
        "colab": {
          "base_uri": "https://localhost:8080/"
        },
        "id": "MIJVraLTUChZ",
        "outputId": "bf46a4c6-92e5-4453-9836-2e6dbca2b6a8"
      },
      "outputs": [
        {
          "data": {
            "text/plain": [
              "array([1, 1, 1, 0, 0, 0, 0, 0, 0, 0, 1, 1, 1, 1, 0, 1, 1, 1, 1, 0, 1, 1,\n",
              "       1, 0, 0, 0, 1, 1, 1, 1, 1, 0, 0, 0, 1, 0, 0, 0, 1, 0, 0, 1, 1, 1,\n",
              "       1, 0, 0, 1, 0, 1, 1, 0, 0, 0, 1, 0, 0, 0, 1, 0, 1, 1, 1, 0, 1, 1,\n",
              "       1, 0, 1, 0, 1, 1, 0, 1, 1, 1, 1, 1, 1, 1, 1, 1, 0, 0, 1, 1, 1, 1,\n",
              "       1, 0, 1, 0, 0, 0, 1, 0, 1, 0, 0, 0, 0, 1, 1, 1, 0, 1, 0, 0, 0, 1,\n",
              "       0, 1, 1, 1, 0, 1, 0, 1, 1, 1, 1, 1, 1, 0, 1, 1, 0, 1, 0, 1, 0, 1,\n",
              "       1, 1, 0, 1, 1, 1, 1, 0, 0, 1, 0, 1, 0, 0, 1, 1, 1, 0, 0, 1, 1, 0,\n",
              "       1, 0, 1, 1, 1, 0, 1, 1, 1, 0, 1, 0, 1, 0, 1, 0, 1, 1, 0, 0, 1, 0,\n",
              "       1, 0, 0, 1, 1, 1, 0, 1, 1, 1, 0, 1, 1, 0, 1, 0, 1, 1, 1, 1, 0, 0,\n",
              "       1, 0, 1, 1, 0, 1, 1, 0, 0, 0, 1, 0, 1, 1, 0, 1, 0, 0, 1, 0, 1, 1,\n",
              "       1, 0, 0, 1, 1, 1, 0, 1, 0, 1, 0, 1, 1, 1, 0, 1, 1, 1, 0, 1, 1, 0,\n",
              "       1, 0, 0, 0, 0, 0, 1, 0, 1, 0, 1, 0, 0, 0, 1, 0, 0, 1, 0, 1, 0, 0,\n",
              "       0, 0, 0, 0, 1, 0, 0, 1, 1, 1, 1, 1])"
            ]
          },
          "execution_count": 154,
          "metadata": {},
          "output_type": "execute_result"
        }
      ],
      "source": [
        "previsoes_cat = catboost.predict(x_teste)\n",
        "previsoes_cat"
      ]
    },
    {
      "cell_type": "code",
      "execution_count": null,
      "metadata": {
        "colab": {
          "base_uri": "https://localhost:8080/"
        },
        "id": "dSrjeuL_UCha",
        "outputId": "c70ca6f4-4d32-46a7-f7da-cf8e26c38082"
      },
      "outputs": [
        {
          "data": {
            "text/plain": [
              "306    1\n",
              "710    0\n",
              "298    1\n",
              "466    0\n",
              "253    0\n",
              "      ..\n",
              "49     1\n",
              "456    1\n",
              "342    1\n",
              "906    1\n",
              "116    1\n",
              "Name: HeartDisease, Length: 276, dtype: int64"
            ]
          },
          "execution_count": 155,
          "metadata": {},
          "output_type": "execute_result"
        }
      ],
      "source": [
        "y_teste"
      ]
    },
    {
      "cell_type": "code",
      "execution_count": null,
      "metadata": {
        "id": "r6FeKp07UCha"
      },
      "outputs": [],
      "source": [
        "from sklearn.metrics import accuracy_score, confusion_matrix, classification_report"
      ]
    },
    {
      "cell_type": "code",
      "execution_count": null,
      "metadata": {
        "colab": {
          "base_uri": "https://localhost:8080/"
        },
        "id": "rknZXiSyUChb",
        "outputId": "9fdc1200-725a-4af1-f597-fafd8877bc4c"
      },
      "outputs": [
        {
          "name": "stdout",
          "output_type": "stream",
          "text": [
            "Acurácia: 86.96%\n"
          ]
        }
      ],
      "source": [
        "print(\"Acurácia: %.2f%%\" % (accuracy_score(y_teste, previsoes_cat) * 100.0))"
      ]
    },
    {
      "cell_type": "code",
      "execution_count": null,
      "metadata": {
        "colab": {
          "base_uri": "https://localhost:8080/"
        },
        "id": "coB92zR9UChb",
        "outputId": "714c8e1f-5b58-49d4-8ab3-4671bdd406e4"
      },
      "outputs": [
        {
          "data": {
            "text/plain": [
              "array([[103,  18],\n",
              "       [ 18, 137]])"
            ]
          },
          "execution_count": 158,
          "metadata": {},
          "output_type": "execute_result"
        }
      ],
      "source": [
        "confusion_matrix(y_teste, previsoes_cat)"
      ]
    },
    {
      "cell_type": "markdown",
      "metadata": {
        "id": "IA02yBduUChc"
      },
      "source": [
        "**Análise dados de treino**"
      ]
    },
    {
      "cell_type": "code",
      "execution_count": null,
      "metadata": {
        "colab": {
          "base_uri": "https://localhost:8080/"
        },
        "id": "pu0f-5frUChc",
        "outputId": "8f874666-4056-4477-9ab8-ad5c7a5e2547"
      },
      "outputs": [
        {
          "data": {
            "text/plain": [
              "array([1, 0, 1, 1, 1, 1, 0, 0, 0, 0, 1, 0, 1, 1, 1, 0, 0, 0, 0, 1, 0, 1,\n",
              "       1, 1, 1, 0, 0, 1, 1, 1, 1, 0, 1, 1, 0, 0, 1, 1, 0, 1, 0, 1, 0, 0,\n",
              "       1, 1, 0, 1, 1, 1, 1, 0, 1, 0, 1, 0, 1, 0, 1, 0, 0, 0, 0, 0, 1, 1,\n",
              "       0, 0, 1, 0, 1, 1, 1, 1, 0, 0, 1, 1, 1, 1, 1, 1, 1, 1, 0, 1, 1, 1,\n",
              "       1, 1, 0, 1, 0, 0, 1, 1, 1, 1, 1, 1, 1, 1, 0, 1, 1, 1, 1, 0, 1, 1,\n",
              "       0, 0, 1, 0, 1, 0, 1, 0, 1, 0, 0, 0, 0, 1, 0, 1, 0, 0, 1, 1, 1, 0,\n",
              "       1, 1, 0, 1, 1, 0, 1, 1, 0, 1, 1, 1, 1, 1, 0, 0, 0, 1, 1, 0, 1, 0,\n",
              "       1, 0, 1, 1, 1, 0, 1, 0, 0, 0, 1, 0, 1, 0, 0, 0, 0, 1, 1, 0, 1, 0,\n",
              "       0, 1, 1, 0, 0, 0, 0, 0, 0, 1, 1, 1, 1, 1, 0, 0, 1, 0, 0, 1, 1, 1,\n",
              "       1, 1, 0, 0, 0, 1, 1, 0, 1, 1, 1, 0, 1, 0, 1, 1, 1, 0, 1, 0, 0, 1,\n",
              "       1, 0, 0, 1, 1, 1, 1, 1, 1, 1, 1, 1, 0, 1, 1, 0, 1, 0, 1, 0, 1, 0,\n",
              "       1, 1, 0, 1, 1, 1, 1, 1, 0, 1, 0, 0, 0, 0, 0, 0, 0, 0, 1, 0, 1, 0,\n",
              "       1, 0, 1, 0, 1, 0, 1, 1, 0, 0, 0, 1, 1, 0, 0, 0, 1, 0, 0, 0, 1, 1,\n",
              "       1, 1, 1, 1, 1, 0, 1, 1, 0, 1, 0, 1, 0, 1, 1, 0, 0, 1, 0, 0, 1, 1,\n",
              "       1, 0, 1, 0, 1, 0, 1, 0, 1, 1, 1, 0, 1, 1, 1, 1, 0, 1, 1, 1, 1, 0,\n",
              "       0, 0, 1, 0, 0, 0, 1, 1, 0, 1, 1, 1, 1, 1, 1, 0, 1, 1, 0, 1, 0, 1,\n",
              "       0, 0, 0, 1, 0, 1, 1, 1, 0, 1, 0, 1, 1, 0, 0, 0, 0, 0, 1, 1, 0, 1,\n",
              "       0, 1, 1, 1, 0, 1, 1, 1, 0, 1, 0, 1, 0, 0, 1, 1, 0, 0, 1, 1, 1, 1,\n",
              "       0, 0, 0, 1, 1, 1, 1, 0, 1, 1, 1, 1, 1, 0, 0, 1, 0, 1, 1, 1, 0, 0,\n",
              "       0, 1, 1, 0, 0, 1, 1, 0, 1, 1, 0, 0, 0, 1, 1, 0, 1, 1, 1, 1, 1, 1,\n",
              "       0, 0, 1, 1, 0, 1, 0, 1, 0, 0, 1, 0, 1, 1, 1, 1, 0, 0, 0, 1, 0, 1,\n",
              "       1, 1, 1, 1, 1, 0, 1, 0, 1, 1, 1, 1, 1, 1, 1, 0, 0, 0, 1, 0, 0, 0,\n",
              "       0, 0, 1, 0, 1, 1, 0, 0, 0, 1, 1, 0, 1, 1, 1, 0, 1, 1, 0, 0, 1, 1,\n",
              "       1, 1, 0, 0, 1, 1, 1, 1, 0, 1, 0, 0, 1, 0, 1, 1, 1, 1, 0, 1, 1, 0,\n",
              "       1, 0, 1, 0, 1, 0, 1, 0, 1, 0, 1, 1, 0, 1, 1, 1, 1, 0, 0, 1, 1, 0,\n",
              "       0, 1, 1, 0, 1, 0, 1, 1, 1, 0, 1, 1, 0, 1, 0, 1, 1, 0, 0, 1, 0, 1,\n",
              "       1, 1, 0, 0, 1, 0, 0, 0, 0, 1, 0, 1, 1, 1, 1, 0, 1, 0, 0, 0, 0, 0,\n",
              "       0, 0, 1, 0, 0, 1, 0, 0, 0, 0, 1, 0, 1, 1, 0, 1, 1, 1, 1, 1, 0, 1,\n",
              "       1, 1, 0, 1, 1, 0, 1, 1, 1, 1, 1, 1, 0, 1, 1, 0, 0, 1, 1, 0, 1, 0,\n",
              "       0, 0, 1])"
            ]
          },
          "execution_count": 159,
          "metadata": {},
          "output_type": "execute_result"
        }
      ],
      "source": [
        "previsoes_treino = catboost.predict(x_treino)\n",
        "previsoes_treino"
      ]
    },
    {
      "cell_type": "code",
      "execution_count": null,
      "metadata": {
        "colab": {
          "base_uri": "https://localhost:8080/"
        },
        "id": "agSmZWOEUChc",
        "outputId": "b3cf3da6-0f21-40f5-8066-85b41e5f7c42"
      },
      "outputs": [
        {
          "data": {
            "text/plain": [
              "0.9173166926677067"
            ]
          },
          "execution_count": 160,
          "metadata": {},
          "output_type": "execute_result"
        }
      ],
      "source": [
        "accuracy_score(y_treino, previsoes_treino)"
      ]
    },
    {
      "cell_type": "code",
      "execution_count": null,
      "metadata": {
        "colab": {
          "base_uri": "https://localhost:8080/"
        },
        "id": "Oh06bx0IUChd",
        "outputId": "7fb5546b-d245-4f0b-a803-d9388c8b6610"
      },
      "outputs": [
        {
          "data": {
            "text/plain": [
              "array([[255,  34],\n",
              "       [ 19, 333]])"
            ]
          },
          "execution_count": 161,
          "metadata": {},
          "output_type": "execute_result"
        }
      ],
      "source": [
        "confusion_matrix(y_treino, previsoes_treino)"
      ]
    },
    {
      "cell_type": "markdown",
      "metadata": {
        "id": "2LgdzmpMUChd"
      },
      "source": [
        "### **Validação Cruzada**"
      ]
    },
    {
      "cell_type": "code",
      "execution_count": null,
      "metadata": {
        "id": "N80OsHhNUChd"
      },
      "outputs": [],
      "source": [
        "from sklearn.model_selection import KFold\n",
        "from sklearn.model_selection import cross_val_score"
      ]
    },
    {
      "cell_type": "code",
      "execution_count": null,
      "metadata": {
        "id": "vkhW9kFUUChd"
      },
      "outputs": [],
      "source": [
        "# Separando os dados em folds\n",
        "kfold = KFold(n_splits = 30, shuffle=True, random_state = 5)"
      ]
    },
    {
      "cell_type": "code",
      "execution_count": null,
      "metadata": {
        "colab": {
          "base_uri": "https://localhost:8080/"
        },
        "id": "lwgfw-cVUChd",
        "outputId": "6299e9fe-d906-48d1-c830-51934fa5e254"
      },
      "outputs": [
        {
          "name": "stdout",
          "output_type": "stream",
          "text": [
            "0:\tlearn: 0.8803612\ttotal: 3.38ms\tremaining: 335ms\n",
            "1:\tlearn: 0.8758465\ttotal: 5.74ms\tremaining: 281ms\n",
            "2:\tlearn: 0.8837472\ttotal: 7.86ms\tremaining: 254ms\n",
            "3:\tlearn: 0.8927765\ttotal: 10.6ms\tremaining: 255ms\n",
            "4:\tlearn: 0.8792325\ttotal: 11.1ms\tremaining: 211ms\n",
            "5:\tlearn: 0.8803612\ttotal: 13.4ms\tremaining: 210ms\n",
            "6:\tlearn: 0.8893905\ttotal: 15.8ms\tremaining: 210ms\n",
            "7:\tlearn: 0.8860045\ttotal: 18ms\tremaining: 208ms\n",
            "8:\tlearn: 0.8927765\ttotal: 20.1ms\tremaining: 204ms\n",
            "9:\tlearn: 0.8950339\ttotal: 22.8ms\tremaining: 205ms\n",
            "10:\tlearn: 0.8950339\ttotal: 25.3ms\tremaining: 205ms\n",
            "11:\tlearn: 0.8961625\ttotal: 27.9ms\tremaining: 204ms\n",
            "12:\tlearn: 0.8972912\ttotal: 30.5ms\tremaining: 204ms\n",
            "13:\tlearn: 0.8972912\ttotal: 33.4ms\tremaining: 205ms\n",
            "14:\tlearn: 0.8995485\ttotal: 36.2ms\tremaining: 205ms\n",
            "15:\tlearn: 0.9006772\ttotal: 39.1ms\tremaining: 206ms\n",
            "16:\tlearn: 0.9029345\ttotal: 42ms\tremaining: 205ms\n",
            "17:\tlearn: 0.9040632\ttotal: 44.7ms\tremaining: 203ms\n",
            "18:\tlearn: 0.9018059\ttotal: 45.6ms\tremaining: 194ms\n",
            "19:\tlearn: 0.9051919\ttotal: 48.3ms\tremaining: 193ms\n",
            "20:\tlearn: 0.9029345\ttotal: 50.9ms\tremaining: 192ms\n",
            "21:\tlearn: 0.9074492\ttotal: 53.5ms\tremaining: 190ms\n",
            "22:\tlearn: 0.9063205\ttotal: 56.1ms\tremaining: 188ms\n",
            "23:\tlearn: 0.9085779\ttotal: 56.8ms\tremaining: 180ms\n",
            "24:\tlearn: 0.9097065\ttotal: 59.4ms\tremaining: 178ms\n",
            "25:\tlearn: 0.9085779\ttotal: 61.8ms\tremaining: 176ms\n",
            "26:\tlearn: 0.9097065\ttotal: 64.1ms\tremaining: 173ms\n",
            "27:\tlearn: 0.9097065\ttotal: 66.6ms\tremaining: 171ms\n",
            "28:\tlearn: 0.9130926\ttotal: 69ms\tremaining: 169ms\n",
            "29:\tlearn: 0.9119639\ttotal: 71.3ms\tremaining: 166ms\n",
            "30:\tlearn: 0.9130926\ttotal: 73.8ms\tremaining: 164ms\n",
            "31:\tlearn: 0.9130926\ttotal: 76.3ms\tremaining: 162ms\n",
            "32:\tlearn: 0.9130926\ttotal: 78.9ms\tremaining: 160ms\n",
            "33:\tlearn: 0.9119639\ttotal: 81.4ms\tremaining: 158ms\n",
            "34:\tlearn: 0.9142212\ttotal: 84.1ms\tremaining: 156ms\n",
            "35:\tlearn: 0.9142212\ttotal: 86.6ms\tremaining: 154ms\n",
            "36:\tlearn: 0.9142212\ttotal: 89.3ms\tremaining: 152ms\n",
            "37:\tlearn: 0.9187359\ttotal: 91.8ms\tremaining: 150ms\n",
            "38:\tlearn: 0.9164786\ttotal: 94.2ms\tremaining: 147ms\n",
            "39:\tlearn: 0.9187359\ttotal: 96.8ms\tremaining: 145ms\n",
            "40:\tlearn: 0.9198646\ttotal: 99.9ms\tremaining: 144ms\n",
            "41:\tlearn: 0.9209932\ttotal: 104ms\tremaining: 143ms\n",
            "42:\tlearn: 0.9221219\ttotal: 112ms\tremaining: 148ms\n",
            "43:\tlearn: 0.9243792\ttotal: 117ms\tremaining: 149ms\n",
            "44:\tlearn: 0.9232506\ttotal: 122ms\tremaining: 150ms\n",
            "45:\tlearn: 0.9266366\ttotal: 125ms\tremaining: 147ms\n",
            "46:\tlearn: 0.9266366\ttotal: 128ms\tremaining: 145ms\n",
            "47:\tlearn: 0.9277652\ttotal: 131ms\tremaining: 142ms\n",
            "48:\tlearn: 0.9277652\ttotal: 133ms\tremaining: 139ms\n",
            "49:\tlearn: 0.9277652\ttotal: 136ms\tremaining: 136ms\n",
            "50:\tlearn: 0.9266366\ttotal: 139ms\tremaining: 133ms\n",
            "51:\tlearn: 0.9277652\ttotal: 141ms\tremaining: 130ms\n",
            "52:\tlearn: 0.9277652\ttotal: 144ms\tremaining: 128ms\n",
            "53:\tlearn: 0.9277652\ttotal: 146ms\tremaining: 125ms\n",
            "54:\tlearn: 0.9277652\ttotal: 149ms\tremaining: 122ms\n",
            "55:\tlearn: 0.9266366\ttotal: 152ms\tremaining: 119ms\n",
            "56:\tlearn: 0.9277652\ttotal: 154ms\tremaining: 116ms\n",
            "57:\tlearn: 0.9288939\ttotal: 157ms\tremaining: 113ms\n",
            "58:\tlearn: 0.9277652\ttotal: 160ms\tremaining: 111ms\n",
            "59:\tlearn: 0.9277652\ttotal: 163ms\tremaining: 108ms\n",
            "60:\tlearn: 0.9288939\ttotal: 165ms\tremaining: 106ms\n",
            "61:\tlearn: 0.9300226\ttotal: 168ms\tremaining: 103ms\n",
            "62:\tlearn: 0.9300226\ttotal: 169ms\tremaining: 99.4ms\n",
            "63:\tlearn: 0.9300226\ttotal: 172ms\tremaining: 96.7ms\n",
            "64:\tlearn: 0.9288939\ttotal: 175ms\tremaining: 94ms\n",
            "65:\tlearn: 0.9300226\ttotal: 177ms\tremaining: 91.4ms\n",
            "66:\tlearn: 0.9300226\ttotal: 180ms\tremaining: 88.7ms\n",
            "67:\tlearn: 0.9300226\ttotal: 183ms\tremaining: 86ms\n",
            "68:\tlearn: 0.9300226\ttotal: 187ms\tremaining: 84.1ms\n",
            "69:\tlearn: 0.9288939\ttotal: 191ms\tremaining: 81.8ms\n",
            "70:\tlearn: 0.9300226\ttotal: 194ms\tremaining: 79.1ms\n",
            "71:\tlearn: 0.9300226\ttotal: 196ms\tremaining: 76.2ms\n",
            "72:\tlearn: 0.9322799\ttotal: 199ms\tremaining: 73.5ms\n",
            "73:\tlearn: 0.9334086\ttotal: 201ms\tremaining: 70.7ms\n",
            "74:\tlearn: 0.9334086\ttotal: 204ms\tremaining: 68ms\n",
            "75:\tlearn: 0.9334086\ttotal: 207ms\tremaining: 65.3ms\n",
            "76:\tlearn: 0.9367946\ttotal: 209ms\tremaining: 62.6ms\n",
            "77:\tlearn: 0.9367946\ttotal: 212ms\tremaining: 59.8ms\n",
            "78:\tlearn: 0.9367946\ttotal: 215ms\tremaining: 57.1ms\n",
            "79:\tlearn: 0.9367946\ttotal: 216ms\tremaining: 54.1ms\n",
            "80:\tlearn: 0.9356659\ttotal: 219ms\tremaining: 51.3ms\n",
            "81:\tlearn: 0.9356659\ttotal: 222ms\tremaining: 48.7ms\n",
            "82:\tlearn: 0.9356659\ttotal: 224ms\tremaining: 46ms\n",
            "83:\tlearn: 0.9356659\ttotal: 227ms\tremaining: 43.3ms\n",
            "84:\tlearn: 0.9356659\ttotal: 230ms\tremaining: 40.5ms\n",
            "85:\tlearn: 0.9367946\ttotal: 232ms\tremaining: 37.8ms\n",
            "86:\tlearn: 0.9367946\ttotal: 235ms\tremaining: 35.1ms\n",
            "87:\tlearn: 0.9367946\ttotal: 237ms\tremaining: 32.4ms\n",
            "88:\tlearn: 0.9367946\ttotal: 239ms\tremaining: 29.5ms\n",
            "89:\tlearn: 0.9367946\ttotal: 242ms\tremaining: 26.8ms\n",
            "90:\tlearn: 0.9367946\ttotal: 244ms\tremaining: 24.1ms\n",
            "91:\tlearn: 0.9367946\ttotal: 247ms\tremaining: 21.4ms\n",
            "92:\tlearn: 0.9367946\ttotal: 249ms\tremaining: 18.8ms\n",
            "93:\tlearn: 0.9367946\ttotal: 251ms\tremaining: 16ms\n",
            "94:\tlearn: 0.9367946\ttotal: 253ms\tremaining: 13.3ms\n",
            "95:\tlearn: 0.9367946\ttotal: 256ms\tremaining: 10.7ms\n",
            "96:\tlearn: 0.9367946\ttotal: 259ms\tremaining: 8ms\n",
            "97:\tlearn: 0.9367946\ttotal: 261ms\tremaining: 5.33ms\n",
            "98:\tlearn: 0.9367946\ttotal: 264ms\tremaining: 2.66ms\n",
            "99:\tlearn: 0.9367946\ttotal: 266ms\tremaining: 0us\n",
            "0:\tlearn: 0.8735892\ttotal: 3.2ms\tremaining: 317ms\n",
            "1:\tlearn: 0.8814898\ttotal: 6.89ms\tremaining: 338ms\n",
            "2:\tlearn: 0.8871332\ttotal: 11.4ms\tremaining: 368ms\n",
            "3:\tlearn: 0.8871332\ttotal: 17.4ms\tremaining: 418ms\n",
            "4:\tlearn: 0.8769752\ttotal: 18.2ms\tremaining: 346ms\n",
            "5:\tlearn: 0.8735892\ttotal: 19.2ms\tremaining: 300ms\n",
            "6:\tlearn: 0.8758465\ttotal: 20.1ms\tremaining: 267ms\n",
            "7:\tlearn: 0.8803612\ttotal: 23.7ms\tremaining: 273ms\n",
            "8:\tlearn: 0.8803612\ttotal: 26.4ms\tremaining: 267ms\n",
            "9:\tlearn: 0.8814898\ttotal: 29ms\tremaining: 261ms\n",
            "10:\tlearn: 0.8814898\ttotal: 31.6ms\tremaining: 256ms\n",
            "11:\tlearn: 0.8814898\ttotal: 34.3ms\tremaining: 252ms\n",
            "12:\tlearn: 0.8814898\ttotal: 37.1ms\tremaining: 248ms\n",
            "13:\tlearn: 0.8860045\ttotal: 38.2ms\tremaining: 235ms\n",
            "14:\tlearn: 0.8860045\ttotal: 41.1ms\tremaining: 233ms\n",
            "15:\tlearn: 0.8882619\ttotal: 43.8ms\tremaining: 230ms\n",
            "16:\tlearn: 0.8893905\ttotal: 46.4ms\tremaining: 226ms\n",
            "17:\tlearn: 0.8905192\ttotal: 49ms\tremaining: 223ms\n",
            "18:\tlearn: 0.8927765\ttotal: 51.5ms\tremaining: 219ms\n",
            "19:\tlearn: 0.8905192\ttotal: 54ms\tremaining: 216ms\n",
            "20:\tlearn: 0.8916479\ttotal: 57.7ms\tremaining: 217ms\n",
            "21:\tlearn: 0.8927765\ttotal: 60.4ms\tremaining: 214ms\n",
            "22:\tlearn: 0.8972912\ttotal: 63.2ms\tremaining: 211ms\n",
            "23:\tlearn: 0.8984199\ttotal: 65.7ms\tremaining: 208ms\n",
            "24:\tlearn: 0.8984199\ttotal: 68.2ms\tremaining: 205ms\n",
            "25:\tlearn: 0.9006772\ttotal: 70.7ms\tremaining: 201ms\n",
            "26:\tlearn: 0.9006772\ttotal: 73.3ms\tremaining: 198ms\n",
            "27:\tlearn: 0.9051919\ttotal: 78ms\tremaining: 201ms\n",
            "28:\tlearn: 0.9051919\ttotal: 83.1ms\tremaining: 204ms\n",
            "29:\tlearn: 0.9074492\ttotal: 85.5ms\tremaining: 199ms\n",
            "30:\tlearn: 0.9074492\ttotal: 87.8ms\tremaining: 195ms\n",
            "31:\tlearn: 0.9063205\ttotal: 90.1ms\tremaining: 191ms\n",
            "32:\tlearn: 0.9063205\ttotal: 92.4ms\tremaining: 188ms\n",
            "33:\tlearn: 0.9063205\ttotal: 94.6ms\tremaining: 184ms\n",
            "34:\tlearn: 0.9097065\ttotal: 96.8ms\tremaining: 180ms\n",
            "35:\tlearn: 0.9108352\ttotal: 100ms\tremaining: 178ms\n",
            "36:\tlearn: 0.9108352\ttotal: 102ms\tremaining: 174ms\n",
            "37:\tlearn: 0.9130926\ttotal: 105ms\tremaining: 171ms\n",
            "38:\tlearn: 0.9153499\ttotal: 107ms\tremaining: 168ms\n",
            "39:\tlearn: 0.9164786\ttotal: 110ms\tremaining: 165ms\n",
            "40:\tlearn: 0.9153499\ttotal: 113ms\tremaining: 162ms\n",
            "41:\tlearn: 0.9164786\ttotal: 115ms\tremaining: 159ms\n",
            "42:\tlearn: 0.9164786\ttotal: 118ms\tremaining: 156ms\n",
            "43:\tlearn: 0.9176072\ttotal: 120ms\tremaining: 153ms\n",
            "44:\tlearn: 0.9164786\ttotal: 123ms\tremaining: 150ms\n",
            "45:\tlearn: 0.9176072\ttotal: 127ms\tremaining: 149ms\n",
            "46:\tlearn: 0.9176072\ttotal: 132ms\tremaining: 148ms\n",
            "47:\tlearn: 0.9176072\ttotal: 136ms\tremaining: 148ms\n",
            "48:\tlearn: 0.9198646\ttotal: 140ms\tremaining: 146ms\n",
            "49:\tlearn: 0.9209932\ttotal: 142ms\tremaining: 142ms\n",
            "50:\tlearn: 0.9209932\ttotal: 145ms\tremaining: 139ms\n",
            "51:\tlearn: 0.9209932\ttotal: 148ms\tremaining: 136ms\n",
            "52:\tlearn: 0.9221219\ttotal: 150ms\tremaining: 133ms\n",
            "53:\tlearn: 0.9221219\ttotal: 153ms\tremaining: 130ms\n",
            "54:\tlearn: 0.9255079\ttotal: 156ms\tremaining: 127ms\n",
            "55:\tlearn: 0.9243792\ttotal: 158ms\tremaining: 124ms\n",
            "56:\tlearn: 0.9243792\ttotal: 161ms\tremaining: 121ms\n",
            "57:\tlearn: 0.9255079\ttotal: 163ms\tremaining: 118ms\n",
            "58:\tlearn: 0.9266366\ttotal: 166ms\tremaining: 115ms\n",
            "59:\tlearn: 0.9277652\ttotal: 168ms\tremaining: 112ms\n",
            "60:\tlearn: 0.9277652\ttotal: 171ms\tremaining: 109ms\n",
            "61:\tlearn: 0.9300226\ttotal: 173ms\tremaining: 106ms\n",
            "62:\tlearn: 0.9266366\ttotal: 174ms\tremaining: 102ms\n",
            "63:\tlearn: 0.9277652\ttotal: 177ms\tremaining: 99.5ms\n",
            "64:\tlearn: 0.9277652\ttotal: 179ms\tremaining: 96.7ms\n",
            "65:\tlearn: 0.9277652\ttotal: 182ms\tremaining: 93.7ms\n",
            "66:\tlearn: 0.9277652\ttotal: 186ms\tremaining: 91.6ms\n",
            "67:\tlearn: 0.9288939\ttotal: 189ms\tremaining: 89ms\n",
            "68:\tlearn: 0.9300226\ttotal: 192ms\tremaining: 86.4ms\n",
            "69:\tlearn: 0.9311512\ttotal: 196ms\tremaining: 84ms\n",
            "70:\tlearn: 0.9300226\ttotal: 199ms\tremaining: 81.2ms\n",
            "71:\tlearn: 0.9311512\ttotal: 201ms\tremaining: 78.2ms\n",
            "72:\tlearn: 0.9311512\ttotal: 204ms\tremaining: 75.4ms\n",
            "73:\tlearn: 0.9300226\ttotal: 206ms\tremaining: 72.5ms\n",
            "74:\tlearn: 0.9311512\ttotal: 209ms\tremaining: 69.6ms\n",
            "75:\tlearn: 0.9300226\ttotal: 211ms\tremaining: 66.7ms\n",
            "76:\tlearn: 0.9300226\ttotal: 214ms\tremaining: 63.9ms\n",
            "77:\tlearn: 0.9300226\ttotal: 217ms\tremaining: 61.1ms\n",
            "78:\tlearn: 0.9300226\ttotal: 219ms\tremaining: 58.3ms\n",
            "79:\tlearn: 0.9300226\ttotal: 222ms\tremaining: 55.5ms\n",
            "80:\tlearn: 0.9311512\ttotal: 224ms\tremaining: 52.6ms\n",
            "81:\tlearn: 0.9300226\ttotal: 227ms\tremaining: 49.8ms\n",
            "82:\tlearn: 0.9311512\ttotal: 230ms\tremaining: 47ms\n",
            "83:\tlearn: 0.9311512\ttotal: 232ms\tremaining: 44.2ms\n",
            "84:\tlearn: 0.9311512\ttotal: 235ms\tremaining: 41.4ms\n",
            "85:\tlearn: 0.9300226\ttotal: 237ms\tremaining: 38.6ms\n",
            "86:\tlearn: 0.9300226\ttotal: 240ms\tremaining: 35.8ms\n",
            "87:\tlearn: 0.9300226\ttotal: 242ms\tremaining: 32.9ms\n",
            "88:\tlearn: 0.9311512\ttotal: 242ms\tremaining: 30ms\n",
            "89:\tlearn: 0.9311512\ttotal: 245ms\tremaining: 27.2ms\n",
            "90:\tlearn: 0.9288939\ttotal: 248ms\tremaining: 24.5ms\n",
            "91:\tlearn: 0.9311512\ttotal: 250ms\tremaining: 21.8ms\n",
            "92:\tlearn: 0.9322799\ttotal: 253ms\tremaining: 19.1ms\n",
            "93:\tlearn: 0.9322799\ttotal: 256ms\tremaining: 16.3ms\n",
            "94:\tlearn: 0.9322799\ttotal: 257ms\tremaining: 13.5ms\n",
            "95:\tlearn: 0.9322799\ttotal: 257ms\tremaining: 10.7ms\n",
            "96:\tlearn: 0.9322799\ttotal: 259ms\tremaining: 8.01ms\n",
            "97:\tlearn: 0.9334086\ttotal: 261ms\tremaining: 5.34ms\n",
            "98:\tlearn: 0.9334086\ttotal: 266ms\tremaining: 2.69ms\n",
            "99:\tlearn: 0.9345372\ttotal: 271ms\tremaining: 0us\n",
            "0:\tlearn: 0.8634312\ttotal: 3.04ms\tremaining: 301ms\n",
            "1:\tlearn: 0.8781038\ttotal: 6.18ms\tremaining: 303ms\n",
            "2:\tlearn: 0.8837472\ttotal: 8.82ms\tremaining: 285ms\n",
            "3:\tlearn: 0.8871332\ttotal: 12ms\tremaining: 288ms\n",
            "4:\tlearn: 0.8781038\ttotal: 13.2ms\tremaining: 250ms\n",
            "5:\tlearn: 0.8826185\ttotal: 15.9ms\tremaining: 249ms\n",
            "6:\tlearn: 0.8905192\ttotal: 18.8ms\tremaining: 250ms\n",
            "7:\tlearn: 0.8893905\ttotal: 21.9ms\tremaining: 251ms\n",
            "8:\tlearn: 0.8961625\ttotal: 24.5ms\tremaining: 248ms\n",
            "9:\tlearn: 0.8950339\ttotal: 27.4ms\tremaining: 247ms\n",
            "10:\tlearn: 0.8939052\ttotal: 30.1ms\tremaining: 244ms\n",
            "11:\tlearn: 0.8939052\ttotal: 35ms\tremaining: 257ms\n",
            "12:\tlearn: 0.8950339\ttotal: 42.3ms\tremaining: 283ms\n",
            "13:\tlearn: 0.8939052\ttotal: 46.5ms\tremaining: 286ms\n",
            "14:\tlearn: 0.8961625\ttotal: 49.5ms\tremaining: 280ms\n",
            "15:\tlearn: 0.9018059\ttotal: 54.1ms\tremaining: 284ms\n",
            "16:\tlearn: 0.9051919\ttotal: 61.5ms\tremaining: 300ms\n",
            "17:\tlearn: 0.9029345\ttotal: 69.1ms\tremaining: 315ms\n",
            "18:\tlearn: 0.8995485\ttotal: 74.3ms\tremaining: 317ms\n",
            "19:\tlearn: 0.9029345\ttotal: 77.4ms\tremaining: 310ms\n",
            "20:\tlearn: 0.9040632\ttotal: 81.4ms\tremaining: 306ms\n",
            "21:\tlearn: 0.9018059\ttotal: 85.2ms\tremaining: 302ms\n",
            "22:\tlearn: 0.9051919\ttotal: 91.1ms\tremaining: 305ms\n",
            "23:\tlearn: 0.9074492\ttotal: 92.1ms\tremaining: 292ms\n",
            "24:\tlearn: 0.9063205\ttotal: 97.3ms\tremaining: 292ms\n",
            "25:\tlearn: 0.9119639\ttotal: 100ms\tremaining: 285ms\n",
            "26:\tlearn: 0.9108352\ttotal: 103ms\tremaining: 278ms\n",
            "27:\tlearn: 0.9119639\ttotal: 106ms\tremaining: 272ms\n",
            "28:\tlearn: 0.9097065\ttotal: 107ms\tremaining: 261ms\n",
            "29:\tlearn: 0.9130926\ttotal: 109ms\tremaining: 255ms\n",
            "30:\tlearn: 0.9142212\ttotal: 112ms\tremaining: 249ms\n",
            "31:\tlearn: 0.9142212\ttotal: 115ms\tremaining: 244ms\n",
            "32:\tlearn: 0.9164786\ttotal: 117ms\tremaining: 238ms\n",
            "33:\tlearn: 0.9176072\ttotal: 120ms\tremaining: 233ms\n",
            "34:\tlearn: 0.9187359\ttotal: 122ms\tremaining: 227ms\n",
            "35:\tlearn: 0.9187359\ttotal: 125ms\tremaining: 222ms\n",
            "36:\tlearn: 0.9198646\ttotal: 127ms\tremaining: 217ms\n",
            "37:\tlearn: 0.9198646\ttotal: 130ms\tremaining: 212ms\n",
            "38:\tlearn: 0.9198646\ttotal: 132ms\tremaining: 207ms\n",
            "39:\tlearn: 0.9221219\ttotal: 135ms\tremaining: 202ms\n",
            "40:\tlearn: 0.9221219\ttotal: 137ms\tremaining: 198ms\n",
            "41:\tlearn: 0.9232506\ttotal: 140ms\tremaining: 193ms\n",
            "42:\tlearn: 0.9221219\ttotal: 143ms\tremaining: 189ms\n",
            "43:\tlearn: 0.9221219\ttotal: 145ms\tremaining: 185ms\n",
            "44:\tlearn: 0.9221219\ttotal: 148ms\tremaining: 180ms\n",
            "45:\tlearn: 0.9232506\ttotal: 155ms\tremaining: 182ms\n",
            "46:\tlearn: 0.9255079\ttotal: 158ms\tremaining: 178ms\n",
            "47:\tlearn: 0.9232506\ttotal: 161ms\tremaining: 175ms\n",
            "48:\tlearn: 0.9243792\ttotal: 164ms\tremaining: 171ms\n",
            "49:\tlearn: 0.9243792\ttotal: 167ms\tremaining: 167ms\n",
            "50:\tlearn: 0.9243792\ttotal: 169ms\tremaining: 163ms\n",
            "51:\tlearn: 0.9266366\ttotal: 172ms\tremaining: 159ms\n",
            "52:\tlearn: 0.9277652\ttotal: 175ms\tremaining: 155ms\n",
            "53:\tlearn: 0.9288939\ttotal: 177ms\tremaining: 151ms\n",
            "54:\tlearn: 0.9288939\ttotal: 180ms\tremaining: 147ms\n",
            "55:\tlearn: 0.9288939\ttotal: 182ms\tremaining: 143ms\n",
            "56:\tlearn: 0.9288939\ttotal: 185ms\tremaining: 140ms\n",
            "57:\tlearn: 0.9288939\ttotal: 188ms\tremaining: 136ms\n",
            "58:\tlearn: 0.9277652\ttotal: 190ms\tremaining: 132ms\n",
            "59:\tlearn: 0.9288939\ttotal: 193ms\tremaining: 128ms\n",
            "60:\tlearn: 0.9288939\ttotal: 195ms\tremaining: 125ms\n",
            "61:\tlearn: 0.9300226\ttotal: 198ms\tremaining: 121ms\n",
            "62:\tlearn: 0.9300226\ttotal: 201ms\tremaining: 118ms\n",
            "63:\tlearn: 0.9300226\ttotal: 203ms\tremaining: 114ms\n",
            "64:\tlearn: 0.9311512\ttotal: 206ms\tremaining: 111ms\n",
            "65:\tlearn: 0.9322799\ttotal: 209ms\tremaining: 108ms\n",
            "66:\tlearn: 0.9334086\ttotal: 212ms\tremaining: 104ms\n",
            "67:\tlearn: 0.9322799\ttotal: 214ms\tremaining: 101ms\n",
            "68:\tlearn: 0.9322799\ttotal: 217ms\tremaining: 97.4ms\n",
            "69:\tlearn: 0.9334086\ttotal: 219ms\tremaining: 94ms\n",
            "70:\tlearn: 0.9322799\ttotal: 222ms\tremaining: 90.7ms\n",
            "71:\tlearn: 0.9334086\ttotal: 225ms\tremaining: 87.4ms\n",
            "72:\tlearn: 0.9322799\ttotal: 228ms\tremaining: 84.5ms\n",
            "73:\tlearn: 0.9345372\ttotal: 231ms\tremaining: 81.2ms\n",
            "74:\tlearn: 0.9356659\ttotal: 234ms\tremaining: 77.9ms\n",
            "75:\tlearn: 0.9345372\ttotal: 236ms\tremaining: 74.6ms\n",
            "76:\tlearn: 0.9356659\ttotal: 239ms\tremaining: 71.3ms\n",
            "77:\tlearn: 0.9367946\ttotal: 241ms\tremaining: 68.1ms\n",
            "78:\tlearn: 0.9356659\ttotal: 244ms\tremaining: 64.9ms\n",
            "79:\tlearn: 0.9345372\ttotal: 247ms\tremaining: 61.7ms\n",
            "80:\tlearn: 0.9379233\ttotal: 249ms\tremaining: 58.5ms\n",
            "81:\tlearn: 0.9367946\ttotal: 250ms\tremaining: 55ms\n",
            "82:\tlearn: 0.9367946\ttotal: 253ms\tremaining: 51.8ms\n",
            "83:\tlearn: 0.9390519\ttotal: 256ms\tremaining: 48.7ms\n",
            "84:\tlearn: 0.9390519\ttotal: 258ms\tremaining: 45.6ms\n",
            "85:\tlearn: 0.9379233\ttotal: 262ms\tremaining: 42.7ms\n",
            "86:\tlearn: 0.9379233\ttotal: 266ms\tremaining: 39.7ms\n",
            "87:\tlearn: 0.9379233\ttotal: 270ms\tremaining: 36.9ms\n",
            "88:\tlearn: 0.9379233\ttotal: 272ms\tremaining: 33.6ms\n",
            "89:\tlearn: 0.9379233\ttotal: 274ms\tremaining: 30.5ms\n",
            "90:\tlearn: 0.9379233\ttotal: 277ms\tremaining: 27.4ms\n",
            "91:\tlearn: 0.9379233\ttotal: 278ms\tremaining: 24.2ms\n",
            "92:\tlearn: 0.9379233\ttotal: 281ms\tremaining: 21.1ms\n",
            "93:\tlearn: 0.9379233\ttotal: 283ms\tremaining: 18.1ms\n",
            "94:\tlearn: 0.9390519\ttotal: 286ms\tremaining: 15.1ms\n",
            "95:\tlearn: 0.9401806\ttotal: 289ms\tremaining: 12.1ms\n",
            "96:\tlearn: 0.9401806\ttotal: 292ms\tremaining: 9.03ms\n",
            "97:\tlearn: 0.9413093\ttotal: 294ms\tremaining: 6.01ms\n",
            "98:\tlearn: 0.9424379\ttotal: 297ms\tremaining: 3ms\n",
            "99:\tlearn: 0.9424379\ttotal: 300ms\tremaining: 0us\n",
            "0:\tlearn: 0.8713318\ttotal: 2.59ms\tremaining: 256ms\n",
            "1:\tlearn: 0.8781038\ttotal: 5.49ms\tremaining: 269ms\n",
            "2:\tlearn: 0.8950339\ttotal: 8.23ms\tremaining: 266ms\n",
            "3:\tlearn: 0.8995485\ttotal: 15.2ms\tremaining: 365ms\n",
            "4:\tlearn: 0.8848758\ttotal: 16.7ms\tremaining: 317ms\n",
            "5:\tlearn: 0.8826185\ttotal: 17.7ms\tremaining: 278ms\n",
            "6:\tlearn: 0.8803612\ttotal: 18.7ms\tremaining: 249ms\n",
            "7:\tlearn: 0.8792325\ttotal: 21.3ms\tremaining: 245ms\n",
            "8:\tlearn: 0.8826185\ttotal: 23.9ms\tremaining: 242ms\n",
            "9:\tlearn: 0.8826185\ttotal: 26.5ms\tremaining: 239ms\n",
            "10:\tlearn: 0.8871332\ttotal: 29.3ms\tremaining: 237ms\n",
            "11:\tlearn: 0.8837472\ttotal: 32ms\tremaining: 235ms\n",
            "12:\tlearn: 0.8871332\ttotal: 35.5ms\tremaining: 238ms\n",
            "13:\tlearn: 0.8860045\ttotal: 36.7ms\tremaining: 226ms\n",
            "14:\tlearn: 0.8848758\ttotal: 39.4ms\tremaining: 223ms\n",
            "15:\tlearn: 0.8860045\ttotal: 42ms\tremaining: 221ms\n",
            "16:\tlearn: 0.8837472\ttotal: 45ms\tremaining: 220ms\n",
            "17:\tlearn: 0.8871332\ttotal: 47.7ms\tremaining: 217ms\n",
            "18:\tlearn: 0.8893905\ttotal: 50.5ms\tremaining: 215ms\n",
            "19:\tlearn: 0.8905192\ttotal: 53.1ms\tremaining: 213ms\n",
            "20:\tlearn: 0.8916479\ttotal: 55.7ms\tremaining: 209ms\n",
            "21:\tlearn: 0.8961625\ttotal: 58.3ms\tremaining: 207ms\n",
            "22:\tlearn: 0.8961625\ttotal: 61.3ms\tremaining: 205ms\n",
            "23:\tlearn: 0.9018059\ttotal: 63.8ms\tremaining: 202ms\n",
            "24:\tlearn: 0.9029345\ttotal: 66.5ms\tremaining: 200ms\n",
            "25:\tlearn: 0.9040632\ttotal: 69.3ms\tremaining: 197ms\n",
            "26:\tlearn: 0.9051919\ttotal: 71.9ms\tremaining: 194ms\n",
            "27:\tlearn: 0.9074492\ttotal: 74.6ms\tremaining: 192ms\n",
            "28:\tlearn: 0.9108352\ttotal: 77.1ms\tremaining: 189ms\n",
            "29:\tlearn: 0.9108352\ttotal: 79.8ms\tremaining: 186ms\n",
            "30:\tlearn: 0.9108352\ttotal: 82.7ms\tremaining: 184ms\n",
            "31:\tlearn: 0.9108352\ttotal: 85.1ms\tremaining: 181ms\n",
            "32:\tlearn: 0.9108352\ttotal: 89.4ms\tremaining: 182ms\n",
            "33:\tlearn: 0.9097065\ttotal: 92.2ms\tremaining: 179ms\n",
            "34:\tlearn: 0.9130926\ttotal: 94.8ms\tremaining: 176ms\n",
            "35:\tlearn: 0.9130926\ttotal: 97.4ms\tremaining: 173ms\n",
            "36:\tlearn: 0.9164786\ttotal: 100ms\tremaining: 171ms\n",
            "37:\tlearn: 0.9164786\ttotal: 103ms\tremaining: 168ms\n",
            "38:\tlearn: 0.9164786\ttotal: 106ms\tremaining: 165ms\n",
            "39:\tlearn: 0.9176072\ttotal: 108ms\tremaining: 162ms\n",
            "40:\tlearn: 0.9187359\ttotal: 113ms\tremaining: 162ms\n",
            "41:\tlearn: 0.9187359\ttotal: 117ms\tremaining: 161ms\n",
            "42:\tlearn: 0.9198646\ttotal: 121ms\tremaining: 161ms\n",
            "43:\tlearn: 0.9198646\ttotal: 127ms\tremaining: 161ms\n",
            "44:\tlearn: 0.9209932\ttotal: 130ms\tremaining: 159ms\n",
            "45:\tlearn: 0.9232506\ttotal: 134ms\tremaining: 157ms\n",
            "46:\tlearn: 0.9232506\ttotal: 136ms\tremaining: 153ms\n",
            "47:\tlearn: 0.9232506\ttotal: 139ms\tremaining: 151ms\n",
            "48:\tlearn: 0.9232506\ttotal: 142ms\tremaining: 148ms\n",
            "49:\tlearn: 0.9243792\ttotal: 145ms\tremaining: 145ms\n",
            "50:\tlearn: 0.9243792\ttotal: 148ms\tremaining: 142ms\n",
            "51:\tlearn: 0.9243792\ttotal: 150ms\tremaining: 139ms\n",
            "52:\tlearn: 0.9243792\ttotal: 152ms\tremaining: 135ms\n",
            "53:\tlearn: 0.9243792\ttotal: 155ms\tremaining: 132ms\n",
            "54:\tlearn: 0.9243792\ttotal: 157ms\tremaining: 129ms\n",
            "55:\tlearn: 0.9255079\ttotal: 159ms\tremaining: 125ms\n",
            "56:\tlearn: 0.9232506\ttotal: 162ms\tremaining: 123ms\n",
            "57:\tlearn: 0.9232506\ttotal: 165ms\tremaining: 120ms\n",
            "58:\tlearn: 0.9209932\ttotal: 168ms\tremaining: 117ms\n",
            "59:\tlearn: 0.9243792\ttotal: 171ms\tremaining: 114ms\n",
            "60:\tlearn: 0.9255079\ttotal: 174ms\tremaining: 111ms\n",
            "61:\tlearn: 0.9255079\ttotal: 177ms\tremaining: 109ms\n",
            "62:\tlearn: 0.9266366\ttotal: 179ms\tremaining: 105ms\n",
            "63:\tlearn: 0.9266366\ttotal: 182ms\tremaining: 102ms\n",
            "64:\tlearn: 0.9277652\ttotal: 186ms\tremaining: 99.9ms\n",
            "65:\tlearn: 0.9277652\ttotal: 188ms\tremaining: 97ms\n",
            "66:\tlearn: 0.9277652\ttotal: 191ms\tremaining: 94ms\n",
            "67:\tlearn: 0.9288939\ttotal: 193ms\tremaining: 90.9ms\n",
            "68:\tlearn: 0.9277652\ttotal: 198ms\tremaining: 89ms\n",
            "69:\tlearn: 0.9300226\ttotal: 204ms\tremaining: 87.4ms\n",
            "70:\tlearn: 0.9300226\ttotal: 207ms\tremaining: 84.6ms\n",
            "71:\tlearn: 0.9311512\ttotal: 210ms\tremaining: 81.6ms\n",
            "72:\tlearn: 0.9300226\ttotal: 213ms\tremaining: 78.7ms\n",
            "73:\tlearn: 0.9311512\ttotal: 215ms\tremaining: 75.7ms\n",
            "74:\tlearn: 0.9322799\ttotal: 218ms\tremaining: 72.7ms\n",
            "75:\tlearn: 0.9311512\ttotal: 221ms\tremaining: 69.7ms\n",
            "76:\tlearn: 0.9311512\ttotal: 223ms\tremaining: 66.7ms\n",
            "77:\tlearn: 0.9311512\ttotal: 226ms\tremaining: 63.8ms\n",
            "78:\tlearn: 0.9311512\ttotal: 229ms\tremaining: 60.8ms\n",
            "79:\tlearn: 0.9311512\ttotal: 232ms\tremaining: 58ms\n",
            "80:\tlearn: 0.9311512\ttotal: 234ms\tremaining: 55ms\n",
            "81:\tlearn: 0.9311512\ttotal: 237ms\tremaining: 52ms\n",
            "82:\tlearn: 0.9311512\ttotal: 240ms\tremaining: 49.1ms\n",
            "83:\tlearn: 0.9311512\ttotal: 242ms\tremaining: 46.1ms\n",
            "84:\tlearn: 0.9322799\ttotal: 245ms\tremaining: 43.2ms\n",
            "85:\tlearn: 0.9334086\ttotal: 248ms\tremaining: 40.4ms\n",
            "86:\tlearn: 0.9334086\ttotal: 252ms\tremaining: 37.6ms\n",
            "87:\tlearn: 0.9334086\ttotal: 260ms\tremaining: 35.4ms\n",
            "88:\tlearn: 0.9345372\ttotal: 263ms\tremaining: 32.4ms\n",
            "89:\tlearn: 0.9334086\ttotal: 265ms\tremaining: 29.4ms\n",
            "90:\tlearn: 0.9334086\ttotal: 266ms\tremaining: 26.3ms\n",
            "91:\tlearn: 0.9334086\ttotal: 269ms\tremaining: 23.4ms\n",
            "92:\tlearn: 0.9334086\ttotal: 270ms\tremaining: 20.3ms\n",
            "93:\tlearn: 0.9322799\ttotal: 273ms\tremaining: 17.4ms\n",
            "94:\tlearn: 0.9334086\ttotal: 274ms\tremaining: 14.4ms\n",
            "95:\tlearn: 0.9334086\ttotal: 277ms\tremaining: 11.5ms\n",
            "96:\tlearn: 0.9334086\ttotal: 281ms\tremaining: 8.68ms\n",
            "97:\tlearn: 0.9345372\ttotal: 284ms\tremaining: 5.79ms\n",
            "98:\tlearn: 0.9345372\ttotal: 286ms\tremaining: 2.89ms\n",
            "99:\tlearn: 0.9345372\ttotal: 287ms\tremaining: 0us\n",
            "0:\tlearn: 0.8690745\ttotal: 2.63ms\tremaining: 260ms\n",
            "1:\tlearn: 0.8803612\ttotal: 5.46ms\tremaining: 267ms\n",
            "2:\tlearn: 0.8927765\ttotal: 8.23ms\tremaining: 266ms\n",
            "3:\tlearn: 0.8916479\ttotal: 11.2ms\tremaining: 268ms\n",
            "4:\tlearn: 0.8724605\ttotal: 12.2ms\tremaining: 231ms\n",
            "5:\tlearn: 0.8803612\ttotal: 13.2ms\tremaining: 207ms\n",
            "6:\tlearn: 0.8758465\ttotal: 14ms\tremaining: 186ms\n",
            "7:\tlearn: 0.8814898\ttotal: 16.5ms\tremaining: 190ms\n",
            "8:\tlearn: 0.8814898\ttotal: 19ms\tremaining: 193ms\n",
            "9:\tlearn: 0.8837472\ttotal: 21.7ms\tremaining: 195ms\n",
            "10:\tlearn: 0.8826185\ttotal: 26.5ms\tremaining: 214ms\n",
            "11:\tlearn: 0.8860045\ttotal: 29.9ms\tremaining: 219ms\n",
            "12:\tlearn: 0.8848758\ttotal: 33.3ms\tremaining: 223ms\n",
            "13:\tlearn: 0.8814898\ttotal: 37.5ms\tremaining: 230ms\n",
            "14:\tlearn: 0.8837472\ttotal: 40.1ms\tremaining: 227ms\n",
            "15:\tlearn: 0.8848758\ttotal: 42.7ms\tremaining: 224ms\n",
            "16:\tlearn: 0.8848758\ttotal: 43.5ms\tremaining: 212ms\n",
            "17:\tlearn: 0.8826185\ttotal: 46.1ms\tremaining: 210ms\n",
            "18:\tlearn: 0.8871332\ttotal: 48.8ms\tremaining: 208ms\n",
            "19:\tlearn: 0.8916479\ttotal: 50.6ms\tremaining: 202ms\n",
            "20:\tlearn: 0.8927765\ttotal: 53.1ms\tremaining: 200ms\n",
            "21:\tlearn: 0.8939052\ttotal: 56.6ms\tremaining: 201ms\n",
            "22:\tlearn: 0.8961625\ttotal: 61.9ms\tremaining: 207ms\n",
            "23:\tlearn: 0.8984199\ttotal: 65.4ms\tremaining: 207ms\n",
            "24:\tlearn: 0.8995485\ttotal: 73.1ms\tremaining: 219ms\n",
            "25:\tlearn: 0.9040632\ttotal: 79.3ms\tremaining: 226ms\n",
            "26:\tlearn: 0.9040632\ttotal: 84.1ms\tremaining: 227ms\n",
            "27:\tlearn: 0.9063205\ttotal: 86.3ms\tremaining: 222ms\n",
            "28:\tlearn: 0.9051919\ttotal: 89ms\tremaining: 218ms\n",
            "29:\tlearn: 0.9051919\ttotal: 91.7ms\tremaining: 214ms\n",
            "30:\tlearn: 0.9074492\ttotal: 94.4ms\tremaining: 210ms\n",
            "31:\tlearn: 0.9074492\ttotal: 96.9ms\tremaining: 206ms\n",
            "32:\tlearn: 0.9108352\ttotal: 99.9ms\tremaining: 203ms\n",
            "33:\tlearn: 0.9097065\ttotal: 105ms\tremaining: 204ms\n",
            "34:\tlearn: 0.9097065\ttotal: 109ms\tremaining: 203ms\n",
            "35:\tlearn: 0.9142212\ttotal: 113ms\tremaining: 201ms\n",
            "36:\tlearn: 0.9142212\ttotal: 116ms\tremaining: 197ms\n",
            "37:\tlearn: 0.9164786\ttotal: 118ms\tremaining: 193ms\n",
            "38:\tlearn: 0.9176072\ttotal: 121ms\tremaining: 189ms\n",
            "39:\tlearn: 0.9187359\ttotal: 124ms\tremaining: 185ms\n",
            "40:\tlearn: 0.9176072\ttotal: 126ms\tremaining: 182ms\n",
            "41:\tlearn: 0.9187359\ttotal: 129ms\tremaining: 178ms\n",
            "42:\tlearn: 0.9209932\ttotal: 132ms\tremaining: 175ms\n",
            "43:\tlearn: 0.9221219\ttotal: 135ms\tremaining: 171ms\n",
            "44:\tlearn: 0.9232506\ttotal: 137ms\tremaining: 168ms\n",
            "45:\tlearn: 0.9243792\ttotal: 140ms\tremaining: 164ms\n",
            "46:\tlearn: 0.9266366\ttotal: 142ms\tremaining: 161ms\n",
            "47:\tlearn: 0.9255079\ttotal: 145ms\tremaining: 157ms\n",
            "48:\tlearn: 0.9255079\ttotal: 148ms\tremaining: 154ms\n",
            "49:\tlearn: 0.9277652\ttotal: 151ms\tremaining: 151ms\n",
            "50:\tlearn: 0.9266366\ttotal: 155ms\tremaining: 149ms\n",
            "51:\tlearn: 0.9277652\ttotal: 162ms\tremaining: 150ms\n",
            "52:\tlearn: 0.9266366\ttotal: 165ms\tremaining: 146ms\n",
            "53:\tlearn: 0.9266366\ttotal: 167ms\tremaining: 142ms\n",
            "54:\tlearn: 0.9266366\ttotal: 170ms\tremaining: 139ms\n",
            "55:\tlearn: 0.9266366\ttotal: 173ms\tremaining: 136ms\n",
            "56:\tlearn: 0.9277652\ttotal: 176ms\tremaining: 133ms\n",
            "57:\tlearn: 0.9288939\ttotal: 180ms\tremaining: 130ms\n",
            "58:\tlearn: 0.9277652\ttotal: 183ms\tremaining: 127ms\n",
            "59:\tlearn: 0.9311512\ttotal: 186ms\tremaining: 124ms\n",
            "60:\tlearn: 0.9300226\ttotal: 188ms\tremaining: 120ms\n",
            "61:\tlearn: 0.9322799\ttotal: 191ms\tremaining: 117ms\n",
            "62:\tlearn: 0.9322799\ttotal: 194ms\tremaining: 114ms\n",
            "63:\tlearn: 0.9322799\ttotal: 195ms\tremaining: 110ms\n",
            "64:\tlearn: 0.9322799\ttotal: 198ms\tremaining: 107ms\n",
            "65:\tlearn: 0.9322799\ttotal: 201ms\tremaining: 103ms\n",
            "66:\tlearn: 0.9334086\ttotal: 203ms\tremaining: 100ms\n",
            "67:\tlearn: 0.9345372\ttotal: 206ms\tremaining: 96.8ms\n",
            "68:\tlearn: 0.9334086\ttotal: 207ms\tremaining: 92.9ms\n",
            "69:\tlearn: 0.9334086\ttotal: 209ms\tremaining: 89.7ms\n",
            "70:\tlearn: 0.9334086\ttotal: 212ms\tremaining: 86.5ms\n",
            "71:\tlearn: 0.9356659\ttotal: 214ms\tremaining: 83.3ms\n",
            "72:\tlearn: 0.9356659\ttotal: 217ms\tremaining: 80.2ms\n",
            "73:\tlearn: 0.9356659\ttotal: 219ms\tremaining: 77ms\n",
            "74:\tlearn: 0.9356659\ttotal: 222ms\tremaining: 74ms\n",
            "75:\tlearn: 0.9367946\ttotal: 225ms\tremaining: 70.9ms\n",
            "76:\tlearn: 0.9356659\ttotal: 227ms\tremaining: 67.8ms\n",
            "77:\tlearn: 0.9356659\ttotal: 230ms\tremaining: 64.8ms\n",
            "78:\tlearn: 0.9356659\ttotal: 233ms\tremaining: 61.8ms\n",
            "79:\tlearn: 0.9356659\ttotal: 236ms\tremaining: 58.9ms\n",
            "80:\tlearn: 0.9356659\ttotal: 238ms\tremaining: 55.9ms\n",
            "81:\tlearn: 0.9356659\ttotal: 241ms\tremaining: 52.9ms\n",
            "82:\tlearn: 0.9367946\ttotal: 243ms\tremaining: 49.9ms\n",
            "83:\tlearn: 0.9356659\ttotal: 246ms\tremaining: 46.9ms\n",
            "84:\tlearn: 0.9356659\ttotal: 248ms\tremaining: 43.8ms\n",
            "85:\tlearn: 0.9356659\ttotal: 251ms\tremaining: 40.8ms\n",
            "86:\tlearn: 0.9356659\ttotal: 253ms\tremaining: 37.9ms\n",
            "87:\tlearn: 0.9367946\ttotal: 256ms\tremaining: 34.9ms\n",
            "88:\tlearn: 0.9367946\ttotal: 260ms\tremaining: 32.1ms\n",
            "89:\tlearn: 0.9367946\ttotal: 267ms\tremaining: 29.6ms\n",
            "90:\tlearn: 0.9367946\ttotal: 273ms\tremaining: 27ms\n",
            "91:\tlearn: 0.9367946\ttotal: 278ms\tremaining: 24.2ms\n",
            "92:\tlearn: 0.9367946\ttotal: 281ms\tremaining: 21.1ms\n",
            "93:\tlearn: 0.9367946\ttotal: 283ms\tremaining: 18.1ms\n",
            "94:\tlearn: 0.9367946\ttotal: 286ms\tremaining: 15ms\n",
            "95:\tlearn: 0.9367946\ttotal: 289ms\tremaining: 12ms\n",
            "96:\tlearn: 0.9379233\ttotal: 292ms\tremaining: 9.02ms\n",
            "97:\tlearn: 0.9379233\ttotal: 294ms\tremaining: 6ms\n",
            "98:\tlearn: 0.9379233\ttotal: 297ms\tremaining: 3ms\n",
            "99:\tlearn: 0.9379233\ttotal: 299ms\tremaining: 0us\n",
            "0:\tlearn: 0.8724605\ttotal: 2.76ms\tremaining: 273ms\n",
            "1:\tlearn: 0.8792325\ttotal: 5.51ms\tremaining: 270ms\n",
            "2:\tlearn: 0.8893905\ttotal: 8.11ms\tremaining: 262ms\n",
            "3:\tlearn: 0.8871332\ttotal: 10.8ms\tremaining: 259ms\n",
            "4:\tlearn: 0.8690745\ttotal: 11.8ms\tremaining: 224ms\n",
            "5:\tlearn: 0.8826185\ttotal: 14.3ms\tremaining: 224ms\n",
            "6:\tlearn: 0.8871332\ttotal: 17ms\tremaining: 225ms\n",
            "7:\tlearn: 0.8860045\ttotal: 19.8ms\tremaining: 227ms\n",
            "8:\tlearn: 0.8939052\ttotal: 22.3ms\tremaining: 225ms\n",
            "9:\tlearn: 0.8984199\ttotal: 25ms\tremaining: 225ms\n",
            "10:\tlearn: 0.8984199\ttotal: 27.7ms\tremaining: 224ms\n",
            "11:\tlearn: 0.8995485\ttotal: 30.4ms\tremaining: 223ms\n",
            "12:\tlearn: 0.8984199\ttotal: 33ms\tremaining: 221ms\n",
            "13:\tlearn: 0.8939052\ttotal: 35.6ms\tremaining: 218ms\n",
            "14:\tlearn: 0.8950339\ttotal: 38.3ms\tremaining: 217ms\n",
            "15:\tlearn: 0.8984199\ttotal: 40.9ms\tremaining: 215ms\n",
            "16:\tlearn: 0.8995485\ttotal: 43.4ms\tremaining: 212ms\n",
            "17:\tlearn: 0.9018059\ttotal: 46ms\tremaining: 209ms\n",
            "18:\tlearn: 0.8939052\ttotal: 46.8ms\tremaining: 200ms\n",
            "19:\tlearn: 0.8950339\ttotal: 49.3ms\tremaining: 197ms\n",
            "20:\tlearn: 0.8984199\ttotal: 51.9ms\tremaining: 195ms\n",
            "21:\tlearn: 0.8995485\ttotal: 54.4ms\tremaining: 193ms\n",
            "22:\tlearn: 0.9006772\ttotal: 56.9ms\tremaining: 190ms\n",
            "23:\tlearn: 0.9051919\ttotal: 59.5ms\tremaining: 188ms\n",
            "24:\tlearn: 0.9074492\ttotal: 62ms\tremaining: 186ms\n",
            "25:\tlearn: 0.9142212\ttotal: 64.5ms\tremaining: 183ms\n",
            "26:\tlearn: 0.9051919\ttotal: 65.2ms\tremaining: 176ms\n",
            "27:\tlearn: 0.9074492\ttotal: 68ms\tremaining: 175ms\n",
            "28:\tlearn: 0.9085779\ttotal: 70.7ms\tremaining: 173ms\n",
            "29:\tlearn: 0.9108352\ttotal: 73.4ms\tremaining: 171ms\n",
            "30:\tlearn: 0.9153499\ttotal: 77.7ms\tremaining: 173ms\n",
            "31:\tlearn: 0.9164786\ttotal: 80.4ms\tremaining: 171ms\n",
            "32:\tlearn: 0.9187359\ttotal: 83.1ms\tremaining: 169ms\n",
            "33:\tlearn: 0.9198646\ttotal: 85.8ms\tremaining: 167ms\n",
            "34:\tlearn: 0.9209932\ttotal: 88.5ms\tremaining: 164ms\n",
            "35:\tlearn: 0.9198646\ttotal: 91ms\tremaining: 162ms\n",
            "36:\tlearn: 0.9221219\ttotal: 93.6ms\tremaining: 159ms\n",
            "37:\tlearn: 0.9232506\ttotal: 96.3ms\tremaining: 157ms\n",
            "38:\tlearn: 0.9232506\ttotal: 99.2ms\tremaining: 155ms\n",
            "39:\tlearn: 0.9243792\ttotal: 102ms\tremaining: 153ms\n",
            "40:\tlearn: 0.9243792\ttotal: 106ms\tremaining: 152ms\n",
            "41:\tlearn: 0.9243792\ttotal: 111ms\tremaining: 153ms\n",
            "42:\tlearn: 0.9243792\ttotal: 115ms\tremaining: 153ms\n",
            "43:\tlearn: 0.9255079\ttotal: 119ms\tremaining: 151ms\n",
            "44:\tlearn: 0.9266366\ttotal: 122ms\tremaining: 149ms\n",
            "45:\tlearn: 0.9255079\ttotal: 126ms\tremaining: 148ms\n",
            "46:\tlearn: 0.9255079\ttotal: 129ms\tremaining: 146ms\n",
            "47:\tlearn: 0.9255079\ttotal: 132ms\tremaining: 143ms\n",
            "48:\tlearn: 0.9255079\ttotal: 134ms\tremaining: 140ms\n",
            "49:\tlearn: 0.9255079\ttotal: 137ms\tremaining: 137ms\n",
            "50:\tlearn: 0.9255079\ttotal: 139ms\tremaining: 134ms\n",
            "51:\tlearn: 0.9255079\ttotal: 142ms\tremaining: 131ms\n",
            "52:\tlearn: 0.9277652\ttotal: 145ms\tremaining: 128ms\n",
            "53:\tlearn: 0.9266366\ttotal: 147ms\tremaining: 125ms\n",
            "54:\tlearn: 0.9277652\ttotal: 150ms\tremaining: 123ms\n",
            "55:\tlearn: 0.9266366\ttotal: 152ms\tremaining: 120ms\n",
            "56:\tlearn: 0.9266366\ttotal: 155ms\tremaining: 117ms\n",
            "57:\tlearn: 0.9266366\ttotal: 157ms\tremaining: 114ms\n",
            "58:\tlearn: 0.9266366\ttotal: 160ms\tremaining: 111ms\n",
            "59:\tlearn: 0.9277652\ttotal: 163ms\tremaining: 108ms\n",
            "60:\tlearn: 0.9288939\ttotal: 165ms\tremaining: 106ms\n",
            "61:\tlearn: 0.9300226\ttotal: 168ms\tremaining: 103ms\n",
            "62:\tlearn: 0.9288939\ttotal: 169ms\tremaining: 99.2ms\n",
            "63:\tlearn: 0.9300226\ttotal: 171ms\tremaining: 96.4ms\n",
            "64:\tlearn: 0.9311512\ttotal: 174ms\tremaining: 93.7ms\n",
            "65:\tlearn: 0.9300226\ttotal: 177ms\tremaining: 91ms\n",
            "66:\tlearn: 0.9311512\ttotal: 179ms\tremaining: 88.3ms\n",
            "67:\tlearn: 0.9322799\ttotal: 182ms\tremaining: 85.6ms\n",
            "68:\tlearn: 0.9311512\ttotal: 185ms\tremaining: 83ms\n",
            "69:\tlearn: 0.9322799\ttotal: 187ms\tremaining: 80.3ms\n",
            "70:\tlearn: 0.9311512\ttotal: 190ms\tremaining: 77.6ms\n",
            "71:\tlearn: 0.9300226\ttotal: 193ms\tremaining: 75ms\n",
            "72:\tlearn: 0.9300226\ttotal: 195ms\tremaining: 72.3ms\n",
            "73:\tlearn: 0.9311512\ttotal: 198ms\tremaining: 69.7ms\n",
            "74:\tlearn: 0.9311512\ttotal: 201ms\tremaining: 67ms\n",
            "75:\tlearn: 0.9334086\ttotal: 204ms\tremaining: 64.3ms\n",
            "76:\tlearn: 0.9345372\ttotal: 206ms\tremaining: 61.7ms\n",
            "77:\tlearn: 0.9322799\ttotal: 209ms\tremaining: 58.9ms\n",
            "78:\tlearn: 0.9322799\ttotal: 211ms\tremaining: 56.2ms\n",
            "79:\tlearn: 0.9322799\ttotal: 214ms\tremaining: 53.5ms\n",
            "80:\tlearn: 0.9322799\ttotal: 217ms\tremaining: 50.8ms\n",
            "81:\tlearn: 0.9334086\ttotal: 219ms\tremaining: 48.1ms\n",
            "82:\tlearn: 0.9334086\ttotal: 222ms\tremaining: 45.4ms\n",
            "83:\tlearn: 0.9334086\ttotal: 223ms\tremaining: 42.4ms\n",
            "84:\tlearn: 0.9334086\ttotal: 225ms\tremaining: 39.8ms\n",
            "85:\tlearn: 0.9356659\ttotal: 228ms\tremaining: 37.1ms\n",
            "86:\tlearn: 0.9356659\ttotal: 230ms\tremaining: 34.4ms\n",
            "87:\tlearn: 0.9367946\ttotal: 233ms\tremaining: 31.7ms\n",
            "88:\tlearn: 0.9367946\ttotal: 235ms\tremaining: 29.1ms\n",
            "89:\tlearn: 0.9356659\ttotal: 236ms\tremaining: 26.3ms\n",
            "90:\tlearn: 0.9356659\ttotal: 238ms\tremaining: 23.5ms\n",
            "91:\tlearn: 0.9356659\ttotal: 239ms\tremaining: 20.8ms\n",
            "92:\tlearn: 0.9356659\ttotal: 241ms\tremaining: 18.2ms\n",
            "93:\tlearn: 0.9356659\ttotal: 244ms\tremaining: 15.6ms\n",
            "94:\tlearn: 0.9379233\ttotal: 246ms\tremaining: 13ms\n",
            "95:\tlearn: 0.9379233\ttotal: 248ms\tremaining: 10.3ms\n",
            "96:\tlearn: 0.9379233\ttotal: 250ms\tremaining: 7.74ms\n",
            "97:\tlearn: 0.9379233\ttotal: 252ms\tremaining: 5.13ms\n",
            "98:\tlearn: 0.9379233\ttotal: 254ms\tremaining: 2.57ms\n",
            "99:\tlearn: 0.9379233\ttotal: 257ms\tremaining: 0us\n",
            "0:\tlearn: 0.8826185\ttotal: 2.74ms\tremaining: 271ms\n",
            "1:\tlearn: 0.8871332\ttotal: 5.18ms\tremaining: 254ms\n",
            "2:\tlearn: 0.8882619\ttotal: 7.44ms\tremaining: 241ms\n",
            "3:\tlearn: 0.8950339\ttotal: 9.74ms\tremaining: 234ms\n",
            "4:\tlearn: 0.8893905\ttotal: 10.3ms\tremaining: 195ms\n",
            "5:\tlearn: 0.8848758\ttotal: 11ms\tremaining: 172ms\n",
            "6:\tlearn: 0.8803612\ttotal: 11.5ms\tremaining: 152ms\n",
            "7:\tlearn: 0.8882619\ttotal: 14.1ms\tremaining: 162ms\n",
            "8:\tlearn: 0.8826185\ttotal: 17.7ms\tremaining: 179ms\n",
            "9:\tlearn: 0.8781038\ttotal: 18.2ms\tremaining: 164ms\n",
            "10:\tlearn: 0.8814898\ttotal: 22.8ms\tremaining: 185ms\n",
            "11:\tlearn: 0.8837472\ttotal: 27.1ms\tremaining: 198ms\n",
            "12:\tlearn: 0.8860045\ttotal: 29.8ms\tremaining: 199ms\n",
            "13:\tlearn: 0.8905192\ttotal: 32.6ms\tremaining: 200ms\n",
            "14:\tlearn: 0.8972912\ttotal: 35.2ms\tremaining: 200ms\n",
            "15:\tlearn: 0.8972912\ttotal: 37.7ms\tremaining: 198ms\n",
            "16:\tlearn: 0.8972912\ttotal: 40.2ms\tremaining: 196ms\n",
            "17:\tlearn: 0.8995485\ttotal: 42.8ms\tremaining: 195ms\n",
            "18:\tlearn: 0.9029345\ttotal: 45.4ms\tremaining: 193ms\n",
            "19:\tlearn: 0.9029345\ttotal: 47.2ms\tremaining: 189ms\n",
            "20:\tlearn: 0.9040632\ttotal: 49.8ms\tremaining: 188ms\n",
            "21:\tlearn: 0.9051919\ttotal: 52.4ms\tremaining: 186ms\n",
            "22:\tlearn: 0.9051919\ttotal: 54.9ms\tremaining: 184ms\n",
            "23:\tlearn: 0.9074492\ttotal: 57.7ms\tremaining: 183ms\n",
            "24:\tlearn: 0.9063205\ttotal: 60.1ms\tremaining: 180ms\n",
            "25:\tlearn: 0.9085779\ttotal: 62.6ms\tremaining: 178ms\n",
            "26:\tlearn: 0.9051919\ttotal: 63.5ms\tremaining: 172ms\n",
            "27:\tlearn: 0.9063205\ttotal: 65.9ms\tremaining: 169ms\n",
            "28:\tlearn: 0.9085779\ttotal: 68.5ms\tremaining: 168ms\n",
            "29:\tlearn: 0.9074492\ttotal: 71.1ms\tremaining: 166ms\n",
            "30:\tlearn: 0.9063205\ttotal: 73.8ms\tremaining: 164ms\n",
            "31:\tlearn: 0.9108352\ttotal: 76.5ms\tremaining: 163ms\n",
            "32:\tlearn: 0.9108352\ttotal: 79.2ms\tremaining: 161ms\n",
            "33:\tlearn: 0.9153499\ttotal: 81.9ms\tremaining: 159ms\n",
            "34:\tlearn: 0.9176072\ttotal: 84.4ms\tremaining: 157ms\n",
            "35:\tlearn: 0.9164786\ttotal: 86.9ms\tremaining: 155ms\n",
            "36:\tlearn: 0.9187359\ttotal: 89.4ms\tremaining: 152ms\n",
            "37:\tlearn: 0.9198646\ttotal: 92ms\tremaining: 150ms\n",
            "38:\tlearn: 0.9221219\ttotal: 94.6ms\tremaining: 148ms\n",
            "39:\tlearn: 0.9198646\ttotal: 97.2ms\tremaining: 146ms\n",
            "40:\tlearn: 0.9221219\ttotal: 99.6ms\tremaining: 143ms\n",
            "41:\tlearn: 0.9221219\ttotal: 102ms\tremaining: 141ms\n",
            "42:\tlearn: 0.9221219\ttotal: 105ms\tremaining: 139ms\n",
            "43:\tlearn: 0.9232506\ttotal: 107ms\tremaining: 137ms\n",
            "44:\tlearn: 0.9221219\ttotal: 111ms\tremaining: 136ms\n",
            "45:\tlearn: 0.9221219\ttotal: 115ms\tremaining: 135ms\n",
            "46:\tlearn: 0.9221219\ttotal: 119ms\tremaining: 134ms\n",
            "47:\tlearn: 0.9221219\ttotal: 124ms\tremaining: 135ms\n",
            "48:\tlearn: 0.9232506\ttotal: 131ms\tremaining: 136ms\n",
            "49:\tlearn: 0.9232506\ttotal: 133ms\tremaining: 133ms\n",
            "50:\tlearn: 0.9232506\ttotal: 136ms\tremaining: 130ms\n",
            "51:\tlearn: 0.9255079\ttotal: 139ms\tremaining: 128ms\n",
            "52:\tlearn: 0.9232506\ttotal: 142ms\tremaining: 126ms\n",
            "53:\tlearn: 0.9243792\ttotal: 145ms\tremaining: 123ms\n",
            "54:\tlearn: 0.9255079\ttotal: 147ms\tremaining: 121ms\n",
            "55:\tlearn: 0.9255079\ttotal: 150ms\tremaining: 118ms\n",
            "56:\tlearn: 0.9255079\ttotal: 153ms\tremaining: 115ms\n",
            "57:\tlearn: 0.9255079\ttotal: 156ms\tremaining: 113ms\n",
            "58:\tlearn: 0.9243792\ttotal: 158ms\tremaining: 110ms\n",
            "59:\tlearn: 0.9255079\ttotal: 161ms\tremaining: 107ms\n",
            "60:\tlearn: 0.9266366\ttotal: 163ms\tremaining: 105ms\n",
            "61:\tlearn: 0.9255079\ttotal: 166ms\tremaining: 102ms\n",
            "62:\tlearn: 0.9277652\ttotal: 169ms\tremaining: 99.2ms\n",
            "63:\tlearn: 0.9300226\ttotal: 171ms\tremaining: 96.4ms\n",
            "64:\tlearn: 0.9322799\ttotal: 174ms\tremaining: 93.7ms\n",
            "65:\tlearn: 0.9345372\ttotal: 177ms\tremaining: 90.9ms\n",
            "66:\tlearn: 0.9334086\ttotal: 181ms\tremaining: 89ms\n",
            "67:\tlearn: 0.9334086\ttotal: 188ms\tremaining: 88.7ms\n",
            "68:\tlearn: 0.9356659\ttotal: 192ms\tremaining: 86.1ms\n",
            "69:\tlearn: 0.9356659\ttotal: 194ms\tremaining: 83.2ms\n",
            "70:\tlearn: 0.9356659\ttotal: 197ms\tremaining: 80.4ms\n",
            "71:\tlearn: 0.9367946\ttotal: 199ms\tremaining: 77.5ms\n",
            "72:\tlearn: 0.9367946\ttotal: 202ms\tremaining: 74.7ms\n",
            "73:\tlearn: 0.9367946\ttotal: 204ms\tremaining: 71.8ms\n",
            "74:\tlearn: 0.9379233\ttotal: 207ms\tremaining: 69ms\n",
            "75:\tlearn: 0.9367946\ttotal: 211ms\tremaining: 66.6ms\n",
            "76:\tlearn: 0.9367946\ttotal: 215ms\tremaining: 64.2ms\n",
            "77:\tlearn: 0.9367946\ttotal: 219ms\tremaining: 61.7ms\n",
            "78:\tlearn: 0.9367946\ttotal: 222ms\tremaining: 59ms\n",
            "79:\tlearn: 0.9379233\ttotal: 224ms\tremaining: 56.1ms\n",
            "80:\tlearn: 0.9379233\ttotal: 227ms\tremaining: 53.2ms\n",
            "81:\tlearn: 0.9379233\ttotal: 230ms\tremaining: 50.4ms\n",
            "82:\tlearn: 0.9390519\ttotal: 232ms\tremaining: 47.5ms\n",
            "83:\tlearn: 0.9390519\ttotal: 234ms\tremaining: 44.6ms\n",
            "84:\tlearn: 0.9390519\ttotal: 236ms\tremaining: 41.7ms\n",
            "85:\tlearn: 0.9390519\ttotal: 238ms\tremaining: 38.8ms\n",
            "86:\tlearn: 0.9401806\ttotal: 241ms\tremaining: 36ms\n",
            "87:\tlearn: 0.9401806\ttotal: 243ms\tremaining: 33.1ms\n",
            "88:\tlearn: 0.9401806\ttotal: 245ms\tremaining: 30.3ms\n",
            "89:\tlearn: 0.9401806\ttotal: 248ms\tremaining: 27.6ms\n",
            "90:\tlearn: 0.9413093\ttotal: 251ms\tremaining: 24.8ms\n",
            "91:\tlearn: 0.9413093\ttotal: 254ms\tremaining: 22.1ms\n",
            "92:\tlearn: 0.9413093\ttotal: 254ms\tremaining: 19.1ms\n",
            "93:\tlearn: 0.9413093\ttotal: 257ms\tremaining: 16.4ms\n",
            "94:\tlearn: 0.9413093\ttotal: 259ms\tremaining: 13.7ms\n",
            "95:\tlearn: 0.9413093\ttotal: 262ms\tremaining: 10.9ms\n",
            "96:\tlearn: 0.9413093\ttotal: 264ms\tremaining: 8.18ms\n",
            "97:\tlearn: 0.9413093\ttotal: 267ms\tremaining: 5.45ms\n",
            "98:\tlearn: 0.9413093\ttotal: 269ms\tremaining: 2.72ms\n",
            "99:\tlearn: 0.9413093\ttotal: 272ms\tremaining: 0us\n",
            "0:\tlearn: 0.8724605\ttotal: 2.45ms\tremaining: 243ms\n",
            "1:\tlearn: 0.8803612\ttotal: 4.61ms\tremaining: 226ms\n",
            "2:\tlearn: 0.8916479\ttotal: 6.78ms\tremaining: 219ms\n",
            "3:\tlearn: 0.8905192\ttotal: 8.91ms\tremaining: 214ms\n",
            "4:\tlearn: 0.8792325\ttotal: 9.77ms\tremaining: 186ms\n",
            "5:\tlearn: 0.8893905\ttotal: 12.6ms\tremaining: 198ms\n",
            "6:\tlearn: 0.8950339\ttotal: 15.2ms\tremaining: 202ms\n",
            "7:\tlearn: 0.9063205\ttotal: 17.9ms\tremaining: 206ms\n",
            "8:\tlearn: 0.8995485\ttotal: 20.4ms\tremaining: 206ms\n",
            "9:\tlearn: 0.9029345\ttotal: 22.8ms\tremaining: 206ms\n",
            "10:\tlearn: 0.9051919\ttotal: 25.5ms\tremaining: 207ms\n",
            "11:\tlearn: 0.9040632\ttotal: 29.3ms\tremaining: 215ms\n",
            "12:\tlearn: 0.9051919\ttotal: 31.6ms\tremaining: 211ms\n",
            "13:\tlearn: 0.9085779\ttotal: 33.8ms\tremaining: 207ms\n",
            "14:\tlearn: 0.9097065\ttotal: 36.5ms\tremaining: 207ms\n",
            "15:\tlearn: 0.9018059\ttotal: 39.2ms\tremaining: 206ms\n",
            "16:\tlearn: 0.9063205\ttotal: 41.8ms\tremaining: 204ms\n",
            "17:\tlearn: 0.9085779\ttotal: 44.3ms\tremaining: 202ms\n",
            "18:\tlearn: 0.9051919\ttotal: 45ms\tremaining: 192ms\n",
            "19:\tlearn: 0.9040632\ttotal: 47.6ms\tremaining: 190ms\n",
            "20:\tlearn: 0.9097065\ttotal: 50.1ms\tremaining: 188ms\n",
            "21:\tlearn: 0.9074492\ttotal: 50.9ms\tremaining: 180ms\n",
            "22:\tlearn: 0.9063205\ttotal: 53.4ms\tremaining: 179ms\n",
            "23:\tlearn: 0.9074492\ttotal: 55.9ms\tremaining: 177ms\n",
            "24:\tlearn: 0.9074492\ttotal: 59.8ms\tremaining: 179ms\n",
            "25:\tlearn: 0.9074492\ttotal: 63.3ms\tremaining: 180ms\n",
            "26:\tlearn: 0.9074492\ttotal: 67.5ms\tremaining: 183ms\n",
            "27:\tlearn: 0.9119639\ttotal: 71.2ms\tremaining: 183ms\n",
            "28:\tlearn: 0.9119639\ttotal: 75.7ms\tremaining: 185ms\n",
            "29:\tlearn: 0.9153499\ttotal: 79.1ms\tremaining: 185ms\n",
            "30:\tlearn: 0.9164786\ttotal: 81.5ms\tremaining: 181ms\n",
            "31:\tlearn: 0.9176072\ttotal: 84.2ms\tremaining: 179ms\n",
            "32:\tlearn: 0.9187359\ttotal: 86.9ms\tremaining: 176ms\n",
            "33:\tlearn: 0.9209932\ttotal: 89.5ms\tremaining: 174ms\n",
            "34:\tlearn: 0.9209932\ttotal: 93.8ms\tremaining: 174ms\n",
            "35:\tlearn: 0.9221219\ttotal: 101ms\tremaining: 180ms\n",
            "36:\tlearn: 0.9243792\ttotal: 106ms\tremaining: 180ms\n",
            "37:\tlearn: 0.9221219\ttotal: 107ms\tremaining: 174ms\n",
            "38:\tlearn: 0.9209932\ttotal: 110ms\tremaining: 172ms\n",
            "39:\tlearn: 0.9221219\ttotal: 112ms\tremaining: 169ms\n",
            "40:\tlearn: 0.9221219\ttotal: 116ms\tremaining: 168ms\n",
            "41:\tlearn: 0.9232506\ttotal: 119ms\tremaining: 164ms\n",
            "42:\tlearn: 0.9221219\ttotal: 121ms\tremaining: 160ms\n",
            "43:\tlearn: 0.9232506\ttotal: 123ms\tremaining: 157ms\n",
            "44:\tlearn: 0.9243792\ttotal: 126ms\tremaining: 154ms\n",
            "45:\tlearn: 0.9266366\ttotal: 129ms\tremaining: 151ms\n",
            "46:\tlearn: 0.9277652\ttotal: 131ms\tremaining: 148ms\n",
            "47:\tlearn: 0.9277652\ttotal: 134ms\tremaining: 145ms\n",
            "48:\tlearn: 0.9277652\ttotal: 136ms\tremaining: 142ms\n",
            "49:\tlearn: 0.9288939\ttotal: 139ms\tremaining: 139ms\n",
            "50:\tlearn: 0.9288939\ttotal: 141ms\tremaining: 135ms\n",
            "51:\tlearn: 0.9288939\ttotal: 143ms\tremaining: 132ms\n",
            "52:\tlearn: 0.9300226\ttotal: 146ms\tremaining: 129ms\n",
            "53:\tlearn: 0.9300226\ttotal: 148ms\tremaining: 126ms\n",
            "54:\tlearn: 0.9300226\ttotal: 151ms\tremaining: 124ms\n",
            "55:\tlearn: 0.9311512\ttotal: 153ms\tremaining: 121ms\n",
            "56:\tlearn: 0.9322799\ttotal: 154ms\tremaining: 116ms\n",
            "57:\tlearn: 0.9322799\ttotal: 157ms\tremaining: 113ms\n",
            "58:\tlearn: 0.9322799\ttotal: 159ms\tremaining: 111ms\n",
            "59:\tlearn: 0.9322799\ttotal: 162ms\tremaining: 108ms\n",
            "60:\tlearn: 0.9311512\ttotal: 164ms\tremaining: 105ms\n",
            "61:\tlearn: 0.9311512\ttotal: 167ms\tremaining: 102ms\n",
            "62:\tlearn: 0.9322799\ttotal: 169ms\tremaining: 99.5ms\n",
            "63:\tlearn: 0.9311512\ttotal: 172ms\tremaining: 96.7ms\n",
            "64:\tlearn: 0.9311512\ttotal: 175ms\tremaining: 94ms\n",
            "65:\tlearn: 0.9345372\ttotal: 177ms\tremaining: 91.3ms\n",
            "66:\tlearn: 0.9334086\ttotal: 180ms\tremaining: 88.5ms\n",
            "67:\tlearn: 0.9334086\ttotal: 182ms\tremaining: 85.8ms\n",
            "68:\tlearn: 0.9334086\ttotal: 185ms\tremaining: 83ms\n",
            "69:\tlearn: 0.9345372\ttotal: 187ms\tremaining: 80.3ms\n",
            "70:\tlearn: 0.9356659\ttotal: 190ms\tremaining: 77.6ms\n",
            "71:\tlearn: 0.9356659\ttotal: 192ms\tremaining: 74.8ms\n",
            "72:\tlearn: 0.9356659\ttotal: 195ms\tremaining: 72.1ms\n",
            "73:\tlearn: 0.9367946\ttotal: 197ms\tremaining: 69.3ms\n",
            "74:\tlearn: 0.9367946\ttotal: 200ms\tremaining: 66.6ms\n",
            "75:\tlearn: 0.9367946\ttotal: 202ms\tremaining: 63.9ms\n",
            "76:\tlearn: 0.9367946\ttotal: 205ms\tremaining: 61.1ms\n",
            "77:\tlearn: 0.9379233\ttotal: 207ms\tremaining: 58.4ms\n",
            "78:\tlearn: 0.9379233\ttotal: 210ms\tremaining: 55.7ms\n",
            "79:\tlearn: 0.9379233\ttotal: 212ms\tremaining: 53ms\n",
            "80:\tlearn: 0.9379233\ttotal: 214ms\tremaining: 50.3ms\n",
            "81:\tlearn: 0.9379233\ttotal: 217ms\tremaining: 47.6ms\n",
            "82:\tlearn: 0.9379233\ttotal: 219ms\tremaining: 44.9ms\n",
            "83:\tlearn: 0.9390519\ttotal: 223ms\tremaining: 42.4ms\n",
            "84:\tlearn: 0.9390519\ttotal: 224ms\tremaining: 39.5ms\n",
            "85:\tlearn: 0.9379233\ttotal: 226ms\tremaining: 36.8ms\n",
            "86:\tlearn: 0.9379233\ttotal: 229ms\tremaining: 34.2ms\n",
            "87:\tlearn: 0.9379233\ttotal: 232ms\tremaining: 31.6ms\n",
            "88:\tlearn: 0.9379233\ttotal: 234ms\tremaining: 29ms\n",
            "89:\tlearn: 0.9413093\ttotal: 237ms\tremaining: 26.3ms\n",
            "90:\tlearn: 0.9424379\ttotal: 239ms\tremaining: 23.6ms\n",
            "91:\tlearn: 0.9424379\ttotal: 242ms\tremaining: 21ms\n",
            "92:\tlearn: 0.9424379\ttotal: 244ms\tremaining: 18.4ms\n",
            "93:\tlearn: 0.9424379\ttotal: 247ms\tremaining: 15.7ms\n",
            "94:\tlearn: 0.9413093\ttotal: 248ms\tremaining: 13.1ms\n",
            "95:\tlearn: 0.9424379\ttotal: 251ms\tremaining: 10.5ms\n",
            "96:\tlearn: 0.9424379\ttotal: 253ms\tremaining: 7.84ms\n",
            "97:\tlearn: 0.9424379\ttotal: 256ms\tremaining: 5.22ms\n",
            "98:\tlearn: 0.9424379\ttotal: 258ms\tremaining: 2.61ms\n",
            "99:\tlearn: 0.9424379\ttotal: 261ms\tremaining: 0us\n",
            "0:\tlearn: 0.8803612\ttotal: 2.42ms\tremaining: 239ms\n",
            "1:\tlearn: 0.8871332\ttotal: 5.42ms\tremaining: 265ms\n",
            "2:\tlearn: 0.8860045\ttotal: 8.26ms\tremaining: 267ms\n",
            "3:\tlearn: 0.8860045\ttotal: 10.9ms\tremaining: 262ms\n",
            "4:\tlearn: 0.8769752\ttotal: 11.8ms\tremaining: 224ms\n",
            "5:\tlearn: 0.8803612\ttotal: 16.3ms\tremaining: 255ms\n",
            "6:\tlearn: 0.8781038\ttotal: 20.5ms\tremaining: 272ms\n",
            "7:\tlearn: 0.8803612\ttotal: 23.5ms\tremaining: 271ms\n",
            "8:\tlearn: 0.8848758\ttotal: 27.3ms\tremaining: 276ms\n",
            "9:\tlearn: 0.8871332\ttotal: 29.9ms\tremaining: 269ms\n",
            "10:\tlearn: 0.8882619\ttotal: 33.7ms\tremaining: 273ms\n",
            "11:\tlearn: 0.8882619\ttotal: 40.9ms\tremaining: 300ms\n",
            "12:\tlearn: 0.8961625\ttotal: 43.3ms\tremaining: 290ms\n",
            "13:\tlearn: 0.8927765\ttotal: 45.6ms\tremaining: 280ms\n",
            "14:\tlearn: 0.8961625\ttotal: 47.8ms\tremaining: 271ms\n",
            "15:\tlearn: 0.9018059\ttotal: 49.9ms\tremaining: 262ms\n",
            "16:\tlearn: 0.9040632\ttotal: 52.1ms\tremaining: 254ms\n",
            "17:\tlearn: 0.9029345\ttotal: 54.3ms\tremaining: 247ms\n",
            "18:\tlearn: 0.8984199\ttotal: 54.8ms\tremaining: 233ms\n",
            "19:\tlearn: 0.9018059\ttotal: 57.1ms\tremaining: 228ms\n",
            "20:\tlearn: 0.9029345\ttotal: 59.7ms\tremaining: 225ms\n",
            "21:\tlearn: 0.9063205\ttotal: 62.3ms\tremaining: 221ms\n",
            "22:\tlearn: 0.9108352\ttotal: 64.9ms\tremaining: 217ms\n",
            "23:\tlearn: 0.9097065\ttotal: 65.6ms\tremaining: 208ms\n",
            "24:\tlearn: 0.9108352\ttotal: 68.2ms\tremaining: 205ms\n",
            "25:\tlearn: 0.9119639\ttotal: 70.8ms\tremaining: 202ms\n",
            "26:\tlearn: 0.9097065\ttotal: 73.1ms\tremaining: 198ms\n",
            "27:\tlearn: 0.9097065\ttotal: 75.5ms\tremaining: 194ms\n",
            "28:\tlearn: 0.9108352\ttotal: 77.8ms\tremaining: 190ms\n",
            "29:\tlearn: 0.9119639\ttotal: 80.2ms\tremaining: 187ms\n",
            "30:\tlearn: 0.9153499\ttotal: 82.8ms\tremaining: 184ms\n",
            "31:\tlearn: 0.9164786\ttotal: 85.3ms\tremaining: 181ms\n",
            "32:\tlearn: 0.9153499\ttotal: 87.8ms\tremaining: 178ms\n",
            "33:\tlearn: 0.9142212\ttotal: 90.3ms\tremaining: 175ms\n",
            "34:\tlearn: 0.9187359\ttotal: 92.9ms\tremaining: 172ms\n",
            "35:\tlearn: 0.9176072\ttotal: 95.4ms\tremaining: 170ms\n",
            "36:\tlearn: 0.9198646\ttotal: 98.2ms\tremaining: 167ms\n",
            "37:\tlearn: 0.9187359\ttotal: 101ms\tremaining: 165ms\n",
            "38:\tlearn: 0.9198646\ttotal: 103ms\tremaining: 162ms\n",
            "39:\tlearn: 0.9198646\ttotal: 106ms\tremaining: 159ms\n",
            "40:\tlearn: 0.9209932\ttotal: 108ms\tremaining: 156ms\n",
            "41:\tlearn: 0.9232506\ttotal: 111ms\tremaining: 153ms\n",
            "42:\tlearn: 0.9232506\ttotal: 114ms\tremaining: 150ms\n",
            "43:\tlearn: 0.9243792\ttotal: 116ms\tremaining: 148ms\n",
            "44:\tlearn: 0.9243792\ttotal: 119ms\tremaining: 145ms\n",
            "45:\tlearn: 0.9232506\ttotal: 121ms\tremaining: 142ms\n",
            "46:\tlearn: 0.9243792\ttotal: 124ms\tremaining: 140ms\n",
            "47:\tlearn: 0.9266366\ttotal: 126ms\tremaining: 137ms\n",
            "48:\tlearn: 0.9266366\ttotal: 129ms\tremaining: 134ms\n",
            "49:\tlearn: 0.9266366\ttotal: 132ms\tremaining: 132ms\n",
            "50:\tlearn: 0.9266366\ttotal: 134ms\tremaining: 129ms\n",
            "51:\tlearn: 0.9277652\ttotal: 137ms\tremaining: 126ms\n",
            "52:\tlearn: 0.9300226\ttotal: 139ms\tremaining: 124ms\n",
            "53:\tlearn: 0.9300226\ttotal: 142ms\tremaining: 121ms\n",
            "54:\tlearn: 0.9300226\ttotal: 144ms\tremaining: 118ms\n",
            "55:\tlearn: 0.9311512\ttotal: 147ms\tremaining: 115ms\n",
            "56:\tlearn: 0.9300226\ttotal: 149ms\tremaining: 113ms\n",
            "57:\tlearn: 0.9300226\ttotal: 152ms\tremaining: 110ms\n",
            "58:\tlearn: 0.9300226\ttotal: 155ms\tremaining: 107ms\n",
            "59:\tlearn: 0.9300226\ttotal: 157ms\tremaining: 105ms\n",
            "60:\tlearn: 0.9311512\ttotal: 160ms\tremaining: 102ms\n",
            "61:\tlearn: 0.9311512\ttotal: 162ms\tremaining: 99.4ms\n",
            "62:\tlearn: 0.9311512\ttotal: 163ms\tremaining: 95.9ms\n",
            "63:\tlearn: 0.9311512\ttotal: 166ms\tremaining: 93.3ms\n",
            "64:\tlearn: 0.9322799\ttotal: 169ms\tremaining: 90.7ms\n",
            "65:\tlearn: 0.9334086\ttotal: 171ms\tremaining: 88.1ms\n",
            "66:\tlearn: 0.9322799\ttotal: 174ms\tremaining: 85.5ms\n",
            "67:\tlearn: 0.9334086\ttotal: 176ms\tremaining: 83ms\n",
            "68:\tlearn: 0.9345372\ttotal: 179ms\tremaining: 80.4ms\n",
            "69:\tlearn: 0.9356659\ttotal: 182ms\tremaining: 77.9ms\n",
            "70:\tlearn: 0.9356659\ttotal: 184ms\tremaining: 75.2ms\n",
            "71:\tlearn: 0.9367946\ttotal: 188ms\tremaining: 73.1ms\n",
            "72:\tlearn: 0.9356659\ttotal: 192ms\tremaining: 71ms\n",
            "73:\tlearn: 0.9356659\ttotal: 196ms\tremaining: 69ms\n",
            "74:\tlearn: 0.9367946\ttotal: 199ms\tremaining: 66.4ms\n",
            "75:\tlearn: 0.9379233\ttotal: 202ms\tremaining: 63.7ms\n",
            "76:\tlearn: 0.9367946\ttotal: 204ms\tremaining: 61.1ms\n",
            "77:\tlearn: 0.9379233\ttotal: 207ms\tremaining: 58.4ms\n",
            "78:\tlearn: 0.9390519\ttotal: 212ms\tremaining: 56.3ms\n",
            "79:\tlearn: 0.9390519\ttotal: 216ms\tremaining: 53.9ms\n",
            "80:\tlearn: 0.9379233\ttotal: 219ms\tremaining: 51.4ms\n",
            "81:\tlearn: 0.9379233\ttotal: 223ms\tremaining: 48.9ms\n",
            "82:\tlearn: 0.9367946\ttotal: 225ms\tremaining: 46.1ms\n",
            "83:\tlearn: 0.9367946\ttotal: 228ms\tremaining: 43.4ms\n",
            "84:\tlearn: 0.9379233\ttotal: 231ms\tremaining: 40.7ms\n",
            "85:\tlearn: 0.9367946\ttotal: 233ms\tremaining: 38ms\n",
            "86:\tlearn: 0.9379233\ttotal: 236ms\tremaining: 35.2ms\n",
            "87:\tlearn: 0.9379233\ttotal: 238ms\tremaining: 32.5ms\n",
            "88:\tlearn: 0.9390519\ttotal: 241ms\tremaining: 29.8ms\n",
            "89:\tlearn: 0.9401806\ttotal: 244ms\tremaining: 27.1ms\n",
            "90:\tlearn: 0.9401806\ttotal: 246ms\tremaining: 24.3ms\n",
            "91:\tlearn: 0.9401806\ttotal: 249ms\tremaining: 21.6ms\n",
            "92:\tlearn: 0.9390519\ttotal: 251ms\tremaining: 18.9ms\n",
            "93:\tlearn: 0.9390519\ttotal: 254ms\tremaining: 16.2ms\n",
            "94:\tlearn: 0.9390519\ttotal: 256ms\tremaining: 13.5ms\n",
            "95:\tlearn: 0.9390519\ttotal: 259ms\tremaining: 10.8ms\n",
            "96:\tlearn: 0.9390519\ttotal: 262ms\tremaining: 8.1ms\n",
            "97:\tlearn: 0.9390519\ttotal: 264ms\tremaining: 5.39ms\n",
            "98:\tlearn: 0.9390519\ttotal: 267ms\tremaining: 2.69ms\n",
            "99:\tlearn: 0.9390519\ttotal: 269ms\tremaining: 0us\n",
            "0:\tlearn: 0.8702032\ttotal: 2.27ms\tremaining: 225ms\n",
            "1:\tlearn: 0.8781038\ttotal: 4.91ms\tremaining: 240ms\n",
            "2:\tlearn: 0.8905192\ttotal: 7.44ms\tremaining: 241ms\n",
            "3:\tlearn: 0.8916479\ttotal: 10ms\tremaining: 240ms\n",
            "4:\tlearn: 0.8758465\ttotal: 10.9ms\tremaining: 208ms\n",
            "5:\tlearn: 0.8848758\ttotal: 13.6ms\tremaining: 214ms\n",
            "6:\tlearn: 0.8905192\ttotal: 16.1ms\tremaining: 213ms\n",
            "7:\tlearn: 0.8995485\ttotal: 18.7ms\tremaining: 215ms\n",
            "8:\tlearn: 0.9006772\ttotal: 21.2ms\tremaining: 214ms\n",
            "9:\tlearn: 0.9029345\ttotal: 23.8ms\tremaining: 214ms\n",
            "10:\tlearn: 0.8995485\ttotal: 27.3ms\tremaining: 221ms\n",
            "11:\tlearn: 0.9006772\ttotal: 30.9ms\tremaining: 226ms\n",
            "12:\tlearn: 0.9040632\ttotal: 33.4ms\tremaining: 223ms\n",
            "13:\tlearn: 0.9051919\ttotal: 35.9ms\tremaining: 220ms\n",
            "14:\tlearn: 0.9051919\ttotal: 38.3ms\tremaining: 217ms\n",
            "15:\tlearn: 0.9074492\ttotal: 40.8ms\tremaining: 214ms\n",
            "16:\tlearn: 0.9130926\ttotal: 43.3ms\tremaining: 212ms\n",
            "17:\tlearn: 0.9119639\ttotal: 45.8ms\tremaining: 209ms\n",
            "18:\tlearn: 0.9074492\ttotal: 46.6ms\tremaining: 199ms\n",
            "19:\tlearn: 0.9074492\ttotal: 49.1ms\tremaining: 196ms\n",
            "20:\tlearn: 0.9063205\ttotal: 51.5ms\tremaining: 194ms\n",
            "21:\tlearn: 0.9097065\ttotal: 54ms\tremaining: 192ms\n",
            "22:\tlearn: 0.9130926\ttotal: 56.5ms\tremaining: 189ms\n",
            "23:\tlearn: 0.9142212\ttotal: 59.2ms\tremaining: 187ms\n",
            "24:\tlearn: 0.9153499\ttotal: 61.8ms\tremaining: 185ms\n",
            "25:\tlearn: 0.9164786\ttotal: 64.2ms\tremaining: 183ms\n",
            "26:\tlearn: 0.9142212\ttotal: 65.1ms\tremaining: 176ms\n",
            "27:\tlearn: 0.9153499\ttotal: 68.8ms\tremaining: 177ms\n",
            "28:\tlearn: 0.9153499\ttotal: 71.4ms\tremaining: 175ms\n",
            "29:\tlearn: 0.9142212\ttotal: 74ms\tremaining: 173ms\n",
            "30:\tlearn: 0.9187359\ttotal: 76.5ms\tremaining: 170ms\n",
            "31:\tlearn: 0.9198646\ttotal: 79ms\tremaining: 168ms\n",
            "32:\tlearn: 0.9198646\ttotal: 86.6ms\tremaining: 176ms\n",
            "33:\tlearn: 0.9209932\ttotal: 95ms\tremaining: 184ms\n",
            "34:\tlearn: 0.9209932\ttotal: 100ms\tremaining: 186ms\n",
            "35:\tlearn: 0.9209932\ttotal: 104ms\tremaining: 185ms\n",
            "36:\tlearn: 0.9221219\ttotal: 107ms\tremaining: 183ms\n",
            "37:\tlearn: 0.9255079\ttotal: 110ms\tremaining: 179ms\n",
            "38:\tlearn: 0.9243792\ttotal: 112ms\tremaining: 176ms\n",
            "39:\tlearn: 0.9266366\ttotal: 115ms\tremaining: 173ms\n",
            "40:\tlearn: 0.9288939\ttotal: 118ms\tremaining: 170ms\n",
            "41:\tlearn: 0.9277652\ttotal: 121ms\tremaining: 166ms\n",
            "42:\tlearn: 0.9288939\ttotal: 123ms\tremaining: 163ms\n",
            "43:\tlearn: 0.9288939\ttotal: 126ms\tremaining: 160ms\n",
            "44:\tlearn: 0.9277652\ttotal: 128ms\tremaining: 157ms\n",
            "45:\tlearn: 0.9277652\ttotal: 131ms\tremaining: 153ms\n",
            "46:\tlearn: 0.9288939\ttotal: 133ms\tremaining: 150ms\n",
            "47:\tlearn: 0.9300226\ttotal: 136ms\tremaining: 147ms\n",
            "48:\tlearn: 0.9311512\ttotal: 139ms\tremaining: 144ms\n",
            "49:\tlearn: 0.9322799\ttotal: 143ms\tremaining: 143ms\n",
            "50:\tlearn: 0.9322799\ttotal: 146ms\tremaining: 140ms\n",
            "51:\tlearn: 0.9345372\ttotal: 151ms\tremaining: 139ms\n",
            "52:\tlearn: 0.9356659\ttotal: 154ms\tremaining: 137ms\n",
            "53:\tlearn: 0.9356659\ttotal: 158ms\tremaining: 135ms\n",
            "54:\tlearn: 0.9345372\ttotal: 162ms\tremaining: 133ms\n",
            "55:\tlearn: 0.9345372\ttotal: 165ms\tremaining: 130ms\n",
            "56:\tlearn: 0.9356659\ttotal: 170ms\tremaining: 128ms\n",
            "57:\tlearn: 0.9345372\ttotal: 176ms\tremaining: 127ms\n",
            "58:\tlearn: 0.9367946\ttotal: 179ms\tremaining: 124ms\n",
            "59:\tlearn: 0.9367946\ttotal: 181ms\tremaining: 121ms\n",
            "60:\tlearn: 0.9356659\ttotal: 183ms\tremaining: 117ms\n",
            "61:\tlearn: 0.9367946\ttotal: 186ms\tremaining: 114ms\n",
            "62:\tlearn: 0.9367946\ttotal: 186ms\tremaining: 109ms\n",
            "63:\tlearn: 0.9356659\ttotal: 188ms\tremaining: 106ms\n",
            "64:\tlearn: 0.9356659\ttotal: 191ms\tremaining: 103ms\n",
            "65:\tlearn: 0.9356659\ttotal: 193ms\tremaining: 99.6ms\n",
            "66:\tlearn: 0.9356659\ttotal: 196ms\tremaining: 96.5ms\n",
            "67:\tlearn: 0.9356659\ttotal: 199ms\tremaining: 93.4ms\n",
            "68:\tlearn: 0.9345372\ttotal: 201ms\tremaining: 90.4ms\n",
            "69:\tlearn: 0.9356659\ttotal: 204ms\tremaining: 87.4ms\n",
            "70:\tlearn: 0.9356659\ttotal: 206ms\tremaining: 84.3ms\n",
            "71:\tlearn: 0.9379233\ttotal: 209ms\tremaining: 81.3ms\n",
            "72:\tlearn: 0.9379233\ttotal: 212ms\tremaining: 78.3ms\n",
            "73:\tlearn: 0.9390519\ttotal: 214ms\tremaining: 75.3ms\n",
            "74:\tlearn: 0.9390519\ttotal: 217ms\tremaining: 72.3ms\n",
            "75:\tlearn: 0.9401806\ttotal: 220ms\tremaining: 69.3ms\n",
            "76:\tlearn: 0.9401806\ttotal: 222ms\tremaining: 66.3ms\n",
            "77:\tlearn: 0.9413093\ttotal: 224ms\tremaining: 63.3ms\n",
            "78:\tlearn: 0.9413093\ttotal: 227ms\tremaining: 60.3ms\n",
            "79:\tlearn: 0.9413093\ttotal: 230ms\tremaining: 57.4ms\n",
            "80:\tlearn: 0.9413093\ttotal: 232ms\tremaining: 54.5ms\n",
            "81:\tlearn: 0.9413093\ttotal: 235ms\tremaining: 51.5ms\n",
            "82:\tlearn: 0.9413093\ttotal: 237ms\tremaining: 48.6ms\n",
            "83:\tlearn: 0.9413093\ttotal: 240ms\tremaining: 45.7ms\n",
            "84:\tlearn: 0.9424379\ttotal: 242ms\tremaining: 42.8ms\n",
            "85:\tlearn: 0.9424379\ttotal: 245ms\tremaining: 39.9ms\n",
            "86:\tlearn: 0.9413093\ttotal: 247ms\tremaining: 37ms\n",
            "87:\tlearn: 0.9424379\ttotal: 250ms\tremaining: 34.1ms\n",
            "88:\tlearn: 0.9424379\ttotal: 253ms\tremaining: 31.2ms\n",
            "89:\tlearn: 0.9424379\ttotal: 256ms\tremaining: 28.4ms\n",
            "90:\tlearn: 0.9424379\ttotal: 257ms\tremaining: 25.4ms\n",
            "91:\tlearn: 0.9424379\ttotal: 259ms\tremaining: 22.6ms\n",
            "92:\tlearn: 0.9424379\ttotal: 262ms\tremaining: 19.7ms\n",
            "93:\tlearn: 0.9424379\ttotal: 264ms\tremaining: 16.9ms\n",
            "94:\tlearn: 0.9424379\ttotal: 267ms\tremaining: 14ms\n",
            "95:\tlearn: 0.9424379\ttotal: 268ms\tremaining: 11.2ms\n",
            "96:\tlearn: 0.9424379\ttotal: 270ms\tremaining: 8.35ms\n",
            "97:\tlearn: 0.9424379\ttotal: 274ms\tremaining: 5.58ms\n",
            "98:\tlearn: 0.9435666\ttotal: 278ms\tremaining: 2.8ms\n",
            "99:\tlearn: 0.9435666\ttotal: 279ms\tremaining: 0us\n",
            "0:\tlearn: 0.8747178\ttotal: 2.97ms\tremaining: 294ms\n",
            "1:\tlearn: 0.8871332\ttotal: 5.4ms\tremaining: 265ms\n",
            "2:\tlearn: 0.8927765\ttotal: 8.13ms\tremaining: 263ms\n",
            "3:\tlearn: 0.8984199\ttotal: 11.3ms\tremaining: 272ms\n",
            "4:\tlearn: 0.8848758\ttotal: 12.5ms\tremaining: 237ms\n",
            "5:\tlearn: 0.8837472\ttotal: 13.6ms\tremaining: 213ms\n",
            "6:\tlearn: 0.8803612\ttotal: 14.5ms\tremaining: 192ms\n",
            "7:\tlearn: 0.8848758\ttotal: 17ms\tremaining: 196ms\n",
            "8:\tlearn: 0.8769752\ttotal: 19.6ms\tremaining: 198ms\n",
            "9:\tlearn: 0.8826185\ttotal: 22.4ms\tremaining: 201ms\n",
            "10:\tlearn: 0.8814898\ttotal: 25ms\tremaining: 202ms\n",
            "11:\tlearn: 0.8803612\ttotal: 27.6ms\tremaining: 203ms\n",
            "12:\tlearn: 0.8792325\ttotal: 30.4ms\tremaining: 203ms\n",
            "13:\tlearn: 0.8837472\ttotal: 33ms\tremaining: 203ms\n",
            "14:\tlearn: 0.8803612\ttotal: 35.6ms\tremaining: 202ms\n",
            "15:\tlearn: 0.8860045\ttotal: 38.2ms\tremaining: 201ms\n",
            "16:\tlearn: 0.8826185\ttotal: 38.9ms\tremaining: 190ms\n",
            "17:\tlearn: 0.8871332\ttotal: 41.5ms\tremaining: 189ms\n",
            "18:\tlearn: 0.8939052\ttotal: 44ms\tremaining: 188ms\n",
            "19:\tlearn: 0.8916479\ttotal: 46ms\tremaining: 184ms\n",
            "20:\tlearn: 0.8916479\ttotal: 48.8ms\tremaining: 183ms\n",
            "21:\tlearn: 0.8939052\ttotal: 51.7ms\tremaining: 183ms\n",
            "22:\tlearn: 0.8995485\ttotal: 54.5ms\tremaining: 183ms\n",
            "23:\tlearn: 0.9006772\ttotal: 57.6ms\tremaining: 182ms\n",
            "24:\tlearn: 0.9006772\ttotal: 60.5ms\tremaining: 181ms\n",
            "25:\tlearn: 0.8995485\ttotal: 63.2ms\tremaining: 180ms\n",
            "26:\tlearn: 0.8972912\ttotal: 64.1ms\tremaining: 173ms\n",
            "27:\tlearn: 0.8984199\ttotal: 66.8ms\tremaining: 172ms\n",
            "28:\tlearn: 0.9006772\ttotal: 69.5ms\tremaining: 170ms\n",
            "29:\tlearn: 0.9040632\ttotal: 72.1ms\tremaining: 168ms\n",
            "30:\tlearn: 0.9051919\ttotal: 74.8ms\tremaining: 167ms\n",
            "31:\tlearn: 0.9074492\ttotal: 77.6ms\tremaining: 165ms\n",
            "32:\tlearn: 0.9063205\ttotal: 80.4ms\tremaining: 163ms\n",
            "33:\tlearn: 0.9051919\ttotal: 82.9ms\tremaining: 161ms\n",
            "34:\tlearn: 0.9063205\ttotal: 85.5ms\tremaining: 159ms\n",
            "35:\tlearn: 0.9097065\ttotal: 88.2ms\tremaining: 157ms\n",
            "36:\tlearn: 0.9130926\ttotal: 91ms\tremaining: 155ms\n",
            "37:\tlearn: 0.9130926\ttotal: 94.1ms\tremaining: 154ms\n",
            "38:\tlearn: 0.9153499\ttotal: 96.8ms\tremaining: 151ms\n",
            "39:\tlearn: 0.9153499\ttotal: 99.5ms\tremaining: 149ms\n",
            "40:\tlearn: 0.9164786\ttotal: 102ms\tremaining: 147ms\n",
            "41:\tlearn: 0.9153499\ttotal: 105ms\tremaining: 145ms\n",
            "42:\tlearn: 0.9187359\ttotal: 108ms\tremaining: 143ms\n",
            "43:\tlearn: 0.9187359\ttotal: 110ms\tremaining: 140ms\n",
            "44:\tlearn: 0.9187359\ttotal: 113ms\tremaining: 138ms\n",
            "45:\tlearn: 0.9209932\ttotal: 116ms\tremaining: 136ms\n",
            "46:\tlearn: 0.9187359\ttotal: 119ms\tremaining: 134ms\n",
            "47:\tlearn: 0.9176072\ttotal: 121ms\tremaining: 132ms\n",
            "48:\tlearn: 0.9221219\ttotal: 124ms\tremaining: 129ms\n",
            "49:\tlearn: 0.9209932\ttotal: 129ms\tremaining: 129ms\n",
            "50:\tlearn: 0.9209932\ttotal: 133ms\tremaining: 128ms\n",
            "51:\tlearn: 0.9221219\ttotal: 138ms\tremaining: 128ms\n",
            "52:\tlearn: 0.9221219\ttotal: 141ms\tremaining: 125ms\n",
            "53:\tlearn: 0.9232506\ttotal: 143ms\tremaining: 122ms\n",
            "54:\tlearn: 0.9243792\ttotal: 145ms\tremaining: 119ms\n",
            "55:\tlearn: 0.9255079\ttotal: 147ms\tremaining: 116ms\n",
            "56:\tlearn: 0.9266366\ttotal: 148ms\tremaining: 112ms\n",
            "57:\tlearn: 0.9243792\ttotal: 153ms\tremaining: 111ms\n",
            "58:\tlearn: 0.9255079\ttotal: 156ms\tremaining: 108ms\n",
            "59:\tlearn: 0.9255079\ttotal: 160ms\tremaining: 106ms\n",
            "60:\tlearn: 0.9266366\ttotal: 163ms\tremaining: 104ms\n",
            "61:\tlearn: 0.9255079\ttotal: 167ms\tremaining: 103ms\n",
            "62:\tlearn: 0.9243792\ttotal: 171ms\tremaining: 100ms\n",
            "63:\tlearn: 0.9277652\ttotal: 174ms\tremaining: 97.8ms\n",
            "64:\tlearn: 0.9277652\ttotal: 176ms\tremaining: 95ms\n",
            "65:\tlearn: 0.9277652\ttotal: 180ms\tremaining: 92.6ms\n",
            "66:\tlearn: 0.9277652\ttotal: 183ms\tremaining: 89.9ms\n",
            "67:\tlearn: 0.9288939\ttotal: 185ms\tremaining: 87.1ms\n",
            "68:\tlearn: 0.9288939\ttotal: 188ms\tremaining: 84.3ms\n",
            "69:\tlearn: 0.9311512\ttotal: 191ms\tremaining: 81.7ms\n",
            "70:\tlearn: 0.9311512\ttotal: 193ms\tremaining: 79ms\n",
            "71:\tlearn: 0.9300226\ttotal: 196ms\tremaining: 76.2ms\n",
            "72:\tlearn: 0.9311512\ttotal: 199ms\tremaining: 73.5ms\n",
            "73:\tlearn: 0.9311512\ttotal: 201ms\tremaining: 70.7ms\n",
            "74:\tlearn: 0.9300226\ttotal: 204ms\tremaining: 68ms\n",
            "75:\tlearn: 0.9311512\ttotal: 207ms\tremaining: 65.2ms\n",
            "76:\tlearn: 0.9322799\ttotal: 209ms\tremaining: 62.5ms\n",
            "77:\tlearn: 0.9311512\ttotal: 212ms\tremaining: 59.8ms\n",
            "78:\tlearn: 0.9311512\ttotal: 215ms\tremaining: 57.1ms\n",
            "79:\tlearn: 0.9334086\ttotal: 218ms\tremaining: 54.4ms\n",
            "80:\tlearn: 0.9311512\ttotal: 222ms\tremaining: 52.1ms\n",
            "81:\tlearn: 0.9311512\ttotal: 225ms\tremaining: 49.4ms\n",
            "82:\tlearn: 0.9322799\ttotal: 228ms\tremaining: 46.6ms\n",
            "83:\tlearn: 0.9334086\ttotal: 230ms\tremaining: 43.9ms\n",
            "84:\tlearn: 0.9356659\ttotal: 233ms\tremaining: 41.1ms\n",
            "85:\tlearn: 0.9345372\ttotal: 236ms\tremaining: 38.4ms\n",
            "86:\tlearn: 0.9356659\ttotal: 238ms\tremaining: 35.6ms\n",
            "87:\tlearn: 0.9356659\ttotal: 241ms\tremaining: 32.9ms\n",
            "88:\tlearn: 0.9356659\ttotal: 244ms\tremaining: 30.1ms\n",
            "89:\tlearn: 0.9356659\ttotal: 246ms\tremaining: 27.4ms\n",
            "90:\tlearn: 0.9345372\ttotal: 249ms\tremaining: 24.6ms\n",
            "91:\tlearn: 0.9334086\ttotal: 251ms\tremaining: 21.9ms\n",
            "92:\tlearn: 0.9334086\ttotal: 254ms\tremaining: 19.1ms\n",
            "93:\tlearn: 0.9334086\ttotal: 255ms\tremaining: 16.3ms\n",
            "94:\tlearn: 0.9334086\ttotal: 257ms\tremaining: 13.6ms\n",
            "95:\tlearn: 0.9334086\ttotal: 261ms\tremaining: 10.9ms\n",
            "96:\tlearn: 0.9356659\ttotal: 264ms\tremaining: 8.16ms\n",
            "97:\tlearn: 0.9345372\ttotal: 266ms\tremaining: 5.44ms\n",
            "98:\tlearn: 0.9345372\ttotal: 269ms\tremaining: 2.72ms\n",
            "99:\tlearn: 0.9345372\ttotal: 271ms\tremaining: 0us\n",
            "0:\tlearn: 0.8792325\ttotal: 2.82ms\tremaining: 279ms\n",
            "1:\tlearn: 0.8814898\ttotal: 5.63ms\tremaining: 276ms\n",
            "2:\tlearn: 0.8871332\ttotal: 8.51ms\tremaining: 275ms\n",
            "3:\tlearn: 0.8916479\ttotal: 11.1ms\tremaining: 266ms\n",
            "4:\tlearn: 0.8826185\ttotal: 12.2ms\tremaining: 231ms\n",
            "5:\tlearn: 0.8837472\ttotal: 13.1ms\tremaining: 206ms\n",
            "6:\tlearn: 0.8769752\ttotal: 13.9ms\tremaining: 185ms\n",
            "7:\tlearn: 0.8848758\ttotal: 16.5ms\tremaining: 190ms\n",
            "8:\tlearn: 0.8724605\ttotal: 19.1ms\tremaining: 193ms\n",
            "9:\tlearn: 0.8781038\ttotal: 21.8ms\tremaining: 196ms\n",
            "10:\tlearn: 0.8769752\ttotal: 24.3ms\tremaining: 197ms\n",
            "11:\tlearn: 0.8814898\ttotal: 27.9ms\tremaining: 205ms\n",
            "12:\tlearn: 0.8837472\ttotal: 39.9ms\tremaining: 267ms\n",
            "13:\tlearn: 0.8826185\ttotal: 41.4ms\tremaining: 254ms\n",
            "14:\tlearn: 0.8860045\ttotal: 44ms\tremaining: 249ms\n",
            "15:\tlearn: 0.8916479\ttotal: 46.6ms\tremaining: 245ms\n",
            "16:\tlearn: 0.8905192\ttotal: 49.5ms\tremaining: 242ms\n",
            "17:\tlearn: 0.8905192\ttotal: 52.4ms\tremaining: 239ms\n",
            "18:\tlearn: 0.8893905\ttotal: 55.1ms\tremaining: 235ms\n",
            "19:\tlearn: 0.8893905\ttotal: 57.7ms\tremaining: 231ms\n",
            "20:\tlearn: 0.8882619\ttotal: 60.3ms\tremaining: 227ms\n",
            "21:\tlearn: 0.8905192\ttotal: 62.9ms\tremaining: 223ms\n",
            "22:\tlearn: 0.8916479\ttotal: 65.5ms\tremaining: 219ms\n",
            "23:\tlearn: 0.8927765\ttotal: 68.1ms\tremaining: 216ms\n",
            "24:\tlearn: 0.8927765\ttotal: 70.7ms\tremaining: 212ms\n",
            "25:\tlearn: 0.8950339\ttotal: 73.2ms\tremaining: 208ms\n",
            "26:\tlearn: 0.8950339\ttotal: 75.9ms\tremaining: 205ms\n",
            "27:\tlearn: 0.8961625\ttotal: 78.5ms\tremaining: 202ms\n",
            "28:\tlearn: 0.9006772\ttotal: 81.2ms\tremaining: 199ms\n",
            "29:\tlearn: 0.9029345\ttotal: 83.7ms\tremaining: 195ms\n",
            "30:\tlearn: 0.9051919\ttotal: 86.5ms\tremaining: 192ms\n",
            "31:\tlearn: 0.9040632\ttotal: 89ms\tremaining: 189ms\n",
            "32:\tlearn: 0.9029345\ttotal: 91.5ms\tremaining: 186ms\n",
            "33:\tlearn: 0.9040632\ttotal: 94.2ms\tremaining: 183ms\n",
            "34:\tlearn: 0.9074492\ttotal: 96.6ms\tremaining: 179ms\n",
            "35:\tlearn: 0.9063205\ttotal: 99.1ms\tremaining: 176ms\n",
            "36:\tlearn: 0.9074492\ttotal: 102ms\tremaining: 173ms\n",
            "37:\tlearn: 0.9108352\ttotal: 105ms\tremaining: 171ms\n",
            "38:\tlearn: 0.9130926\ttotal: 107ms\tremaining: 168ms\n",
            "39:\tlearn: 0.9142212\ttotal: 110ms\tremaining: 165ms\n",
            "40:\tlearn: 0.9153499\ttotal: 113ms\tremaining: 162ms\n",
            "41:\tlearn: 0.9142212\ttotal: 115ms\tremaining: 159ms\n",
            "42:\tlearn: 0.9164786\ttotal: 118ms\tremaining: 156ms\n",
            "43:\tlearn: 0.9164786\ttotal: 120ms\tremaining: 153ms\n",
            "44:\tlearn: 0.9187359\ttotal: 123ms\tremaining: 151ms\n",
            "45:\tlearn: 0.9198646\ttotal: 126ms\tremaining: 148ms\n",
            "46:\tlearn: 0.9198646\ttotal: 129ms\tremaining: 145ms\n",
            "47:\tlearn: 0.9209932\ttotal: 131ms\tremaining: 142ms\n",
            "48:\tlearn: 0.9209932\ttotal: 134ms\tremaining: 139ms\n",
            "49:\tlearn: 0.9198646\ttotal: 137ms\tremaining: 137ms\n",
            "50:\tlearn: 0.9209932\ttotal: 139ms\tremaining: 134ms\n",
            "51:\tlearn: 0.9221219\ttotal: 142ms\tremaining: 131ms\n",
            "52:\tlearn: 0.9221219\ttotal: 145ms\tremaining: 129ms\n",
            "53:\tlearn: 0.9221219\ttotal: 148ms\tremaining: 126ms\n",
            "54:\tlearn: 0.9221219\ttotal: 150ms\tremaining: 123ms\n",
            "55:\tlearn: 0.9221219\ttotal: 153ms\tremaining: 120ms\n",
            "56:\tlearn: 0.9243792\ttotal: 156ms\tremaining: 117ms\n",
            "57:\tlearn: 0.9243792\ttotal: 158ms\tremaining: 115ms\n",
            "58:\tlearn: 0.9243792\ttotal: 161ms\tremaining: 112ms\n",
            "59:\tlearn: 0.9243792\ttotal: 163ms\tremaining: 109ms\n",
            "60:\tlearn: 0.9243792\ttotal: 166ms\tremaining: 106ms\n",
            "61:\tlearn: 0.9243792\ttotal: 169ms\tremaining: 103ms\n",
            "62:\tlearn: 0.9255079\ttotal: 169ms\tremaining: 99.5ms\n",
            "63:\tlearn: 0.9232506\ttotal: 172ms\tremaining: 96.8ms\n",
            "64:\tlearn: 0.9221219\ttotal: 175ms\tremaining: 94.1ms\n",
            "65:\tlearn: 0.9232506\ttotal: 177ms\tremaining: 91.3ms\n",
            "66:\tlearn: 0.9232506\ttotal: 180ms\tremaining: 88.5ms\n",
            "67:\tlearn: 0.9243792\ttotal: 182ms\tremaining: 85.8ms\n",
            "68:\tlearn: 0.9232506\ttotal: 185ms\tremaining: 83.1ms\n",
            "69:\tlearn: 0.9243792\ttotal: 188ms\tremaining: 80.4ms\n",
            "70:\tlearn: 0.9266366\ttotal: 190ms\tremaining: 77.7ms\n",
            "71:\tlearn: 0.9255079\ttotal: 193ms\tremaining: 75ms\n",
            "72:\tlearn: 0.9300226\ttotal: 196ms\tremaining: 72.3ms\n",
            "73:\tlearn: 0.9311512\ttotal: 198ms\tremaining: 69.7ms\n",
            "74:\tlearn: 0.9311512\ttotal: 201ms\tremaining: 66.9ms\n",
            "75:\tlearn: 0.9322799\ttotal: 203ms\tremaining: 64.2ms\n",
            "76:\tlearn: 0.9322799\ttotal: 206ms\tremaining: 61.5ms\n",
            "77:\tlearn: 0.9322799\ttotal: 209ms\tremaining: 58.8ms\n",
            "78:\tlearn: 0.9322799\ttotal: 211ms\tremaining: 56.1ms\n",
            "79:\tlearn: 0.9322799\ttotal: 214ms\tremaining: 53.4ms\n",
            "80:\tlearn: 0.9334086\ttotal: 217ms\tremaining: 50.9ms\n",
            "81:\tlearn: 0.9322799\ttotal: 219ms\tremaining: 48.2ms\n",
            "82:\tlearn: 0.9322799\ttotal: 222ms\tremaining: 45.5ms\n",
            "83:\tlearn: 0.9322799\ttotal: 223ms\tremaining: 42.4ms\n",
            "84:\tlearn: 0.9322799\ttotal: 227ms\tremaining: 40.1ms\n",
            "85:\tlearn: 0.9322799\ttotal: 231ms\tremaining: 37.6ms\n",
            "86:\tlearn: 0.9311512\ttotal: 234ms\tremaining: 34.9ms\n",
            "87:\tlearn: 0.9311512\ttotal: 235ms\tremaining: 32ms\n",
            "88:\tlearn: 0.9300226\ttotal: 237ms\tremaining: 29.3ms\n",
            "89:\tlearn: 0.9311512\ttotal: 240ms\tremaining: 26.7ms\n",
            "90:\tlearn: 0.9300226\ttotal: 243ms\tremaining: 24ms\n",
            "91:\tlearn: 0.9300226\ttotal: 245ms\tremaining: 21.3ms\n",
            "92:\tlearn: 0.9300226\ttotal: 247ms\tremaining: 18.6ms\n",
            "93:\tlearn: 0.9300226\ttotal: 248ms\tremaining: 15.8ms\n",
            "94:\tlearn: 0.9311512\ttotal: 251ms\tremaining: 13.2ms\n",
            "95:\tlearn: 0.9311512\ttotal: 253ms\tremaining: 10.5ms\n",
            "96:\tlearn: 0.9311512\ttotal: 254ms\tremaining: 7.87ms\n",
            "97:\tlearn: 0.9322799\ttotal: 257ms\tremaining: 5.25ms\n",
            "98:\tlearn: 0.9322799\ttotal: 259ms\tremaining: 2.62ms\n",
            "99:\tlearn: 0.9322799\ttotal: 262ms\tremaining: 0us\n",
            "0:\tlearn: 0.8656885\ttotal: 2.53ms\tremaining: 250ms\n",
            "1:\tlearn: 0.8769752\ttotal: 5.39ms\tremaining: 264ms\n",
            "2:\tlearn: 0.8905192\ttotal: 8.19ms\tremaining: 265ms\n",
            "3:\tlearn: 0.8882619\ttotal: 10.9ms\tremaining: 262ms\n",
            "4:\tlearn: 0.8702032\ttotal: 11.9ms\tremaining: 225ms\n",
            "5:\tlearn: 0.8769752\ttotal: 14.5ms\tremaining: 228ms\n",
            "6:\tlearn: 0.8826185\ttotal: 17.2ms\tremaining: 229ms\n",
            "7:\tlearn: 0.8826185\ttotal: 19.9ms\tremaining: 229ms\n",
            "8:\tlearn: 0.8837472\ttotal: 22.5ms\tremaining: 228ms\n",
            "9:\tlearn: 0.8848758\ttotal: 25.4ms\tremaining: 229ms\n",
            "10:\tlearn: 0.8905192\ttotal: 28ms\tremaining: 227ms\n",
            "11:\tlearn: 0.8927765\ttotal: 30.6ms\tremaining: 224ms\n",
            "12:\tlearn: 0.8939052\ttotal: 33.3ms\tremaining: 223ms\n",
            "13:\tlearn: 0.8961625\ttotal: 36ms\tremaining: 221ms\n",
            "14:\tlearn: 0.8972912\ttotal: 38.6ms\tremaining: 219ms\n",
            "15:\tlearn: 0.8972912\ttotal: 41.2ms\tremaining: 216ms\n",
            "16:\tlearn: 0.8995485\ttotal: 43.8ms\tremaining: 214ms\n",
            "17:\tlearn: 0.8984199\ttotal: 46.4ms\tremaining: 211ms\n",
            "18:\tlearn: 0.8972912\ttotal: 47.3ms\tremaining: 201ms\n",
            "19:\tlearn: 0.8995485\ttotal: 50ms\tremaining: 200ms\n",
            "20:\tlearn: 0.9006772\ttotal: 52.7ms\tremaining: 198ms\n",
            "21:\tlearn: 0.8995485\ttotal: 55.5ms\tremaining: 197ms\n",
            "22:\tlearn: 0.9006772\ttotal: 58.2ms\tremaining: 195ms\n",
            "23:\tlearn: 0.9018059\ttotal: 60.8ms\tremaining: 193ms\n",
            "24:\tlearn: 0.9029345\ttotal: 63.4ms\tremaining: 190ms\n",
            "25:\tlearn: 0.9051919\ttotal: 66.1ms\tremaining: 188ms\n",
            "26:\tlearn: 0.9006772\ttotal: 66.9ms\tremaining: 181ms\n",
            "27:\tlearn: 0.9040632\ttotal: 69.5ms\tremaining: 179ms\n",
            "28:\tlearn: 0.9029345\ttotal: 72.1ms\tremaining: 177ms\n",
            "29:\tlearn: 0.9063205\ttotal: 74.7ms\tremaining: 174ms\n",
            "30:\tlearn: 0.9097065\ttotal: 77.4ms\tremaining: 172ms\n",
            "31:\tlearn: 0.9085779\ttotal: 80.1ms\tremaining: 170ms\n",
            "32:\tlearn: 0.9142212\ttotal: 82.9ms\tremaining: 168ms\n",
            "33:\tlearn: 0.9130926\ttotal: 85.5ms\tremaining: 166ms\n",
            "34:\tlearn: 0.9176072\ttotal: 88ms\tremaining: 163ms\n",
            "35:\tlearn: 0.9176072\ttotal: 90.8ms\tremaining: 161ms\n",
            "36:\tlearn: 0.9176072\ttotal: 93.6ms\tremaining: 159ms\n",
            "37:\tlearn: 0.9164786\ttotal: 96.4ms\tremaining: 157ms\n",
            "38:\tlearn: 0.9164786\ttotal: 99ms\tremaining: 155ms\n",
            "39:\tlearn: 0.9164786\ttotal: 102ms\tremaining: 153ms\n",
            "40:\tlearn: 0.9209932\ttotal: 104ms\tremaining: 150ms\n",
            "41:\tlearn: 0.9198646\ttotal: 107ms\tremaining: 148ms\n",
            "42:\tlearn: 0.9209932\ttotal: 110ms\tremaining: 146ms\n",
            "43:\tlearn: 0.9221219\ttotal: 112ms\tremaining: 143ms\n",
            "44:\tlearn: 0.9209932\ttotal: 115ms\tremaining: 141ms\n",
            "45:\tlearn: 0.9209932\ttotal: 124ms\tremaining: 146ms\n",
            "46:\tlearn: 0.9198646\ttotal: 127ms\tremaining: 144ms\n",
            "47:\tlearn: 0.9198646\ttotal: 130ms\tremaining: 141ms\n",
            "48:\tlearn: 0.9209932\ttotal: 133ms\tremaining: 138ms\n",
            "49:\tlearn: 0.9209932\ttotal: 136ms\tremaining: 136ms\n",
            "50:\tlearn: 0.9221219\ttotal: 138ms\tremaining: 133ms\n",
            "51:\tlearn: 0.9266366\ttotal: 141ms\tremaining: 130ms\n",
            "52:\tlearn: 0.9277652\ttotal: 144ms\tremaining: 128ms\n",
            "53:\tlearn: 0.9266366\ttotal: 147ms\tremaining: 125ms\n",
            "54:\tlearn: 0.9277652\ttotal: 150ms\tremaining: 122ms\n",
            "55:\tlearn: 0.9266366\ttotal: 154ms\tremaining: 121ms\n",
            "56:\tlearn: 0.9266366\ttotal: 157ms\tremaining: 119ms\n",
            "57:\tlearn: 0.9277652\ttotal: 160ms\tremaining: 116ms\n",
            "58:\tlearn: 0.9277652\ttotal: 163ms\tremaining: 113ms\n",
            "59:\tlearn: 0.9288939\ttotal: 165ms\tremaining: 110ms\n",
            "60:\tlearn: 0.9277652\ttotal: 168ms\tremaining: 107ms\n",
            "61:\tlearn: 0.9266366\ttotal: 170ms\tremaining: 104ms\n",
            "62:\tlearn: 0.9266366\ttotal: 171ms\tremaining: 100ms\n",
            "63:\tlearn: 0.9266366\ttotal: 174ms\tremaining: 97.8ms\n",
            "64:\tlearn: 0.9266366\ttotal: 179ms\tremaining: 96.2ms\n",
            "65:\tlearn: 0.9266366\ttotal: 182ms\tremaining: 93.6ms\n",
            "66:\tlearn: 0.9266366\ttotal: 184ms\tremaining: 90.7ms\n",
            "67:\tlearn: 0.9277652\ttotal: 187ms\tremaining: 88ms\n",
            "68:\tlearn: 0.9277652\ttotal: 190ms\tremaining: 85.1ms\n",
            "69:\tlearn: 0.9277652\ttotal: 193ms\tremaining: 82.5ms\n",
            "70:\tlearn: 0.9288939\ttotal: 195ms\tremaining: 79.8ms\n",
            "71:\tlearn: 0.9300226\ttotal: 198ms\tremaining: 77ms\n",
            "72:\tlearn: 0.9300226\ttotal: 201ms\tremaining: 74.2ms\n",
            "73:\tlearn: 0.9300226\ttotal: 203ms\tremaining: 71.4ms\n",
            "74:\tlearn: 0.9311512\ttotal: 206ms\tremaining: 68.8ms\n",
            "75:\tlearn: 0.9345372\ttotal: 209ms\tremaining: 66ms\n",
            "76:\tlearn: 0.9345372\ttotal: 211ms\tremaining: 63.2ms\n",
            "77:\tlearn: 0.9334086\ttotal: 214ms\tremaining: 60.2ms\n",
            "78:\tlearn: 0.9322799\ttotal: 216ms\tremaining: 57.5ms\n",
            "79:\tlearn: 0.9322799\ttotal: 219ms\tremaining: 54.7ms\n",
            "80:\tlearn: 0.9334086\ttotal: 221ms\tremaining: 51.9ms\n",
            "81:\tlearn: 0.9334086\ttotal: 224ms\tremaining: 49.2ms\n",
            "82:\tlearn: 0.9334086\ttotal: 227ms\tremaining: 46.4ms\n",
            "83:\tlearn: 0.9334086\ttotal: 229ms\tremaining: 43.7ms\n",
            "84:\tlearn: 0.9345372\ttotal: 232ms\tremaining: 40.9ms\n",
            "85:\tlearn: 0.9356659\ttotal: 234ms\tremaining: 38.1ms\n",
            "86:\tlearn: 0.9356659\ttotal: 237ms\tremaining: 35.4ms\n",
            "87:\tlearn: 0.9367946\ttotal: 239ms\tremaining: 32.6ms\n",
            "88:\tlearn: 0.9367946\ttotal: 242ms\tremaining: 29.9ms\n",
            "89:\tlearn: 0.9356659\ttotal: 245ms\tremaining: 27.2ms\n",
            "90:\tlearn: 0.9367946\ttotal: 247ms\tremaining: 24.4ms\n",
            "91:\tlearn: 0.9356659\ttotal: 250ms\tremaining: 21.7ms\n",
            "92:\tlearn: 0.9356659\ttotal: 252ms\tremaining: 19ms\n",
            "93:\tlearn: 0.9356659\ttotal: 255ms\tremaining: 16.3ms\n",
            "94:\tlearn: 0.9356659\ttotal: 258ms\tremaining: 13.6ms\n",
            "95:\tlearn: 0.9356659\ttotal: 260ms\tremaining: 10.8ms\n",
            "96:\tlearn: 0.9356659\ttotal: 263ms\tremaining: 8.12ms\n",
            "97:\tlearn: 0.9356659\ttotal: 265ms\tremaining: 5.41ms\n",
            "98:\tlearn: 0.9356659\ttotal: 268ms\tremaining: 2.7ms\n",
            "99:\tlearn: 0.9379233\ttotal: 270ms\tremaining: 0us\n",
            "0:\tlearn: 0.8724605\ttotal: 5.86ms\tremaining: 581ms\n",
            "1:\tlearn: 0.8803612\ttotal: 10.6ms\tremaining: 521ms\n",
            "2:\tlearn: 0.8848758\ttotal: 12.9ms\tremaining: 417ms\n",
            "3:\tlearn: 0.8792325\ttotal: 15.4ms\tremaining: 370ms\n",
            "4:\tlearn: 0.8758465\ttotal: 16.3ms\tremaining: 310ms\n",
            "5:\tlearn: 0.8735892\ttotal: 18.9ms\tremaining: 297ms\n",
            "6:\tlearn: 0.8882619\ttotal: 21.4ms\tremaining: 284ms\n",
            "7:\tlearn: 0.8893905\ttotal: 23.8ms\tremaining: 274ms\n",
            "8:\tlearn: 0.8972912\ttotal: 26.3ms\tremaining: 266ms\n",
            "9:\tlearn: 0.8961625\ttotal: 28.7ms\tremaining: 259ms\n",
            "10:\tlearn: 0.8916479\ttotal: 31.3ms\tremaining: 253ms\n",
            "11:\tlearn: 0.8927765\ttotal: 33.9ms\tremaining: 249ms\n",
            "12:\tlearn: 0.8984199\ttotal: 36.4ms\tremaining: 244ms\n",
            "13:\tlearn: 0.8972912\ttotal: 38.9ms\tremaining: 239ms\n",
            "14:\tlearn: 0.8972912\ttotal: 41.3ms\tremaining: 234ms\n",
            "15:\tlearn: 0.8972912\ttotal: 44ms\tremaining: 231ms\n",
            "16:\tlearn: 0.9018059\ttotal: 46.4ms\tremaining: 227ms\n",
            "17:\tlearn: 0.9040632\ttotal: 49.1ms\tremaining: 224ms\n",
            "18:\tlearn: 0.9018059\ttotal: 49.8ms\tremaining: 213ms\n",
            "19:\tlearn: 0.9051919\ttotal: 52.7ms\tremaining: 211ms\n",
            "20:\tlearn: 0.9051919\ttotal: 54.5ms\tremaining: 205ms\n",
            "21:\tlearn: 0.9040632\ttotal: 55.3ms\tremaining: 196ms\n",
            "22:\tlearn: 0.9063205\ttotal: 58.1ms\tremaining: 194ms\n",
            "23:\tlearn: 0.9074492\ttotal: 60.7ms\tremaining: 192ms\n",
            "24:\tlearn: 0.9040632\ttotal: 63.2ms\tremaining: 190ms\n",
            "25:\tlearn: 0.9029345\ttotal: 65.7ms\tremaining: 187ms\n",
            "26:\tlearn: 0.9029345\ttotal: 68.2ms\tremaining: 184ms\n",
            "27:\tlearn: 0.9051919\ttotal: 70.9ms\tremaining: 182ms\n",
            "28:\tlearn: 0.9051919\ttotal: 73.3ms\tremaining: 179ms\n",
            "29:\tlearn: 0.9074492\ttotal: 75.8ms\tremaining: 177ms\n",
            "30:\tlearn: 0.9108352\ttotal: 78.4ms\tremaining: 174ms\n",
            "31:\tlearn: 0.9130926\ttotal: 81.2ms\tremaining: 172ms\n",
            "32:\tlearn: 0.9142212\ttotal: 83.8ms\tremaining: 170ms\n",
            "33:\tlearn: 0.9142212\ttotal: 86.4ms\tremaining: 168ms\n",
            "34:\tlearn: 0.9142212\ttotal: 89ms\tremaining: 165ms\n",
            "35:\tlearn: 0.9130926\ttotal: 91.4ms\tremaining: 163ms\n",
            "36:\tlearn: 0.9164786\ttotal: 93.9ms\tremaining: 160ms\n",
            "37:\tlearn: 0.9187359\ttotal: 96.4ms\tremaining: 157ms\n",
            "38:\tlearn: 0.9221219\ttotal: 98.9ms\tremaining: 155ms\n",
            "39:\tlearn: 0.9198646\ttotal: 101ms\tremaining: 152ms\n",
            "40:\tlearn: 0.9198646\ttotal: 104ms\tremaining: 149ms\n",
            "41:\tlearn: 0.9221219\ttotal: 106ms\tremaining: 147ms\n",
            "42:\tlearn: 0.9221219\ttotal: 109ms\tremaining: 144ms\n",
            "43:\tlearn: 0.9221219\ttotal: 112ms\tremaining: 142ms\n",
            "44:\tlearn: 0.9232506\ttotal: 114ms\tremaining: 139ms\n",
            "45:\tlearn: 0.9232506\ttotal: 117ms\tremaining: 137ms\n",
            "46:\tlearn: 0.9243792\ttotal: 119ms\tremaining: 134ms\n",
            "47:\tlearn: 0.9255079\ttotal: 122ms\tremaining: 133ms\n",
            "48:\tlearn: 0.9266366\ttotal: 127ms\tremaining: 132ms\n",
            "49:\tlearn: 0.9277652\ttotal: 135ms\tremaining: 135ms\n",
            "50:\tlearn: 0.9277652\ttotal: 138ms\tremaining: 133ms\n",
            "51:\tlearn: 0.9266366\ttotal: 141ms\tremaining: 130ms\n",
            "52:\tlearn: 0.9288939\ttotal: 143ms\tremaining: 127ms\n",
            "53:\tlearn: 0.9300226\ttotal: 148ms\tremaining: 126ms\n",
            "54:\tlearn: 0.9300226\ttotal: 152ms\tremaining: 124ms\n",
            "55:\tlearn: 0.9300226\ttotal: 160ms\tremaining: 125ms\n",
            "56:\tlearn: 0.9311512\ttotal: 164ms\tremaining: 124ms\n",
            "57:\tlearn: 0.9311512\ttotal: 167ms\tremaining: 121ms\n",
            "58:\tlearn: 0.9311512\ttotal: 169ms\tremaining: 117ms\n",
            "59:\tlearn: 0.9311512\ttotal: 171ms\tremaining: 114ms\n",
            "60:\tlearn: 0.9311512\ttotal: 174ms\tremaining: 111ms\n",
            "61:\tlearn: 0.9311512\ttotal: 176ms\tremaining: 108ms\n",
            "62:\tlearn: 0.9311512\ttotal: 179ms\tremaining: 105ms\n",
            "63:\tlearn: 0.9311512\ttotal: 182ms\tremaining: 102ms\n",
            "64:\tlearn: 0.9311512\ttotal: 186ms\tremaining: 100ms\n",
            "65:\tlearn: 0.9311512\ttotal: 188ms\tremaining: 96.9ms\n",
            "66:\tlearn: 0.9311512\ttotal: 190ms\tremaining: 93.7ms\n",
            "67:\tlearn: 0.9311512\ttotal: 194ms\tremaining: 91.5ms\n",
            "68:\tlearn: 0.9322799\ttotal: 199ms\tremaining: 89.5ms\n",
            "69:\tlearn: 0.9322799\ttotal: 202ms\tremaining: 86.6ms\n",
            "70:\tlearn: 0.9334086\ttotal: 204ms\tremaining: 83.5ms\n",
            "71:\tlearn: 0.9356659\ttotal: 207ms\tremaining: 80.4ms\n",
            "72:\tlearn: 0.9345372\ttotal: 209ms\tremaining: 77.3ms\n",
            "73:\tlearn: 0.9345372\ttotal: 211ms\tremaining: 74.2ms\n",
            "74:\tlearn: 0.9356659\ttotal: 213ms\tremaining: 71.1ms\n",
            "75:\tlearn: 0.9356659\ttotal: 216ms\tremaining: 68.4ms\n",
            "76:\tlearn: 0.9367946\ttotal: 219ms\tremaining: 65.5ms\n",
            "77:\tlearn: 0.9367946\ttotal: 222ms\tremaining: 62.6ms\n",
            "78:\tlearn: 0.9367946\ttotal: 225ms\tremaining: 59.7ms\n",
            "79:\tlearn: 0.9356659\ttotal: 227ms\tremaining: 56.8ms\n",
            "80:\tlearn: 0.9356659\ttotal: 228ms\tremaining: 53.5ms\n",
            "81:\tlearn: 0.9356659\ttotal: 231ms\tremaining: 50.7ms\n",
            "82:\tlearn: 0.9356659\ttotal: 234ms\tremaining: 47.8ms\n",
            "83:\tlearn: 0.9356659\ttotal: 236ms\tremaining: 45ms\n",
            "84:\tlearn: 0.9356659\ttotal: 239ms\tremaining: 42.1ms\n",
            "85:\tlearn: 0.9345372\ttotal: 241ms\tremaining: 39.3ms\n",
            "86:\tlearn: 0.9367946\ttotal: 244ms\tremaining: 36.5ms\n",
            "87:\tlearn: 0.9367946\ttotal: 247ms\tremaining: 33.6ms\n",
            "88:\tlearn: 0.9379233\ttotal: 249ms\tremaining: 30.8ms\n",
            "89:\tlearn: 0.9379233\ttotal: 252ms\tremaining: 28ms\n",
            "90:\tlearn: 0.9379233\ttotal: 255ms\tremaining: 25.2ms\n",
            "91:\tlearn: 0.9367946\ttotal: 257ms\tremaining: 22.4ms\n",
            "92:\tlearn: 0.9367946\ttotal: 260ms\tremaining: 19.6ms\n",
            "93:\tlearn: 0.9367946\ttotal: 261ms\tremaining: 16.7ms\n",
            "94:\tlearn: 0.9367946\ttotal: 263ms\tremaining: 13.9ms\n",
            "95:\tlearn: 0.9367946\ttotal: 266ms\tremaining: 11.1ms\n",
            "96:\tlearn: 0.9367946\ttotal: 267ms\tremaining: 8.26ms\n",
            "97:\tlearn: 0.9367946\ttotal: 270ms\tremaining: 5.51ms\n",
            "98:\tlearn: 0.9367946\ttotal: 273ms\tremaining: 2.75ms\n",
            "99:\tlearn: 0.9367946\ttotal: 275ms\tremaining: 0us\n",
            "0:\tlearn: 0.8668172\ttotal: 2.73ms\tremaining: 270ms\n",
            "1:\tlearn: 0.8758465\ttotal: 5.6ms\tremaining: 274ms\n",
            "2:\tlearn: 0.8871332\ttotal: 8.35ms\tremaining: 270ms\n",
            "3:\tlearn: 0.8848758\ttotal: 11.2ms\tremaining: 268ms\n",
            "4:\tlearn: 0.8735892\ttotal: 12.1ms\tremaining: 230ms\n",
            "5:\tlearn: 0.8747178\ttotal: 13.1ms\tremaining: 206ms\n",
            "6:\tlearn: 0.8713318\ttotal: 13.9ms\tremaining: 185ms\n",
            "7:\tlearn: 0.8792325\ttotal: 16.5ms\tremaining: 190ms\n",
            "8:\tlearn: 0.8747178\ttotal: 19.2ms\tremaining: 194ms\n",
            "9:\tlearn: 0.8758465\ttotal: 21.8ms\tremaining: 196ms\n",
            "10:\tlearn: 0.8803612\ttotal: 24.5ms\tremaining: 198ms\n",
            "11:\tlearn: 0.8803612\ttotal: 27ms\tremaining: 198ms\n",
            "12:\tlearn: 0.8848758\ttotal: 29.5ms\tremaining: 197ms\n",
            "13:\tlearn: 0.8814898\ttotal: 30.4ms\tremaining: 187ms\n",
            "14:\tlearn: 0.8837472\ttotal: 33ms\tremaining: 187ms\n",
            "15:\tlearn: 0.8871332\ttotal: 35.4ms\tremaining: 186ms\n",
            "16:\tlearn: 0.8882619\ttotal: 37.9ms\tremaining: 185ms\n",
            "17:\tlearn: 0.8893905\ttotal: 40.4ms\tremaining: 184ms\n",
            "18:\tlearn: 0.8916479\ttotal: 42.9ms\tremaining: 183ms\n",
            "19:\tlearn: 0.8893905\ttotal: 45.6ms\tremaining: 182ms\n",
            "20:\tlearn: 0.8905192\ttotal: 48ms\tremaining: 181ms\n",
            "21:\tlearn: 0.8916479\ttotal: 52.9ms\tremaining: 188ms\n",
            "22:\tlearn: 0.8927765\ttotal: 57ms\tremaining: 191ms\n",
            "23:\tlearn: 0.8893905\ttotal: 62.7ms\tremaining: 199ms\n",
            "24:\tlearn: 0.8939052\ttotal: 65.3ms\tremaining: 196ms\n",
            "25:\tlearn: 0.8961625\ttotal: 68ms\tremaining: 194ms\n",
            "26:\tlearn: 0.8984199\ttotal: 74.9ms\tremaining: 203ms\n",
            "27:\tlearn: 0.9006772\ttotal: 78ms\tremaining: 201ms\n",
            "28:\tlearn: 0.9018059\ttotal: 80.4ms\tremaining: 197ms\n",
            "29:\tlearn: 0.9029345\ttotal: 82.9ms\tremaining: 194ms\n",
            "30:\tlearn: 0.9051919\ttotal: 85.2ms\tremaining: 190ms\n",
            "31:\tlearn: 0.9040632\ttotal: 87.5ms\tremaining: 186ms\n",
            "32:\tlearn: 0.9074492\ttotal: 89.7ms\tremaining: 182ms\n",
            "33:\tlearn: 0.9074492\ttotal: 91.9ms\tremaining: 178ms\n",
            "34:\tlearn: 0.9085779\ttotal: 94.5ms\tremaining: 175ms\n",
            "35:\tlearn: 0.9085779\ttotal: 97.1ms\tremaining: 173ms\n",
            "36:\tlearn: 0.9108352\ttotal: 99.6ms\tremaining: 170ms\n",
            "37:\tlearn: 0.9130926\ttotal: 102ms\tremaining: 167ms\n",
            "38:\tlearn: 0.9142212\ttotal: 105ms\tremaining: 164ms\n",
            "39:\tlearn: 0.9142212\ttotal: 107ms\tremaining: 161ms\n",
            "40:\tlearn: 0.9130926\ttotal: 110ms\tremaining: 158ms\n",
            "41:\tlearn: 0.9142212\ttotal: 112ms\tremaining: 155ms\n",
            "42:\tlearn: 0.9176072\ttotal: 115ms\tremaining: 152ms\n",
            "43:\tlearn: 0.9187359\ttotal: 117ms\tremaining: 149ms\n",
            "44:\tlearn: 0.9187359\ttotal: 120ms\tremaining: 146ms\n",
            "45:\tlearn: 0.9198646\ttotal: 122ms\tremaining: 143ms\n",
            "46:\tlearn: 0.9198646\ttotal: 125ms\tremaining: 140ms\n",
            "47:\tlearn: 0.9176072\ttotal: 127ms\tremaining: 138ms\n",
            "48:\tlearn: 0.9176072\ttotal: 130ms\tremaining: 135ms\n",
            "49:\tlearn: 0.9187359\ttotal: 132ms\tremaining: 132ms\n",
            "50:\tlearn: 0.9187359\ttotal: 135ms\tremaining: 129ms\n",
            "51:\tlearn: 0.9209932\ttotal: 138ms\tremaining: 127ms\n",
            "52:\tlearn: 0.9221219\ttotal: 140ms\tremaining: 124ms\n",
            "53:\tlearn: 0.9221219\ttotal: 143ms\tremaining: 122ms\n",
            "54:\tlearn: 0.9232506\ttotal: 146ms\tremaining: 119ms\n",
            "55:\tlearn: 0.9209932\ttotal: 148ms\tremaining: 117ms\n",
            "56:\tlearn: 0.9232506\ttotal: 151ms\tremaining: 114ms\n",
            "57:\tlearn: 0.9232506\ttotal: 154ms\tremaining: 111ms\n",
            "58:\tlearn: 0.9221219\ttotal: 156ms\tremaining: 109ms\n",
            "59:\tlearn: 0.9232506\ttotal: 159ms\tremaining: 106ms\n",
            "60:\tlearn: 0.9243792\ttotal: 162ms\tremaining: 104ms\n",
            "61:\tlearn: 0.9255079\ttotal: 166ms\tremaining: 102ms\n",
            "62:\tlearn: 0.9243792\ttotal: 167ms\tremaining: 98.3ms\n",
            "63:\tlearn: 0.9232506\ttotal: 171ms\tremaining: 96.2ms\n",
            "64:\tlearn: 0.9243792\ttotal: 174ms\tremaining: 93.7ms\n",
            "65:\tlearn: 0.9277652\ttotal: 176ms\tremaining: 90.8ms\n",
            "66:\tlearn: 0.9277652\ttotal: 178ms\tremaining: 87.9ms\n",
            "67:\tlearn: 0.9266366\ttotal: 181ms\tremaining: 85.1ms\n",
            "68:\tlearn: 0.9277652\ttotal: 184ms\tremaining: 82.5ms\n",
            "69:\tlearn: 0.9300226\ttotal: 186ms\tremaining: 79.9ms\n",
            "70:\tlearn: 0.9311512\ttotal: 189ms\tremaining: 77.3ms\n",
            "71:\tlearn: 0.9311512\ttotal: 192ms\tremaining: 74.7ms\n",
            "72:\tlearn: 0.9311512\ttotal: 195ms\tremaining: 72ms\n",
            "73:\tlearn: 0.9322799\ttotal: 197ms\tremaining: 69.3ms\n",
            "74:\tlearn: 0.9322799\ttotal: 200ms\tremaining: 66.6ms\n",
            "75:\tlearn: 0.9322799\ttotal: 202ms\tremaining: 63.9ms\n",
            "76:\tlearn: 0.9345372\ttotal: 205ms\tremaining: 61.3ms\n",
            "77:\tlearn: 0.9345372\ttotal: 208ms\tremaining: 58.6ms\n",
            "78:\tlearn: 0.9334086\ttotal: 210ms\tremaining: 55.9ms\n",
            "79:\tlearn: 0.9345372\ttotal: 213ms\tremaining: 53.2ms\n",
            "80:\tlearn: 0.9334086\ttotal: 215ms\tremaining: 50.5ms\n",
            "81:\tlearn: 0.9334086\ttotal: 218ms\tremaining: 47.8ms\n",
            "82:\tlearn: 0.9345372\ttotal: 220ms\tremaining: 45.2ms\n",
            "83:\tlearn: 0.9345372\ttotal: 223ms\tremaining: 42.5ms\n",
            "84:\tlearn: 0.9345372\ttotal: 226ms\tremaining: 39.8ms\n",
            "85:\tlearn: 0.9322799\ttotal: 228ms\tremaining: 37.1ms\n",
            "86:\tlearn: 0.9322799\ttotal: 231ms\tremaining: 34.5ms\n",
            "87:\tlearn: 0.9322799\ttotal: 232ms\tremaining: 31.7ms\n",
            "88:\tlearn: 0.9322799\ttotal: 235ms\tremaining: 29ms\n",
            "89:\tlearn: 0.9322799\ttotal: 237ms\tremaining: 26.4ms\n",
            "90:\tlearn: 0.9322799\ttotal: 238ms\tremaining: 23.6ms\n",
            "91:\tlearn: 0.9322799\ttotal: 241ms\tremaining: 20.9ms\n",
            "92:\tlearn: 0.9322799\ttotal: 243ms\tremaining: 18.3ms\n",
            "93:\tlearn: 0.9334086\ttotal: 248ms\tremaining: 15.8ms\n",
            "94:\tlearn: 0.9345372\ttotal: 252ms\tremaining: 13.3ms\n",
            "95:\tlearn: 0.9334086\ttotal: 258ms\tremaining: 10.8ms\n",
            "96:\tlearn: 0.9334086\ttotal: 264ms\tremaining: 8.16ms\n",
            "97:\tlearn: 0.9334086\ttotal: 266ms\tremaining: 5.43ms\n",
            "98:\tlearn: 0.9334086\ttotal: 268ms\tremaining: 2.71ms\n",
            "99:\tlearn: 0.9334086\ttotal: 271ms\tremaining: 0us\n",
            "0:\tlearn: 0.8623025\ttotal: 2.32ms\tremaining: 230ms\n",
            "1:\tlearn: 0.8758465\ttotal: 5.03ms\tremaining: 246ms\n",
            "2:\tlearn: 0.8871332\ttotal: 7.52ms\tremaining: 243ms\n",
            "3:\tlearn: 0.8848758\ttotal: 10.2ms\tremaining: 244ms\n",
            "4:\tlearn: 0.8792325\ttotal: 11ms\tremaining: 210ms\n",
            "5:\tlearn: 0.8747178\ttotal: 11.8ms\tremaining: 184ms\n",
            "6:\tlearn: 0.8814898\ttotal: 12.6ms\tremaining: 168ms\n",
            "7:\tlearn: 0.8837472\ttotal: 15.1ms\tremaining: 174ms\n",
            "8:\tlearn: 0.8814898\ttotal: 17.6ms\tremaining: 178ms\n",
            "9:\tlearn: 0.8814898\ttotal: 20.2ms\tremaining: 182ms\n",
            "10:\tlearn: 0.8758465\ttotal: 22.7ms\tremaining: 184ms\n",
            "11:\tlearn: 0.8814898\ttotal: 25.3ms\tremaining: 185ms\n",
            "12:\tlearn: 0.8837472\ttotal: 27.8ms\tremaining: 186ms\n",
            "13:\tlearn: 0.8814898\ttotal: 28.7ms\tremaining: 177ms\n",
            "14:\tlearn: 0.8860045\ttotal: 31.3ms\tremaining: 178ms\n",
            "15:\tlearn: 0.8860045\ttotal: 33.7ms\tremaining: 177ms\n",
            "16:\tlearn: 0.8860045\ttotal: 36.2ms\tremaining: 177ms\n",
            "17:\tlearn: 0.8905192\ttotal: 38.6ms\tremaining: 176ms\n",
            "18:\tlearn: 0.8916479\ttotal: 41.1ms\tremaining: 175ms\n",
            "19:\tlearn: 0.8893905\ttotal: 43.6ms\tremaining: 174ms\n",
            "20:\tlearn: 0.8916479\ttotal: 46ms\tremaining: 173ms\n",
            "21:\tlearn: 0.8950339\ttotal: 47.7ms\tremaining: 169ms\n",
            "22:\tlearn: 0.8927765\ttotal: 50.3ms\tremaining: 168ms\n",
            "23:\tlearn: 0.8995485\ttotal: 52.8ms\tremaining: 167ms\n",
            "24:\tlearn: 0.8995485\ttotal: 55.2ms\tremaining: 166ms\n",
            "25:\tlearn: 0.8972912\ttotal: 57.7ms\tremaining: 164ms\n",
            "26:\tlearn: 0.9018059\ttotal: 59.4ms\tremaining: 161ms\n",
            "27:\tlearn: 0.9006772\ttotal: 61.9ms\tremaining: 159ms\n",
            "28:\tlearn: 0.9018059\ttotal: 64.5ms\tremaining: 158ms\n",
            "29:\tlearn: 0.9006772\ttotal: 67.4ms\tremaining: 157ms\n",
            "30:\tlearn: 0.9074492\ttotal: 69.9ms\tremaining: 156ms\n",
            "31:\tlearn: 0.9074492\ttotal: 72.4ms\tremaining: 154ms\n",
            "32:\tlearn: 0.9074492\ttotal: 75ms\tremaining: 152ms\n",
            "33:\tlearn: 0.9108352\ttotal: 77.6ms\tremaining: 151ms\n",
            "34:\tlearn: 0.9142212\ttotal: 80.2ms\tremaining: 149ms\n",
            "35:\tlearn: 0.9176072\ttotal: 82.6ms\tremaining: 147ms\n",
            "36:\tlearn: 0.9187359\ttotal: 85.3ms\tremaining: 145ms\n",
            "37:\tlearn: 0.9187359\ttotal: 87.7ms\tremaining: 143ms\n",
            "38:\tlearn: 0.9176072\ttotal: 90.2ms\tremaining: 141ms\n",
            "39:\tlearn: 0.9187359\ttotal: 92.8ms\tremaining: 139ms\n",
            "40:\tlearn: 0.9187359\ttotal: 95.3ms\tremaining: 137ms\n",
            "41:\tlearn: 0.9209932\ttotal: 98.2ms\tremaining: 136ms\n",
            "42:\tlearn: 0.9221219\ttotal: 101ms\tremaining: 134ms\n",
            "43:\tlearn: 0.9232506\ttotal: 104ms\tremaining: 132ms\n",
            "44:\tlearn: 0.9243792\ttotal: 106ms\tremaining: 130ms\n",
            "45:\tlearn: 0.9243792\ttotal: 109ms\tremaining: 128ms\n",
            "46:\tlearn: 0.9255079\ttotal: 112ms\tremaining: 126ms\n",
            "47:\tlearn: 0.9255079\ttotal: 114ms\tremaining: 124ms\n",
            "48:\tlearn: 0.9243792\ttotal: 117ms\tremaining: 122ms\n",
            "49:\tlearn: 0.9255079\ttotal: 120ms\tremaining: 120ms\n",
            "50:\tlearn: 0.9266366\ttotal: 122ms\tremaining: 117ms\n",
            "51:\tlearn: 0.9266366\ttotal: 125ms\tremaining: 115ms\n",
            "52:\tlearn: 0.9266366\ttotal: 130ms\tremaining: 115ms\n",
            "53:\tlearn: 0.9266366\ttotal: 139ms\tremaining: 118ms\n",
            "54:\tlearn: 0.9266366\ttotal: 142ms\tremaining: 116ms\n",
            "55:\tlearn: 0.9277652\ttotal: 148ms\tremaining: 116ms\n",
            "56:\tlearn: 0.9300226\ttotal: 152ms\tremaining: 115ms\n",
            "57:\tlearn: 0.9300226\ttotal: 156ms\tremaining: 113ms\n",
            "58:\tlearn: 0.9288939\ttotal: 156ms\tremaining: 109ms\n",
            "59:\tlearn: 0.9300226\ttotal: 159ms\tremaining: 106ms\n",
            "60:\tlearn: 0.9322799\ttotal: 162ms\tremaining: 103ms\n",
            "61:\tlearn: 0.9311512\ttotal: 165ms\tremaining: 101ms\n",
            "62:\tlearn: 0.9300226\ttotal: 167ms\tremaining: 98.2ms\n",
            "63:\tlearn: 0.9322799\ttotal: 170ms\tremaining: 95.5ms\n",
            "64:\tlearn: 0.9345372\ttotal: 172ms\tremaining: 92.8ms\n",
            "65:\tlearn: 0.9345372\ttotal: 175ms\tremaining: 90ms\n",
            "66:\tlearn: 0.9356659\ttotal: 177ms\tremaining: 87.4ms\n",
            "67:\tlearn: 0.9356659\ttotal: 180ms\tremaining: 84.7ms\n",
            "68:\tlearn: 0.9345372\ttotal: 183ms\tremaining: 82ms\n",
            "69:\tlearn: 0.9345372\ttotal: 185ms\tremaining: 79.4ms\n",
            "70:\tlearn: 0.9345372\ttotal: 188ms\tremaining: 76.7ms\n",
            "71:\tlearn: 0.9345372\ttotal: 190ms\tremaining: 73.9ms\n",
            "72:\tlearn: 0.9345372\ttotal: 193ms\tremaining: 71.2ms\n",
            "73:\tlearn: 0.9345372\ttotal: 195ms\tremaining: 68.5ms\n",
            "74:\tlearn: 0.9345372\ttotal: 198ms\tremaining: 65.8ms\n",
            "75:\tlearn: 0.9322799\ttotal: 200ms\tremaining: 63.2ms\n",
            "76:\tlearn: 0.9334086\ttotal: 203ms\tremaining: 60.5ms\n",
            "77:\tlearn: 0.9345372\ttotal: 205ms\tremaining: 57.8ms\n",
            "78:\tlearn: 0.9345372\ttotal: 207ms\tremaining: 55.2ms\n",
            "79:\tlearn: 0.9356659\ttotal: 210ms\tremaining: 52.5ms\n",
            "80:\tlearn: 0.9356659\ttotal: 212ms\tremaining: 49.8ms\n",
            "81:\tlearn: 0.9356659\ttotal: 215ms\tremaining: 47.2ms\n",
            "82:\tlearn: 0.9356659\ttotal: 218ms\tremaining: 44.7ms\n",
            "83:\tlearn: 0.9356659\ttotal: 222ms\tremaining: 42.3ms\n",
            "84:\tlearn: 0.9356659\ttotal: 225ms\tremaining: 39.7ms\n",
            "85:\tlearn: 0.9356659\ttotal: 227ms\tremaining: 36.9ms\n",
            "86:\tlearn: 0.9356659\ttotal: 231ms\tremaining: 34.4ms\n",
            "87:\tlearn: 0.9356659\ttotal: 237ms\tremaining: 32.3ms\n",
            "88:\tlearn: 0.9356659\ttotal: 239ms\tremaining: 29.6ms\n",
            "89:\tlearn: 0.9356659\ttotal: 242ms\tremaining: 26.9ms\n",
            "90:\tlearn: 0.9356659\ttotal: 245ms\tremaining: 24.2ms\n",
            "91:\tlearn: 0.9356659\ttotal: 246ms\tremaining: 21.4ms\n",
            "92:\tlearn: 0.9356659\ttotal: 248ms\tremaining: 18.7ms\n",
            "93:\tlearn: 0.9356659\ttotal: 251ms\tremaining: 16ms\n",
            "94:\tlearn: 0.9356659\ttotal: 253ms\tremaining: 13.3ms\n",
            "95:\tlearn: 0.9356659\ttotal: 256ms\tremaining: 10.7ms\n",
            "96:\tlearn: 0.9367946\ttotal: 258ms\tremaining: 7.99ms\n",
            "97:\tlearn: 0.9367946\ttotal: 261ms\tremaining: 5.33ms\n",
            "98:\tlearn: 0.9367946\ttotal: 264ms\tremaining: 2.66ms\n",
            "99:\tlearn: 0.9367946\ttotal: 266ms\tremaining: 0us\n",
            "0:\tlearn: 0.8713318\ttotal: 2.5ms\tremaining: 247ms\n",
            "1:\tlearn: 0.8814898\ttotal: 5.67ms\tremaining: 278ms\n",
            "2:\tlearn: 0.8893905\ttotal: 8.25ms\tremaining: 267ms\n",
            "3:\tlearn: 0.8927765\ttotal: 11.9ms\tremaining: 287ms\n",
            "4:\tlearn: 0.8803612\ttotal: 13.6ms\tremaining: 258ms\n",
            "5:\tlearn: 0.8837472\ttotal: 21.7ms\tremaining: 341ms\n",
            "6:\tlearn: 0.8972912\ttotal: 24.4ms\tremaining: 324ms\n",
            "7:\tlearn: 0.8995485\ttotal: 26.9ms\tremaining: 310ms\n",
            "8:\tlearn: 0.9018059\ttotal: 29.1ms\tremaining: 294ms\n",
            "9:\tlearn: 0.9006772\ttotal: 31.2ms\tremaining: 281ms\n",
            "10:\tlearn: 0.8984199\ttotal: 34.7ms\tremaining: 280ms\n",
            "11:\tlearn: 0.9029345\ttotal: 38.5ms\tremaining: 282ms\n",
            "12:\tlearn: 0.9051919\ttotal: 42.1ms\tremaining: 282ms\n",
            "13:\tlearn: 0.9018059\ttotal: 46.7ms\tremaining: 287ms\n",
            "14:\tlearn: 0.9040632\ttotal: 49ms\tremaining: 278ms\n",
            "15:\tlearn: 0.9040632\ttotal: 51.2ms\tremaining: 269ms\n",
            "16:\tlearn: 0.9051919\ttotal: 53.6ms\tremaining: 262ms\n",
            "17:\tlearn: 0.9085779\ttotal: 55.9ms\tremaining: 255ms\n",
            "18:\tlearn: 0.9051919\ttotal: 56.5ms\tremaining: 241ms\n",
            "19:\tlearn: 0.9085779\ttotal: 58.7ms\tremaining: 235ms\n",
            "20:\tlearn: 0.9051919\ttotal: 61.3ms\tremaining: 230ms\n",
            "21:\tlearn: 0.9085779\ttotal: 63.8ms\tremaining: 226ms\n",
            "22:\tlearn: 0.9097065\ttotal: 66.4ms\tremaining: 222ms\n",
            "23:\tlearn: 0.9130926\ttotal: 69.1ms\tremaining: 219ms\n",
            "24:\tlearn: 0.9142212\ttotal: 71.9ms\tremaining: 216ms\n",
            "25:\tlearn: 0.9142212\ttotal: 74.5ms\tremaining: 212ms\n",
            "26:\tlearn: 0.9130926\ttotal: 75.3ms\tremaining: 204ms\n",
            "27:\tlearn: 0.9130926\ttotal: 78ms\tremaining: 201ms\n",
            "28:\tlearn: 0.9142212\ttotal: 80.7ms\tremaining: 198ms\n",
            "29:\tlearn: 0.9153499\ttotal: 83.4ms\tremaining: 195ms\n",
            "30:\tlearn: 0.9176072\ttotal: 84.8ms\tremaining: 189ms\n",
            "31:\tlearn: 0.9187359\ttotal: 87.6ms\tremaining: 186ms\n",
            "32:\tlearn: 0.9198646\ttotal: 90.2ms\tremaining: 183ms\n",
            "33:\tlearn: 0.9198646\ttotal: 92.7ms\tremaining: 180ms\n",
            "34:\tlearn: 0.9209932\ttotal: 95.3ms\tremaining: 177ms\n",
            "35:\tlearn: 0.9221219\ttotal: 97.8ms\tremaining: 174ms\n",
            "36:\tlearn: 0.9221219\ttotal: 101ms\tremaining: 171ms\n",
            "37:\tlearn: 0.9243792\ttotal: 103ms\tremaining: 168ms\n",
            "38:\tlearn: 0.9255079\ttotal: 106ms\tremaining: 165ms\n",
            "39:\tlearn: 0.9255079\ttotal: 108ms\tremaining: 162ms\n",
            "40:\tlearn: 0.9255079\ttotal: 111ms\tremaining: 159ms\n",
            "41:\tlearn: 0.9255079\ttotal: 114ms\tremaining: 157ms\n",
            "42:\tlearn: 0.9255079\ttotal: 116ms\tremaining: 154ms\n",
            "43:\tlearn: 0.9255079\ttotal: 119ms\tremaining: 152ms\n",
            "44:\tlearn: 0.9255079\ttotal: 122ms\tremaining: 149ms\n",
            "45:\tlearn: 0.9255079\ttotal: 125ms\tremaining: 146ms\n",
            "46:\tlearn: 0.9255079\ttotal: 127ms\tremaining: 144ms\n",
            "47:\tlearn: 0.9255079\ttotal: 130ms\tremaining: 141ms\n",
            "48:\tlearn: 0.9255079\ttotal: 132ms\tremaining: 138ms\n",
            "49:\tlearn: 0.9255079\ttotal: 135ms\tremaining: 135ms\n",
            "50:\tlearn: 0.9255079\ttotal: 138ms\tremaining: 132ms\n",
            "51:\tlearn: 0.9255079\ttotal: 140ms\tremaining: 130ms\n",
            "52:\tlearn: 0.9266366\ttotal: 143ms\tremaining: 127ms\n",
            "53:\tlearn: 0.9266366\ttotal: 146ms\tremaining: 124ms\n",
            "54:\tlearn: 0.9266366\ttotal: 149ms\tremaining: 122ms\n",
            "55:\tlearn: 0.9266366\ttotal: 151ms\tremaining: 119ms\n",
            "56:\tlearn: 0.9277652\ttotal: 154ms\tremaining: 116ms\n",
            "57:\tlearn: 0.9300226\ttotal: 156ms\tremaining: 113ms\n",
            "58:\tlearn: 0.9288939\ttotal: 159ms\tremaining: 110ms\n",
            "59:\tlearn: 0.9288939\ttotal: 161ms\tremaining: 108ms\n",
            "60:\tlearn: 0.9288939\ttotal: 164ms\tremaining: 105ms\n",
            "61:\tlearn: 0.9300226\ttotal: 168ms\tremaining: 103ms\n",
            "62:\tlearn: 0.9288939\ttotal: 171ms\tremaining: 101ms\n",
            "63:\tlearn: 0.9311512\ttotal: 179ms\tremaining: 101ms\n",
            "64:\tlearn: 0.9300226\ttotal: 184ms\tremaining: 98.9ms\n",
            "65:\tlearn: 0.9300226\ttotal: 187ms\tremaining: 96.4ms\n",
            "66:\tlearn: 0.9300226\ttotal: 190ms\tremaining: 93.4ms\n",
            "67:\tlearn: 0.9300226\ttotal: 192ms\tremaining: 90.4ms\n",
            "68:\tlearn: 0.9300226\ttotal: 195ms\tremaining: 87.4ms\n",
            "69:\tlearn: 0.9311512\ttotal: 197ms\tremaining: 84.4ms\n",
            "70:\tlearn: 0.9311512\ttotal: 200ms\tremaining: 81.5ms\n",
            "71:\tlearn: 0.9311512\ttotal: 203ms\tremaining: 78.9ms\n",
            "72:\tlearn: 0.9311512\ttotal: 205ms\tremaining: 76ms\n",
            "73:\tlearn: 0.9311512\ttotal: 208ms\tremaining: 73.1ms\n",
            "74:\tlearn: 0.9311512\ttotal: 211ms\tremaining: 70.3ms\n",
            "75:\tlearn: 0.9311512\ttotal: 213ms\tremaining: 67.4ms\n",
            "76:\tlearn: 0.9311512\ttotal: 216ms\tremaining: 64.5ms\n",
            "77:\tlearn: 0.9311512\ttotal: 219ms\tremaining: 61.7ms\n",
            "78:\tlearn: 0.9311512\ttotal: 223ms\tremaining: 59.3ms\n",
            "79:\tlearn: 0.9311512\ttotal: 227ms\tremaining: 56.8ms\n",
            "80:\tlearn: 0.9311512\ttotal: 230ms\tremaining: 54ms\n",
            "81:\tlearn: 0.9322799\ttotal: 232ms\tremaining: 51ms\n",
            "82:\tlearn: 0.9322799\ttotal: 235ms\tremaining: 48.1ms\n",
            "83:\tlearn: 0.9334086\ttotal: 237ms\tremaining: 45.1ms\n",
            "84:\tlearn: 0.9334086\ttotal: 239ms\tremaining: 42.2ms\n",
            "85:\tlearn: 0.9334086\ttotal: 242ms\tremaining: 39.3ms\n",
            "86:\tlearn: 0.9334086\ttotal: 244ms\tremaining: 36.5ms\n",
            "87:\tlearn: 0.9334086\ttotal: 247ms\tremaining: 33.7ms\n",
            "88:\tlearn: 0.9334086\ttotal: 249ms\tremaining: 30.8ms\n",
            "89:\tlearn: 0.9334086\ttotal: 252ms\tremaining: 28ms\n",
            "90:\tlearn: 0.9334086\ttotal: 254ms\tremaining: 25.1ms\n",
            "91:\tlearn: 0.9334086\ttotal: 255ms\tremaining: 22.2ms\n",
            "92:\tlearn: 0.9334086\ttotal: 258ms\tremaining: 19.4ms\n",
            "93:\tlearn: 0.9334086\ttotal: 260ms\tremaining: 16.6ms\n",
            "94:\tlearn: 0.9345372\ttotal: 263ms\tremaining: 13.8ms\n",
            "95:\tlearn: 0.9345372\ttotal: 265ms\tremaining: 11.1ms\n",
            "96:\tlearn: 0.9345372\ttotal: 268ms\tremaining: 8.29ms\n",
            "97:\tlearn: 0.9345372\ttotal: 270ms\tremaining: 5.52ms\n",
            "98:\tlearn: 0.9345372\ttotal: 273ms\tremaining: 2.76ms\n",
            "99:\tlearn: 0.9356659\ttotal: 275ms\tremaining: 0us\n",
            "0:\tlearn: 0.8658399\ttotal: 3.9ms\tremaining: 386ms\n",
            "1:\tlearn: 0.8748591\ttotal: 12.8ms\tremaining: 626ms\n",
            "2:\tlearn: 0.8883878\ttotal: 19.7ms\tremaining: 638ms\n",
            "3:\tlearn: 0.8917700\ttotal: 27.5ms\tremaining: 661ms\n",
            "4:\tlearn: 0.8669673\ttotal: 30.2ms\tremaining: 573ms\n",
            "5:\tlearn: 0.8838782\ttotal: 42.6ms\tremaining: 668ms\n",
            "6:\tlearn: 0.8895152\ttotal: 55ms\tremaining: 730ms\n",
            "7:\tlearn: 0.8883878\ttotal: 67.4ms\tremaining: 775ms\n",
            "8:\tlearn: 0.8895152\ttotal: 76.7ms\tremaining: 776ms\n",
            "9:\tlearn: 0.8951522\ttotal: 81.1ms\tremaining: 730ms\n",
            "10:\tlearn: 0.8928974\ttotal: 83.8ms\tremaining: 678ms\n",
            "11:\tlearn: 0.8928974\ttotal: 86.5ms\tremaining: 634ms\n",
            "12:\tlearn: 0.9007892\ttotal: 89.6ms\tremaining: 600ms\n",
            "13:\tlearn: 0.8996618\ttotal: 92ms\tremaining: 565ms\n",
            "14:\tlearn: 0.9007892\ttotal: 94.8ms\tremaining: 537ms\n",
            "15:\tlearn: 0.9064262\ttotal: 106ms\tremaining: 559ms\n",
            "16:\tlearn: 0.9098083\ttotal: 113ms\tremaining: 551ms\n",
            "17:\tlearn: 0.9064262\ttotal: 118ms\tremaining: 536ms\n",
            "18:\tlearn: 0.9064262\ttotal: 120ms\tremaining: 511ms\n",
            "19:\tlearn: 0.9075536\ttotal: 128ms\tremaining: 510ms\n",
            "20:\tlearn: 0.9075536\ttotal: 135ms\tremaining: 506ms\n",
            "21:\tlearn: 0.9086809\ttotal: 137ms\tremaining: 485ms\n",
            "22:\tlearn: 0.9075536\ttotal: 140ms\tremaining: 468ms\n",
            "23:\tlearn: 0.9109357\ttotal: 140ms\tremaining: 444ms\n",
            "24:\tlearn: 0.9098083\ttotal: 144ms\tremaining: 432ms\n",
            "25:\tlearn: 0.9098083\ttotal: 147ms\tremaining: 419ms\n",
            "26:\tlearn: 0.9086809\ttotal: 150ms\tremaining: 405ms\n",
            "27:\tlearn: 0.9075536\ttotal: 153ms\tremaining: 392ms\n",
            "28:\tlearn: 0.9086809\ttotal: 156ms\tremaining: 381ms\n",
            "29:\tlearn: 0.9086809\ttotal: 161ms\tremaining: 376ms\n",
            "30:\tlearn: 0.9086809\ttotal: 165ms\tremaining: 368ms\n",
            "31:\tlearn: 0.9109357\ttotal: 168ms\tremaining: 358ms\n",
            "32:\tlearn: 0.9120631\ttotal: 171ms\tremaining: 347ms\n",
            "33:\tlearn: 0.9109357\ttotal: 175ms\tremaining: 339ms\n",
            "34:\tlearn: 0.9143179\ttotal: 178ms\tremaining: 330ms\n",
            "35:\tlearn: 0.9143179\ttotal: 181ms\tremaining: 321ms\n",
            "36:\tlearn: 0.9131905\ttotal: 184ms\tremaining: 313ms\n",
            "37:\tlearn: 0.9154453\ttotal: 187ms\tremaining: 305ms\n",
            "38:\tlearn: 0.9143179\ttotal: 190ms\tremaining: 297ms\n",
            "39:\tlearn: 0.9143179\ttotal: 193ms\tremaining: 289ms\n",
            "40:\tlearn: 0.9143179\ttotal: 198ms\tremaining: 285ms\n",
            "41:\tlearn: 0.9165727\ttotal: 205ms\tremaining: 283ms\n",
            "42:\tlearn: 0.9177001\ttotal: 209ms\tremaining: 277ms\n",
            "43:\tlearn: 0.9188275\ttotal: 216ms\tremaining: 274ms\n",
            "44:\tlearn: 0.9210823\ttotal: 227ms\tremaining: 278ms\n",
            "45:\tlearn: 0.9210823\ttotal: 231ms\tremaining: 271ms\n",
            "46:\tlearn: 0.9210823\ttotal: 238ms\tremaining: 269ms\n",
            "47:\tlearn: 0.9210823\ttotal: 246ms\tremaining: 266ms\n",
            "48:\tlearn: 0.9222097\ttotal: 257ms\tremaining: 267ms\n",
            "49:\tlearn: 0.9222097\ttotal: 261ms\tremaining: 261ms\n",
            "50:\tlearn: 0.9222097\ttotal: 268ms\tremaining: 258ms\n",
            "51:\tlearn: 0.9233371\ttotal: 276ms\tremaining: 254ms\n",
            "52:\tlearn: 0.9233371\ttotal: 285ms\tremaining: 253ms\n",
            "53:\tlearn: 0.9222097\ttotal: 290ms\tremaining: 247ms\n",
            "54:\tlearn: 0.9233371\ttotal: 294ms\tremaining: 240ms\n",
            "55:\tlearn: 0.9233371\ttotal: 298ms\tremaining: 234ms\n",
            "56:\tlearn: 0.9244645\ttotal: 301ms\tremaining: 227ms\n",
            "57:\tlearn: 0.9244645\ttotal: 305ms\tremaining: 221ms\n",
            "58:\tlearn: 0.9244645\ttotal: 308ms\tremaining: 214ms\n",
            "59:\tlearn: 0.9244645\ttotal: 312ms\tremaining: 208ms\n",
            "60:\tlearn: 0.9255919\ttotal: 315ms\tremaining: 201ms\n",
            "61:\tlearn: 0.9244645\ttotal: 318ms\tremaining: 195ms\n",
            "62:\tlearn: 0.9267193\ttotal: 320ms\tremaining: 188ms\n",
            "63:\tlearn: 0.9267193\ttotal: 323ms\tremaining: 182ms\n",
            "64:\tlearn: 0.9255919\ttotal: 330ms\tremaining: 178ms\n",
            "65:\tlearn: 0.9255919\ttotal: 337ms\tremaining: 174ms\n",
            "66:\tlearn: 0.9267193\ttotal: 345ms\tremaining: 170ms\n",
            "67:\tlearn: 0.9278467\ttotal: 348ms\tremaining: 164ms\n",
            "68:\tlearn: 0.9278467\ttotal: 350ms\tremaining: 157ms\n",
            "69:\tlearn: 0.9267193\ttotal: 353ms\tremaining: 151ms\n",
            "70:\tlearn: 0.9267193\ttotal: 356ms\tremaining: 145ms\n",
            "71:\tlearn: 0.9267193\ttotal: 358ms\tremaining: 139ms\n",
            "72:\tlearn: 0.9289741\ttotal: 361ms\tremaining: 134ms\n",
            "73:\tlearn: 0.9301015\ttotal: 364ms\tremaining: 128ms\n",
            "74:\tlearn: 0.9301015\ttotal: 367ms\tremaining: 122ms\n",
            "75:\tlearn: 0.9334837\ttotal: 370ms\tremaining: 117ms\n",
            "76:\tlearn: 0.9323563\ttotal: 373ms\tremaining: 111ms\n",
            "77:\tlearn: 0.9323563\ttotal: 375ms\tremaining: 106ms\n",
            "78:\tlearn: 0.9312289\ttotal: 380ms\tremaining: 101ms\n",
            "79:\tlearn: 0.9312289\ttotal: 387ms\tremaining: 96.8ms\n",
            "80:\tlearn: 0.9312289\ttotal: 392ms\tremaining: 92.1ms\n",
            "81:\tlearn: 0.9312289\ttotal: 398ms\tremaining: 87.3ms\n",
            "82:\tlearn: 0.9312289\ttotal: 405ms\tremaining: 82.9ms\n",
            "83:\tlearn: 0.9312289\ttotal: 410ms\tremaining: 78.1ms\n",
            "84:\tlearn: 0.9312289\ttotal: 415ms\tremaining: 73.3ms\n",
            "85:\tlearn: 0.9312289\ttotal: 422ms\tremaining: 68.8ms\n",
            "86:\tlearn: 0.9323563\ttotal: 430ms\tremaining: 64.2ms\n",
            "87:\tlearn: 0.9323563\ttotal: 438ms\tremaining: 59.8ms\n",
            "88:\tlearn: 0.9334837\ttotal: 443ms\tremaining: 54.8ms\n",
            "89:\tlearn: 0.9334837\ttotal: 446ms\tremaining: 49.6ms\n",
            "90:\tlearn: 0.9334837\ttotal: 454ms\tremaining: 44.9ms\n",
            "91:\tlearn: 0.9334837\ttotal: 462ms\tremaining: 40.2ms\n",
            "92:\tlearn: 0.9334837\ttotal: 467ms\tremaining: 35.1ms\n",
            "93:\tlearn: 0.9334837\ttotal: 472ms\tremaining: 30.1ms\n",
            "94:\tlearn: 0.9334837\ttotal: 480ms\tremaining: 25.3ms\n",
            "95:\tlearn: 0.9334837\ttotal: 484ms\tremaining: 20.2ms\n",
            "96:\tlearn: 0.9334837\ttotal: 491ms\tremaining: 15.2ms\n",
            "97:\tlearn: 0.9334837\ttotal: 498ms\tremaining: 10.2ms\n",
            "98:\tlearn: 0.9334837\ttotal: 505ms\tremaining: 5.1ms\n",
            "99:\tlearn: 0.9334837\ttotal: 511ms\tremaining: 0us\n",
            "0:\tlearn: 0.8680947\ttotal: 2.46ms\tremaining: 243ms\n",
            "1:\tlearn: 0.8737317\ttotal: 6.36ms\tremaining: 312ms\n",
            "2:\tlearn: 0.8782413\ttotal: 9.35ms\tremaining: 302ms\n",
            "3:\tlearn: 0.8850056\ttotal: 11.6ms\tremaining: 278ms\n",
            "4:\tlearn: 0.8703495\ttotal: 12.3ms\tremaining: 234ms\n",
            "5:\tlearn: 0.8782413\ttotal: 15.2ms\tremaining: 239ms\n",
            "6:\tlearn: 0.8737317\ttotal: 17.6ms\tremaining: 233ms\n",
            "7:\tlearn: 0.8782413\ttotal: 20.2ms\tremaining: 233ms\n",
            "8:\tlearn: 0.8782413\ttotal: 22.9ms\tremaining: 232ms\n",
            "9:\tlearn: 0.8872604\ttotal: 26.2ms\tremaining: 236ms\n",
            "10:\tlearn: 0.8793687\ttotal: 30.9ms\tremaining: 250ms\n",
            "11:\tlearn: 0.8895152\ttotal: 37.7ms\tremaining: 276ms\n",
            "12:\tlearn: 0.8940248\ttotal: 44.9ms\tremaining: 301ms\n",
            "13:\tlearn: 0.8985344\ttotal: 52.5ms\tremaining: 322ms\n",
            "14:\tlearn: 0.8962796\ttotal: 62.2ms\tremaining: 352ms\n",
            "15:\tlearn: 0.8985344\ttotal: 66ms\tremaining: 346ms\n",
            "16:\tlearn: 0.8985344\ttotal: 72.9ms\tremaining: 356ms\n",
            "17:\tlearn: 0.8996618\ttotal: 79.9ms\tremaining: 364ms\n",
            "18:\tlearn: 0.8951522\ttotal: 80.6ms\tremaining: 344ms\n",
            "19:\tlearn: 0.9007892\ttotal: 84ms\tremaining: 336ms\n",
            "20:\tlearn: 0.8996618\ttotal: 96ms\tremaining: 361ms\n",
            "21:\tlearn: 0.9030440\ttotal: 103ms\tremaining: 365ms\n",
            "22:\tlearn: 0.9041714\ttotal: 110ms\tremaining: 368ms\n",
            "23:\tlearn: 0.9052988\ttotal: 117ms\tremaining: 371ms\n",
            "24:\tlearn: 0.9052988\ttotal: 124ms\tremaining: 372ms\n",
            "25:\tlearn: 0.9098083\ttotal: 131ms\tremaining: 373ms\n",
            "26:\tlearn: 0.9052988\ttotal: 135ms\tremaining: 365ms\n",
            "27:\tlearn: 0.9075536\ttotal: 139ms\tremaining: 357ms\n",
            "28:\tlearn: 0.9052988\ttotal: 146ms\tremaining: 357ms\n",
            "29:\tlearn: 0.9064262\ttotal: 156ms\tremaining: 363ms\n",
            "30:\tlearn: 0.9086809\ttotal: 158ms\tremaining: 352ms\n",
            "31:\tlearn: 0.9098083\ttotal: 161ms\tremaining: 342ms\n",
            "32:\tlearn: 0.9098083\ttotal: 164ms\tremaining: 334ms\n",
            "33:\tlearn: 0.9109357\ttotal: 168ms\tremaining: 326ms\n",
            "34:\tlearn: 0.9120631\ttotal: 171ms\tremaining: 318ms\n",
            "35:\tlearn: 0.9131905\ttotal: 175ms\tremaining: 310ms\n",
            "36:\tlearn: 0.9143179\ttotal: 178ms\tremaining: 304ms\n",
            "37:\tlearn: 0.9143179\ttotal: 184ms\tremaining: 300ms\n",
            "38:\tlearn: 0.9165727\ttotal: 191ms\tremaining: 299ms\n",
            "39:\tlearn: 0.9188275\ttotal: 203ms\tremaining: 304ms\n",
            "40:\tlearn: 0.9188275\ttotal: 207ms\tremaining: 298ms\n",
            "41:\tlearn: 0.9199549\ttotal: 215ms\tremaining: 296ms\n",
            "42:\tlearn: 0.9199549\ttotal: 222ms\tremaining: 295ms\n",
            "43:\tlearn: 0.9199549\ttotal: 229ms\tremaining: 292ms\n",
            "44:\tlearn: 0.9199549\ttotal: 236ms\tremaining: 289ms\n",
            "45:\tlearn: 0.9222097\ttotal: 243ms\tremaining: 285ms\n",
            "46:\tlearn: 0.9199549\ttotal: 246ms\tremaining: 277ms\n",
            "47:\tlearn: 0.9222097\ttotal: 248ms\tremaining: 269ms\n",
            "48:\tlearn: 0.9244645\ttotal: 251ms\tremaining: 262ms\n",
            "49:\tlearn: 0.9244645\ttotal: 254ms\tremaining: 254ms\n",
            "50:\tlearn: 0.9267193\ttotal: 257ms\tremaining: 247ms\n",
            "51:\tlearn: 0.9267193\ttotal: 260ms\tremaining: 240ms\n",
            "52:\tlearn: 0.9278467\ttotal: 269ms\tremaining: 239ms\n",
            "53:\tlearn: 0.9289741\ttotal: 273ms\tremaining: 232ms\n",
            "54:\tlearn: 0.9289741\ttotal: 287ms\tremaining: 235ms\n",
            "55:\tlearn: 0.9289741\ttotal: 291ms\tremaining: 228ms\n",
            "56:\tlearn: 0.9289741\ttotal: 297ms\tremaining: 224ms\n",
            "57:\tlearn: 0.9289741\ttotal: 304ms\tremaining: 220ms\n",
            "58:\tlearn: 0.9289741\ttotal: 311ms\tremaining: 216ms\n",
            "59:\tlearn: 0.9301015\ttotal: 321ms\tremaining: 214ms\n",
            "60:\tlearn: 0.9312289\ttotal: 325ms\tremaining: 208ms\n",
            "61:\tlearn: 0.9323563\ttotal: 333ms\tremaining: 204ms\n",
            "62:\tlearn: 0.9301015\ttotal: 338ms\tremaining: 199ms\n",
            "63:\tlearn: 0.9323563\ttotal: 346ms\tremaining: 195ms\n",
            "64:\tlearn: 0.9323563\ttotal: 353ms\tremaining: 190ms\n",
            "65:\tlearn: 0.9334837\ttotal: 356ms\tremaining: 183ms\n",
            "66:\tlearn: 0.9346110\ttotal: 359ms\tremaining: 177ms\n",
            "67:\tlearn: 0.9357384\ttotal: 362ms\tremaining: 170ms\n",
            "68:\tlearn: 0.9357384\ttotal: 365ms\tremaining: 164ms\n",
            "69:\tlearn: 0.9368658\ttotal: 367ms\tremaining: 157ms\n",
            "70:\tlearn: 0.9357384\ttotal: 370ms\tremaining: 151ms\n",
            "71:\tlearn: 0.9357384\ttotal: 373ms\tremaining: 145ms\n",
            "72:\tlearn: 0.9357384\ttotal: 381ms\tremaining: 141ms\n",
            "73:\tlearn: 0.9357384\ttotal: 384ms\tremaining: 135ms\n",
            "74:\tlearn: 0.9357384\ttotal: 389ms\tremaining: 130ms\n",
            "75:\tlearn: 0.9357384\ttotal: 392ms\tremaining: 124ms\n",
            "76:\tlearn: 0.9368658\ttotal: 395ms\tremaining: 118ms\n",
            "77:\tlearn: 0.9368658\ttotal: 398ms\tremaining: 112ms\n",
            "78:\tlearn: 0.9368658\ttotal: 400ms\tremaining: 106ms\n",
            "79:\tlearn: 0.9368658\ttotal: 402ms\tremaining: 100ms\n",
            "80:\tlearn: 0.9357384\ttotal: 405ms\tremaining: 95ms\n",
            "81:\tlearn: 0.9357384\ttotal: 407ms\tremaining: 89.4ms\n",
            "82:\tlearn: 0.9357384\ttotal: 410ms\tremaining: 84ms\n",
            "83:\tlearn: 0.9357384\ttotal: 412ms\tremaining: 78.6ms\n",
            "84:\tlearn: 0.9357384\ttotal: 416ms\tremaining: 73.3ms\n",
            "85:\tlearn: 0.9368658\ttotal: 418ms\tremaining: 68.1ms\n",
            "86:\tlearn: 0.9379932\ttotal: 421ms\tremaining: 62.9ms\n",
            "87:\tlearn: 0.9379932\ttotal: 423ms\tremaining: 57.7ms\n",
            "88:\tlearn: 0.9379932\ttotal: 426ms\tremaining: 52.7ms\n",
            "89:\tlearn: 0.9379932\ttotal: 429ms\tremaining: 47.7ms\n",
            "90:\tlearn: 0.9368658\ttotal: 432ms\tremaining: 42.7ms\n",
            "91:\tlearn: 0.9368658\ttotal: 434ms\tremaining: 37.8ms\n",
            "92:\tlearn: 0.9368658\ttotal: 437ms\tremaining: 32.9ms\n",
            "93:\tlearn: 0.9368658\ttotal: 440ms\tremaining: 28.1ms\n",
            "94:\tlearn: 0.9368658\ttotal: 443ms\tremaining: 23.3ms\n",
            "95:\tlearn: 0.9368658\ttotal: 446ms\tremaining: 18.6ms\n",
            "96:\tlearn: 0.9379932\ttotal: 448ms\tremaining: 13.9ms\n",
            "97:\tlearn: 0.9368658\ttotal: 451ms\tremaining: 9.2ms\n",
            "98:\tlearn: 0.9379932\ttotal: 459ms\tremaining: 4.64ms\n",
            "99:\tlearn: 0.9368658\ttotal: 462ms\tremaining: 0us\n",
            "0:\tlearn: 0.8692221\ttotal: 8.39ms\tremaining: 831ms\n",
            "1:\tlearn: 0.8726043\ttotal: 12.2ms\tremaining: 599ms\n",
            "2:\tlearn: 0.8872604\ttotal: 15.5ms\tremaining: 501ms\n",
            "3:\tlearn: 0.8906426\ttotal: 18.6ms\tremaining: 446ms\n",
            "4:\tlearn: 0.8703495\ttotal: 19.3ms\tremaining: 366ms\n",
            "5:\tlearn: 0.8816234\ttotal: 22.3ms\tremaining: 350ms\n",
            "6:\tlearn: 0.8838782\ttotal: 25.1ms\tremaining: 334ms\n",
            "7:\tlearn: 0.8883878\ttotal: 27.6ms\tremaining: 317ms\n",
            "8:\tlearn: 0.8951522\ttotal: 34.1ms\tremaining: 345ms\n",
            "9:\tlearn: 0.8962796\ttotal: 36.5ms\tremaining: 328ms\n",
            "10:\tlearn: 0.8962796\ttotal: 39.1ms\tremaining: 317ms\n",
            "11:\tlearn: 0.8974070\ttotal: 44.4ms\tremaining: 326ms\n",
            "12:\tlearn: 0.9019166\ttotal: 47.8ms\tremaining: 320ms\n",
            "13:\tlearn: 0.8996618\ttotal: 53.2ms\tremaining: 327ms\n",
            "14:\tlearn: 0.9007892\ttotal: 59.1ms\tremaining: 335ms\n",
            "15:\tlearn: 0.9041714\ttotal: 62.7ms\tremaining: 329ms\n",
            "16:\tlearn: 0.9052988\ttotal: 66.1ms\tremaining: 323ms\n",
            "17:\tlearn: 0.9052988\ttotal: 69.4ms\tremaining: 316ms\n",
            "18:\tlearn: 0.9019166\ttotal: 69.9ms\tremaining: 298ms\n",
            "19:\tlearn: 0.9052988\ttotal: 72.6ms\tremaining: 290ms\n",
            "20:\tlearn: 0.9052988\ttotal: 75.4ms\tremaining: 284ms\n",
            "21:\tlearn: 0.9052988\ttotal: 78.5ms\tremaining: 278ms\n",
            "22:\tlearn: 0.9064262\ttotal: 80.9ms\tremaining: 271ms\n",
            "23:\tlearn: 0.9075536\ttotal: 84.6ms\tremaining: 268ms\n",
            "24:\tlearn: 0.9086809\ttotal: 88ms\tremaining: 264ms\n",
            "25:\tlearn: 0.9098083\ttotal: 95ms\tremaining: 270ms\n",
            "26:\tlearn: 0.9098083\ttotal: 98.8ms\tremaining: 267ms\n",
            "27:\tlearn: 0.9098083\ttotal: 102ms\tremaining: 263ms\n",
            "28:\tlearn: 0.9109357\ttotal: 105ms\tremaining: 258ms\n",
            "29:\tlearn: 0.9131905\ttotal: 108ms\tremaining: 252ms\n",
            "30:\tlearn: 0.9154453\ttotal: 111ms\tremaining: 248ms\n",
            "31:\tlearn: 0.9131905\ttotal: 114ms\tremaining: 242ms\n",
            "32:\tlearn: 0.9154453\ttotal: 116ms\tremaining: 236ms\n",
            "33:\tlearn: 0.9143179\ttotal: 119ms\tremaining: 232ms\n",
            "34:\tlearn: 0.9143179\ttotal: 122ms\tremaining: 227ms\n",
            "35:\tlearn: 0.9154453\ttotal: 125ms\tremaining: 222ms\n",
            "36:\tlearn: 0.9165727\ttotal: 132ms\tremaining: 224ms\n",
            "37:\tlearn: 0.9165727\ttotal: 136ms\tremaining: 222ms\n",
            "38:\tlearn: 0.9154453\ttotal: 139ms\tremaining: 218ms\n",
            "39:\tlearn: 0.9165727\ttotal: 142ms\tremaining: 212ms\n",
            "40:\tlearn: 0.9199549\ttotal: 144ms\tremaining: 208ms\n",
            "41:\tlearn: 0.9188275\ttotal: 147ms\tremaining: 203ms\n",
            "42:\tlearn: 0.9188275\ttotal: 150ms\tremaining: 199ms\n",
            "43:\tlearn: 0.9199549\ttotal: 153ms\tremaining: 194ms\n",
            "44:\tlearn: 0.9199549\ttotal: 156ms\tremaining: 190ms\n",
            "45:\tlearn: 0.9199549\ttotal: 158ms\tremaining: 186ms\n",
            "46:\tlearn: 0.9210823\ttotal: 161ms\tremaining: 182ms\n",
            "47:\tlearn: 0.9222097\ttotal: 164ms\tremaining: 178ms\n",
            "48:\tlearn: 0.9222097\ttotal: 169ms\tremaining: 176ms\n",
            "49:\tlearn: 0.9222097\ttotal: 176ms\tremaining: 176ms\n",
            "50:\tlearn: 0.9233371\ttotal: 183ms\tremaining: 176ms\n",
            "51:\tlearn: 0.9222097\ttotal: 190ms\tremaining: 176ms\n",
            "52:\tlearn: 0.9244645\ttotal: 197ms\tremaining: 175ms\n",
            "53:\tlearn: 0.9255919\ttotal: 205ms\tremaining: 174ms\n",
            "54:\tlearn: 0.9244645\ttotal: 212ms\tremaining: 173ms\n",
            "55:\tlearn: 0.9255919\ttotal: 218ms\tremaining: 172ms\n",
            "56:\tlearn: 0.9255919\ttotal: 225ms\tremaining: 170ms\n",
            "57:\tlearn: 0.9255919\ttotal: 233ms\tremaining: 169ms\n",
            "58:\tlearn: 0.9244645\ttotal: 237ms\tremaining: 165ms\n",
            "59:\tlearn: 0.9255919\ttotal: 246ms\tremaining: 164ms\n",
            "60:\tlearn: 0.9278467\ttotal: 251ms\tremaining: 161ms\n",
            "61:\tlearn: 0.9278467\ttotal: 255ms\tremaining: 156ms\n",
            "62:\tlearn: 0.9278467\ttotal: 259ms\tremaining: 152ms\n",
            "63:\tlearn: 0.9289741\ttotal: 264ms\tremaining: 149ms\n",
            "64:\tlearn: 0.9278467\ttotal: 268ms\tremaining: 144ms\n",
            "65:\tlearn: 0.9301015\ttotal: 272ms\tremaining: 140ms\n",
            "66:\tlearn: 0.9301015\ttotal: 278ms\tremaining: 137ms\n",
            "67:\tlearn: 0.9289741\ttotal: 288ms\tremaining: 135ms\n",
            "68:\tlearn: 0.9289741\ttotal: 291ms\tremaining: 131ms\n",
            "69:\tlearn: 0.9301015\ttotal: 305ms\tremaining: 131ms\n",
            "70:\tlearn: 0.9289741\ttotal: 313ms\tremaining: 128ms\n",
            "71:\tlearn: 0.9289741\ttotal: 319ms\tremaining: 124ms\n",
            "72:\tlearn: 0.9323563\ttotal: 326ms\tremaining: 121ms\n",
            "73:\tlearn: 0.9323563\ttotal: 333ms\tremaining: 117ms\n",
            "74:\tlearn: 0.9323563\ttotal: 342ms\tremaining: 114ms\n",
            "75:\tlearn: 0.9323563\ttotal: 348ms\tremaining: 110ms\n",
            "76:\tlearn: 0.9346110\ttotal: 354ms\tremaining: 106ms\n",
            "77:\tlearn: 0.9334837\ttotal: 363ms\tremaining: 102ms\n",
            "78:\tlearn: 0.9334837\ttotal: 373ms\tremaining: 99.2ms\n",
            "79:\tlearn: 0.9334837\ttotal: 386ms\tremaining: 96.6ms\n",
            "80:\tlearn: 0.9323563\ttotal: 391ms\tremaining: 91.8ms\n",
            "81:\tlearn: 0.9323563\ttotal: 400ms\tremaining: 87.7ms\n",
            "82:\tlearn: 0.9323563\ttotal: 407ms\tremaining: 83.3ms\n",
            "83:\tlearn: 0.9334837\ttotal: 410ms\tremaining: 78.2ms\n",
            "84:\tlearn: 0.9334837\ttotal: 417ms\tremaining: 73.7ms\n",
            "85:\tlearn: 0.9334837\ttotal: 424ms\tremaining: 69.1ms\n",
            "86:\tlearn: 0.9346110\ttotal: 431ms\tremaining: 64.4ms\n",
            "87:\tlearn: 0.9346110\ttotal: 438ms\tremaining: 59.7ms\n",
            "88:\tlearn: 0.9346110\ttotal: 445ms\tremaining: 55ms\n",
            "89:\tlearn: 0.9346110\ttotal: 452ms\tremaining: 50.2ms\n",
            "90:\tlearn: 0.9346110\ttotal: 456ms\tremaining: 45.1ms\n",
            "91:\tlearn: 0.9357384\ttotal: 459ms\tremaining: 39.9ms\n",
            "92:\tlearn: 0.9368658\ttotal: 462ms\tremaining: 34.8ms\n",
            "93:\tlearn: 0.9368658\ttotal: 465ms\tremaining: 29.7ms\n",
            "94:\tlearn: 0.9368658\ttotal: 472ms\tremaining: 24.8ms\n",
            "95:\tlearn: 0.9368658\ttotal: 478ms\tremaining: 19.9ms\n",
            "96:\tlearn: 0.9357384\ttotal: 497ms\tremaining: 15.4ms\n",
            "97:\tlearn: 0.9357384\ttotal: 499ms\tremaining: 10.2ms\n",
            "98:\tlearn: 0.9357384\ttotal: 501ms\tremaining: 5.06ms\n",
            "99:\tlearn: 0.9357384\ttotal: 505ms\tremaining: 0us\n",
            "0:\tlearn: 0.8726043\ttotal: 3.48ms\tremaining: 344ms\n",
            "1:\tlearn: 0.8827508\ttotal: 10.9ms\tremaining: 535ms\n",
            "2:\tlearn: 0.8928974\ttotal: 24.2ms\tremaining: 782ms\n",
            "3:\tlearn: 0.8928974\ttotal: 31.3ms\tremaining: 750ms\n",
            "4:\tlearn: 0.8827508\ttotal: 34ms\tremaining: 647ms\n",
            "5:\tlearn: 0.8872604\ttotal: 35.6ms\tremaining: 558ms\n",
            "6:\tlearn: 0.8827508\ttotal: 37.6ms\tremaining: 499ms\n",
            "7:\tlearn: 0.8872604\ttotal: 42.2ms\tremaining: 485ms\n",
            "8:\tlearn: 0.8883878\ttotal: 44.9ms\tremaining: 454ms\n",
            "9:\tlearn: 0.8883878\ttotal: 47.8ms\tremaining: 430ms\n",
            "10:\tlearn: 0.8838782\ttotal: 50.6ms\tremaining: 409ms\n",
            "11:\tlearn: 0.8850056\ttotal: 52.9ms\tremaining: 388ms\n",
            "12:\tlearn: 0.8883878\ttotal: 55.6ms\tremaining: 372ms\n",
            "13:\tlearn: 0.8883878\ttotal: 56.3ms\tremaining: 346ms\n",
            "14:\tlearn: 0.8906426\ttotal: 59ms\tremaining: 334ms\n",
            "15:\tlearn: 0.8928974\ttotal: 62ms\tremaining: 325ms\n",
            "16:\tlearn: 0.8962796\ttotal: 64.4ms\tremaining: 314ms\n",
            "17:\tlearn: 0.8940248\ttotal: 67.5ms\tremaining: 307ms\n",
            "18:\tlearn: 0.8974070\ttotal: 70.3ms\tremaining: 300ms\n",
            "19:\tlearn: 0.8985344\ttotal: 72.7ms\tremaining: 291ms\n",
            "20:\tlearn: 0.8962796\ttotal: 75.8ms\tremaining: 285ms\n",
            "21:\tlearn: 0.9007892\ttotal: 79.5ms\tremaining: 282ms\n",
            "22:\tlearn: 0.8996618\ttotal: 86.1ms\tremaining: 288ms\n",
            "23:\tlearn: 0.8996618\ttotal: 92.1ms\tremaining: 292ms\n",
            "24:\tlearn: 0.9030440\ttotal: 99.4ms\tremaining: 298ms\n",
            "25:\tlearn: 0.9052988\ttotal: 107ms\tremaining: 305ms\n",
            "26:\tlearn: 0.9075536\ttotal: 114ms\tremaining: 309ms\n",
            "27:\tlearn: 0.9064262\ttotal: 127ms\tremaining: 326ms\n",
            "28:\tlearn: 0.9075536\ttotal: 134ms\tremaining: 327ms\n",
            "29:\tlearn: 0.9109357\ttotal: 138ms\tremaining: 321ms\n",
            "30:\tlearn: 0.9075536\ttotal: 145ms\tremaining: 322ms\n",
            "31:\tlearn: 0.9109357\ttotal: 147ms\tremaining: 313ms\n",
            "32:\tlearn: 0.9143179\ttotal: 152ms\tremaining: 308ms\n",
            "33:\tlearn: 0.9120631\ttotal: 155ms\tremaining: 302ms\n",
            "34:\tlearn: 0.9131905\ttotal: 166ms\tremaining: 309ms\n",
            "35:\tlearn: 0.9143179\ttotal: 172ms\tremaining: 305ms\n",
            "36:\tlearn: 0.9143179\ttotal: 179ms\tremaining: 304ms\n",
            "37:\tlearn: 0.9143179\ttotal: 184ms\tremaining: 300ms\n",
            "38:\tlearn: 0.9154453\ttotal: 192ms\tremaining: 301ms\n",
            "39:\tlearn: 0.9154453\ttotal: 198ms\tremaining: 297ms\n",
            "40:\tlearn: 0.9199549\ttotal: 203ms\tremaining: 292ms\n",
            "41:\tlearn: 0.9177001\ttotal: 210ms\tremaining: 290ms\n",
            "42:\tlearn: 0.9199549\ttotal: 214ms\tremaining: 284ms\n",
            "43:\tlearn: 0.9233371\ttotal: 221ms\tremaining: 281ms\n",
            "44:\tlearn: 0.9244645\ttotal: 228ms\tremaining: 278ms\n",
            "45:\tlearn: 0.9267193\ttotal: 235ms\tremaining: 275ms\n",
            "46:\tlearn: 0.9255919\ttotal: 241ms\tremaining: 272ms\n",
            "47:\tlearn: 0.9255919\ttotal: 248ms\tremaining: 269ms\n",
            "48:\tlearn: 0.9244645\ttotal: 260ms\tremaining: 271ms\n",
            "49:\tlearn: 0.9244645\ttotal: 266ms\tremaining: 266ms\n",
            "50:\tlearn: 0.9267193\ttotal: 270ms\tremaining: 259ms\n",
            "51:\tlearn: 0.9278467\ttotal: 280ms\tremaining: 259ms\n",
            "52:\tlearn: 0.9278467\ttotal: 287ms\tremaining: 255ms\n",
            "53:\tlearn: 0.9267193\ttotal: 293ms\tremaining: 250ms\n",
            "54:\tlearn: 0.9278467\ttotal: 297ms\tremaining: 243ms\n",
            "55:\tlearn: 0.9267193\ttotal: 308ms\tremaining: 242ms\n",
            "56:\tlearn: 0.9267193\ttotal: 313ms\tremaining: 236ms\n",
            "57:\tlearn: 0.9301015\ttotal: 319ms\tremaining: 231ms\n",
            "58:\tlearn: 0.9301015\ttotal: 329ms\tremaining: 229ms\n",
            "59:\tlearn: 0.9301015\ttotal: 333ms\tremaining: 222ms\n",
            "60:\tlearn: 0.9334837\ttotal: 340ms\tremaining: 217ms\n",
            "61:\tlearn: 0.9346110\ttotal: 347ms\tremaining: 213ms\n",
            "62:\tlearn: 0.9323563\ttotal: 351ms\tremaining: 206ms\n",
            "63:\tlearn: 0.9346110\ttotal: 355ms\tremaining: 200ms\n",
            "64:\tlearn: 0.9346110\ttotal: 362ms\tremaining: 195ms\n",
            "65:\tlearn: 0.9346110\ttotal: 369ms\tremaining: 190ms\n",
            "66:\tlearn: 0.9346110\ttotal: 376ms\tremaining: 185ms\n",
            "67:\tlearn: 0.9357384\ttotal: 384ms\tremaining: 181ms\n",
            "68:\tlearn: 0.9368658\ttotal: 388ms\tremaining: 174ms\n",
            "69:\tlearn: 0.9368658\ttotal: 395ms\tremaining: 169ms\n",
            "70:\tlearn: 0.9357384\ttotal: 402ms\tremaining: 164ms\n",
            "71:\tlearn: 0.9368658\ttotal: 409ms\tremaining: 159ms\n",
            "72:\tlearn: 0.9368658\ttotal: 416ms\tremaining: 154ms\n",
            "73:\tlearn: 0.9357384\ttotal: 423ms\tremaining: 148ms\n",
            "74:\tlearn: 0.9391206\ttotal: 434ms\tremaining: 145ms\n",
            "75:\tlearn: 0.9402480\ttotal: 441ms\tremaining: 139ms\n",
            "76:\tlearn: 0.9391206\ttotal: 448ms\tremaining: 134ms\n",
            "77:\tlearn: 0.9402480\ttotal: 452ms\tremaining: 127ms\n",
            "78:\tlearn: 0.9413754\ttotal: 459ms\tremaining: 122ms\n",
            "79:\tlearn: 0.9413754\ttotal: 468ms\tremaining: 117ms\n",
            "80:\tlearn: 0.9402480\ttotal: 471ms\tremaining: 111ms\n",
            "81:\tlearn: 0.9391206\ttotal: 478ms\tremaining: 105ms\n",
            "82:\tlearn: 0.9402480\ttotal: 490ms\tremaining: 100ms\n",
            "83:\tlearn: 0.9413754\ttotal: 495ms\tremaining: 94.3ms\n",
            "84:\tlearn: 0.9402480\ttotal: 503ms\tremaining: 88.7ms\n",
            "85:\tlearn: 0.9425028\ttotal: 506ms\tremaining: 82.4ms\n",
            "86:\tlearn: 0.9425028\ttotal: 510ms\tremaining: 76.2ms\n",
            "87:\tlearn: 0.9413754\ttotal: 514ms\tremaining: 70ms\n",
            "88:\tlearn: 0.9413754\ttotal: 516ms\tremaining: 63.8ms\n",
            "89:\tlearn: 0.9425028\ttotal: 520ms\tremaining: 57.8ms\n",
            "90:\tlearn: 0.9413754\ttotal: 523ms\tremaining: 51.7ms\n",
            "91:\tlearn: 0.9413754\ttotal: 526ms\tremaining: 45.8ms\n",
            "92:\tlearn: 0.9436302\ttotal: 530ms\tremaining: 39.9ms\n",
            "93:\tlearn: 0.9447576\ttotal: 535ms\tremaining: 34.1ms\n",
            "94:\tlearn: 0.9436302\ttotal: 541ms\tremaining: 28.5ms\n",
            "95:\tlearn: 0.9436302\ttotal: 547ms\tremaining: 22.8ms\n",
            "96:\tlearn: 0.9447576\ttotal: 557ms\tremaining: 17.2ms\n",
            "97:\tlearn: 0.9458850\ttotal: 565ms\tremaining: 11.5ms\n",
            "98:\tlearn: 0.9447576\ttotal: 577ms\tremaining: 5.83ms\n",
            "99:\tlearn: 0.9447576\ttotal: 585ms\tremaining: 0us\n",
            "0:\tlearn: 0.8771139\ttotal: 2.88ms\tremaining: 286ms\n",
            "1:\tlearn: 0.8906426\ttotal: 6.69ms\tremaining: 328ms\n",
            "2:\tlearn: 0.8895152\ttotal: 11.7ms\tremaining: 378ms\n",
            "3:\tlearn: 0.8883878\ttotal: 15.6ms\tremaining: 373ms\n",
            "4:\tlearn: 0.8771139\ttotal: 16.3ms\tremaining: 309ms\n",
            "5:\tlearn: 0.8827508\ttotal: 19.2ms\tremaining: 301ms\n",
            "6:\tlearn: 0.8861330\ttotal: 22.5ms\tremaining: 299ms\n",
            "7:\tlearn: 0.8883878\ttotal: 25.4ms\tremaining: 292ms\n",
            "8:\tlearn: 0.8895152\ttotal: 28.1ms\tremaining: 284ms\n",
            "9:\tlearn: 0.8917700\ttotal: 31.2ms\tremaining: 281ms\n",
            "10:\tlearn: 0.8996618\ttotal: 34.4ms\tremaining: 278ms\n",
            "11:\tlearn: 0.8985344\ttotal: 37.4ms\tremaining: 274ms\n",
            "12:\tlearn: 0.8985344\ttotal: 40ms\tremaining: 268ms\n",
            "13:\tlearn: 0.9030440\ttotal: 43ms\tremaining: 264ms\n",
            "14:\tlearn: 0.9030440\ttotal: 45.7ms\tremaining: 259ms\n",
            "15:\tlearn: 0.9019166\ttotal: 53ms\tremaining: 278ms\n",
            "16:\tlearn: 0.9075536\ttotal: 55.8ms\tremaining: 272ms\n",
            "17:\tlearn: 0.9131905\ttotal: 58.7ms\tremaining: 267ms\n",
            "18:\tlearn: 0.9086809\ttotal: 59.3ms\tremaining: 253ms\n",
            "19:\tlearn: 0.9109357\ttotal: 62.2ms\tremaining: 249ms\n",
            "20:\tlearn: 0.9086809\ttotal: 65.1ms\tremaining: 245ms\n",
            "21:\tlearn: 0.9131905\ttotal: 67.4ms\tremaining: 239ms\n",
            "22:\tlearn: 0.9109357\ttotal: 70ms\tremaining: 234ms\n",
            "23:\tlearn: 0.9131905\ttotal: 70.5ms\tremaining: 223ms\n",
            "24:\tlearn: 0.9098083\ttotal: 73.4ms\tremaining: 220ms\n",
            "25:\tlearn: 0.9143179\ttotal: 75.8ms\tremaining: 216ms\n",
            "26:\tlearn: 0.9143179\ttotal: 78.7ms\tremaining: 213ms\n",
            "27:\tlearn: 0.9154453\ttotal: 81ms\tremaining: 208ms\n",
            "28:\tlearn: 0.9165727\ttotal: 84ms\tremaining: 206ms\n",
            "29:\tlearn: 0.9177001\ttotal: 86.9ms\tremaining: 203ms\n",
            "30:\tlearn: 0.9177001\ttotal: 95ms\tremaining: 211ms\n",
            "31:\tlearn: 0.9177001\ttotal: 101ms\tremaining: 214ms\n",
            "32:\tlearn: 0.9188275\ttotal: 103ms\tremaining: 209ms\n",
            "33:\tlearn: 0.9199549\ttotal: 106ms\tremaining: 206ms\n",
            "34:\tlearn: 0.9199549\ttotal: 110ms\tremaining: 204ms\n",
            "35:\tlearn: 0.9210823\ttotal: 116ms\tremaining: 206ms\n",
            "36:\tlearn: 0.9210823\ttotal: 122ms\tremaining: 208ms\n",
            "37:\tlearn: 0.9233371\ttotal: 132ms\tremaining: 216ms\n",
            "38:\tlearn: 0.9210823\ttotal: 136ms\tremaining: 213ms\n",
            "39:\tlearn: 0.9233371\ttotal: 143ms\tremaining: 214ms\n",
            "40:\tlearn: 0.9222097\ttotal: 150ms\tremaining: 215ms\n",
            "41:\tlearn: 0.9233371\ttotal: 161ms\tremaining: 222ms\n",
            "42:\tlearn: 0.9233371\ttotal: 167ms\tremaining: 222ms\n",
            "43:\tlearn: 0.9222097\ttotal: 174ms\tremaining: 222ms\n",
            "44:\tlearn: 0.9222097\ttotal: 181ms\tremaining: 221ms\n",
            "45:\tlearn: 0.9210823\ttotal: 187ms\tremaining: 220ms\n",
            "46:\tlearn: 0.9222097\ttotal: 191ms\tremaining: 215ms\n",
            "47:\tlearn: 0.9222097\ttotal: 195ms\tremaining: 211ms\n",
            "48:\tlearn: 0.9244645\ttotal: 201ms\tremaining: 210ms\n",
            "49:\tlearn: 0.9244645\ttotal: 209ms\tremaining: 209ms\n",
            "50:\tlearn: 0.9244645\ttotal: 222ms\tremaining: 214ms\n",
            "51:\tlearn: 0.9255919\ttotal: 229ms\tremaining: 212ms\n",
            "52:\tlearn: 0.9278467\ttotal: 236ms\tremaining: 210ms\n",
            "53:\tlearn: 0.9267193\ttotal: 246ms\tremaining: 210ms\n",
            "54:\tlearn: 0.9267193\ttotal: 250ms\tremaining: 204ms\n",
            "55:\tlearn: 0.9267193\ttotal: 257ms\tremaining: 202ms\n",
            "56:\tlearn: 0.9278467\ttotal: 263ms\tremaining: 199ms\n",
            "57:\tlearn: 0.9267193\ttotal: 270ms\tremaining: 196ms\n",
            "58:\tlearn: 0.9278467\ttotal: 277ms\tremaining: 193ms\n",
            "59:\tlearn: 0.9278467\ttotal: 286ms\tremaining: 190ms\n",
            "60:\tlearn: 0.9289741\ttotal: 293ms\tremaining: 187ms\n",
            "61:\tlearn: 0.9289741\ttotal: 297ms\tremaining: 182ms\n",
            "62:\tlearn: 0.9278467\ttotal: 300ms\tremaining: 176ms\n",
            "63:\tlearn: 0.9278467\ttotal: 304ms\tremaining: 171ms\n",
            "64:\tlearn: 0.9278467\ttotal: 311ms\tremaining: 167ms\n",
            "65:\tlearn: 0.9301015\ttotal: 318ms\tremaining: 164ms\n",
            "66:\tlearn: 0.9301015\ttotal: 325ms\tremaining: 160ms\n",
            "67:\tlearn: 0.9323563\ttotal: 331ms\tremaining: 156ms\n",
            "68:\tlearn: 0.9312289\ttotal: 338ms\tremaining: 152ms\n",
            "69:\tlearn: 0.9334837\ttotal: 345ms\tremaining: 148ms\n",
            "70:\tlearn: 0.9334837\ttotal: 351ms\tremaining: 144ms\n",
            "71:\tlearn: 0.9334837\ttotal: 355ms\tremaining: 138ms\n",
            "72:\tlearn: 0.9334837\ttotal: 359ms\tremaining: 133ms\n",
            "73:\tlearn: 0.9346110\ttotal: 367ms\tremaining: 129ms\n",
            "74:\tlearn: 0.9346110\ttotal: 370ms\tremaining: 123ms\n",
            "75:\tlearn: 0.9346110\ttotal: 374ms\tremaining: 118ms\n",
            "76:\tlearn: 0.9346110\ttotal: 377ms\tremaining: 113ms\n",
            "77:\tlearn: 0.9346110\ttotal: 380ms\tremaining: 107ms\n",
            "78:\tlearn: 0.9346110\ttotal: 383ms\tremaining: 102ms\n",
            "79:\tlearn: 0.9346110\ttotal: 386ms\tremaining: 96.5ms\n",
            "80:\tlearn: 0.9357384\ttotal: 389ms\tremaining: 91.1ms\n",
            "81:\tlearn: 0.9357384\ttotal: 391ms\tremaining: 85.9ms\n",
            "82:\tlearn: 0.9357384\ttotal: 396ms\tremaining: 81.2ms\n",
            "83:\tlearn: 0.9357384\ttotal: 398ms\tremaining: 75.8ms\n",
            "84:\tlearn: 0.9368658\ttotal: 405ms\tremaining: 71.4ms\n",
            "85:\tlearn: 0.9368658\ttotal: 412ms\tremaining: 67ms\n",
            "86:\tlearn: 0.9368658\ttotal: 414ms\tremaining: 61.9ms\n",
            "87:\tlearn: 0.9368658\ttotal: 418ms\tremaining: 57.1ms\n",
            "88:\tlearn: 0.9368658\ttotal: 421ms\tremaining: 52ms\n",
            "89:\tlearn: 0.9368658\ttotal: 424ms\tremaining: 47.1ms\n",
            "90:\tlearn: 0.9368658\ttotal: 427ms\tremaining: 42.3ms\n",
            "91:\tlearn: 0.9357384\ttotal: 430ms\tremaining: 37.4ms\n",
            "92:\tlearn: 0.9357384\ttotal: 433ms\tremaining: 32.6ms\n",
            "93:\tlearn: 0.9357384\ttotal: 436ms\tremaining: 27.8ms\n",
            "94:\tlearn: 0.9357384\ttotal: 438ms\tremaining: 23.1ms\n",
            "95:\tlearn: 0.9357384\ttotal: 441ms\tremaining: 18.4ms\n",
            "96:\tlearn: 0.9368658\ttotal: 444ms\tremaining: 13.7ms\n",
            "97:\tlearn: 0.9379932\ttotal: 446ms\tremaining: 9.11ms\n",
            "98:\tlearn: 0.9379932\ttotal: 450ms\tremaining: 4.55ms\n",
            "99:\tlearn: 0.9379932\ttotal: 453ms\tremaining: 0us\n",
            "0:\tlearn: 0.8669673\ttotal: 3.93ms\tremaining: 389ms\n",
            "1:\tlearn: 0.8726043\ttotal: 7.36ms\tremaining: 361ms\n",
            "2:\tlearn: 0.8838782\ttotal: 11.3ms\tremaining: 366ms\n",
            "3:\tlearn: 0.8872604\ttotal: 17.8ms\tremaining: 427ms\n",
            "4:\tlearn: 0.8714769\ttotal: 22.1ms\tremaining: 420ms\n",
            "5:\tlearn: 0.8782413\ttotal: 26.3ms\tremaining: 412ms\n",
            "6:\tlearn: 0.8883878\ttotal: 34.8ms\tremaining: 462ms\n",
            "7:\tlearn: 0.8895152\ttotal: 38.6ms\tremaining: 443ms\n",
            "8:\tlearn: 0.8940248\ttotal: 45.8ms\tremaining: 463ms\n",
            "9:\tlearn: 0.8928974\ttotal: 53.1ms\tremaining: 478ms\n",
            "10:\tlearn: 0.8962796\ttotal: 60.3ms\tremaining: 488ms\n",
            "11:\tlearn: 0.8962796\ttotal: 67.5ms\tremaining: 495ms\n",
            "12:\tlearn: 0.8996618\ttotal: 74.9ms\tremaining: 502ms\n",
            "13:\tlearn: 0.8974070\ttotal: 94.4ms\tremaining: 580ms\n",
            "14:\tlearn: 0.8985344\ttotal: 98.4ms\tremaining: 557ms\n",
            "15:\tlearn: 0.9030440\ttotal: 105ms\tremaining: 553ms\n",
            "16:\tlearn: 0.9019166\ttotal: 112ms\tremaining: 548ms\n",
            "17:\tlearn: 0.9019166\ttotal: 119ms\tremaining: 544ms\n",
            "18:\tlearn: 0.9041714\ttotal: 124ms\tremaining: 529ms\n",
            "19:\tlearn: 0.9030440\ttotal: 128ms\tremaining: 513ms\n",
            "20:\tlearn: 0.9030440\ttotal: 135ms\tremaining: 509ms\n",
            "21:\tlearn: 0.9030440\ttotal: 146ms\tremaining: 518ms\n",
            "22:\tlearn: 0.9030440\ttotal: 153ms\tremaining: 512ms\n",
            "23:\tlearn: 0.9086809\ttotal: 162ms\tremaining: 513ms\n",
            "24:\tlearn: 0.9086809\ttotal: 166ms\tremaining: 499ms\n",
            "25:\tlearn: 0.9131905\ttotal: 174ms\tremaining: 494ms\n",
            "26:\tlearn: 0.9052988\ttotal: 178ms\tremaining: 481ms\n",
            "27:\tlearn: 0.9086809\ttotal: 182ms\tremaining: 467ms\n",
            "28:\tlearn: 0.9120631\ttotal: 188ms\tremaining: 461ms\n",
            "29:\tlearn: 0.9109357\ttotal: 195ms\tremaining: 456ms\n",
            "30:\tlearn: 0.9109357\ttotal: 200ms\tremaining: 445ms\n",
            "31:\tlearn: 0.9098083\ttotal: 205ms\tremaining: 436ms\n",
            "32:\tlearn: 0.9131905\ttotal: 212ms\tremaining: 431ms\n",
            "33:\tlearn: 0.9131905\ttotal: 220ms\tremaining: 426ms\n",
            "34:\tlearn: 0.9131905\ttotal: 229ms\tremaining: 425ms\n",
            "35:\tlearn: 0.9143179\ttotal: 233ms\tremaining: 414ms\n",
            "36:\tlearn: 0.9154453\ttotal: 240ms\tremaining: 408ms\n",
            "37:\tlearn: 0.9177001\ttotal: 247ms\tremaining: 403ms\n",
            "38:\tlearn: 0.9165727\ttotal: 254ms\tremaining: 397ms\n",
            "39:\tlearn: 0.9154453\ttotal: 261ms\tremaining: 391ms\n",
            "40:\tlearn: 0.9165727\ttotal: 267ms\tremaining: 385ms\n",
            "41:\tlearn: 0.9188275\ttotal: 276ms\tremaining: 381ms\n",
            "42:\tlearn: 0.9199549\ttotal: 283ms\tremaining: 375ms\n",
            "43:\tlearn: 0.9199549\ttotal: 290ms\tremaining: 369ms\n",
            "44:\tlearn: 0.9188275\ttotal: 294ms\tremaining: 360ms\n",
            "45:\tlearn: 0.9188275\ttotal: 301ms\tremaining: 353ms\n",
            "46:\tlearn: 0.9210823\ttotal: 306ms\tremaining: 346ms\n",
            "47:\tlearn: 0.9199549\ttotal: 311ms\tremaining: 337ms\n",
            "48:\tlearn: 0.9222097\ttotal: 318ms\tremaining: 331ms\n",
            "49:\tlearn: 0.9222097\ttotal: 326ms\tremaining: 326ms\n",
            "50:\tlearn: 0.9210823\ttotal: 334ms\tremaining: 321ms\n",
            "51:\tlearn: 0.9210823\ttotal: 342ms\tremaining: 316ms\n",
            "52:\tlearn: 0.9233371\ttotal: 349ms\tremaining: 310ms\n",
            "53:\tlearn: 0.9244645\ttotal: 356ms\tremaining: 304ms\n",
            "54:\tlearn: 0.9244645\ttotal: 364ms\tremaining: 297ms\n",
            "55:\tlearn: 0.9267193\ttotal: 371ms\tremaining: 291ms\n",
            "56:\tlearn: 0.9267193\ttotal: 378ms\tremaining: 285ms\n",
            "57:\tlearn: 0.9278467\ttotal: 390ms\tremaining: 282ms\n",
            "58:\tlearn: 0.9289741\ttotal: 395ms\tremaining: 275ms\n",
            "59:\tlearn: 0.9289741\ttotal: 400ms\tremaining: 266ms\n",
            "60:\tlearn: 0.9267193\ttotal: 407ms\tremaining: 260ms\n",
            "61:\tlearn: 0.9255919\ttotal: 414ms\tremaining: 254ms\n",
            "62:\tlearn: 0.9289741\ttotal: 423ms\tremaining: 249ms\n",
            "63:\tlearn: 0.9289741\ttotal: 428ms\tremaining: 241ms\n",
            "64:\tlearn: 0.9289741\ttotal: 435ms\tremaining: 234ms\n",
            "65:\tlearn: 0.9301015\ttotal: 442ms\tremaining: 228ms\n",
            "66:\tlearn: 0.9323563\ttotal: 449ms\tremaining: 221ms\n",
            "67:\tlearn: 0.9334837\ttotal: 465ms\tremaining: 219ms\n",
            "68:\tlearn: 0.9334837\ttotal: 469ms\tremaining: 211ms\n",
            "69:\tlearn: 0.9334837\ttotal: 476ms\tremaining: 204ms\n",
            "70:\tlearn: 0.9323563\ttotal: 488ms\tremaining: 199ms\n",
            "71:\tlearn: 0.9323563\ttotal: 492ms\tremaining: 191ms\n",
            "72:\tlearn: 0.9323563\ttotal: 499ms\tremaining: 185ms\n",
            "73:\tlearn: 0.9334837\ttotal: 506ms\tremaining: 178ms\n",
            "74:\tlearn: 0.9334837\ttotal: 513ms\tremaining: 171ms\n",
            "75:\tlearn: 0.9323563\ttotal: 521ms\tremaining: 164ms\n",
            "76:\tlearn: 0.9323563\ttotal: 529ms\tremaining: 158ms\n",
            "77:\tlearn: 0.9323563\ttotal: 534ms\tremaining: 151ms\n",
            "78:\tlearn: 0.9323563\ttotal: 540ms\tremaining: 144ms\n",
            "79:\tlearn: 0.9323563\ttotal: 547ms\tremaining: 137ms\n",
            "80:\tlearn: 0.9323563\ttotal: 561ms\tremaining: 132ms\n",
            "81:\tlearn: 0.9346110\ttotal: 570ms\tremaining: 125ms\n",
            "82:\tlearn: 0.9346110\ttotal: 578ms\tremaining: 118ms\n",
            "83:\tlearn: 0.9346110\ttotal: 585ms\tremaining: 111ms\n",
            "84:\tlearn: 0.9346110\ttotal: 586ms\tremaining: 103ms\n",
            "85:\tlearn: 0.9346110\ttotal: 591ms\tremaining: 96.1ms\n",
            "86:\tlearn: 0.9346110\ttotal: 598ms\tremaining: 89.3ms\n",
            "87:\tlearn: 0.9357384\ttotal: 604ms\tremaining: 82.4ms\n",
            "88:\tlearn: 0.9357384\ttotal: 611ms\tremaining: 75.5ms\n",
            "89:\tlearn: 0.9346110\ttotal: 618ms\tremaining: 68.6ms\n",
            "90:\tlearn: 0.9357384\ttotal: 624ms\tremaining: 61.7ms\n",
            "91:\tlearn: 0.9368658\ttotal: 631ms\tremaining: 54.9ms\n",
            "92:\tlearn: 0.9368658\ttotal: 638ms\tremaining: 48ms\n",
            "93:\tlearn: 0.9368658\ttotal: 652ms\tremaining: 41.6ms\n",
            "94:\tlearn: 0.9346110\ttotal: 656ms\tremaining: 34.5ms\n",
            "95:\tlearn: 0.9346110\ttotal: 662ms\tremaining: 27.6ms\n",
            "96:\tlearn: 0.9357384\ttotal: 668ms\tremaining: 20.7ms\n",
            "97:\tlearn: 0.9368658\ttotal: 671ms\tremaining: 13.7ms\n",
            "98:\tlearn: 0.9368658\ttotal: 679ms\tremaining: 6.86ms\n",
            "99:\tlearn: 0.9368658\ttotal: 687ms\tremaining: 0us\n",
            "0:\tlearn: 0.8624577\ttotal: 2.5ms\tremaining: 247ms\n",
            "1:\tlearn: 0.8782413\ttotal: 6.39ms\tremaining: 313ms\n",
            "2:\tlearn: 0.8917700\ttotal: 11.7ms\tremaining: 379ms\n",
            "3:\tlearn: 0.8861330\ttotal: 19.7ms\tremaining: 472ms\n",
            "4:\tlearn: 0.8793687\ttotal: 20.9ms\tremaining: 398ms\n",
            "5:\tlearn: 0.8782413\ttotal: 22.9ms\tremaining: 359ms\n",
            "6:\tlearn: 0.8759865\ttotal: 24.8ms\tremaining: 330ms\n",
            "7:\tlearn: 0.8928974\ttotal: 32.9ms\tremaining: 378ms\n",
            "8:\tlearn: 0.8906426\ttotal: 39ms\tremaining: 395ms\n",
            "9:\tlearn: 0.8928974\ttotal: 45.1ms\tremaining: 406ms\n",
            "10:\tlearn: 0.8906426\ttotal: 50.8ms\tremaining: 411ms\n",
            "11:\tlearn: 0.8940248\ttotal: 55.9ms\tremaining: 410ms\n",
            "12:\tlearn: 0.8996618\ttotal: 62.3ms\tremaining: 417ms\n",
            "13:\tlearn: 0.8996618\ttotal: 69.5ms\tremaining: 427ms\n",
            "14:\tlearn: 0.8962796\ttotal: 73.5ms\tremaining: 417ms\n",
            "15:\tlearn: 0.8974070\ttotal: 80.3ms\tremaining: 422ms\n",
            "16:\tlearn: 0.8974070\ttotal: 84.4ms\tremaining: 412ms\n",
            "17:\tlearn: 0.8974070\ttotal: 88.7ms\tremaining: 404ms\n",
            "18:\tlearn: 0.8951522\ttotal: 96.4ms\tremaining: 411ms\n",
            "19:\tlearn: 0.8951522\ttotal: 102ms\tremaining: 410ms\n",
            "20:\tlearn: 0.8962796\ttotal: 114ms\tremaining: 430ms\n",
            "21:\tlearn: 0.8962796\ttotal: 120ms\tremaining: 424ms\n",
            "22:\tlearn: 0.8974070\ttotal: 127ms\tremaining: 424ms\n",
            "23:\tlearn: 0.8985344\ttotal: 133ms\tremaining: 422ms\n",
            "24:\tlearn: 0.8996618\ttotal: 141ms\tremaining: 422ms\n",
            "25:\tlearn: 0.8985344\ttotal: 148ms\tremaining: 421ms\n",
            "26:\tlearn: 0.9019166\ttotal: 155ms\tremaining: 419ms\n",
            "27:\tlearn: 0.9007892\ttotal: 170ms\tremaining: 437ms\n",
            "28:\tlearn: 0.9041714\ttotal: 181ms\tremaining: 443ms\n",
            "29:\tlearn: 0.9019166\ttotal: 192ms\tremaining: 447ms\n",
            "30:\tlearn: 0.9052988\ttotal: 198ms\tremaining: 442ms\n",
            "31:\tlearn: 0.9075536\ttotal: 204ms\tremaining: 433ms\n",
            "32:\tlearn: 0.9075536\ttotal: 211ms\tremaining: 429ms\n",
            "33:\tlearn: 0.9109357\ttotal: 220ms\tremaining: 427ms\n",
            "34:\tlearn: 0.9120631\ttotal: 226ms\tremaining: 419ms\n",
            "35:\tlearn: 0.9120631\ttotal: 236ms\tremaining: 419ms\n",
            "36:\tlearn: 0.9131905\ttotal: 239ms\tremaining: 408ms\n",
            "37:\tlearn: 0.9131905\ttotal: 246ms\tremaining: 402ms\n",
            "38:\tlearn: 0.9143179\ttotal: 253ms\tremaining: 396ms\n",
            "39:\tlearn: 0.9131905\ttotal: 260ms\tremaining: 390ms\n",
            "40:\tlearn: 0.9165727\ttotal: 267ms\tremaining: 385ms\n",
            "41:\tlearn: 0.9177001\ttotal: 275ms\tremaining: 380ms\n",
            "42:\tlearn: 0.9177001\ttotal: 291ms\tremaining: 386ms\n",
            "43:\tlearn: 0.9177001\ttotal: 309ms\tremaining: 394ms\n",
            "44:\tlearn: 0.9199549\ttotal: 318ms\tremaining: 389ms\n",
            "45:\tlearn: 0.9210823\ttotal: 322ms\tremaining: 378ms\n",
            "46:\tlearn: 0.9199549\ttotal: 329ms\tremaining: 371ms\n",
            "47:\tlearn: 0.9210823\ttotal: 336ms\tremaining: 364ms\n",
            "48:\tlearn: 0.9210823\ttotal: 344ms\tremaining: 358ms\n",
            "49:\tlearn: 0.9210823\ttotal: 351ms\tremaining: 351ms\n",
            "50:\tlearn: 0.9222097\ttotal: 360ms\tremaining: 345ms\n",
            "51:\tlearn: 0.9233371\ttotal: 367ms\tremaining: 338ms\n",
            "52:\tlearn: 0.9222097\ttotal: 375ms\tremaining: 332ms\n",
            "53:\tlearn: 0.9233371\ttotal: 382ms\tremaining: 325ms\n",
            "54:\tlearn: 0.9233371\ttotal: 389ms\tremaining: 318ms\n",
            "55:\tlearn: 0.9255919\ttotal: 397ms\tremaining: 312ms\n",
            "56:\tlearn: 0.9255919\ttotal: 402ms\tremaining: 304ms\n",
            "57:\tlearn: 0.9267193\ttotal: 409ms\tremaining: 296ms\n",
            "58:\tlearn: 0.9278467\ttotal: 416ms\tremaining: 289ms\n",
            "59:\tlearn: 0.9289741\ttotal: 423ms\tremaining: 282ms\n",
            "60:\tlearn: 0.9289741\ttotal: 430ms\tremaining: 275ms\n",
            "61:\tlearn: 0.9289741\ttotal: 437ms\tremaining: 268ms\n",
            "62:\tlearn: 0.9301015\ttotal: 446ms\tremaining: 262ms\n",
            "63:\tlearn: 0.9289741\ttotal: 451ms\tremaining: 254ms\n",
            "64:\tlearn: 0.9289741\ttotal: 461ms\tremaining: 248ms\n",
            "65:\tlearn: 0.9289741\ttotal: 468ms\tremaining: 241ms\n",
            "66:\tlearn: 0.9289741\ttotal: 477ms\tremaining: 235ms\n",
            "67:\tlearn: 0.9301015\ttotal: 483ms\tremaining: 227ms\n",
            "68:\tlearn: 0.9323563\ttotal: 499ms\tremaining: 224ms\n",
            "69:\tlearn: 0.9312289\ttotal: 507ms\tremaining: 217ms\n",
            "70:\tlearn: 0.9323563\ttotal: 512ms\tremaining: 209ms\n",
            "71:\tlearn: 0.9323563\ttotal: 516ms\tremaining: 201ms\n",
            "72:\tlearn: 0.9323563\ttotal: 519ms\tremaining: 192ms\n",
            "73:\tlearn: 0.9323563\ttotal: 522ms\tremaining: 183ms\n",
            "74:\tlearn: 0.9323563\ttotal: 525ms\tremaining: 175ms\n",
            "75:\tlearn: 0.9323563\ttotal: 527ms\tremaining: 166ms\n",
            "76:\tlearn: 0.9323563\ttotal: 530ms\tremaining: 158ms\n",
            "77:\tlearn: 0.9323563\ttotal: 531ms\tremaining: 150ms\n",
            "78:\tlearn: 0.9334837\ttotal: 533ms\tremaining: 142ms\n",
            "79:\tlearn: 0.9334837\ttotal: 536ms\tremaining: 134ms\n",
            "80:\tlearn: 0.9334837\ttotal: 539ms\tremaining: 126ms\n",
            "81:\tlearn: 0.9323563\ttotal: 541ms\tremaining: 119ms\n",
            "82:\tlearn: 0.9323563\ttotal: 544ms\tremaining: 111ms\n",
            "83:\tlearn: 0.9334837\ttotal: 546ms\tremaining: 104ms\n",
            "84:\tlearn: 0.9346110\ttotal: 548ms\tremaining: 96.8ms\n",
            "85:\tlearn: 0.9346110\ttotal: 551ms\tremaining: 89.7ms\n",
            "86:\tlearn: 0.9346110\ttotal: 553ms\tremaining: 82.7ms\n",
            "87:\tlearn: 0.9346110\ttotal: 556ms\tremaining: 75.8ms\n",
            "88:\tlearn: 0.9346110\ttotal: 559ms\tremaining: 69ms\n",
            "89:\tlearn: 0.9346110\ttotal: 561ms\tremaining: 62.3ms\n",
            "90:\tlearn: 0.9346110\ttotal: 563ms\tremaining: 55.7ms\n",
            "91:\tlearn: 0.9357384\ttotal: 565ms\tremaining: 49.2ms\n",
            "92:\tlearn: 0.9357384\ttotal: 568ms\tremaining: 42.8ms\n",
            "93:\tlearn: 0.9357384\ttotal: 570ms\tremaining: 36.4ms\n",
            "94:\tlearn: 0.9346110\ttotal: 573ms\tremaining: 30.2ms\n",
            "95:\tlearn: 0.9346110\ttotal: 576ms\tremaining: 24ms\n",
            "96:\tlearn: 0.9346110\ttotal: 578ms\tremaining: 17.9ms\n",
            "97:\tlearn: 0.9357384\ttotal: 580ms\tremaining: 11.8ms\n",
            "98:\tlearn: 0.9346110\ttotal: 583ms\tremaining: 5.89ms\n",
            "99:\tlearn: 0.9346110\ttotal: 586ms\tremaining: 0us\n",
            "0:\tlearn: 0.8838782\ttotal: 2.31ms\tremaining: 229ms\n",
            "1:\tlearn: 0.8793687\ttotal: 5.04ms\tremaining: 247ms\n",
            "2:\tlearn: 0.8872604\ttotal: 7.62ms\tremaining: 246ms\n",
            "3:\tlearn: 0.8838782\ttotal: 10.1ms\tremaining: 244ms\n",
            "4:\tlearn: 0.8759865\ttotal: 11ms\tremaining: 209ms\n",
            "5:\tlearn: 0.8726043\ttotal: 12ms\tremaining: 189ms\n",
            "6:\tlearn: 0.8737317\ttotal: 12.9ms\tremaining: 171ms\n",
            "7:\tlearn: 0.8793687\ttotal: 15.4ms\tremaining: 177ms\n",
            "8:\tlearn: 0.8771139\ttotal: 17.9ms\tremaining: 181ms\n",
            "9:\tlearn: 0.8816234\ttotal: 20.4ms\tremaining: 183ms\n",
            "10:\tlearn: 0.8838782\ttotal: 23ms\tremaining: 186ms\n",
            "11:\tlearn: 0.8838782\ttotal: 25.7ms\tremaining: 188ms\n",
            "12:\tlearn: 0.8838782\ttotal: 28.3ms\tremaining: 189ms\n",
            "13:\tlearn: 0.8850056\ttotal: 34ms\tremaining: 209ms\n",
            "14:\tlearn: 0.8850056\ttotal: 41.6ms\tremaining: 236ms\n",
            "15:\tlearn: 0.8895152\ttotal: 44.3ms\tremaining: 233ms\n",
            "16:\tlearn: 0.8895152\ttotal: 45.2ms\tremaining: 221ms\n",
            "17:\tlearn: 0.8895152\ttotal: 47.8ms\tremaining: 218ms\n",
            "18:\tlearn: 0.8883878\ttotal: 50.4ms\tremaining: 215ms\n",
            "19:\tlearn: 0.8906426\ttotal: 52.2ms\tremaining: 209ms\n",
            "20:\tlearn: 0.8917700\ttotal: 54.8ms\tremaining: 206ms\n",
            "21:\tlearn: 0.8951522\ttotal: 57.2ms\tremaining: 203ms\n",
            "22:\tlearn: 0.8928974\ttotal: 60.8ms\tremaining: 204ms\n",
            "23:\tlearn: 0.8928974\ttotal: 65.3ms\tremaining: 207ms\n",
            "24:\tlearn: 0.8940248\ttotal: 73ms\tremaining: 219ms\n",
            "25:\tlearn: 0.8996618\ttotal: 75.5ms\tremaining: 215ms\n",
            "26:\tlearn: 0.9007892\ttotal: 79.8ms\tremaining: 216ms\n",
            "27:\tlearn: 0.9019166\ttotal: 83.7ms\tremaining: 215ms\n",
            "28:\tlearn: 0.9041714\ttotal: 87.3ms\tremaining: 214ms\n",
            "29:\tlearn: 0.9019166\ttotal: 91.3ms\tremaining: 213ms\n",
            "30:\tlearn: 0.9064262\ttotal: 94.1ms\tremaining: 209ms\n",
            "31:\tlearn: 0.9075536\ttotal: 96.8ms\tremaining: 206ms\n",
            "32:\tlearn: 0.9098083\ttotal: 99.3ms\tremaining: 202ms\n",
            "33:\tlearn: 0.9120631\ttotal: 102ms\tremaining: 198ms\n",
            "34:\tlearn: 0.9154453\ttotal: 105ms\tremaining: 194ms\n",
            "35:\tlearn: 0.9165727\ttotal: 107ms\tremaining: 191ms\n",
            "36:\tlearn: 0.9165727\ttotal: 110ms\tremaining: 187ms\n",
            "37:\tlearn: 0.9188275\ttotal: 113ms\tremaining: 184ms\n",
            "38:\tlearn: 0.9188275\ttotal: 116ms\tremaining: 181ms\n",
            "39:\tlearn: 0.9199549\ttotal: 118ms\tremaining: 177ms\n",
            "40:\tlearn: 0.9210823\ttotal: 121ms\tremaining: 174ms\n",
            "41:\tlearn: 0.9210823\ttotal: 124ms\tremaining: 171ms\n",
            "42:\tlearn: 0.9210823\ttotal: 127ms\tremaining: 168ms\n",
            "43:\tlearn: 0.9210823\ttotal: 129ms\tremaining: 165ms\n",
            "44:\tlearn: 0.9210823\ttotal: 132ms\tremaining: 161ms\n",
            "45:\tlearn: 0.9222097\ttotal: 135ms\tremaining: 158ms\n",
            "46:\tlearn: 0.9233371\ttotal: 137ms\tremaining: 155ms\n",
            "47:\tlearn: 0.9233371\ttotal: 141ms\tremaining: 153ms\n",
            "48:\tlearn: 0.9244645\ttotal: 144ms\tremaining: 150ms\n",
            "49:\tlearn: 0.9267193\ttotal: 146ms\tremaining: 146ms\n",
            "50:\tlearn: 0.9267193\ttotal: 150ms\tremaining: 144ms\n",
            "51:\tlearn: 0.9267193\ttotal: 153ms\tremaining: 141ms\n",
            "52:\tlearn: 0.9267193\ttotal: 155ms\tremaining: 138ms\n",
            "53:\tlearn: 0.9267193\ttotal: 158ms\tremaining: 135ms\n",
            "54:\tlearn: 0.9267193\ttotal: 161ms\tremaining: 131ms\n",
            "55:\tlearn: 0.9289741\ttotal: 163ms\tremaining: 128ms\n",
            "56:\tlearn: 0.9289741\ttotal: 166ms\tremaining: 125ms\n",
            "57:\tlearn: 0.9323563\ttotal: 169ms\tremaining: 122ms\n",
            "58:\tlearn: 0.9346110\ttotal: 171ms\tremaining: 119ms\n",
            "59:\tlearn: 0.9334837\ttotal: 174ms\tremaining: 116ms\n",
            "60:\tlearn: 0.9357384\ttotal: 176ms\tremaining: 113ms\n",
            "61:\tlearn: 0.9334837\ttotal: 179ms\tremaining: 109ms\n",
            "62:\tlearn: 0.9334837\ttotal: 181ms\tremaining: 106ms\n",
            "63:\tlearn: 0.9346110\ttotal: 184ms\tremaining: 103ms\n",
            "64:\tlearn: 0.9346110\ttotal: 186ms\tremaining: 100ms\n",
            "65:\tlearn: 0.9346110\ttotal: 192ms\tremaining: 98.7ms\n",
            "66:\tlearn: 0.9346110\ttotal: 194ms\tremaining: 95.8ms\n",
            "67:\tlearn: 0.9346110\ttotal: 197ms\tremaining: 92.7ms\n",
            "68:\tlearn: 0.9323563\ttotal: 199ms\tremaining: 89.6ms\n",
            "69:\tlearn: 0.9323563\ttotal: 202ms\tremaining: 86.6ms\n",
            "70:\tlearn: 0.9323563\ttotal: 205ms\tremaining: 83.5ms\n",
            "71:\tlearn: 0.9323563\ttotal: 207ms\tremaining: 80.5ms\n",
            "72:\tlearn: 0.9334837\ttotal: 210ms\tremaining: 77.5ms\n",
            "73:\tlearn: 0.9346110\ttotal: 212ms\tremaining: 74.5ms\n",
            "74:\tlearn: 0.9334837\ttotal: 215ms\tremaining: 71.5ms\n",
            "75:\tlearn: 0.9323563\ttotal: 217ms\tremaining: 68.5ms\n",
            "76:\tlearn: 0.9323563\ttotal: 218ms\tremaining: 65.1ms\n",
            "77:\tlearn: 0.9334837\ttotal: 221ms\tremaining: 62.2ms\n",
            "78:\tlearn: 0.9334837\ttotal: 223ms\tremaining: 59.3ms\n",
            "79:\tlearn: 0.9346110\ttotal: 225ms\tremaining: 56.4ms\n",
            "80:\tlearn: 0.9357384\ttotal: 228ms\tremaining: 53.6ms\n",
            "81:\tlearn: 0.9346110\ttotal: 231ms\tremaining: 50.7ms\n",
            "82:\tlearn: 0.9357384\ttotal: 234ms\tremaining: 47.9ms\n",
            "83:\tlearn: 0.9357384\ttotal: 235ms\tremaining: 44.8ms\n",
            "84:\tlearn: 0.9357384\ttotal: 238ms\tremaining: 41.9ms\n",
            "85:\tlearn: 0.9368658\ttotal: 240ms\tremaining: 39.1ms\n",
            "86:\tlearn: 0.9368658\ttotal: 245ms\tremaining: 36.6ms\n",
            "87:\tlearn: 0.9368658\ttotal: 254ms\tremaining: 34.6ms\n",
            "88:\tlearn: 0.9357384\ttotal: 260ms\tremaining: 32.1ms\n",
            "89:\tlearn: 0.9357384\ttotal: 263ms\tremaining: 29.2ms\n",
            "90:\tlearn: 0.9346110\ttotal: 267ms\tremaining: 26.4ms\n",
            "91:\tlearn: 0.9346110\ttotal: 269ms\tremaining: 23.4ms\n",
            "92:\tlearn: 0.9346110\ttotal: 271ms\tremaining: 20.4ms\n",
            "93:\tlearn: 0.9346110\ttotal: 274ms\tremaining: 17.5ms\n",
            "94:\tlearn: 0.9346110\ttotal: 276ms\tremaining: 14.5ms\n",
            "95:\tlearn: 0.9346110\ttotal: 279ms\tremaining: 11.6ms\n",
            "96:\tlearn: 0.9379932\ttotal: 282ms\tremaining: 8.72ms\n",
            "97:\tlearn: 0.9368658\ttotal: 285ms\tremaining: 5.81ms\n",
            "98:\tlearn: 0.9368658\ttotal: 287ms\tremaining: 2.9ms\n",
            "99:\tlearn: 0.9368658\ttotal: 290ms\tremaining: 0us\n",
            "0:\tlearn: 0.8782413\ttotal: 2.45ms\tremaining: 243ms\n",
            "1:\tlearn: 0.8827508\ttotal: 5.3ms\tremaining: 260ms\n",
            "2:\tlearn: 0.8861330\ttotal: 8.04ms\tremaining: 260ms\n",
            "3:\tlearn: 0.8838782\ttotal: 10.8ms\tremaining: 259ms\n",
            "4:\tlearn: 0.8703495\ttotal: 11.7ms\tremaining: 222ms\n",
            "5:\tlearn: 0.8737317\ttotal: 12.7ms\tremaining: 199ms\n",
            "6:\tlearn: 0.8692221\ttotal: 13.5ms\tremaining: 179ms\n",
            "7:\tlearn: 0.8771139\ttotal: 16.1ms\tremaining: 185ms\n",
            "8:\tlearn: 0.8726043\ttotal: 18.6ms\tremaining: 188ms\n",
            "9:\tlearn: 0.8726043\ttotal: 21.1ms\tremaining: 190ms\n",
            "10:\tlearn: 0.8714769\ttotal: 23.6ms\tremaining: 191ms\n",
            "11:\tlearn: 0.8726043\ttotal: 26.2ms\tremaining: 192ms\n",
            "12:\tlearn: 0.8771139\ttotal: 28.8ms\tremaining: 193ms\n",
            "13:\tlearn: 0.8793687\ttotal: 31.3ms\tremaining: 192ms\n",
            "14:\tlearn: 0.8771139\ttotal: 34ms\tremaining: 193ms\n",
            "15:\tlearn: 0.8793687\ttotal: 36.6ms\tremaining: 192ms\n",
            "16:\tlearn: 0.8793687\ttotal: 37.4ms\tremaining: 182ms\n",
            "17:\tlearn: 0.8793687\ttotal: 40ms\tremaining: 182ms\n",
            "18:\tlearn: 0.8804961\ttotal: 44.1ms\tremaining: 188ms\n",
            "19:\tlearn: 0.8838782\ttotal: 46.7ms\tremaining: 187ms\n",
            "20:\tlearn: 0.8838782\ttotal: 50.4ms\tremaining: 189ms\n",
            "21:\tlearn: 0.8861330\ttotal: 53.9ms\tremaining: 191ms\n",
            "22:\tlearn: 0.8883878\ttotal: 57.2ms\tremaining: 191ms\n",
            "23:\tlearn: 0.8917700\ttotal: 61ms\tremaining: 193ms\n",
            "24:\tlearn: 0.8951522\ttotal: 65.5ms\tremaining: 197ms\n",
            "25:\tlearn: 0.8951522\ttotal: 67.8ms\tremaining: 193ms\n",
            "26:\tlearn: 0.8928974\ttotal: 68.4ms\tremaining: 185ms\n",
            "27:\tlearn: 0.8951522\ttotal: 70.5ms\tremaining: 181ms\n",
            "28:\tlearn: 0.8951522\ttotal: 73.1ms\tremaining: 179ms\n",
            "29:\tlearn: 0.8974070\ttotal: 75.7ms\tremaining: 177ms\n",
            "30:\tlearn: 0.8962796\ttotal: 78.1ms\tremaining: 174ms\n",
            "31:\tlearn: 0.8985344\ttotal: 80.7ms\tremaining: 172ms\n",
            "32:\tlearn: 0.8996618\ttotal: 83.2ms\tremaining: 169ms\n",
            "33:\tlearn: 0.9030440\ttotal: 86ms\tremaining: 167ms\n",
            "34:\tlearn: 0.9052988\ttotal: 88.6ms\tremaining: 165ms\n",
            "35:\tlearn: 0.9064262\ttotal: 91.3ms\tremaining: 162ms\n",
            "36:\tlearn: 0.9064262\ttotal: 93.6ms\tremaining: 159ms\n",
            "37:\tlearn: 0.9064262\ttotal: 96.5ms\tremaining: 158ms\n",
            "38:\tlearn: 0.9064262\ttotal: 99.4ms\tremaining: 155ms\n",
            "39:\tlearn: 0.9086809\ttotal: 102ms\tremaining: 153ms\n",
            "40:\tlearn: 0.9109357\ttotal: 105ms\tremaining: 151ms\n",
            "41:\tlearn: 0.9120631\ttotal: 107ms\tremaining: 148ms\n",
            "42:\tlearn: 0.9131905\ttotal: 110ms\tremaining: 146ms\n",
            "43:\tlearn: 0.9131905\ttotal: 114ms\tremaining: 145ms\n",
            "44:\tlearn: 0.9143179\ttotal: 116ms\tremaining: 141ms\n",
            "45:\tlearn: 0.9143179\ttotal: 122ms\tremaining: 143ms\n",
            "46:\tlearn: 0.9143179\ttotal: 127ms\tremaining: 144ms\n",
            "47:\tlearn: 0.9177001\ttotal: 132ms\tremaining: 142ms\n",
            "48:\tlearn: 0.9177001\ttotal: 134ms\tremaining: 139ms\n",
            "49:\tlearn: 0.9188275\ttotal: 136ms\tremaining: 136ms\n",
            "50:\tlearn: 0.9177001\ttotal: 139ms\tremaining: 133ms\n",
            "51:\tlearn: 0.9199549\ttotal: 141ms\tremaining: 130ms\n",
            "52:\tlearn: 0.9188275\ttotal: 144ms\tremaining: 128ms\n",
            "53:\tlearn: 0.9210823\ttotal: 147ms\tremaining: 125ms\n",
            "54:\tlearn: 0.9199549\ttotal: 149ms\tremaining: 122ms\n",
            "55:\tlearn: 0.9210823\ttotal: 152ms\tremaining: 120ms\n",
            "56:\tlearn: 0.9210823\ttotal: 155ms\tremaining: 117ms\n",
            "57:\tlearn: 0.9222097\ttotal: 158ms\tremaining: 114ms\n",
            "58:\tlearn: 0.9244645\ttotal: 160ms\tremaining: 111ms\n",
            "59:\tlearn: 0.9244645\ttotal: 163ms\tremaining: 109ms\n",
            "60:\tlearn: 0.9244645\ttotal: 166ms\tremaining: 106ms\n",
            "61:\tlearn: 0.9255919\ttotal: 169ms\tremaining: 104ms\n",
            "62:\tlearn: 0.9244645\ttotal: 172ms\tremaining: 101ms\n",
            "63:\tlearn: 0.9255919\ttotal: 175ms\tremaining: 98.2ms\n",
            "64:\tlearn: 0.9244645\ttotal: 179ms\tremaining: 96.2ms\n",
            "65:\tlearn: 0.9267193\ttotal: 182ms\tremaining: 93.6ms\n",
            "66:\tlearn: 0.9267193\ttotal: 183ms\tremaining: 90.1ms\n",
            "67:\tlearn: 0.9267193\ttotal: 186ms\tremaining: 87.3ms\n",
            "68:\tlearn: 0.9278467\ttotal: 188ms\tremaining: 84.7ms\n",
            "69:\tlearn: 0.9278467\ttotal: 191ms\tremaining: 82ms\n",
            "70:\tlearn: 0.9278467\ttotal: 194ms\tremaining: 79.2ms\n",
            "71:\tlearn: 0.9289741\ttotal: 197ms\tremaining: 76.4ms\n",
            "72:\tlearn: 0.9289741\ttotal: 199ms\tremaining: 73.7ms\n",
            "73:\tlearn: 0.9289741\ttotal: 202ms\tremaining: 71.1ms\n",
            "74:\tlearn: 0.9289741\ttotal: 210ms\tremaining: 70ms\n",
            "75:\tlearn: 0.9289741\ttotal: 214ms\tremaining: 67.6ms\n",
            "76:\tlearn: 0.9289741\ttotal: 219ms\tremaining: 65.4ms\n",
            "77:\tlearn: 0.9289741\ttotal: 223ms\tremaining: 63ms\n",
            "78:\tlearn: 0.9289741\ttotal: 234ms\tremaining: 62.2ms\n",
            "79:\tlearn: 0.9301015\ttotal: 238ms\tremaining: 59.6ms\n",
            "80:\tlearn: 0.9301015\ttotal: 245ms\tremaining: 57.4ms\n",
            "81:\tlearn: 0.9301015\ttotal: 251ms\tremaining: 55.1ms\n",
            "82:\tlearn: 0.9301015\ttotal: 260ms\tremaining: 53.2ms\n",
            "83:\tlearn: 0.9301015\ttotal: 261ms\tremaining: 49.7ms\n",
            "84:\tlearn: 0.9301015\ttotal: 262ms\tremaining: 46.2ms\n",
            "85:\tlearn: 0.9301015\ttotal: 264ms\tremaining: 43ms\n",
            "86:\tlearn: 0.9301015\ttotal: 267ms\tremaining: 39.9ms\n",
            "87:\tlearn: 0.9301015\ttotal: 270ms\tremaining: 36.8ms\n",
            "88:\tlearn: 0.9312289\ttotal: 273ms\tremaining: 33.7ms\n",
            "89:\tlearn: 0.9323563\ttotal: 275ms\tremaining: 30.6ms\n",
            "90:\tlearn: 0.9323563\ttotal: 278ms\tremaining: 27.5ms\n",
            "91:\tlearn: 0.9323563\ttotal: 280ms\tremaining: 24.3ms\n",
            "92:\tlearn: 0.9301015\ttotal: 283ms\tremaining: 21.3ms\n",
            "93:\tlearn: 0.9301015\ttotal: 287ms\tremaining: 18.3ms\n",
            "94:\tlearn: 0.9301015\ttotal: 290ms\tremaining: 15.3ms\n",
            "95:\tlearn: 0.9312289\ttotal: 292ms\tremaining: 12.2ms\n",
            "96:\tlearn: 0.9312289\ttotal: 293ms\tremaining: 9.06ms\n",
            "97:\tlearn: 0.9312289\ttotal: 295ms\tremaining: 6.03ms\n",
            "98:\tlearn: 0.9312289\ttotal: 298ms\tremaining: 3.01ms\n",
            "99:\tlearn: 0.9312289\ttotal: 301ms\tremaining: 0us\n",
            "0:\tlearn: 0.8658399\ttotal: 2.29ms\tremaining: 226ms\n",
            "1:\tlearn: 0.8827508\ttotal: 4.55ms\tremaining: 223ms\n",
            "2:\tlearn: 0.8906426\ttotal: 7.04ms\tremaining: 228ms\n",
            "3:\tlearn: 0.8906426\ttotal: 9.65ms\tremaining: 232ms\n",
            "4:\tlearn: 0.8782413\ttotal: 10.5ms\tremaining: 199ms\n",
            "5:\tlearn: 0.8895152\ttotal: 13.2ms\tremaining: 207ms\n",
            "6:\tlearn: 0.8861330\ttotal: 15.9ms\tremaining: 211ms\n",
            "7:\tlearn: 0.8895152\ttotal: 18.7ms\tremaining: 215ms\n",
            "8:\tlearn: 0.8962796\ttotal: 21.1ms\tremaining: 214ms\n",
            "9:\tlearn: 0.8962796\ttotal: 23.6ms\tremaining: 213ms\n",
            "10:\tlearn: 0.8962796\ttotal: 26.1ms\tremaining: 211ms\n",
            "11:\tlearn: 0.8996618\ttotal: 28.6ms\tremaining: 209ms\n",
            "12:\tlearn: 0.8985344\ttotal: 31.2ms\tremaining: 209ms\n",
            "13:\tlearn: 0.9007892\ttotal: 34ms\tremaining: 209ms\n",
            "14:\tlearn: 0.9019166\ttotal: 36.6ms\tremaining: 208ms\n",
            "15:\tlearn: 0.9052988\ttotal: 39.1ms\tremaining: 205ms\n",
            "16:\tlearn: 0.9064262\ttotal: 42ms\tremaining: 205ms\n",
            "17:\tlearn: 0.9086809\ttotal: 44.6ms\tremaining: 203ms\n",
            "18:\tlearn: 0.9041714\ttotal: 45.6ms\tremaining: 195ms\n",
            "19:\tlearn: 0.9075536\ttotal: 48.2ms\tremaining: 193ms\n",
            "20:\tlearn: 0.9086809\ttotal: 49.9ms\tremaining: 188ms\n",
            "21:\tlearn: 0.9075536\ttotal: 50.8ms\tremaining: 180ms\n",
            "22:\tlearn: 0.9075536\ttotal: 53.4ms\tremaining: 179ms\n",
            "23:\tlearn: 0.9098083\ttotal: 56.1ms\tremaining: 178ms\n",
            "24:\tlearn: 0.9120631\ttotal: 58.6ms\tremaining: 176ms\n",
            "25:\tlearn: 0.9109357\ttotal: 61.3ms\tremaining: 174ms\n",
            "26:\tlearn: 0.9131905\ttotal: 63.9ms\tremaining: 173ms\n",
            "27:\tlearn: 0.9120631\ttotal: 66.4ms\tremaining: 171ms\n",
            "28:\tlearn: 0.9131905\ttotal: 68.9ms\tremaining: 169ms\n",
            "29:\tlearn: 0.9177001\ttotal: 71.5ms\tremaining: 167ms\n",
            "30:\tlearn: 0.9199549\ttotal: 73.9ms\tremaining: 165ms\n",
            "31:\tlearn: 0.9188275\ttotal: 76.6ms\tremaining: 163ms\n",
            "32:\tlearn: 0.9177001\ttotal: 79.5ms\tremaining: 161ms\n",
            "33:\tlearn: 0.9154453\ttotal: 82.1ms\tremaining: 159ms\n",
            "34:\tlearn: 0.9177001\ttotal: 85.8ms\tremaining: 159ms\n",
            "35:\tlearn: 0.9188275\ttotal: 88.4ms\tremaining: 157ms\n",
            "36:\tlearn: 0.9199549\ttotal: 91.4ms\tremaining: 156ms\n",
            "37:\tlearn: 0.9188275\ttotal: 94ms\tremaining: 153ms\n",
            "38:\tlearn: 0.9222097\ttotal: 96.5ms\tremaining: 151ms\n",
            "39:\tlearn: 0.9210823\ttotal: 99.4ms\tremaining: 149ms\n",
            "40:\tlearn: 0.9222097\ttotal: 102ms\tremaining: 147ms\n",
            "41:\tlearn: 0.9222097\ttotal: 105ms\tremaining: 145ms\n",
            "42:\tlearn: 0.9222097\ttotal: 107ms\tremaining: 142ms\n",
            "43:\tlearn: 0.9222097\ttotal: 114ms\tremaining: 146ms\n",
            "44:\tlearn: 0.9222097\ttotal: 119ms\tremaining: 145ms\n",
            "45:\tlearn: 0.9233371\ttotal: 122ms\tremaining: 143ms\n",
            "46:\tlearn: 0.9233371\ttotal: 124ms\tremaining: 140ms\n",
            "47:\tlearn: 0.9244645\ttotal: 127ms\tremaining: 137ms\n",
            "48:\tlearn: 0.9244645\ttotal: 129ms\tremaining: 134ms\n",
            "49:\tlearn: 0.9255919\ttotal: 131ms\tremaining: 131ms\n",
            "50:\tlearn: 0.9255919\ttotal: 133ms\tremaining: 128ms\n",
            "51:\tlearn: 0.9267193\ttotal: 136ms\tremaining: 125ms\n",
            "52:\tlearn: 0.9255919\ttotal: 138ms\tremaining: 123ms\n",
            "53:\tlearn: 0.9289741\ttotal: 141ms\tremaining: 120ms\n",
            "54:\tlearn: 0.9278467\ttotal: 143ms\tremaining: 117ms\n",
            "55:\tlearn: 0.9301015\ttotal: 146ms\tremaining: 115ms\n",
            "56:\tlearn: 0.9312289\ttotal: 149ms\tremaining: 112ms\n",
            "57:\tlearn: 0.9301015\ttotal: 153ms\tremaining: 111ms\n",
            "58:\tlearn: 0.9289741\ttotal: 157ms\tremaining: 109ms\n",
            "59:\tlearn: 0.9301015\ttotal: 159ms\tremaining: 106ms\n",
            "60:\tlearn: 0.9301015\ttotal: 161ms\tremaining: 103ms\n",
            "61:\tlearn: 0.9312289\ttotal: 164ms\tremaining: 100ms\n",
            "62:\tlearn: 0.9323563\ttotal: 166ms\tremaining: 97.6ms\n",
            "63:\tlearn: 0.9334837\ttotal: 169ms\tremaining: 95ms\n",
            "64:\tlearn: 0.9334837\ttotal: 171ms\tremaining: 92.3ms\n",
            "65:\tlearn: 0.9334837\ttotal: 174ms\tremaining: 89.7ms\n",
            "66:\tlearn: 0.9346110\ttotal: 177ms\tremaining: 87ms\n",
            "67:\tlearn: 0.9323563\ttotal: 179ms\tremaining: 84.3ms\n",
            "68:\tlearn: 0.9334837\ttotal: 182ms\tremaining: 81.8ms\n",
            "69:\tlearn: 0.9346110\ttotal: 185ms\tremaining: 79.1ms\n",
            "70:\tlearn: 0.9334837\ttotal: 187ms\tremaining: 76.5ms\n",
            "71:\tlearn: 0.9346110\ttotal: 189ms\tremaining: 73.7ms\n",
            "72:\tlearn: 0.9357384\ttotal: 192ms\tremaining: 71ms\n",
            "73:\tlearn: 0.9357384\ttotal: 195ms\tremaining: 68.4ms\n",
            "74:\tlearn: 0.9346110\ttotal: 198ms\tremaining: 65.9ms\n",
            "75:\tlearn: 0.9357384\ttotal: 200ms\tremaining: 63.3ms\n",
            "76:\tlearn: 0.9357384\ttotal: 203ms\tremaining: 60.6ms\n",
            "77:\tlearn: 0.9357384\ttotal: 206ms\tremaining: 58ms\n",
            "78:\tlearn: 0.9368658\ttotal: 209ms\tremaining: 55.4ms\n",
            "79:\tlearn: 0.9368658\ttotal: 211ms\tremaining: 52.8ms\n",
            "80:\tlearn: 0.9357384\ttotal: 213ms\tremaining: 49.9ms\n",
            "81:\tlearn: 0.9368658\ttotal: 215ms\tremaining: 47.3ms\n",
            "82:\tlearn: 0.9368658\ttotal: 218ms\tremaining: 44.7ms\n",
            "83:\tlearn: 0.9391206\ttotal: 221ms\tremaining: 42ms\n",
            "84:\tlearn: 0.9391206\ttotal: 224ms\tremaining: 39.4ms\n",
            "85:\tlearn: 0.9379932\ttotal: 227ms\tremaining: 36.9ms\n",
            "86:\tlearn: 0.9391206\ttotal: 229ms\tremaining: 34.2ms\n",
            "87:\tlearn: 0.9391206\ttotal: 232ms\tremaining: 31.6ms\n",
            "88:\tlearn: 0.9402480\ttotal: 235ms\tremaining: 29ms\n",
            "89:\tlearn: 0.9413754\ttotal: 238ms\tremaining: 26.4ms\n",
            "90:\tlearn: 0.9402480\ttotal: 240ms\tremaining: 23.8ms\n",
            "91:\tlearn: 0.9425028\ttotal: 243ms\tremaining: 21.1ms\n",
            "92:\tlearn: 0.9425028\ttotal: 246ms\tremaining: 18.5ms\n",
            "93:\tlearn: 0.9436302\ttotal: 249ms\tremaining: 15.9ms\n",
            "94:\tlearn: 0.9436302\ttotal: 251ms\tremaining: 13.2ms\n",
            "95:\tlearn: 0.9436302\ttotal: 253ms\tremaining: 10.5ms\n",
            "96:\tlearn: 0.9436302\ttotal: 256ms\tremaining: 7.91ms\n",
            "97:\tlearn: 0.9436302\ttotal: 258ms\tremaining: 5.27ms\n",
            "98:\tlearn: 0.9436302\ttotal: 261ms\tremaining: 2.63ms\n",
            "99:\tlearn: 0.9436302\ttotal: 263ms\tremaining: 0us\n",
            "0:\tlearn: 0.8714769\ttotal: 2.4ms\tremaining: 238ms\n",
            "1:\tlearn: 0.8793687\ttotal: 6.46ms\tremaining: 317ms\n",
            "2:\tlearn: 0.8850056\ttotal: 9.48ms\tremaining: 307ms\n",
            "3:\tlearn: 0.8883878\ttotal: 17.7ms\tremaining: 425ms\n",
            "4:\tlearn: 0.8782413\ttotal: 18.7ms\tremaining: 355ms\n",
            "5:\tlearn: 0.8782413\ttotal: 19.7ms\tremaining: 309ms\n",
            "6:\tlearn: 0.8771139\ttotal: 20.6ms\tremaining: 273ms\n",
            "7:\tlearn: 0.8793687\ttotal: 23.2ms\tremaining: 267ms\n",
            "8:\tlearn: 0.8782413\ttotal: 25.9ms\tremaining: 262ms\n",
            "9:\tlearn: 0.8816234\ttotal: 28.5ms\tremaining: 257ms\n",
            "10:\tlearn: 0.8793687\ttotal: 31.4ms\tremaining: 254ms\n",
            "11:\tlearn: 0.8816234\ttotal: 34ms\tremaining: 249ms\n",
            "12:\tlearn: 0.8827508\ttotal: 36.6ms\tremaining: 245ms\n",
            "13:\tlearn: 0.8850056\ttotal: 37.6ms\tremaining: 231ms\n",
            "14:\tlearn: 0.8838782\ttotal: 40.2ms\tremaining: 228ms\n",
            "15:\tlearn: 0.8861330\ttotal: 45.2ms\tremaining: 237ms\n",
            "16:\tlearn: 0.8838782\ttotal: 52.5ms\tremaining: 256ms\n",
            "17:\tlearn: 0.8883878\ttotal: 58.5ms\tremaining: 266ms\n",
            "18:\tlearn: 0.8895152\ttotal: 66.9ms\tremaining: 285ms\n",
            "19:\tlearn: 0.8917700\ttotal: 72ms\tremaining: 288ms\n",
            "20:\tlearn: 0.8917700\ttotal: 80.1ms\tremaining: 302ms\n",
            "21:\tlearn: 0.8928974\ttotal: 82.6ms\tremaining: 293ms\n",
            "22:\tlearn: 0.8951522\ttotal: 85.4ms\tremaining: 286ms\n",
            "23:\tlearn: 0.8974070\ttotal: 88ms\tremaining: 279ms\n",
            "24:\tlearn: 0.8974070\ttotal: 90.6ms\tremaining: 272ms\n",
            "25:\tlearn: 0.8985344\ttotal: 93.2ms\tremaining: 265ms\n",
            "26:\tlearn: 0.8985344\ttotal: 95.8ms\tremaining: 259ms\n",
            "27:\tlearn: 0.9007892\ttotal: 98.5ms\tremaining: 253ms\n",
            "28:\tlearn: 0.9019166\ttotal: 101ms\tremaining: 248ms\n",
            "29:\tlearn: 0.9030440\ttotal: 104ms\tremaining: 242ms\n",
            "30:\tlearn: 0.9030440\ttotal: 106ms\tremaining: 236ms\n",
            "31:\tlearn: 0.9052988\ttotal: 109ms\tremaining: 231ms\n",
            "32:\tlearn: 0.9052988\ttotal: 111ms\tremaining: 226ms\n",
            "33:\tlearn: 0.9075536\ttotal: 114ms\tremaining: 221ms\n",
            "34:\tlearn: 0.9109357\ttotal: 116ms\tremaining: 216ms\n",
            "35:\tlearn: 0.9120631\ttotal: 119ms\tremaining: 211ms\n",
            "36:\tlearn: 0.9109357\ttotal: 122ms\tremaining: 207ms\n",
            "37:\tlearn: 0.9120631\ttotal: 124ms\tremaining: 203ms\n",
            "38:\tlearn: 0.9109357\ttotal: 127ms\tremaining: 198ms\n",
            "39:\tlearn: 0.9131905\ttotal: 129ms\tremaining: 194ms\n",
            "40:\tlearn: 0.9131905\ttotal: 132ms\tremaining: 190ms\n",
            "41:\tlearn: 0.9143179\ttotal: 134ms\tremaining: 186ms\n",
            "42:\tlearn: 0.9143179\ttotal: 137ms\tremaining: 182ms\n",
            "43:\tlearn: 0.9165727\ttotal: 140ms\tremaining: 178ms\n",
            "44:\tlearn: 0.9165727\ttotal: 142ms\tremaining: 174ms\n",
            "45:\tlearn: 0.9188275\ttotal: 145ms\tremaining: 170ms\n",
            "46:\tlearn: 0.9210823\ttotal: 147ms\tremaining: 166ms\n",
            "47:\tlearn: 0.9222097\ttotal: 150ms\tremaining: 162ms\n",
            "48:\tlearn: 0.9188275\ttotal: 153ms\tremaining: 159ms\n",
            "49:\tlearn: 0.9199549\ttotal: 155ms\tremaining: 155ms\n",
            "50:\tlearn: 0.9210823\ttotal: 158ms\tremaining: 152ms\n",
            "51:\tlearn: 0.9199549\ttotal: 161ms\tremaining: 148ms\n",
            "52:\tlearn: 0.9210823\ttotal: 164ms\tremaining: 145ms\n",
            "53:\tlearn: 0.9188275\ttotal: 166ms\tremaining: 142ms\n",
            "54:\tlearn: 0.9199549\ttotal: 169ms\tremaining: 138ms\n",
            "55:\tlearn: 0.9222097\ttotal: 172ms\tremaining: 135ms\n",
            "56:\tlearn: 0.9222097\ttotal: 174ms\tremaining: 132ms\n",
            "57:\tlearn: 0.9222097\ttotal: 177ms\tremaining: 128ms\n",
            "58:\tlearn: 0.9222097\ttotal: 180ms\tremaining: 125ms\n",
            "59:\tlearn: 0.9233371\ttotal: 182ms\tremaining: 122ms\n",
            "60:\tlearn: 0.9267193\ttotal: 185ms\tremaining: 118ms\n",
            "61:\tlearn: 0.9255919\ttotal: 187ms\tremaining: 115ms\n",
            "62:\tlearn: 0.9267193\ttotal: 188ms\tremaining: 111ms\n",
            "63:\tlearn: 0.9255919\ttotal: 193ms\tremaining: 108ms\n",
            "64:\tlearn: 0.9267193\ttotal: 195ms\tremaining: 105ms\n",
            "65:\tlearn: 0.9267193\ttotal: 199ms\tremaining: 102ms\n",
            "66:\tlearn: 0.9267193\ttotal: 202ms\tremaining: 99.4ms\n",
            "67:\tlearn: 0.9278467\ttotal: 204ms\tremaining: 96.1ms\n",
            "68:\tlearn: 0.9267193\ttotal: 207ms\tremaining: 92.9ms\n",
            "69:\tlearn: 0.9267193\ttotal: 211ms\tremaining: 90.3ms\n",
            "70:\tlearn: 0.9267193\ttotal: 215ms\tremaining: 87.9ms\n",
            "71:\tlearn: 0.9278467\ttotal: 223ms\tremaining: 86.6ms\n",
            "72:\tlearn: 0.9289741\ttotal: 225ms\tremaining: 83.4ms\n",
            "73:\tlearn: 0.9278467\ttotal: 227ms\tremaining: 79.6ms\n",
            "74:\tlearn: 0.9278467\ttotal: 229ms\tremaining: 76.4ms\n",
            "75:\tlearn: 0.9301015\ttotal: 232ms\tremaining: 73.2ms\n",
            "76:\tlearn: 0.9312289\ttotal: 237ms\tremaining: 70.7ms\n",
            "77:\tlearn: 0.9312289\ttotal: 240ms\tremaining: 67.8ms\n",
            "78:\tlearn: 0.9312289\ttotal: 245ms\tremaining: 65.1ms\n",
            "79:\tlearn: 0.9323563\ttotal: 247ms\tremaining: 61.8ms\n",
            "80:\tlearn: 0.9334837\ttotal: 249ms\tremaining: 58.5ms\n",
            "81:\tlearn: 0.9323563\ttotal: 252ms\tremaining: 55.3ms\n",
            "82:\tlearn: 0.9323563\ttotal: 255ms\tremaining: 52.2ms\n",
            "83:\tlearn: 0.9323563\ttotal: 257ms\tremaining: 49ms\n",
            "84:\tlearn: 0.9323563\ttotal: 260ms\tremaining: 45.9ms\n",
            "85:\tlearn: 0.9323563\ttotal: 263ms\tremaining: 42.8ms\n",
            "86:\tlearn: 0.9323563\ttotal: 265ms\tremaining: 39.6ms\n",
            "87:\tlearn: 0.9323563\ttotal: 267ms\tremaining: 36.5ms\n",
            "88:\tlearn: 0.9323563\ttotal: 270ms\tremaining: 33.3ms\n",
            "89:\tlearn: 0.9334837\ttotal: 272ms\tremaining: 30.2ms\n",
            "90:\tlearn: 0.9334837\ttotal: 274ms\tremaining: 27.1ms\n",
            "91:\tlearn: 0.9334837\ttotal: 276ms\tremaining: 24ms\n",
            "92:\tlearn: 0.9323563\ttotal: 278ms\tremaining: 21ms\n",
            "93:\tlearn: 0.9323563\ttotal: 281ms\tremaining: 17.9ms\n",
            "94:\tlearn: 0.9323563\ttotal: 284ms\tremaining: 14.9ms\n",
            "95:\tlearn: 0.9346110\ttotal: 288ms\tremaining: 12ms\n",
            "96:\tlearn: 0.9346110\ttotal: 290ms\tremaining: 8.98ms\n",
            "97:\tlearn: 0.9346110\ttotal: 293ms\tremaining: 5.98ms\n",
            "98:\tlearn: 0.9346110\ttotal: 296ms\tremaining: 2.98ms\n",
            "99:\tlearn: 0.9334837\ttotal: 298ms\tremaining: 0us\n",
            "0:\tlearn: 0.8726043\ttotal: 2.31ms\tremaining: 228ms\n",
            "1:\tlearn: 0.8782413\ttotal: 4.59ms\tremaining: 225ms\n",
            "2:\tlearn: 0.8759865\ttotal: 6.78ms\tremaining: 219ms\n",
            "3:\tlearn: 0.8759865\ttotal: 8.91ms\tremaining: 214ms\n",
            "4:\tlearn: 0.8680947\ttotal: 9.41ms\tremaining: 179ms\n",
            "5:\tlearn: 0.8726043\ttotal: 10.2ms\tremaining: 160ms\n",
            "6:\tlearn: 0.8714769\ttotal: 10.8ms\tremaining: 143ms\n",
            "7:\tlearn: 0.8782413\ttotal: 12.9ms\tremaining: 149ms\n",
            "8:\tlearn: 0.8793687\ttotal: 15.2ms\tremaining: 154ms\n",
            "9:\tlearn: 0.8737317\ttotal: 15.5ms\tremaining: 140ms\n",
            "10:\tlearn: 0.8748591\ttotal: 17.7ms\tremaining: 143ms\n",
            "11:\tlearn: 0.8782413\ttotal: 19.9ms\tremaining: 146ms\n",
            "12:\tlearn: 0.8782413\ttotal: 22.2ms\tremaining: 149ms\n",
            "13:\tlearn: 0.8782413\ttotal: 24.4ms\tremaining: 150ms\n",
            "14:\tlearn: 0.8850056\ttotal: 26.9ms\tremaining: 152ms\n",
            "15:\tlearn: 0.8827508\ttotal: 29.4ms\tremaining: 155ms\n",
            "16:\tlearn: 0.8850056\ttotal: 33.9ms\tremaining: 166ms\n",
            "17:\tlearn: 0.8883878\ttotal: 36.8ms\tremaining: 168ms\n",
            "18:\tlearn: 0.8928974\ttotal: 39.5ms\tremaining: 168ms\n",
            "19:\tlearn: 0.8940248\ttotal: 41.4ms\tremaining: 166ms\n",
            "20:\tlearn: 0.8974070\ttotal: 44.1ms\tremaining: 166ms\n",
            "21:\tlearn: 0.8962796\ttotal: 46.7ms\tremaining: 166ms\n",
            "22:\tlearn: 0.8974070\ttotal: 49.3ms\tremaining: 165ms\n",
            "23:\tlearn: 0.8962796\ttotal: 52ms\tremaining: 165ms\n",
            "24:\tlearn: 0.8985344\ttotal: 54.5ms\tremaining: 164ms\n",
            "25:\tlearn: 0.9041714\ttotal: 57.3ms\tremaining: 163ms\n",
            "26:\tlearn: 0.9007892\ttotal: 58.2ms\tremaining: 157ms\n",
            "27:\tlearn: 0.9052988\ttotal: 60.7ms\tremaining: 156ms\n",
            "28:\tlearn: 0.9075536\ttotal: 63.2ms\tremaining: 155ms\n",
            "29:\tlearn: 0.9120631\ttotal: 66ms\tremaining: 154ms\n",
            "30:\tlearn: 0.9109357\ttotal: 68.5ms\tremaining: 152ms\n",
            "31:\tlearn: 0.9120631\ttotal: 71.1ms\tremaining: 151ms\n",
            "32:\tlearn: 0.9143179\ttotal: 73.7ms\tremaining: 150ms\n",
            "33:\tlearn: 0.9143179\ttotal: 76.3ms\tremaining: 148ms\n",
            "34:\tlearn: 0.9143179\ttotal: 78.9ms\tremaining: 146ms\n",
            "35:\tlearn: 0.9143179\ttotal: 81.4ms\tremaining: 145ms\n",
            "36:\tlearn: 0.9165727\ttotal: 85ms\tremaining: 145ms\n",
            "37:\tlearn: 0.9154453\ttotal: 91.3ms\tremaining: 149ms\n",
            "38:\tlearn: 0.9154453\ttotal: 93.5ms\tremaining: 146ms\n",
            "39:\tlearn: 0.9188275\ttotal: 95.8ms\tremaining: 144ms\n",
            "40:\tlearn: 0.9199549\ttotal: 98.2ms\tremaining: 141ms\n",
            "41:\tlearn: 0.9199549\ttotal: 101ms\tremaining: 139ms\n",
            "42:\tlearn: 0.9233371\ttotal: 103ms\tremaining: 136ms\n",
            "43:\tlearn: 0.9267193\ttotal: 105ms\tremaining: 134ms\n",
            "44:\tlearn: 0.9233371\ttotal: 106ms\tremaining: 130ms\n",
            "45:\tlearn: 0.9222097\ttotal: 109ms\tremaining: 128ms\n",
            "46:\tlearn: 0.9222097\ttotal: 111ms\tremaining: 125ms\n",
            "47:\tlearn: 0.9233371\ttotal: 114ms\tremaining: 123ms\n",
            "48:\tlearn: 0.9233371\ttotal: 117ms\tremaining: 121ms\n",
            "49:\tlearn: 0.9222097\ttotal: 119ms\tremaining: 119ms\n",
            "50:\tlearn: 0.9233371\ttotal: 122ms\tremaining: 117ms\n",
            "51:\tlearn: 0.9244645\ttotal: 124ms\tremaining: 115ms\n",
            "52:\tlearn: 0.9267193\ttotal: 127ms\tremaining: 113ms\n",
            "53:\tlearn: 0.9289741\ttotal: 130ms\tremaining: 111ms\n",
            "54:\tlearn: 0.9278467\ttotal: 133ms\tremaining: 109ms\n",
            "55:\tlearn: 0.9278467\ttotal: 135ms\tremaining: 106ms\n",
            "56:\tlearn: 0.9278467\ttotal: 138ms\tremaining: 104ms\n",
            "57:\tlearn: 0.9267193\ttotal: 141ms\tremaining: 102ms\n",
            "58:\tlearn: 0.9267193\ttotal: 144ms\tremaining: 99.8ms\n",
            "59:\tlearn: 0.9267193\ttotal: 146ms\tremaining: 97.5ms\n",
            "60:\tlearn: 0.9267193\ttotal: 149ms\tremaining: 95.1ms\n",
            "61:\tlearn: 0.9255919\ttotal: 151ms\tremaining: 92.8ms\n",
            "62:\tlearn: 0.9267193\ttotal: 154ms\tremaining: 90.7ms\n",
            "63:\tlearn: 0.9278467\ttotal: 157ms\tremaining: 88.4ms\n",
            "64:\tlearn: 0.9278467\ttotal: 160ms\tremaining: 86ms\n",
            "65:\tlearn: 0.9278467\ttotal: 162ms\tremaining: 83.6ms\n",
            "66:\tlearn: 0.9289741\ttotal: 165ms\tremaining: 81.2ms\n",
            "67:\tlearn: 0.9312289\ttotal: 167ms\tremaining: 78.8ms\n",
            "68:\tlearn: 0.9323563\ttotal: 170ms\tremaining: 76.4ms\n",
            "69:\tlearn: 0.9334837\ttotal: 172ms\tremaining: 73.9ms\n",
            "70:\tlearn: 0.9334837\ttotal: 175ms\tremaining: 71.5ms\n",
            "71:\tlearn: 0.9334837\ttotal: 178ms\tremaining: 69.1ms\n",
            "72:\tlearn: 0.9334837\ttotal: 181ms\tremaining: 67ms\n",
            "73:\tlearn: 0.9357384\ttotal: 187ms\tremaining: 65.7ms\n",
            "74:\tlearn: 0.9346110\ttotal: 192ms\tremaining: 63.9ms\n",
            "75:\tlearn: 0.9346110\ttotal: 198ms\tremaining: 62.5ms\n",
            "76:\tlearn: 0.9357384\ttotal: 201ms\tremaining: 59.9ms\n",
            "77:\tlearn: 0.9346110\ttotal: 203ms\tremaining: 57.4ms\n",
            "78:\tlearn: 0.9346110\ttotal: 204ms\tremaining: 54.3ms\n",
            "79:\tlearn: 0.9357384\ttotal: 207ms\tremaining: 51.8ms\n",
            "80:\tlearn: 0.9357384\ttotal: 210ms\tremaining: 49.1ms\n",
            "81:\tlearn: 0.9357384\ttotal: 212ms\tremaining: 46.5ms\n",
            "82:\tlearn: 0.9368658\ttotal: 215ms\tremaining: 44ms\n",
            "83:\tlearn: 0.9368658\ttotal: 217ms\tremaining: 41.4ms\n",
            "84:\tlearn: 0.9368658\ttotal: 220ms\tremaining: 38.8ms\n",
            "85:\tlearn: 0.9368658\ttotal: 222ms\tremaining: 36.2ms\n",
            "86:\tlearn: 0.9368658\ttotal: 225ms\tremaining: 33.6ms\n",
            "87:\tlearn: 0.9368658\ttotal: 227ms\tremaining: 31ms\n",
            "88:\tlearn: 0.9368658\ttotal: 230ms\tremaining: 28.4ms\n",
            "89:\tlearn: 0.9368658\ttotal: 233ms\tremaining: 25.8ms\n",
            "90:\tlearn: 0.9402480\ttotal: 235ms\tremaining: 23.3ms\n",
            "91:\tlearn: 0.9402480\ttotal: 236ms\tremaining: 20.6ms\n",
            "92:\tlearn: 0.9391206\ttotal: 239ms\tremaining: 18ms\n",
            "93:\tlearn: 0.9379932\ttotal: 242ms\tremaining: 15.4ms\n",
            "94:\tlearn: 0.9379932\ttotal: 244ms\tremaining: 12.9ms\n",
            "95:\tlearn: 0.9357384\ttotal: 247ms\tremaining: 10.3ms\n",
            "96:\tlearn: 0.9357384\ttotal: 250ms\tremaining: 7.72ms\n",
            "97:\tlearn: 0.9379932\ttotal: 252ms\tremaining: 5.15ms\n",
            "98:\tlearn: 0.9391206\ttotal: 255ms\tremaining: 2.58ms\n",
            "99:\tlearn: 0.9379932\ttotal: 258ms\tremaining: 0us\n",
            "0:\tlearn: 0.8590755\ttotal: 3.02ms\tremaining: 300ms\n",
            "1:\tlearn: 0.8974070\ttotal: 5.58ms\tremaining: 273ms\n",
            "2:\tlearn: 0.8962796\ttotal: 7.89ms\tremaining: 255ms\n",
            "3:\tlearn: 0.8928974\ttotal: 10.7ms\tremaining: 256ms\n",
            "4:\tlearn: 0.8827508\ttotal: 11.6ms\tremaining: 220ms\n",
            "5:\tlearn: 0.8883878\ttotal: 14.2ms\tremaining: 222ms\n",
            "6:\tlearn: 0.8974070\ttotal: 16.9ms\tremaining: 225ms\n",
            "7:\tlearn: 0.8974070\ttotal: 20ms\tremaining: 230ms\n",
            "8:\tlearn: 0.8996618\ttotal: 22.8ms\tremaining: 231ms\n",
            "9:\tlearn: 0.9019166\ttotal: 25.7ms\tremaining: 232ms\n",
            "10:\tlearn: 0.8974070\ttotal: 28.3ms\tremaining: 229ms\n",
            "11:\tlearn: 0.9041714\ttotal: 31ms\tremaining: 227ms\n",
            "12:\tlearn: 0.9019166\ttotal: 33.6ms\tremaining: 225ms\n",
            "13:\tlearn: 0.9019166\ttotal: 36.4ms\tremaining: 224ms\n",
            "14:\tlearn: 0.9030440\ttotal: 39.4ms\tremaining: 223ms\n",
            "15:\tlearn: 0.9019166\ttotal: 42.1ms\tremaining: 221ms\n",
            "16:\tlearn: 0.9041714\ttotal: 44.6ms\tremaining: 218ms\n",
            "17:\tlearn: 0.9041714\ttotal: 47.2ms\tremaining: 215ms\n",
            "18:\tlearn: 0.8985344\ttotal: 48.1ms\tremaining: 205ms\n",
            "19:\tlearn: 0.9019166\ttotal: 51.1ms\tremaining: 204ms\n",
            "20:\tlearn: 0.8996618\ttotal: 53.6ms\tremaining: 202ms\n",
            "21:\tlearn: 0.9019166\ttotal: 56.4ms\tremaining: 200ms\n",
            "22:\tlearn: 0.9064262\ttotal: 59.2ms\tremaining: 198ms\n",
            "23:\tlearn: 0.9109357\ttotal: 61.8ms\tremaining: 196ms\n",
            "24:\tlearn: 0.9120631\ttotal: 64.6ms\tremaining: 194ms\n",
            "25:\tlearn: 0.9109357\ttotal: 67.5ms\tremaining: 192ms\n",
            "26:\tlearn: 0.9075536\ttotal: 68.3ms\tremaining: 185ms\n",
            "27:\tlearn: 0.9109357\ttotal: 72.5ms\tremaining: 186ms\n",
            "28:\tlearn: 0.9109357\ttotal: 75.1ms\tremaining: 184ms\n",
            "29:\tlearn: 0.9120631\ttotal: 77.9ms\tremaining: 182ms\n",
            "30:\tlearn: 0.9109357\ttotal: 79.4ms\tremaining: 177ms\n",
            "31:\tlearn: 0.9098083\ttotal: 82.2ms\tremaining: 175ms\n",
            "32:\tlearn: 0.9131905\ttotal: 85ms\tremaining: 173ms\n",
            "33:\tlearn: 0.9143179\ttotal: 87.6ms\tremaining: 170ms\n",
            "34:\tlearn: 0.9154453\ttotal: 90.7ms\tremaining: 168ms\n",
            "35:\tlearn: 0.9154453\ttotal: 93.4ms\tremaining: 166ms\n",
            "36:\tlearn: 0.9199549\ttotal: 96.2ms\tremaining: 164ms\n",
            "37:\tlearn: 0.9199549\ttotal: 99ms\tremaining: 161ms\n",
            "38:\tlearn: 0.9233371\ttotal: 102ms\tremaining: 159ms\n",
            "39:\tlearn: 0.9233371\ttotal: 105ms\tremaining: 157ms\n",
            "40:\tlearn: 0.9233371\ttotal: 108ms\tremaining: 155ms\n",
            "41:\tlearn: 0.9244645\ttotal: 110ms\tremaining: 152ms\n",
            "42:\tlearn: 0.9244645\ttotal: 113ms\tremaining: 150ms\n",
            "43:\tlearn: 0.9244645\ttotal: 116ms\tremaining: 147ms\n",
            "44:\tlearn: 0.9255919\ttotal: 118ms\tremaining: 145ms\n",
            "45:\tlearn: 0.9267193\ttotal: 121ms\tremaining: 142ms\n",
            "46:\tlearn: 0.9301015\ttotal: 124ms\tremaining: 140ms\n",
            "47:\tlearn: 0.9289741\ttotal: 127ms\tremaining: 137ms\n",
            "48:\tlearn: 0.9289741\ttotal: 129ms\tremaining: 134ms\n",
            "49:\tlearn: 0.9278467\ttotal: 132ms\tremaining: 132ms\n",
            "50:\tlearn: 0.9289741\ttotal: 134ms\tremaining: 129ms\n",
            "51:\tlearn: 0.9301015\ttotal: 137ms\tremaining: 127ms\n",
            "52:\tlearn: 0.9301015\ttotal: 140ms\tremaining: 124ms\n",
            "53:\tlearn: 0.9334837\ttotal: 143ms\tremaining: 122ms\n",
            "54:\tlearn: 0.9334837\ttotal: 145ms\tremaining: 119ms\n",
            "55:\tlearn: 0.9323563\ttotal: 148ms\tremaining: 116ms\n",
            "56:\tlearn: 0.9323563\ttotal: 151ms\tremaining: 114ms\n",
            "57:\tlearn: 0.9334837\ttotal: 153ms\tremaining: 111ms\n",
            "58:\tlearn: 0.9334837\ttotal: 156ms\tremaining: 108ms\n",
            "59:\tlearn: 0.9334837\ttotal: 158ms\tremaining: 106ms\n",
            "60:\tlearn: 0.9323563\ttotal: 161ms\tremaining: 103ms\n",
            "61:\tlearn: 0.9323563\ttotal: 163ms\tremaining: 100ms\n",
            "62:\tlearn: 0.9323563\ttotal: 166ms\tremaining: 97.5ms\n",
            "63:\tlearn: 0.9323563\ttotal: 169ms\tremaining: 94.8ms\n",
            "64:\tlearn: 0.9334837\ttotal: 171ms\tremaining: 92.3ms\n",
            "65:\tlearn: 0.9323563\ttotal: 176ms\tremaining: 90.8ms\n",
            "66:\tlearn: 0.9334837\ttotal: 186ms\tremaining: 91.5ms\n",
            "67:\tlearn: 0.9334837\ttotal: 190ms\tremaining: 89.2ms\n",
            "68:\tlearn: 0.9334837\ttotal: 194ms\tremaining: 87.2ms\n",
            "69:\tlearn: 0.9323563\ttotal: 200ms\tremaining: 85.7ms\n",
            "70:\tlearn: 0.9323563\ttotal: 202ms\tremaining: 82.7ms\n",
            "71:\tlearn: 0.9334837\ttotal: 205ms\tremaining: 79.6ms\n",
            "72:\tlearn: 0.9334837\ttotal: 207ms\tremaining: 76.7ms\n",
            "73:\tlearn: 0.9334837\ttotal: 210ms\tremaining: 73.9ms\n",
            "74:\tlearn: 0.9334837\ttotal: 213ms\tremaining: 71ms\n",
            "75:\tlearn: 0.9334837\ttotal: 216ms\tremaining: 68.1ms\n",
            "76:\tlearn: 0.9334837\ttotal: 218ms\tremaining: 65.2ms\n",
            "77:\tlearn: 0.9346110\ttotal: 221ms\tremaining: 62.3ms\n",
            "78:\tlearn: 0.9357384\ttotal: 224ms\tremaining: 59.4ms\n",
            "79:\tlearn: 0.9357384\ttotal: 226ms\tremaining: 56.5ms\n",
            "80:\tlearn: 0.9346110\ttotal: 229ms\tremaining: 53.6ms\n",
            "81:\tlearn: 0.9346110\ttotal: 231ms\tremaining: 50.7ms\n",
            "82:\tlearn: 0.9357384\ttotal: 234ms\tremaining: 47.9ms\n",
            "83:\tlearn: 0.9357384\ttotal: 236ms\tremaining: 45ms\n",
            "84:\tlearn: 0.9357384\ttotal: 239ms\tremaining: 42.2ms\n",
            "85:\tlearn: 0.9357384\ttotal: 242ms\tremaining: 39.3ms\n",
            "86:\tlearn: 0.9346110\ttotal: 244ms\tremaining: 36.5ms\n",
            "87:\tlearn: 0.9346110\ttotal: 245ms\tremaining: 33.4ms\n",
            "88:\tlearn: 0.9346110\ttotal: 247ms\tremaining: 30.5ms\n",
            "89:\tlearn: 0.9346110\ttotal: 250ms\tremaining: 27.7ms\n",
            "90:\tlearn: 0.9346110\ttotal: 252ms\tremaining: 25ms\n",
            "91:\tlearn: 0.9346110\ttotal: 255ms\tremaining: 22.2ms\n",
            "92:\tlearn: 0.9346110\ttotal: 258ms\tremaining: 19.4ms\n",
            "93:\tlearn: 0.9357384\ttotal: 260ms\tremaining: 16.6ms\n",
            "94:\tlearn: 0.9357384\ttotal: 263ms\tremaining: 13.8ms\n",
            "95:\tlearn: 0.9346110\ttotal: 266ms\tremaining: 11.1ms\n",
            "96:\tlearn: 0.9346110\ttotal: 269ms\tremaining: 8.3ms\n",
            "97:\tlearn: 0.9346110\ttotal: 271ms\tremaining: 5.54ms\n",
            "98:\tlearn: 0.9346110\ttotal: 274ms\tremaining: 2.77ms\n",
            "99:\tlearn: 0.9357384\ttotal: 277ms\tremaining: 0us\n",
            "Acurácia Média: 88.00%\n"
          ]
        }
      ],
      "source": [
        "# Criando o modelo\n",
        "modelo = CatBoostClassifier(task_type='CPU', iterations=100, learning_rate=0.1, depth = 8, random_state = 5,\n",
        "                              eval_metric=\"Accuracy\")\n",
        "resultado = cross_val_score(modelo, previsores, alvo, cv = kfold)\n",
        "\n",
        "# Usamos a média e o desvio padrão\n",
        "print(\"Acurácia Média: %.2f%%\" % (resultado.mean() * 100.0))"
      ]
    },
    {
      "cell_type": "markdown",
      "metadata": {
        "id": "gco4qH1qUChe"
      },
      "source": [
        "Naive Bayes = 84,78% (treino e teste) - 234 acertos e 85,17% (validação cruzada) : previsores3_esc\n",
        "\n",
        "SVM = 86,23% - 238 acertos e 85,72% (validação cruzada) : previsores3-esc - SVC(kernel='rbf', random_state=1, C = 2)\n",
        "\n",
        "Regressão logística = 86,23% - 238 acertos e 85,83% (validação cruzada) : previsores3_esc - LogisticRegression(random_state=1, max_iter=600, penalty=\"l2\", tol=0.0001, C=1,solver=\"lbfgs\")\n",
        "\n",
        "KNN = 84,06% - 232 acertos e 85,84% (validação cruzada) : previsores3_esc ou previsores_esc - KNeighborsClassifier(n_neighbors=7, metric='minkowski', p = 1)\n",
        "\n",
        "Árvore de decisão = 83,7% (treino e teste) - 231 acertos e 83,32% (validação cruzada): previsores3_esc - DecisionTreeClassifier(criterion='entropy', random_state = 0, max_depth=3)\n",
        "\n",
        "Random Forest = 86,59% - 239 acertos e 85,92% (validação cruzada) : previsores - RandomForestClassifier(n_estimators=150, criterion='entropy', random_state = 0, max_depth=4)\n",
        "\n",
        "**XGboost = 87,68% - 242 acertos e 87,13% (validação cruzada) : previsores - XGBClassifier(max_depth=2, learning_rate=0.05, n_estimators=250, objective='binary:logistic', random_state=3)**\n",
        "\n",
        "LightGBM = 86,23% (treino e teste)- 238 acertos e 85,93% (validação cruzada) : previsores - lgb.LGBMClassifier(num_leaves = 250, objective = 'binary',  max_depth = 2, learning_rate = .05, max_bin =100)\n",
        "\n",
        "CatBoost = 86,96% (treino e teste) previsores4 - 240 acertos e 88% (validação cruzada com previsores) - CatBoostClassifier(task_type='CPU', iterations=100, learning_rate=0.1, depth = 8, random_state = 5, eval_metric=\"Accuracy\")"
      ]
    },
    {
      "cell_type": "markdown",
      "metadata": {
        "id": "-SI78UagmLD7"
      },
      "source": [
        "# **Salvando dados para Deploy**"
      ]
    },
    {
      "cell_type": "code",
      "execution_count": null,
      "metadata": {
        "colab": {
          "base_uri": "https://localhost:8080/"
        },
        "id": "LNMNKr4TmLD8",
        "outputId": "6a3e21d8-4cbd-40d3-8d8b-67b7c641025f"
      },
      "outputs": [
        {
          "data": {
            "text/plain": [
              "array([[40. ,  0. ,  1. , ...,  0. ,  0. ,  0. ],\n",
              "       [49. ,  1. ,  2. , ...,  0. ,  1. ,  1. ],\n",
              "       [37. ,  0. ,  1. , ...,  0. ,  0. ,  0. ],\n",
              "       ...,\n",
              "       [57. ,  0. ,  3. , ...,  1. ,  1.2,  1. ],\n",
              "       [57. ,  1. ,  1. , ...,  0. ,  0. ,  1. ],\n",
              "       [38. ,  0. ,  2. , ...,  0. ,  0. ,  0. ]])"
            ]
          },
          "execution_count": 165,
          "metadata": {},
          "output_type": "execute_result"
        }
      ],
      "source": [
        "previsores"
      ]
    },
    {
      "cell_type": "code",
      "execution_count": null,
      "metadata": {
        "colab": {
          "base_uri": "https://localhost:8080/"
        },
        "id": "isSCWsMPDdw6",
        "outputId": "6cd94dca-c7fd-473b-b22a-2a8737d177da"
      },
      "outputs": [
        {
          "data": {
            "text/plain": [
              "array([0, 1, 0, 1, 0, 0, 0, 0, 1, 0, 0, 1, 0, 1, 0, 0, 1, 0, 1, 1, 0, 0,\n",
              "       0, 1, 0, 0, 0, 0, 0, 0, 1, 0, 1, 1, 0, 0, 1, 0, 0, 0, 0, 1, 0, 0,\n",
              "       1, 0, 0, 0, 0, 1, 1, 1, 0, 0, 0, 0, 1, 1, 0, 1, 0, 0, 0, 1, 0, 0,\n",
              "       0, 0, 1, 0, 1, 0, 1, 0, 1, 0, 1, 0, 0, 1, 0, 0, 1, 0, 1, 1, 1, 0,\n",
              "       1, 0, 0, 0, 0, 1, 0, 1, 0, 0, 0, 0, 1, 0, 1, 1, 1, 0, 0, 0, 0, 0,\n",
              "       0, 1, 0, 0, 0, 1, 1, 1, 0, 1, 1, 0, 0, 1, 0, 0, 0, 0, 0, 0, 0, 1,\n",
              "       1, 1, 0, 1, 0, 0, 1, 1, 1, 1, 1, 0, 1, 0, 0, 0, 0, 1, 0, 0, 0, 0,\n",
              "       0, 1, 1, 0, 1, 0, 1, 1, 0, 0, 0, 1, 1, 0, 0, 0, 0, 0, 0, 0, 1, 1,\n",
              "       1, 0, 0, 0, 1, 0, 1, 0, 0, 1, 0, 1, 0, 1, 0, 0, 0, 0, 0, 0, 0, 0,\n",
              "       1, 0, 0, 0, 0, 0, 0, 0, 0, 1, 0, 1, 1, 1, 0, 0, 1, 0, 1, 0, 0, 0,\n",
              "       1, 1, 0, 0, 0, 1, 0, 1, 0, 0, 0, 0, 0, 0, 0, 0, 1, 1, 1, 1, 0, 1,\n",
              "       1, 0, 1, 0, 1, 1, 1, 1, 1, 1, 0, 0, 1, 0, 0, 0, 0, 0, 0, 0, 1, 1,\n",
              "       1, 0, 1, 0, 1, 0, 0, 0, 1, 0, 0, 0, 1, 1, 0, 0, 0, 1, 0, 0, 0, 0,\n",
              "       0, 0, 0, 0, 0, 0, 0, 1, 1, 1, 1, 1, 1, 1, 1, 0, 1, 1, 1, 1, 1, 0,\n",
              "       1, 1, 0, 1, 1, 1, 0, 1, 1, 1, 1, 1, 1, 1, 1, 1, 1, 1, 0, 1, 1, 1,\n",
              "       1, 1, 0, 1, 1, 1, 0, 1, 1, 1, 1, 1, 1, 1, 1, 1, 1, 1, 1, 1, 1, 1,\n",
              "       1, 1, 1, 1, 1, 1, 1, 1, 1, 1, 1, 1, 0, 1, 1, 1, 1, 1, 1, 1, 1, 1,\n",
              "       1, 1, 1, 1, 1, 1, 1, 1, 1, 1, 1, 1, 1, 1, 1, 1, 1, 1, 1, 1, 1, 1,\n",
              "       1, 1, 1, 1, 1, 1, 1, 1, 1, 1, 1, 1, 1, 1, 1, 1, 1, 1, 1, 1, 1, 0,\n",
              "       1, 1, 0, 0, 1, 0, 1, 1, 0, 1, 1, 1, 1, 0, 1, 1, 0, 0, 1, 1, 1, 0,\n",
              "       1, 1, 1, 1, 1, 1, 1, 1, 1, 1, 1, 1, 0, 1, 0, 1, 1, 1, 0, 1, 1, 1,\n",
              "       0, 1, 0, 1, 0, 1, 0, 1, 1, 1, 1, 0, 1, 0, 1, 1, 1, 1, 1, 1, 1, 1,\n",
              "       1, 0, 1, 0, 1, 1, 1, 1, 1, 1, 1, 0, 1, 1, 1, 1, 1, 1, 0, 1, 1, 1,\n",
              "       0, 1, 1, 0, 1, 0, 1, 1, 0, 1, 1, 1, 1, 0, 1, 1, 1, 0, 0, 1, 0, 1,\n",
              "       1, 1, 1, 1, 1, 1, 1, 1, 1, 1, 0, 1, 1, 1, 1, 0, 0, 1, 1, 1, 0, 1,\n",
              "       0, 1, 1, 0, 1, 0, 1, 1, 1, 0, 0, 0, 1, 1, 1, 0, 1, 1, 1, 1, 1, 1,\n",
              "       1, 1, 1, 1, 1, 1, 1, 1, 1, 1, 0, 1, 1, 1, 0, 1, 1, 0, 0, 1, 1, 1,\n",
              "       1, 1, 0, 1, 1, 0, 1, 1, 1, 0, 0, 1, 1, 1, 1, 1, 0, 1, 0, 1, 1, 0,\n",
              "       1, 0, 0, 0, 1, 1, 1, 1, 0, 0, 0, 1, 0, 0, 1, 1, 0, 0, 1, 0, 0, 0,\n",
              "       0, 0, 0, 0, 1, 0, 1, 0, 0, 1, 1, 1, 1, 1, 0, 0, 1, 0, 0, 0, 1, 0,\n",
              "       1, 1, 1, 1, 1, 0, 0, 0, 0, 0, 1, 0, 1, 1, 0, 1, 0, 0, 0, 1, 0, 1,\n",
              "       0, 1, 1, 0, 0, 0, 0, 1, 0, 0, 0, 0, 1, 1, 1, 0, 0, 0, 0, 0, 0, 1,\n",
              "       0, 1, 1, 1, 1, 1, 0, 1, 0, 0, 0, 1, 0, 1, 1, 1, 0, 1, 1, 0, 1, 0,\n",
              "       1, 0, 0, 0, 1, 1, 0, 1, 1, 1, 1, 0, 0, 0, 1, 0, 0, 1, 1, 1, 0, 1,\n",
              "       0, 0, 0, 1, 0, 0, 1, 0, 1, 0, 1, 1, 1, 1, 1, 0, 0, 0, 0, 0, 0, 0,\n",
              "       1, 0, 0, 1, 1, 1, 0, 1, 0, 0, 0, 0, 0, 1, 0, 1, 1, 0, 0, 1, 1, 1,\n",
              "       1, 0, 0, 1, 1, 0, 0, 0, 1, 0, 0, 1, 0, 1, 0, 1, 0, 0, 0, 0, 0, 1,\n",
              "       0, 1, 1, 1, 1, 0, 0, 0, 1, 0, 1, 0, 0, 1, 0, 0, 0, 0, 0, 0, 1, 1,\n",
              "       0, 1, 0, 0, 1, 1, 0, 0, 1, 1, 0, 1, 0, 1, 0, 1, 0, 0, 1, 0, 0, 1,\n",
              "       0, 1, 1, 0, 1, 1, 1, 0, 1, 0, 0, 0, 0, 1, 1, 0, 0, 1, 1, 0, 1, 0,\n",
              "       0, 0, 0, 1, 0, 0, 1, 1, 1, 0, 0, 0, 1, 0, 1, 0, 1, 0, 1, 1, 1, 0,\n",
              "       0, 0, 1, 0, 1, 1, 1, 0, 1, 1, 1, 1, 1, 1, 0])"
            ]
          },
          "execution_count": 166,
          "metadata": {},
          "output_type": "execute_result"
        }
      ],
      "source": [
        "alvo"
      ]
    },
    {
      "cell_type": "code",
      "execution_count": null,
      "metadata": {
        "id": "XUYRtI5VDBXF"
      },
      "outputs": [],
      "source": [
        "np.savetxt('previsores.csv', previsores, delimiter=',')"
      ]
    },
    {
      "cell_type": "code",
      "execution_count": null,
      "metadata": {
        "id": "dd7lbPU3DQFO"
      },
      "outputs": [],
      "source": [
        "np.savetxt('alvo.csv', alvo, delimiter=',')"
      ]
    },
    {
      "cell_type": "markdown",
      "metadata": {
        "id": "Q6LoOxMow4Ci"
      },
      "source": [
        "# **DESAFIO 1**"
      ]
    },
    {
      "cell_type": "markdown",
      "metadata": {
        "id": "bjLFumRQxayX"
      },
      "source": [
        "DESENVOLVER E SELECIONAR O MELHOR ALGORITMO DE MACHINE LEARNING DE CLASSIFICAÇÃO PARA O DATASET DO LINK A SEGUIR:"
      ]
    },
    {
      "cell_type": "markdown",
      "metadata": {
        "id": "VG8xV9wYxKk2"
      },
      "source": [
        "https://www.kaggle.com/uciml/breast-cancer-wisconsin-data"
      ]
    }
  ],
  "metadata": {
    "colab": {
      "provenance": [],
      "include_colab_link": true
    },
    "kernelspec": {
      "display_name": "Python 3",
      "name": "python3"
    },
    "language_info": {
      "name": "python"
    },
    "widgets": {
      "application/vnd.jupyter.widget-state+json": {
        "69e850e1c5334024bcca3859292cc488": {
          "model_module": "catboost-widget",
          "model_module_version": "^1.0.0",
          "model_name": "CatboostWidgetModel",
          "state": {
            "_dom_classes": [],
            "_model_module": "catboost-widget",
            "_model_module_version": "^1.0.0",
            "_model_name": "CatboostWidgetModel",
            "_view_count": null,
            "_view_module": "catboost-widget",
            "_view_module_version": "^1.0.0",
            "_view_name": "CatboostWidgetView",
            "data": {
              "catboost_info": {
                "content": {
                  "data": {
                    "iterations": [
                      {
                        "iteration": 0,
                        "learn": [
                          0.8861154446,
                          0.6626826072
                        ],
                        "passed_time": 0.062208553,
                        "remaining_time": 6.158646747,
                        "test": [
                          0.7789855072,
                          0.6675048102
                        ]
                      },
                      {
                        "iteration": 1,
                        "learn": [
                          0.8689547582,
                          0.6275769096
                        ],
                        "passed_time": 0.0754070699,
                        "remaining_time": 3.694946425,
                        "test": [
                          0.7934782609,
                          0.6349051355
                        ]
                      },
                      {
                        "iteration": 2,
                        "learn": [
                          0.8471138846,
                          0.5982421891
                        ],
                        "passed_time": 0.07827874229,
                        "remaining_time": 2.531012667,
                        "test": [
                          0.7971014493,
                          0.6093358462
                        ]
                      },
                      {
                        "iteration": 3,
                        "learn": [
                          0.8549141966,
                          0.5748694569
                        ],
                        "passed_time": 0.09829130506,
                        "remaining_time": 2.358991321,
                        "test": [
                          0.8043478261,
                          0.5897324919
                        ]
                      },
                      {
                        "iteration": 4,
                        "learn": [
                          0.8517940718,
                          0.5520917676
                        ],
                        "passed_time": 0.1118514062,
                        "remaining_time": 2.125176718,
                        "test": [
                          0.8043478261,
                          0.5691018549
                        ]
                      },
                      {
                        "iteration": 5,
                        "learn": [
                          0.848673947,
                          0.5326351804
                        ],
                        "passed_time": 0.1184062529,
                        "remaining_time": 1.855031295,
                        "test": [
                          0.8043478261,
                          0.5529096713
                        ]
                      },
                      {
                        "iteration": 6,
                        "learn": [
                          0.8580343214,
                          0.5160505132
                        ],
                        "passed_time": 0.1314426783,
                        "remaining_time": 1.746309868,
                        "test": [
                          0.8115942029,
                          0.5378075361
                        ]
                      },
                      {
                        "iteration": 7,
                        "learn": [
                          0.864274571,
                          0.5007304758
                        ],
                        "passed_time": 0.1413964404,
                        "remaining_time": 1.626059064,
                        "test": [
                          0.8043478261,
                          0.5251715252
                        ]
                      },
                      {
                        "iteration": 8,
                        "learn": [
                          0.8533541342,
                          0.4860348072
                        ],
                        "passed_time": 0.1512610117,
                        "remaining_time": 1.529416896,
                        "test": [
                          0.8043478261,
                          0.5134922093
                        ]
                      },
                      {
                        "iteration": 9,
                        "learn": [
                          0.8611544462,
                          0.47137833
                        ],
                        "passed_time": 0.1578946411,
                        "remaining_time": 1.42105177,
                        "test": [
                          0.8115942029,
                          0.5018339467
                        ]
                      },
                      {
                        "iteration": 10,
                        "learn": [
                          0.864274571,
                          0.4597555989
                        ],
                        "passed_time": 0.1716030431,
                        "remaining_time": 1.388424622,
                        "test": [
                          0.8079710145,
                          0.4919852604
                        ]
                      },
                      {
                        "iteration": 11,
                        "learn": [
                          0.8658346334,
                          0.4482594614
                        ],
                        "passed_time": 0.1782561676,
                        "remaining_time": 1.307211896,
                        "test": [
                          0.8043478261,
                          0.4835940967
                        ]
                      },
                      {
                        "iteration": 12,
                        "learn": [
                          0.8689547582,
                          0.4388331706
                        ],
                        "passed_time": 0.1915479435,
                        "remaining_time": 1.281897776,
                        "test": [
                          0.8043478261,
                          0.4764189132
                        ]
                      },
                      {
                        "iteration": 13,
                        "learn": [
                          0.8611544462,
                          0.4308307991
                        ],
                        "passed_time": 0.1931278896,
                        "remaining_time": 1.186357036,
                        "test": [
                          0.8007246377,
                          0.4703767828
                        ]
                      },
                      {
                        "iteration": 14,
                        "learn": [
                          0.8611544462,
                          0.4223421156
                        ],
                        "passed_time": 0.2087872694,
                        "remaining_time": 1.18312786,
                        "test": [
                          0.8007246377,
                          0.4641384607
                        ]
                      },
                      {
                        "iteration": 15,
                        "learn": [
                          0.8658346334,
                          0.4137269863
                        ],
                        "passed_time": 0.2118654508,
                        "remaining_time": 1.112293616,
                        "test": [
                          0.7971014493,
                          0.4574870021
                        ]
                      },
                      {
                        "iteration": 16,
                        "learn": [
                          0.8673946958,
                          0.4069773542
                        ],
                        "passed_time": 0.2191104289,
                        "remaining_time": 1.069774447,
                        "test": [
                          0.7971014493,
                          0.4529477525
                        ]
                      },
                      {
                        "iteration": 17,
                        "learn": [
                          0.8689547582,
                          0.3987977771
                        ],
                        "passed_time": 0.2284339674,
                        "remaining_time": 1.040643629,
                        "test": [
                          0.8007246377,
                          0.4453656732
                        ]
                      },
                      {
                        "iteration": 18,
                        "learn": [
                          0.872074883,
                          0.3913511925
                        ],
                        "passed_time": 0.2408050801,
                        "remaining_time": 1.026590078,
                        "test": [
                          0.8007246377,
                          0.4391245485
                        ]
                      },
                      {
                        "iteration": 19,
                        "learn": [
                          0.8767550702,
                          0.3843707693
                        ],
                        "passed_time": 0.2512081516,
                        "remaining_time": 1.004832607,
                        "test": [
                          0.8007246377,
                          0.4347392958
                        ]
                      },
                      {
                        "iteration": 20,
                        "learn": [
                          0.8767550702,
                          0.3779007129
                        ],
                        "passed_time": 0.2565502076,
                        "remaining_time": 0.9651174475,
                        "test": [
                          0.8079710145,
                          0.4305103987
                        ]
                      },
                      {
                        "iteration": 21,
                        "learn": [
                          0.879875195,
                          0.3709417258
                        ],
                        "passed_time": 0.2615833527,
                        "remaining_time": 0.9274318867,
                        "test": [
                          0.8079710145,
                          0.4243822961
                        ]
                      },
                      {
                        "iteration": 22,
                        "learn": [
                          0.8814352574,
                          0.3639934051
                        ],
                        "passed_time": 0.2666370729,
                        "remaining_time": 0.8926545483,
                        "test": [
                          0.8079710145,
                          0.4177587811
                        ]
                      },
                      {
                        "iteration": 23,
                        "learn": [
                          0.8814352574,
                          0.3583287866
                        ],
                        "passed_time": 0.2759630998,
                        "remaining_time": 0.8738831495,
                        "test": [
                          0.8079710145,
                          0.4137979066
                        ]
                      },
                      {
                        "iteration": 24,
                        "learn": [
                          0.8814352574,
                          0.3520073217
                        ],
                        "passed_time": 0.2863897618,
                        "remaining_time": 0.8591692855,
                        "test": [
                          0.8079710145,
                          0.4068056454
                        ]
                      },
                      {
                        "iteration": 25,
                        "learn": [
                          0.8829953198,
                          0.3461088183
                        ],
                        "passed_time": 0.2973824204,
                        "remaining_time": 0.8463961197,
                        "test": [
                          0.8115942029,
                          0.402050749
                        ]
                      },
                      {
                        "iteration": 26,
                        "learn": [
                          0.8845553822,
                          0.3410872652
                        ],
                        "passed_time": 0.307605231,
                        "remaining_time": 0.8316734024,
                        "test": [
                          0.8152173913,
                          0.3980344479
                        ]
                      },
                      {
                        "iteration": 27,
                        "learn": [
                          0.8829953198,
                          0.3362208985
                        ],
                        "passed_time": 0.3098972812,
                        "remaining_time": 0.796878723,
                        "test": [
                          0.8152173913,
                          0.3936701533
                        ]
                      },
                      {
                        "iteration": 28,
                        "learn": [
                          0.8861154446,
                          0.3324571127
                        ],
                        "passed_time": 0.3214254537,
                        "remaining_time": 0.7869381798,
                        "test": [
                          0.8115942029,
                          0.3920888706
                        ]
                      },
                      {
                        "iteration": 29,
                        "learn": [
                          0.8939157566,
                          0.3279842954
                        ],
                        "passed_time": 0.3325993311,
                        "remaining_time": 0.7760651059,
                        "test": [
                          0.8115942029,
                          0.3898455071
                        ]
                      },
                      {
                        "iteration": 30,
                        "learn": [
                          0.895475819,
                          0.3240224419
                        ],
                        "passed_time": 0.3406036078,
                        "remaining_time": 0.7581177078,
                        "test": [
                          0.8115942029,
                          0.3862380151
                        ]
                      },
                      {
                        "iteration": 31,
                        "learn": [
                          0.895475819,
                          0.3202221632
                        ],
                        "passed_time": 0.3637323355,
                        "remaining_time": 0.7729312129,
                        "test": [
                          0.8152173913,
                          0.3821803703
                        ]
                      },
                      {
                        "iteration": 32,
                        "learn": [
                          0.8970358814,
                          0.3148840518
                        ],
                        "passed_time": 0.3740484569,
                        "remaining_time": 0.7594317155,
                        "test": [
                          0.8115942029,
                          0.3774935687
                        ]
                      },
                      {
                        "iteration": 33,
                        "learn": [
                          0.9001560062,
                          0.3108740643
                        ],
                        "passed_time": 0.3839612352,
                        "remaining_time": 0.7453365153,
                        "test": [
                          0.8152173913,
                          0.3761316017
                        ]
                      },
                      {
                        "iteration": 34,
                        "learn": [
                          0.9048361934,
                          0.3069658534
                        ],
                        "passed_time": 0.3915697269,
                        "remaining_time": 0.7272009214,
                        "test": [
                          0.8188405797,
                          0.3741827307
                        ]
                      },
                      {
                        "iteration": 35,
                        "learn": [
                          0.9095163807,
                          0.3037930252
                        ],
                        "passed_time": 0.4038493462,
                        "remaining_time": 0.7179543933,
                        "test": [
                          0.8297101449,
                          0.3706273161
                        ]
                      },
                      {
                        "iteration": 36,
                        "learn": [
                          0.9110764431,
                          0.30025225
                        ],
                        "passed_time": 0.4138449555,
                        "remaining_time": 0.7046549242,
                        "test": [
                          0.8224637681,
                          0.3696544242
                        ]
                      },
                      {
                        "iteration": 37,
                        "learn": [
                          0.9157566303,
                          0.2968983012
                        ],
                        "passed_time": 0.4280120889,
                        "remaining_time": 0.6983355134,
                        "test": [
                          0.8260869565,
                          0.3685536583
                        ]
                      },
                      {
                        "iteration": 38,
                        "learn": [
                          0.9157566303,
                          0.2945919334
                        ],
                        "passed_time": 0.430423712,
                        "remaining_time": 0.6732268315,
                        "test": [
                          0.8333333333,
                          0.3653830634
                        ]
                      },
                      {
                        "iteration": 39,
                        "learn": [
                          0.9173166927,
                          0.2913767476
                        ],
                        "passed_time": 0.4418031227,
                        "remaining_time": 0.6627046841,
                        "test": [
                          0.8333333333,
                          0.3641227319
                        ]
                      },
                      {
                        "iteration": 40,
                        "learn": [
                          0.9141965679,
                          0.289456751
                        ],
                        "passed_time": 0.443741465,
                        "remaining_time": 0.638554791,
                        "test": [
                          0.8369565217,
                          0.3622697342
                        ]
                      },
                      {
                        "iteration": 41,
                        "learn": [
                          0.9141965679,
                          0.2869442964
                        ],
                        "passed_time": 0.4498999193,
                        "remaining_time": 0.6212903647,
                        "test": [
                          0.8405797101,
                          0.3609339224
                        ]
                      },
                      {
                        "iteration": 42,
                        "learn": [
                          0.9173166927,
                          0.2837698917
                        ],
                        "passed_time": 0.4637657473,
                        "remaining_time": 0.6147592464,
                        "test": [
                          0.8442028986,
                          0.3595109943
                        ]
                      },
                      {
                        "iteration": 43,
                        "learn": [
                          0.9173166927,
                          0.2813903101
                        ],
                        "passed_time": 0.4694337065,
                        "remaining_time": 0.597461081,
                        "test": [
                          0.8514492754,
                          0.3579255733
                        ]
                      },
                      {
                        "iteration": 44,
                        "learn": [
                          0.9173166927,
                          0.2788097285
                        ],
                        "passed_time": 0.4783902088,
                        "remaining_time": 0.584699144,
                        "test": [
                          0.847826087,
                          0.3557611056
                        ]
                      },
                      {
                        "iteration": 45,
                        "learn": [
                          0.9188767551,
                          0.2769328753
                        ],
                        "passed_time": 0.4914819755,
                        "remaining_time": 0.5769571017,
                        "test": [
                          0.847826087,
                          0.3546031439
                        ]
                      },
                      {
                        "iteration": 46,
                        "learn": [
                          0.9204368175,
                          0.2751872661
                        ],
                        "passed_time": 0.5021644413,
                        "remaining_time": 0.5662705402,
                        "test": [
                          0.8514492754,
                          0.3539126123
                        ]
                      },
                      {
                        "iteration": 47,
                        "learn": [
                          0.9204368175,
                          0.272481878
                        ],
                        "passed_time": 0.5180463906,
                        "remaining_time": 0.5612169231,
                        "test": [
                          0.8550724638,
                          0.3529759988
                        ]
                      },
                      {
                        "iteration": 48,
                        "learn": [
                          0.9219968799,
                          0.2705831712
                        ],
                        "passed_time": 0.5254860754,
                        "remaining_time": 0.5469344867,
                        "test": [
                          0.8623188406,
                          0.3524249728
                        ]
                      },
                      {
                        "iteration": 49,
                        "learn": [
                          0.9188767551,
                          0.2700574144
                        ],
                        "passed_time": 0.5287682905,
                        "remaining_time": 0.5287682905,
                        "test": [
                          0.8623188406,
                          0.3521626989
                        ]
                      },
                      {
                        "iteration": 50,
                        "learn": [
                          0.9204368175,
                          0.2681586854
                        ],
                        "passed_time": 0.5381641424,
                        "remaining_time": 0.5170596662,
                        "test": [
                          0.865942029,
                          0.3511197818
                        ]
                      },
                      {
                        "iteration": 51,
                        "learn": [
                          0.9235569423,
                          0.2666719073
                        ],
                        "passed_time": 0.5412048248,
                        "remaining_time": 0.4995736845,
                        "test": [
                          0.865942029,
                          0.349340156
                        ]
                      },
                      {
                        "iteration": 52,
                        "learn": [
                          0.9235569423,
                          0.2666036054
                        ],
                        "passed_time": 0.5451110496,
                        "remaining_time": 0.4834003647,
                        "test": [
                          0.865942029,
                          0.3493595959
                        ]
                      },
                      {
                        "iteration": 53,
                        "learn": [
                          0.9251170047,
                          0.2645592762
                        ],
                        "passed_time": 0.5637777248,
                        "remaining_time": 0.4802550989,
                        "test": [
                          0.865942029,
                          0.3490459842
                        ]
                      },
                      {
                        "iteration": 54,
                        "learn": [
                          0.9235569423,
                          0.2627439721
                        ],
                        "passed_time": 0.5715619037,
                        "remaining_time": 0.4676415576,
                        "test": [
                          0.8695652174,
                          0.3477167567
                        ]
                      },
                      {
                        "iteration": 55,
                        "learn": [
                          0.9204368175,
                          0.2604398393
                        ],
                        "passed_time": 0.5809976748,
                        "remaining_time": 0.456498173,
                        "test": [
                          0.8695652174,
                          0.3454843825
                        ]
                      },
                      {
                        "iteration": 56,
                        "learn": [
                          0.9219968799,
                          0.2582866023
                        ],
                        "passed_time": 0.5884907936,
                        "remaining_time": 0.4439491951,
                        "test": [
                          0.8695652174,
                          0.3450239524
                        ]
                      },
                      {
                        "iteration": 57,
                        "learn": [
                          0.9251170047,
                          0.2562807224
                        ],
                        "passed_time": 0.5979667311,
                        "remaining_time": 0.4330103915,
                        "test": [
                          0.8695652174,
                          0.3444577176
                        ]
                      },
                      {
                        "iteration": 58,
                        "learn": [
                          0.9266770671,
                          0.2542834902
                        ],
                        "passed_time": 0.6171417749,
                        "remaining_time": 0.4288612334,
                        "test": [
                          0.8695652174,
                          0.343915083
                        ]
                      },
                      {
                        "iteration": 59,
                        "learn": [
                          0.9282371295,
                          0.2523660925
                        ],
                        "passed_time": 0.624343949,
                        "remaining_time": 0.4162292993,
                        "test": [
                          0.8695652174,
                          0.3436779511
                        ]
                      },
                      {
                        "iteration": 60,
                        "learn": [
                          0.9282371295,
                          0.2509960139
                        ],
                        "passed_time": 0.6312537346,
                        "remaining_time": 0.4035884533,
                        "test": [
                          0.8695652174,
                          0.3436278122
                        ]
                      },
                      {
                        "iteration": 61,
                        "learn": [
                          0.9282371295,
                          0.250405833
                        ],
                        "passed_time": 0.6388621649,
                        "remaining_time": 0.3915606817,
                        "test": [
                          0.8695652174,
                          0.3435450069
                        ]
                      },
                      {
                        "iteration": 62,
                        "learn": [
                          0.9251170047,
                          0.2498773615
                        ],
                        "passed_time": 0.6466359627,
                        "remaining_time": 0.3797703273,
                        "test": [
                          0.8695652174,
                          0.3427716822
                        ]
                      },
                      {
                        "iteration": 63,
                        "learn": [
                          0.9251170047,
                          0.2486703651
                        ],
                        "passed_time": 0.6528357132,
                        "remaining_time": 0.3672200887,
                        "test": [
                          0.8695652174,
                          0.3430008534
                        ]
                      },
                      {
                        "iteration": 64,
                        "learn": [
                          0.9251170047,
                          0.2486372614
                        ],
                        "passed_time": 0.6536978169,
                        "remaining_time": 0.3519911322,
                        "test": [
                          0.8695652174,
                          0.3430531021
                        ]
                      },
                      {
                        "iteration": 65,
                        "learn": [
                          0.9251170047,
                          0.2484863439
                        ],
                        "passed_time": 0.6613818055,
                        "remaining_time": 0.3407118392,
                        "test": [
                          0.8695652174,
                          0.34309368
                        ]
                      },
                      {
                        "iteration": 66,
                        "learn": [
                          0.9251170047,
                          0.2471594192
                        ],
                        "passed_time": 0.6681157357,
                        "remaining_time": 0.3290719295,
                        "test": [
                          0.8695652174,
                          0.3427357656
                        ]
                      },
                      {
                        "iteration": 67,
                        "learn": [
                          0.9266770671,
                          0.2465195216
                        ],
                        "passed_time": 0.67045104,
                        "remaining_time": 0.3155063717,
                        "test": [
                          0.8695652174,
                          0.3414682848
                        ]
                      },
                      {
                        "iteration": 68,
                        "learn": [
                          0.9266770671,
                          0.2464607174
                        ],
                        "passed_time": 0.6728134214,
                        "remaining_time": 0.3022784937,
                        "test": [
                          0.8695652174,
                          0.3415529189
                        ]
                      },
                      {
                        "iteration": 69,
                        "learn": [
                          0.9266770671,
                          0.2463911279
                        ],
                        "passed_time": 0.6748751894,
                        "remaining_time": 0.289232224,
                        "test": [
                          0.8695652174,
                          0.3416145452
                        ]
                      },
                      {
                        "iteration": 70,
                        "learn": [
                          0.9266770671,
                          0.2462418598
                        ],
                        "passed_time": 0.6871680102,
                        "remaining_time": 0.2806742577,
                        "test": [
                          0.8695652174,
                          0.3416493773
                        ]
                      },
                      {
                        "iteration": 71,
                        "learn": [
                          0.9266770671,
                          0.2461348353
                        ],
                        "passed_time": 0.6895170142,
                        "remaining_time": 0.2681455055,
                        "test": [
                          0.8695652174,
                          0.341582727
                        ]
                      },
                      {
                        "iteration": 72,
                        "learn": [
                          0.9266770671,
                          0.246063961
                        ],
                        "passed_time": 0.6922456709,
                        "remaining_time": 0.2560360701,
                        "test": [
                          0.8695652174,
                          0.3415979886
                        ]
                      },
                      {
                        "iteration": 73,
                        "learn": [
                          0.9251170047,
                          0.2446729501
                        ],
                        "passed_time": 0.7002864015,
                        "remaining_time": 0.2460465735,
                        "test": [
                          0.8695652174,
                          0.3411563289
                        ]
                      },
                      {
                        "iteration": 74,
                        "learn": [
                          0.9251170047,
                          0.2446120814
                        ],
                        "passed_time": 0.701979748,
                        "remaining_time": 0.2339932493,
                        "test": [
                          0.8695652174,
                          0.3412076031
                        ]
                      },
                      {
                        "iteration": 75,
                        "learn": [
                          0.9266770671,
                          0.2444639576
                        ],
                        "passed_time": 0.706764467,
                        "remaining_time": 0.223188779,
                        "test": [
                          0.8695652174,
                          0.3412676102
                        ]
                      },
                      {
                        "iteration": 76,
                        "learn": [
                          0.9266770671,
                          0.2442533077
                        ],
                        "passed_time": 0.7136589004,
                        "remaining_time": 0.2131708404,
                        "test": [
                          0.8695652174,
                          0.34140487
                        ]
                      },
                      {
                        "iteration": 77,
                        "learn": [
                          0.9266770671,
                          0.243853084
                        ],
                        "passed_time": 0.7206988861,
                        "remaining_time": 0.2032740448,
                        "test": [
                          0.8695652174,
                          0.3415578693
                        ]
                      },
                      {
                        "iteration": 78,
                        "learn": [
                          0.9266770671,
                          0.2430663779
                        ],
                        "passed_time": 0.7289115084,
                        "remaining_time": 0.193761287,
                        "test": [
                          0.865942029,
                          0.3410432328
                        ]
                      },
                      {
                        "iteration": 79,
                        "learn": [
                          0.9266770671,
                          0.2430122927
                        ],
                        "passed_time": 0.7310245182,
                        "remaining_time": 0.1827561295,
                        "test": [
                          0.865942029,
                          0.3411383277
                        ]
                      },
                      {
                        "iteration": 80,
                        "learn": [
                          0.9266770671,
                          0.2426571315
                        ],
                        "passed_time": 0.7390076284,
                        "remaining_time": 0.1733474684,
                        "test": [
                          0.865942029,
                          0.3413636675
                        ]
                      },
                      {
                        "iteration": 81,
                        "learn": [
                          0.9266770671,
                          0.2425607465
                        ],
                        "passed_time": 0.7438214608,
                        "remaining_time": 0.1632778816,
                        "test": [
                          0.865942029,
                          0.3414556138
                        ]
                      },
                      {
                        "iteration": 82,
                        "learn": [
                          0.9266770671,
                          0.2412987363
                        ],
                        "passed_time": 0.7525357045,
                        "remaining_time": 0.154133819,
                        "test": [
                          0.865942029,
                          0.3405980585
                        ]
                      },
                      {
                        "iteration": 83,
                        "learn": [
                          0.9266770671,
                          0.2407483933
                        ],
                        "passed_time": 0.7661191524,
                        "remaining_time": 0.1459274576,
                        "test": [
                          0.865942029,
                          0.3397418284
                        ]
                      },
                      {
                        "iteration": 84,
                        "learn": [
                          0.9297971919,
                          0.2400541061
                        ],
                        "passed_time": 0.7789034708,
                        "remaining_time": 0.1374535537,
                        "test": [
                          0.865942029,
                          0.3386435517
                        ]
                      },
                      {
                        "iteration": 85,
                        "learn": [
                          0.9297971919,
                          0.2399235032
                        ],
                        "passed_time": 0.7859538909,
                        "remaining_time": 0.1279459822,
                        "test": [
                          0.865942029,
                          0.3387265422
                        ]
                      },
                      {
                        "iteration": 86,
                        "learn": [
                          0.9282371295,
                          0.2391622568
                        ],
                        "passed_time": 0.7954382549,
                        "remaining_time": 0.1188585898,
                        "test": [
                          0.865942029,
                          0.3382546427
                        ]
                      },
                      {
                        "iteration": 87,
                        "learn": [
                          0.9282371295,
                          0.2390988161
                        ],
                        "passed_time": 0.8038494334,
                        "remaining_time": 0.1096158318,
                        "test": [
                          0.865942029,
                          0.3382788494
                        ]
                      },
                      {
                        "iteration": 88,
                        "learn": [
                          0.9282371295,
                          0.2379011404
                        ],
                        "passed_time": 0.8115124446,
                        "remaining_time": 0.1002992909,
                        "test": [
                          0.865942029,
                          0.3377672164
                        ]
                      },
                      {
                        "iteration": 89,
                        "learn": [
                          0.9282371295,
                          0.2378485222
                        ],
                        "passed_time": 0.8132470678,
                        "remaining_time": 0.09036078531,
                        "test": [
                          0.865942029,
                          0.3377713275
                        ]
                      },
                      {
                        "iteration": 90,
                        "learn": [
                          0.9282371295,
                          0.237400346
                        ],
                        "passed_time": 0.8217901311,
                        "remaining_time": 0.08127594704,
                        "test": [
                          0.865942029,
                          0.3376571222
                        ]
                      },
                      {
                        "iteration": 91,
                        "learn": [
                          0.9282371295,
                          0.2372635123
                        ],
                        "passed_time": 0.8288139946,
                        "remaining_time": 0.07207078214,
                        "test": [
                          0.865942029,
                          0.3377060683
                        ]
                      },
                      {
                        "iteration": 92,
                        "learn": [
                          0.9282371295,
                          0.2371493264
                        ],
                        "passed_time": 0.8333087194,
                        "remaining_time": 0.06272216168,
                        "test": [
                          0.865942029,
                          0.337797211
                        ]
                      },
                      {
                        "iteration": 93,
                        "learn": [
                          0.9282371295,
                          0.2366078482
                        ],
                        "passed_time": 0.843325633,
                        "remaining_time": 0.05382929572,
                        "test": [
                          0.865942029,
                          0.3370061555
                        ]
                      },
                      {
                        "iteration": 94,
                        "learn": [
                          0.9282371295,
                          0.2364829455
                        ],
                        "passed_time": 0.8506624968,
                        "remaining_time": 0.04477171036,
                        "test": [
                          0.865942029,
                          0.3370555219
                        ]
                      },
                      {
                        "iteration": 95,
                        "learn": [
                          0.9282371295,
                          0.2363571049
                        ],
                        "passed_time": 0.8595161639,
                        "remaining_time": 0.0358131735,
                        "test": [
                          0.865942029,
                          0.3369962948
                        ]
                      },
                      {
                        "iteration": 96,
                        "learn": [
                          0.9282371295,
                          0.2361979614
                        ],
                        "passed_time": 0.8672807615,
                        "remaining_time": 0.02682311634,
                        "test": [
                          0.865942029,
                          0.3371264494
                        ]
                      },
                      {
                        "iteration": 97,
                        "learn": [
                          0.9282371295,
                          0.2361089913
                        ],
                        "passed_time": 0.8775625126,
                        "remaining_time": 0.01790943903,
                        "test": [
                          0.865942029,
                          0.3372409168
                        ]
                      },
                      {
                        "iteration": 98,
                        "learn": [
                          0.9282371295,
                          0.2359693352
                        ],
                        "passed_time": 0.8911516962,
                        "remaining_time": 0.009001532285,
                        "test": [
                          0.865942029,
                          0.3374328376
                        ]
                      },
                      {
                        "iteration": 99,
                        "learn": [
                          0.9297971919,
                          0.2357508896
                        ],
                        "passed_time": 0.9017720788,
                        "remaining_time": 0,
                        "test": [
                          0.865942029,
                          0.3374773929
                        ]
                      }
                    ],
                    "meta": {
                      "iteration_count": 100,
                      "launch_mode": "Train",
                      "learn_metrics": [
                        {
                          "best_value": "Max",
                          "name": "Accuracy"
                        },
                        {
                          "best_value": "Min",
                          "name": "Logloss"
                        }
                      ],
                      "learn_sets": [
                        "learn"
                      ],
                      "name": "experiment",
                      "parameters": "",
                      "test_metrics": [
                        {
                          "best_value": "Max",
                          "name": "Accuracy"
                        },
                        {
                          "best_value": "Min",
                          "name": "Logloss"
                        }
                      ],
                      "test_sets": [
                        "test"
                      ]
                    }
                  },
                  "passed_iterations": 99,
                  "total_iterations": 100
                },
                "name": "catboost_info",
                "path": "catboost_info"
              }
            },
            "layout": "IPY_MODEL_d39f6cb4f7e54b3f9c3c3d2d5046caa3"
          }
        }
      }
    }
  },
  "nbformat": 4,
  "nbformat_minor": 0
}